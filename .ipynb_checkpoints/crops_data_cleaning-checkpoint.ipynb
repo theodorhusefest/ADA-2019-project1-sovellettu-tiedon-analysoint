{
 "cells": [
  {
   "cell_type": "code",
   "execution_count": 11,
   "metadata": {},
   "outputs": [],
   "source": [
    "import pandas as pd\n",
    "import numpy as np\n",
    "import matplotlib.pyplot as plt"
   ]
  },
  {
   "cell_type": "code",
   "execution_count": 106,
   "metadata": {},
   "outputs": [
    {
     "data": {
      "text/html": [
       "<div>\n",
       "<style scoped>\n",
       "    .dataframe tbody tr th:only-of-type {\n",
       "        vertical-align: middle;\n",
       "    }\n",
       "\n",
       "    .dataframe tbody tr th {\n",
       "        vertical-align: top;\n",
       "    }\n",
       "\n",
       "    .dataframe thead th {\n",
       "        text-align: right;\n",
       "    }\n",
       "</style>\n",
       "<table border=\"1\" class=\"dataframe\">\n",
       "  <thead>\n",
       "    <tr style=\"text-align: right;\">\n",
       "      <th></th>\n",
       "      <th>country_or_area</th>\n",
       "      <th>element_code</th>\n",
       "      <th>element</th>\n",
       "      <th>year</th>\n",
       "      <th>unit</th>\n",
       "      <th>value</th>\n",
       "      <th>value_footnotes</th>\n",
       "      <th>category</th>\n",
       "    </tr>\n",
       "  </thead>\n",
       "  <tbody>\n",
       "    <tr>\n",
       "      <td>0</td>\n",
       "      <td>Americas +</td>\n",
       "      <td>31</td>\n",
       "      <td>Area Harvested</td>\n",
       "      <td>2007.0</td>\n",
       "      <td>Ha</td>\n",
       "      <td>49404.0</td>\n",
       "      <td>A</td>\n",
       "      <td>agave_fibres_nes</td>\n",
       "    </tr>\n",
       "    <tr>\n",
       "      <td>1</td>\n",
       "      <td>Americas +</td>\n",
       "      <td>31</td>\n",
       "      <td>Area Harvested</td>\n",
       "      <td>2006.0</td>\n",
       "      <td>Ha</td>\n",
       "      <td>49404.0</td>\n",
       "      <td>A</td>\n",
       "      <td>agave_fibres_nes</td>\n",
       "    </tr>\n",
       "    <tr>\n",
       "      <td>2</td>\n",
       "      <td>Americas +</td>\n",
       "      <td>31</td>\n",
       "      <td>Area Harvested</td>\n",
       "      <td>2005.0</td>\n",
       "      <td>Ha</td>\n",
       "      <td>49404.0</td>\n",
       "      <td>A</td>\n",
       "      <td>agave_fibres_nes</td>\n",
       "    </tr>\n",
       "    <tr>\n",
       "      <td>3</td>\n",
       "      <td>Americas +</td>\n",
       "      <td>31</td>\n",
       "      <td>Area Harvested</td>\n",
       "      <td>2004.0</td>\n",
       "      <td>Ha</td>\n",
       "      <td>49113.0</td>\n",
       "      <td>A</td>\n",
       "      <td>agave_fibres_nes</td>\n",
       "    </tr>\n",
       "    <tr>\n",
       "      <td>4</td>\n",
       "      <td>Americas +</td>\n",
       "      <td>31</td>\n",
       "      <td>Area Harvested</td>\n",
       "      <td>2003.0</td>\n",
       "      <td>Ha</td>\n",
       "      <td>48559.0</td>\n",
       "      <td>A</td>\n",
       "      <td>agave_fibres_nes</td>\n",
       "    </tr>\n",
       "  </tbody>\n",
       "</table>\n",
       "</div>"
      ],
      "text/plain": [
       "  country_or_area element_code         element    year unit    value  \\\n",
       "0      Americas +           31  Area Harvested  2007.0   Ha  49404.0   \n",
       "1      Americas +           31  Area Harvested  2006.0   Ha  49404.0   \n",
       "2      Americas +           31  Area Harvested  2005.0   Ha  49404.0   \n",
       "3      Americas +           31  Area Harvested  2004.0   Ha  49113.0   \n",
       "4      Americas +           31  Area Harvested  2003.0   Ha  48559.0   \n",
       "\n",
       "  value_footnotes          category  \n",
       "0              A   agave_fibres_nes  \n",
       "1              A   agave_fibres_nes  \n",
       "2              A   agave_fibres_nes  \n",
       "3              A   agave_fibres_nes  \n",
       "4              A   agave_fibres_nes  "
      ]
     },
     "execution_count": 106,
     "metadata": {},
     "output_type": "execute_result"
    }
   ],
   "source": [
    "data = pd.read_csv('raw_data/fao_data_crops_data.csv.zip', compression='zip', header=0, sep=',', quotechar='\"')\n",
    "data.head(5)"
   ]
  },
  {
   "cell_type": "markdown",
   "metadata": {},
   "source": [
    "## Explanation of crops data file\n",
    "\n",
    "Each row of the crops dataset contains data for a certain country/area and year.  \n",
    "There are 8 columns of metadata, which can be seen below.\n",
    "The years span from 1961 to 2007, but some years are undefined.  \n",
    "\n",
    "| Column name         | Explanation          |\n",
    "|---------------------|----------------------|\n",
    "| country_or_area     | Name of country/area |\n",
    "| year                | Unique code for each country/area |\n",
    "| element             | Data classification type |\n",
    "| element_code        | Unique code for each type of Element |\n",
    "| unit                | Unit of measurement |\n",
    "| value               | The value of the measurement |\n",
    "| value_footnote      | Where the data comes from |\n",
    "| category            | Crop category |\n",
    "\n",
    "The value footnotes used in the dataset have the following explanations:\n",
    "\n",
    "|  Footnote  | Meaning of footnote    |\n",
    "|------------|------------------------|\n",
    "| Fc         | Calculated data        |\n",
    "| A          | Aggregate, may include official, semi-official or estimated or calculated data |\n",
    "| NR         | Not reported by country|\n",
    "| F          | FAO Estimate           |"
   ]
  },
  {
   "cell_type": "markdown",
   "metadata": {},
   "source": [
    "**Observation:** The dataset is ordered according to the alphabetical order of the categories and after the end of each category, there are rows that contain the footnote-descriptions above. We therefore need to remove these rows since they don't contain any useful data."
   ]
  },
  {
   "cell_type": "markdown",
   "metadata": {},
   "source": [
    "## Cleaning the data"
   ]
  },
  {
   "cell_type": "code",
   "execution_count": 122,
   "metadata": {},
   "outputs": [],
   "source": [
    "# Removing rows that do not contain useful information\n",
    "drop_col = np.logical_not(data.country_or_area.isin(['fnSeqID', 'Fc', 'A ', 'NR', 'F ', '* ']))\n",
    "crops_data = data[drop_col]"
   ]
  },
  {
   "cell_type": "markdown",
   "metadata": {},
   "source": [
    "#### Missing information"
   ]
  },
  {
   "cell_type": "markdown",
   "metadata": {},
   "source": [
    "Are we now missing any information in our datasets?"
   ]
  },
  {
   "cell_type": "code",
   "execution_count": 227,
   "metadata": {},
   "outputs": [
    {
     "name": "stdout",
     "output_type": "stream",
     "text": [
      "Missing information in country based dataset: \n",
      " country_or_area         0\n",
      "element_code            0\n",
      "element                 0\n",
      "year                    0\n",
      "unit                    0\n",
      "value                   0\n",
      "value_footnotes    478418\n",
      "category                0\n",
      "dtype: int64\n"
     ]
    }
   ],
   "source": [
    "print(\"Missing information in country based dataset: \\n\", crops_data.isna().sum())"
   ]
  },
  {
   "cell_type": "markdown",
   "metadata": {},
   "source": [
    "We can see that a lot of value footnotes have missing information. Can we find something in common for these missing values?"
   ]
  },
  {
   "cell_type": "code",
   "execution_count": 229,
   "metadata": {},
   "outputs": [
    {
     "name": "stdout",
     "output_type": "stream",
     "text": [
      "Number of unique countries included in missing data:  217\n",
      "Number of unique elements included in missing data:  4\n",
      "Number of unique years included in missing data:  47\n",
      "Number of unique categories included in missing data:  158\n",
      "Number of unique units included in missing data:  3\n"
     ]
    }
   ],
   "source": [
    "missing_values = crops_data[crops_data.value_footnotes.isna()]\n",
    "print(\"Number of unique countries included in missing data: \", missing_values.country_or_area.unique().shape[0])\n",
    "print(\"Number of unique elements included in missing data: \", missing_values.element.unique().shape[0])\n",
    "print(\"Number of unique years included in missing data: \", missing_values.year.unique().shape[0])\n",
    "print(\"Number of unique categories included in missing data: \", missing_values.category.unique().shape[0])\n",
    "print(\"Number of unique units included in missing data: \", missing_values.unit.unique().shape[0])"
   ]
  },
  {
   "cell_type": "markdown",
   "metadata": {},
   "source": [
    "We aren't able to detect if the missing data follows a general rule. The missing data seems to occur in many different cases."
   ]
  },
  {
   "cell_type": "markdown",
   "metadata": {},
   "source": [
    "#### Elements"
   ]
  },
  {
   "cell_type": "code",
   "execution_count": 231,
   "metadata": {},
   "outputs": [
    {
     "data": {
      "text/html": [
       "<div>\n",
       "<style scoped>\n",
       "    .dataframe tbody tr th:only-of-type {\n",
       "        vertical-align: middle;\n",
       "    }\n",
       "\n",
       "    .dataframe tbody tr th {\n",
       "        vertical-align: top;\n",
       "    }\n",
       "\n",
       "    .dataframe thead th {\n",
       "        text-align: right;\n",
       "    }\n",
       "</style>\n",
       "<table border=\"1\" class=\"dataframe\">\n",
       "  <thead>\n",
       "    <tr style=\"text-align: right;\">\n",
       "      <th></th>\n",
       "      <th></th>\n",
       "      <th>value</th>\n",
       "      <th>unit</th>\n",
       "      <th>year</th>\n",
       "      <th>continent</th>\n",
       "    </tr>\n",
       "    <tr>\n",
       "      <th>element_code</th>\n",
       "      <th>element</th>\n",
       "      <th></th>\n",
       "      <th></th>\n",
       "      <th></th>\n",
       "      <th></th>\n",
       "    </tr>\n",
       "  </thead>\n",
       "  <tbody>\n",
       "    <tr>\n",
       "      <td>51</td>\n",
       "      <td>Production Quantity</td>\n",
       "      <td>4.666216e+11</td>\n",
       "      <td>[tonnes]</td>\n",
       "      <td>1961 to 2007</td>\n",
       "      <td>6</td>\n",
       "    </tr>\n",
       "    <tr>\n",
       "      <td>31</td>\n",
       "      <td>Area Harvested</td>\n",
       "      <td>1.566347e+11</td>\n",
       "      <td>[Ha]</td>\n",
       "      <td>1961 to 2007</td>\n",
       "      <td>6</td>\n",
       "    </tr>\n",
       "    <tr>\n",
       "      <td>111</td>\n",
       "      <td>Seed</td>\n",
       "      <td>1.726653e+10</td>\n",
       "      <td>[tonnes]</td>\n",
       "      <td>1961 to 2007</td>\n",
       "      <td>6</td>\n",
       "    </tr>\n",
       "    <tr>\n",
       "      <td>152</td>\n",
       "      <td>Gross Production 1999-2001 (1000 I$)</td>\n",
       "      <td>1.165109e+10</td>\n",
       "      <td>[1000 Int. $]</td>\n",
       "      <td>1961 to 2007</td>\n",
       "      <td>6</td>\n",
       "    </tr>\n",
       "    <tr>\n",
       "      <td>154</td>\n",
       "      <td>Net Production 1999-2001 (1000 I$)</td>\n",
       "      <td>1.112555e+10</td>\n",
       "      <td>[1000 Int. $]</td>\n",
       "      <td>1961 to 2007</td>\n",
       "      <td>6</td>\n",
       "    </tr>\n",
       "    <tr>\n",
       "      <td>41</td>\n",
       "      <td>Yield</td>\n",
       "      <td>4.254183e+09</td>\n",
       "      <td>[Hg/Ha]</td>\n",
       "      <td>1961 to 2007</td>\n",
       "      <td>6</td>\n",
       "    </tr>\n",
       "    <tr>\n",
       "      <td>434</td>\n",
       "      <td>Grs per capita PIN (base 1999-2001)</td>\n",
       "      <td>2.634800e+04</td>\n",
       "      <td>[Int. $]</td>\n",
       "      <td>1961 to 2007</td>\n",
       "      <td>6</td>\n",
       "    </tr>\n",
       "    <tr>\n",
       "      <td>438</td>\n",
       "      <td>Net per capita PIN (base 1999-2001)</td>\n",
       "      <td>2.603800e+04</td>\n",
       "      <td>[Int. $]</td>\n",
       "      <td>1961 to 2007</td>\n",
       "      <td>6</td>\n",
       "    </tr>\n",
       "    <tr>\n",
       "      <td>432</td>\n",
       "      <td>Gross PIN (base 1999-2001)</td>\n",
       "      <td>2.149400e+04</td>\n",
       "      <td>[Int. $]</td>\n",
       "      <td>1961 to 2007</td>\n",
       "      <td>6</td>\n",
       "    </tr>\n",
       "    <tr>\n",
       "      <td>436</td>\n",
       "      <td>Net PIN (base 1999-2001)</td>\n",
       "      <td>2.126600e+04</td>\n",
       "      <td>[Int. $]</td>\n",
       "      <td>1961 to 2007</td>\n",
       "      <td>6</td>\n",
       "    </tr>\n",
       "  </tbody>\n",
       "</table>\n",
       "</div>"
      ],
      "text/plain": [
       "                                                          value  \\\n",
       "element_code element                                              \n",
       "51           Production Quantity                   4.666216e+11   \n",
       "31           Area Harvested                        1.566347e+11   \n",
       "111          Seed                                  1.726653e+10   \n",
       "152          Gross Production 1999-2001 (1000 I$)  1.165109e+10   \n",
       "154          Net Production 1999-2001 (1000 I$)    1.112555e+10   \n",
       "41           Yield                                 4.254183e+09   \n",
       "434          Grs per capita PIN (base 1999-2001)   2.634800e+04   \n",
       "438          Net per capita PIN (base 1999-2001)   2.603800e+04   \n",
       "432          Gross PIN (base 1999-2001)            2.149400e+04   \n",
       "436          Net PIN (base 1999-2001)              2.126600e+04   \n",
       "\n",
       "                                                            unit  \\\n",
       "element_code element                                               \n",
       "51           Production Quantity                        [tonnes]   \n",
       "31           Area Harvested                                 [Ha]   \n",
       "111          Seed                                       [tonnes]   \n",
       "152          Gross Production 1999-2001 (1000 I$)  [1000 Int. $]   \n",
       "154          Net Production 1999-2001 (1000 I$)    [1000 Int. $]   \n",
       "41           Yield                                       [Hg/Ha]   \n",
       "434          Grs per capita PIN (base 1999-2001)        [Int. $]   \n",
       "438          Net per capita PIN (base 1999-2001)        [Int. $]   \n",
       "432          Gross PIN (base 1999-2001)                 [Int. $]   \n",
       "436          Net PIN (base 1999-2001)                   [Int. $]   \n",
       "\n",
       "                                                           year  continent  \n",
       "element_code element                                                        \n",
       "51           Production Quantity                   1961 to 2007          6  \n",
       "31           Area Harvested                        1961 to 2007          6  \n",
       "111          Seed                                  1961 to 2007          6  \n",
       "152          Gross Production 1999-2001 (1000 I$)  1961 to 2007          6  \n",
       "154          Net Production 1999-2001 (1000 I$)    1961 to 2007          6  \n",
       "41           Yield                                 1961 to 2007          6  \n",
       "434          Grs per capita PIN (base 1999-2001)   1961 to 2007          6  \n",
       "438          Net per capita PIN (base 1999-2001)   1961 to 2007          6  \n",
       "432          Gross PIN (base 1999-2001)            1961 to 2007          6  \n",
       "436          Net PIN (base 1999-2001)              1961 to 2007          6  "
      ]
     },
     "execution_count": 231,
     "metadata": {},
     "output_type": "execute_result"
    }
   ],
   "source": [
    "# Aggregate year column to 'min - max' year\n",
    "def agg_year(series):\n",
    "    min_year = int(series.min())\n",
    "    max_year = int(series.max())\n",
    "    return '{} to {}'.format(min_year, max_year)\n",
    "\n",
    "# Examine the different countries\n",
    "def count_unique_area(series):\n",
    "    return len(series.unique())\n",
    "\n",
    "# Group by element code and element to see what these columns represent \n",
    "crops_continent.groupby(['element_code', 'element'])\\\n",
    "             .agg({'value':'sum', 'unit':'unique', 'year':agg_year, 'continent':count_unique_area})\\\n",
    "             .sort_values(by='value', ascending=False)"
   ]
  },
  {
   "cell_type": "markdown",
   "metadata": {},
   "source": [
    "By taking the sum of all values and sorting we see that 51-Production quantity has the greatest value. We can observe that, depending one the element, we have different number of unique countries in that column"
   ]
  },
  {
   "cell_type": "markdown",
   "metadata": {},
   "source": [
    "**Observation:** Are the elements apart form Production Quantity, Area Harvested, Seed and Yield really necessary?"
   ]
  },
  {
   "cell_type": "markdown",
   "metadata": {},
   "source": [
    "#### Element codes > 140"
   ]
  },
  {
   "cell_type": "code",
   "execution_count": 269,
   "metadata": {},
   "outputs": [
    {
     "name": "stdout",
     "output_type": "stream",
     "text": [
      "Number of countries in this data:  222\n"
     ]
    },
    {
     "data": {
      "text/html": [
       "<div>\n",
       "<style scoped>\n",
       "    .dataframe tbody tr th:only-of-type {\n",
       "        vertical-align: middle;\n",
       "    }\n",
       "\n",
       "    .dataframe tbody tr th {\n",
       "        vertical-align: top;\n",
       "    }\n",
       "\n",
       "    .dataframe thead th {\n",
       "        text-align: right;\n",
       "    }\n",
       "</style>\n",
       "<table border=\"1\" class=\"dataframe\">\n",
       "  <thead>\n",
       "    <tr style=\"text-align: right;\">\n",
       "      <th></th>\n",
       "      <th>country_or_area</th>\n",
       "      <th>element_code</th>\n",
       "      <th>element</th>\n",
       "      <th>year</th>\n",
       "      <th>unit</th>\n",
       "      <th>value</th>\n",
       "      <th>value_footnotes</th>\n",
       "      <th>category</th>\n",
       "    </tr>\n",
       "  </thead>\n",
       "  <tbody>\n",
       "    <tr>\n",
       "      <td>364540</td>\n",
       "      <td>Afghanistan</td>\n",
       "      <td>152</td>\n",
       "      <td>Gross Production 1999-2001 (1000 I$)</td>\n",
       "      <td>2007.0</td>\n",
       "      <td>1000 Int. $</td>\n",
       "      <td>896908.0</td>\n",
       "      <td>A</td>\n",
       "      <td>cereals_total</td>\n",
       "    </tr>\n",
       "    <tr>\n",
       "      <td>364541</td>\n",
       "      <td>Afghanistan</td>\n",
       "      <td>152</td>\n",
       "      <td>Gross Production 1999-2001 (1000 I$)</td>\n",
       "      <td>2006.0</td>\n",
       "      <td>1000 Int. $</td>\n",
       "      <td>718798.0</td>\n",
       "      <td>A</td>\n",
       "      <td>cereals_total</td>\n",
       "    </tr>\n",
       "    <tr>\n",
       "      <td>364542</td>\n",
       "      <td>Afghanistan</td>\n",
       "      <td>152</td>\n",
       "      <td>Gross Production 1999-2001 (1000 I$)</td>\n",
       "      <td>2005.0</td>\n",
       "      <td>1000 Int. $</td>\n",
       "      <td>841895.0</td>\n",
       "      <td>A</td>\n",
       "      <td>cereals_total</td>\n",
       "    </tr>\n",
       "    <tr>\n",
       "      <td>364543</td>\n",
       "      <td>Afghanistan</td>\n",
       "      <td>152</td>\n",
       "      <td>Gross Production 1999-2001 (1000 I$)</td>\n",
       "      <td>2004.0</td>\n",
       "      <td>1000 Int. $</td>\n",
       "      <td>549037.0</td>\n",
       "      <td>A</td>\n",
       "      <td>cereals_total</td>\n",
       "    </tr>\n",
       "    <tr>\n",
       "      <td>364544</td>\n",
       "      <td>Afghanistan</td>\n",
       "      <td>152</td>\n",
       "      <td>Gross Production 1999-2001 (1000 I$)</td>\n",
       "      <td>2003.0</td>\n",
       "      <td>1000 Int. $</td>\n",
       "      <td>685931.0</td>\n",
       "      <td>A</td>\n",
       "      <td>cereals_total</td>\n",
       "    </tr>\n",
       "    <tr>\n",
       "      <td>...</td>\n",
       "      <td>...</td>\n",
       "      <td>...</td>\n",
       "      <td>...</td>\n",
       "      <td>...</td>\n",
       "      <td>...</td>\n",
       "      <td>...</td>\n",
       "      <td>...</td>\n",
       "      <td>...</td>\n",
       "    </tr>\n",
       "    <tr>\n",
       "      <td>457415</td>\n",
       "      <td>Zimbabwe</td>\n",
       "      <td>438</td>\n",
       "      <td>Net per capita PIN (base 1999-2001)</td>\n",
       "      <td>1965.0</td>\n",
       "      <td>Int. $</td>\n",
       "      <td>155.0</td>\n",
       "      <td>A</td>\n",
       "      <td>cereals_total</td>\n",
       "    </tr>\n",
       "    <tr>\n",
       "      <td>457416</td>\n",
       "      <td>Zimbabwe</td>\n",
       "      <td>438</td>\n",
       "      <td>Net per capita PIN (base 1999-2001)</td>\n",
       "      <td>1964.0</td>\n",
       "      <td>Int. $</td>\n",
       "      <td>146.0</td>\n",
       "      <td>A</td>\n",
       "      <td>cereals_total</td>\n",
       "    </tr>\n",
       "    <tr>\n",
       "      <td>457417</td>\n",
       "      <td>Zimbabwe</td>\n",
       "      <td>438</td>\n",
       "      <td>Net per capita PIN (base 1999-2001)</td>\n",
       "      <td>1963.0</td>\n",
       "      <td>Int. $</td>\n",
       "      <td>151.0</td>\n",
       "      <td>A</td>\n",
       "      <td>cereals_total</td>\n",
       "    </tr>\n",
       "    <tr>\n",
       "      <td>457418</td>\n",
       "      <td>Zimbabwe</td>\n",
       "      <td>438</td>\n",
       "      <td>Net per capita PIN (base 1999-2001)</td>\n",
       "      <td>1962.0</td>\n",
       "      <td>Int. $</td>\n",
       "      <td>184.0</td>\n",
       "      <td>A</td>\n",
       "      <td>cereals_total</td>\n",
       "    </tr>\n",
       "    <tr>\n",
       "      <td>457419</td>\n",
       "      <td>Zimbabwe</td>\n",
       "      <td>438</td>\n",
       "      <td>Net per capita PIN (base 1999-2001)</td>\n",
       "      <td>1961.0</td>\n",
       "      <td>Int. $</td>\n",
       "      <td>191.0</td>\n",
       "      <td>A</td>\n",
       "      <td>cereals_total</td>\n",
       "    </tr>\n",
       "  </tbody>\n",
       "</table>\n",
       "<p>55378 rows × 8 columns</p>\n",
       "</div>"
      ],
      "text/plain": [
       "       country_or_area element_code                               element  \\\n",
       "364540     Afghanistan          152  Gross Production 1999-2001 (1000 I$)   \n",
       "364541     Afghanistan          152  Gross Production 1999-2001 (1000 I$)   \n",
       "364542     Afghanistan          152  Gross Production 1999-2001 (1000 I$)   \n",
       "364543     Afghanistan          152  Gross Production 1999-2001 (1000 I$)   \n",
       "364544     Afghanistan          152  Gross Production 1999-2001 (1000 I$)   \n",
       "...                ...          ...                                   ...   \n",
       "457415        Zimbabwe          438   Net per capita PIN (base 1999-2001)   \n",
       "457416        Zimbabwe          438   Net per capita PIN (base 1999-2001)   \n",
       "457417        Zimbabwe          438   Net per capita PIN (base 1999-2001)   \n",
       "457418        Zimbabwe          438   Net per capita PIN (base 1999-2001)   \n",
       "457419        Zimbabwe          438   Net per capita PIN (base 1999-2001)   \n",
       "\n",
       "          year         unit     value value_footnotes       category  \n",
       "364540  2007.0  1000 Int. $  896908.0              A   cereals_total  \n",
       "364541  2006.0  1000 Int. $  718798.0              A   cereals_total  \n",
       "364542  2005.0  1000 Int. $  841895.0              A   cereals_total  \n",
       "364543  2004.0  1000 Int. $  549037.0              A   cereals_total  \n",
       "364544  2003.0  1000 Int. $  685931.0              A   cereals_total  \n",
       "...        ...          ...       ...             ...            ...  \n",
       "457415  1965.0       Int. $     155.0              A   cereals_total  \n",
       "457416  1964.0       Int. $     146.0              A   cereals_total  \n",
       "457417  1963.0       Int. $     151.0              A   cereals_total  \n",
       "457418  1962.0       Int. $     184.0              A   cereals_total  \n",
       "457419  1961.0       Int. $     191.0              A   cereals_total  \n",
       "\n",
       "[55378 rows x 8 columns]"
      ]
     },
     "execution_count": 269,
     "metadata": {},
     "output_type": "execute_result"
    }
   ],
   "source": [
    "elem_codes = ['152', '154', '434', '438', '432', '436']\n",
    "study_data = crops_data[crops_data.element_code.isin(elem_codes)]\n",
    "print(\"Number of countries in this data: \", study_data.country_or_area.unique().shape[0])\n",
    "study_data"
   ]
  },
  {
   "cell_type": "markdown",
   "metadata": {},
   "source": [
    "From what we can see in the new dataset that only contain these elements, both the rows in the beginning and end have the category cereals_total. Is this the only category?"
   ]
  },
  {
   "cell_type": "code",
   "execution_count": 251,
   "metadata": {},
   "outputs": [
    {
     "data": {
      "text/plain": [
       "array(['cereals_total'], dtype=object)"
      ]
     },
     "execution_count": 251,
     "metadata": {},
     "output_type": "execute_result"
    }
   ],
   "source": [
    "study_data.category.unique()"
   ]
  },
  {
   "cell_type": "markdown",
   "metadata": {},
   "source": [
    "Apparently so. Does this catgory exist for the other type of elements as well? Because if it does, we should be able to remove the elements with codes 152-438 from our dataset."
   ]
  },
  {
   "cell_type": "code",
   "execution_count": 271,
   "metadata": {},
   "outputs": [
    {
     "name": "stdout",
     "output_type": "stream",
     "text": [
      "Number of countries in this data:  225\n"
     ]
    },
    {
     "data": {
      "text/plain": [
       "array(['111', '31', '41', '51'], dtype=object)"
      ]
     },
     "execution_count": 271,
     "metadata": {},
     "output_type": "execute_result"
    }
   ],
   "source": [
    "study_data_2 = crops_data[crops_data.category.str.contains('cereals_total')]\n",
    "study_data_2 = study_data_2[np.logical_not(study_data_2.element_code.isin(elem_codes))]\n",
    "print(\"Number of countries in this data: \", study_data_2.country_or_area.unique().shape[0])\n",
    "study_data_2.element_code.unique()"
   ]
  },
  {
   "cell_type": "markdown",
   "metadata": {},
   "source": [
    "We can now see that the data for the category 'cereals_total' with element codes > 140 are subgroups of element codes < 140. We can therefore remove this data from our dataset."
   ]
  },
  {
   "cell_type": "code",
   "execution_count": 276,
   "metadata": {},
   "outputs": [
    {
     "data": {
      "text/html": [
       "<div>\n",
       "<style scoped>\n",
       "    .dataframe tbody tr th:only-of-type {\n",
       "        vertical-align: middle;\n",
       "    }\n",
       "\n",
       "    .dataframe tbody tr th {\n",
       "        vertical-align: top;\n",
       "    }\n",
       "\n",
       "    .dataframe thead th {\n",
       "        text-align: right;\n",
       "    }\n",
       "</style>\n",
       "<table border=\"1\" class=\"dataframe\">\n",
       "  <thead>\n",
       "    <tr style=\"text-align: right;\">\n",
       "      <th></th>\n",
       "      <th>country_or_area</th>\n",
       "      <th>element_code</th>\n",
       "      <th>element</th>\n",
       "      <th>year</th>\n",
       "      <th>unit</th>\n",
       "      <th>value</th>\n",
       "      <th>value_footnotes</th>\n",
       "      <th>category</th>\n",
       "    </tr>\n",
       "  </thead>\n",
       "  <tbody>\n",
       "    <tr>\n",
       "      <td>0</td>\n",
       "      <td>Americas +</td>\n",
       "      <td>31</td>\n",
       "      <td>Area Harvested</td>\n",
       "      <td>2007.0</td>\n",
       "      <td>Ha</td>\n",
       "      <td>49404.0</td>\n",
       "      <td>A</td>\n",
       "      <td>agave_fibres_nes</td>\n",
       "    </tr>\n",
       "    <tr>\n",
       "      <td>1</td>\n",
       "      <td>Americas +</td>\n",
       "      <td>31</td>\n",
       "      <td>Area Harvested</td>\n",
       "      <td>2006.0</td>\n",
       "      <td>Ha</td>\n",
       "      <td>49404.0</td>\n",
       "      <td>A</td>\n",
       "      <td>agave_fibres_nes</td>\n",
       "    </tr>\n",
       "    <tr>\n",
       "      <td>2</td>\n",
       "      <td>Americas +</td>\n",
       "      <td>31</td>\n",
       "      <td>Area Harvested</td>\n",
       "      <td>2005.0</td>\n",
       "      <td>Ha</td>\n",
       "      <td>49404.0</td>\n",
       "      <td>A</td>\n",
       "      <td>agave_fibres_nes</td>\n",
       "    </tr>\n",
       "    <tr>\n",
       "      <td>3</td>\n",
       "      <td>Americas +</td>\n",
       "      <td>31</td>\n",
       "      <td>Area Harvested</td>\n",
       "      <td>2004.0</td>\n",
       "      <td>Ha</td>\n",
       "      <td>49113.0</td>\n",
       "      <td>A</td>\n",
       "      <td>agave_fibres_nes</td>\n",
       "    </tr>\n",
       "    <tr>\n",
       "      <td>4</td>\n",
       "      <td>Americas +</td>\n",
       "      <td>31</td>\n",
       "      <td>Area Harvested</td>\n",
       "      <td>2003.0</td>\n",
       "      <td>Ha</td>\n",
       "      <td>48559.0</td>\n",
       "      <td>A</td>\n",
       "      <td>agave_fibres_nes</td>\n",
       "    </tr>\n",
       "    <tr>\n",
       "      <td>...</td>\n",
       "      <td>...</td>\n",
       "      <td>...</td>\n",
       "      <td>...</td>\n",
       "      <td>...</td>\n",
       "      <td>...</td>\n",
       "      <td>...</td>\n",
       "      <td>...</td>\n",
       "      <td>...</td>\n",
       "    </tr>\n",
       "    <tr>\n",
       "      <td>2255338</td>\n",
       "      <td>World +</td>\n",
       "      <td>51</td>\n",
       "      <td>Production Quantity</td>\n",
       "      <td>1965.0</td>\n",
       "      <td>tonnes</td>\n",
       "      <td>150123.0</td>\n",
       "      <td>A</td>\n",
       "      <td>yautia_cocoyam</td>\n",
       "    </tr>\n",
       "    <tr>\n",
       "      <td>2255339</td>\n",
       "      <td>World +</td>\n",
       "      <td>51</td>\n",
       "      <td>Production Quantity</td>\n",
       "      <td>1964.0</td>\n",
       "      <td>tonnes</td>\n",
       "      <td>143203.0</td>\n",
       "      <td>A</td>\n",
       "      <td>yautia_cocoyam</td>\n",
       "    </tr>\n",
       "    <tr>\n",
       "      <td>2255340</td>\n",
       "      <td>World +</td>\n",
       "      <td>51</td>\n",
       "      <td>Production Quantity</td>\n",
       "      <td>1963.0</td>\n",
       "      <td>tonnes</td>\n",
       "      <td>142094.0</td>\n",
       "      <td>A</td>\n",
       "      <td>yautia_cocoyam</td>\n",
       "    </tr>\n",
       "    <tr>\n",
       "      <td>2255341</td>\n",
       "      <td>World +</td>\n",
       "      <td>51</td>\n",
       "      <td>Production Quantity</td>\n",
       "      <td>1962.0</td>\n",
       "      <td>tonnes</td>\n",
       "      <td>123840.0</td>\n",
       "      <td>A</td>\n",
       "      <td>yautia_cocoyam</td>\n",
       "    </tr>\n",
       "    <tr>\n",
       "      <td>2255342</td>\n",
       "      <td>World +</td>\n",
       "      <td>51</td>\n",
       "      <td>Production Quantity</td>\n",
       "      <td>1961.0</td>\n",
       "      <td>tonnes</td>\n",
       "      <td>117284.0</td>\n",
       "      <td>A</td>\n",
       "      <td>yautia_cocoyam</td>\n",
       "    </tr>\n",
       "  </tbody>\n",
       "</table>\n",
       "<p>2199007 rows × 8 columns</p>\n",
       "</div>"
      ],
      "text/plain": [
       "        country_or_area element_code              element    year    unit  \\\n",
       "0            Americas +           31       Area Harvested  2007.0      Ha   \n",
       "1            Americas +           31       Area Harvested  2006.0      Ha   \n",
       "2            Americas +           31       Area Harvested  2005.0      Ha   \n",
       "3            Americas +           31       Area Harvested  2004.0      Ha   \n",
       "4            Americas +           31       Area Harvested  2003.0      Ha   \n",
       "...                 ...          ...                  ...     ...     ...   \n",
       "2255338         World +           51  Production Quantity  1965.0  tonnes   \n",
       "2255339         World +           51  Production Quantity  1964.0  tonnes   \n",
       "2255340         World +           51  Production Quantity  1963.0  tonnes   \n",
       "2255341         World +           51  Production Quantity  1962.0  tonnes   \n",
       "2255342         World +           51  Production Quantity  1961.0  tonnes   \n",
       "\n",
       "            value value_footnotes          category  \n",
       "0         49404.0              A   agave_fibres_nes  \n",
       "1         49404.0              A   agave_fibres_nes  \n",
       "2         49404.0              A   agave_fibres_nes  \n",
       "3         49113.0              A   agave_fibres_nes  \n",
       "4         48559.0              A   agave_fibres_nes  \n",
       "...           ...             ...               ...  \n",
       "2255338  150123.0              A     yautia_cocoyam  \n",
       "2255339  143203.0              A     yautia_cocoyam  \n",
       "2255340  142094.0              A     yautia_cocoyam  \n",
       "2255341  123840.0              A     yautia_cocoyam  \n",
       "2255342  117284.0              A     yautia_cocoyam  \n",
       "\n",
       "[2199007 rows x 8 columns]"
      ]
     },
     "execution_count": 276,
     "metadata": {},
     "output_type": "execute_result"
    }
   ],
   "source": [
    "# Drop rows with element codes > 140\n",
    "drop_col = np.logical_not(crops_data.element_code.isin(elem_codes))\n",
    "crops_data = crops_data[drop_col]\n",
    "crops_data"
   ]
  },
  {
   "cell_type": "markdown",
   "metadata": {},
   "source": [
    "#### Names with '+'"
   ]
  },
  {
   "cell_type": "markdown",
   "metadata": {},
   "source": [
    "There are countries/areas that contain a '+' at the end of the name. What names contain this sign and what do they have in common?"
   ]
  },
  {
   "cell_type": "code",
   "execution_count": 127,
   "metadata": {},
   "outputs": [
    {
     "data": {
      "text/plain": [
       "array(['Americas +', 'Asia +', 'Caribbean +', 'Central America +',\n",
       "       'Low Income Food Deficit Countries +',\n",
       "       'Net Food Importing Developing Countries +',\n",
       "       'Small Island Developing States +', 'South America +',\n",
       "       'South-Eastern Asia +', 'World +', 'Africa +',\n",
       "       'Australia and New Zealand +', 'Central Asia +', 'Eastern Asia +',\n",
       "       'Eastern Europe +', 'Europe +', 'European Union +',\n",
       "       'LandLocked developing countries +', 'Least Developed Countries +',\n",
       "       'Northern Africa +', 'Northern America +', 'Oceania +',\n",
       "       'Southern Africa +', 'Southern Asia +', 'Southern Europe +',\n",
       "       'Western Africa +', 'Western Asia +', 'Western Europe +',\n",
       "       'Eastern Africa +', 'Northern Europe +', 'Middle Africa +',\n",
       "       'Micronesia +', 'Polynesia +', 'Melanesia +'], dtype=object)"
      ]
     },
     "execution_count": 127,
     "metadata": {},
     "output_type": "execute_result"
    }
   ],
   "source": [
    "# Examining what names contain '?'\n",
    "country_series = crops_data.country_or_area\n",
    "names_with_sign = country_series[country_series.str.endswith('+')]\n",
    "names_with_sign.unique()"
   ]
  },
  {
   "cell_type": "markdown",
   "metadata": {},
   "source": [
    "All of the country/area names that contain a '+' at the end are all areas. We can therefore divide the dataset into several groups: one with all countries, one with all continents and one with the remaining areas."
   ]
  },
  {
   "cell_type": "markdown",
   "metadata": {},
   "source": [
    "## Splitting the dataset "
   ]
  },
  {
   "cell_type": "code",
   "execution_count": 223,
   "metadata": {},
   "outputs": [
    {
     "name": "stdout",
     "output_type": "stream",
     "text": [
      "Number of unique countries: 219\n",
      "Number of unique continents: 6\n",
      "Number of unique areas: 28\n"
     ]
    }
   ],
   "source": [
    "# Splitting crops_data into country, continent and area based sets and renaming country_or_area column\n",
    "\n",
    "crops_country = crops_data[np.logical_not(country_series.str.endswith('+'))].rename({'country_or_area': 'country'}, axis=1)\n",
    "crops_remain = crops_data[country_series.str.endswith('+')]\n",
    "\n",
    "# Remove last two characters from continent/area name\n",
    "crops_remain.country_or_area = crops_remain.country_or_area.str[:-2]\n",
    "\n",
    "continents = ['Africa', 'Northern America', 'South America', 'Asia', 'Oceania', 'Europe']\n",
    "is_continent = crops_remain.country_or_area.isin(continents)\n",
    "\n",
    "crops_continent = crops_remain[is_continent].rename({'country_or_area': 'continent'}, axis=1)\n",
    "crops_area = crops_remain[np.logical_not(is_continent)].rename({'country_or_area': 'area'}, axis=1)\n",
    "\n",
    "print('Number of unique countries:', crops_country.country.unique().shape[0])\n",
    "print('Number of unique continents:', crops_continent.continent.unique().shape[0])\n",
    "print('Number of unique areas:', crops_area.area.unique().shape[0])"
   ]
  },
  {
   "cell_type": "code",
   "execution_count": 225,
   "metadata": {},
   "outputs": [],
   "source": [
    "# Save dataframes to CSV\n",
    "#crops_country.to_csv('./data/csv/crops_countries.csv')\n",
    "#crops_area.to_csv('./data/csv/crops_areas.csv')\n",
    "#crops_continent.to_csv('./data/csv/crops_continents.csv')"
   ]
  },
  {
   "cell_type": "code",
   "execution_count": 226,
   "metadata": {},
   "outputs": [],
   "source": [
    "# Save dataframes to pickles\n",
    "crops_country.to_pickle('./data/pickles/crops_countries.pkl')\n",
    "crops_area.to_pickle('./data/pickles/crops_areas.pkl')\n",
    "crops_continent.to_pickle('./data/pickles/crops_continents.pkl')"
   ]
  },
  {
   "cell_type": "code",
   "execution_count": 278,
   "metadata": {},
   "outputs": [
    {
     "data": {
      "text/plain": [
       "array(['agave_fibres_nes', 'almonds_with_shell',\n",
       "       'anise_badian_fennel_corian', 'apples', 'apricots', 'arecanuts',\n",
       "       'artichokes', 'asparagus', 'avocados', 'bambara_beans', 'bananas',\n",
       "       'barley', 'beans_dry', 'beans_green', 'berries_nes', 'blueberries',\n",
       "       'brazil_nuts_with_shell', 'broad_beans_horse_beans_dry',\n",
       "       'buckwheat', 'cabbages_and_other_brassicas', 'canary_seed',\n",
       "       'carobs', 'carrots_and_turnips', 'cashew_nuts_with_shell',\n",
       "       'cashewapple', 'cassava', 'castor_oil_seed',\n",
       "       'cauliflowers_and_broccoli', 'cereals_nes',\n",
       "       'cereals_rice_milled_eqv', 'cereals_total', 'cherries',\n",
       "       'chestnuts', 'chick_peas', 'chicory_roots',\n",
       "       'chillies_and_peppers_dry', 'chillies_and_peppers_green',\n",
       "       'cinnamon_canella', 'citrus_fruit_nes', 'citrus_fruit_total',\n",
       "       'cloves', 'coarse_grain_total', 'cocoa_beans', 'coconuts',\n",
       "       'coffee_green', 'coir', 'cow_peas_dry', 'cranberries',\n",
       "       'cucumbers_and_gherkins', 'currants', 'dates',\n",
       "       'eggplants_aubergines', 'fibre_crops_nes', 'fibre_crops_primary',\n",
       "       'figs', 'flax_fibre_and_tow', 'fonio', 'fruit_excl_melons_total',\n",
       "       'fruit_fresh_nes', 'fruit_tropical_fresh_nes', 'garlic', 'ginger',\n",
       "       'gooseberries', 'grapefruit_inc_pomelos', 'grapes',\n",
       "       'groundnuts_with_shell', 'gums_natural', 'hazelnuts_with_shell',\n",
       "       'hemp_tow_waste', 'hempseed', 'hops', 'jute',\n",
       "       'jute_jute_like_fibres', 'kapok_fibre', 'kapokseed_in_shell',\n",
       "       'karite_nuts_sheanuts', 'kiwi_fruit', 'kolanuts',\n",
       "       'leguminous_vegetables_nes', 'lemons_and_limes', 'lentils',\n",
       "       'lettuce_and_chicory', 'linseed', 'lupins', 'maize', 'maize_green',\n",
       "       'mangoes_mangosteens_guavas', 'manila_fibre_abaca', 'mate',\n",
       "       'melonseed', 'millet', 'mixed_grain', 'mushrooms_and_truffles',\n",
       "       'mustard_seed', 'natural_rubber', 'nutmeg_mace_and_cardamoms',\n",
       "       'nuts_nes', 'oats', 'oil_palm_fruit', 'oilcakes_equivalent',\n",
       "       'oilcrops_primary', 'oilseeds_nes', 'okra', 'olives', 'onions_dry',\n",
       "       'onions_inc_shallots_green', 'oranges', 'other_bastfibres',\n",
       "       'other_melons_inc_cantaloupes', 'papayas',\n",
       "       'peaches_and_nectarines', 'pears', 'peas_dry', 'peas_green',\n",
       "       'pepper_piper_spp', 'peppermint', 'persimmons', 'pigeon_peas',\n",
       "       'pineapples', 'pistachios', 'plantains', 'plums_and_sloes',\n",
       "       'popcorn', 'poppy_seed', 'potatoes', 'pulses_nes', 'pulses_total',\n",
       "       'pumpkins_squash_and_gourds', 'pyrethrum_dried', 'quinces',\n",
       "       'quinoa', 'ramie', 'rapeseed', 'raspberries', 'rice_paddy',\n",
       "       'roots_and_tubers_nes', 'roots_and_tubers_total', 'rye',\n",
       "       'safflower_seed', 'seed_cotton', 'sesame_seed', 'sisal', 'sorghum',\n",
       "       'sour_cherries', 'soybeans', 'spices_nes', 'spinach',\n",
       "       'stone_fruit_nes', 'strawberries', 'string_beans', 'sugar_beet',\n",
       "       'sugar_cane', 'sugar_crops_nes', 'sunflower_seed',\n",
       "       'sweet_potatoes', 'tangerines_mandarins_clem', 'taro_cocoyam',\n",
       "       'tea', 'tobacco_unmanufactured', 'tomatoes', 'treenuts_total',\n",
       "       'triticale', 'tung_nuts', 'vanilla', 'vegetables_fresh_nes',\n",
       "       'vegetables_melons_total', 'vetches', 'walnuts_with_shell',\n",
       "       'watermelons', 'wheat', 'yams', 'yautia_cocoyam'], dtype=object)"
      ]
     },
     "execution_count": 278,
     "metadata": {},
     "output_type": "execute_result"
    }
   ],
   "source": []
  },
  {
   "cell_type": "code",
   "execution_count": null,
   "metadata": {},
   "outputs": [],
   "source": []
  }
 ],
 "metadata": {
  "kernelspec": {
   "display_name": "Python 3",
   "language": "python",
   "name": "python3"
  },
  "language_info": {
   "codemirror_mode": {
    "name": "ipython",
    "version": 3
   },
   "file_extension": ".py",
   "mimetype": "text/x-python",
   "name": "python",
   "nbconvert_exporter": "python",
   "pygments_lexer": "ipython3",
   "version": "3.7.3"
  }
 },
 "nbformat": 4,
 "nbformat_minor": 4
}
