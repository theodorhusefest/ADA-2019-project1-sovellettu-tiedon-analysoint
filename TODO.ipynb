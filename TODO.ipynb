{
 "cells": [
  {
   "cell_type": "markdown",
   "metadata": {},
   "source": [
    "# TODO"
   ]
  },
  {
   "cell_type": "markdown",
   "metadata": {},
   "source": [
    "##### Data Cleaning\n",
    "- Divide into continents/areas and country\n",
    "- Handle missing years.\n",
    "    - Identify if there is a lot of data missing some of the years.\n",
    "    - Remove years with a lot of missing data? \n",
    "    - Interpolate over missing years? \n",
    "- Decide which elements that really are interesting for us."
   ]
  },
  {
   "cell_type": "markdown",
   "metadata": {},
   "source": [
    "##### Visualization\n",
    "- Make a \"library\" of plotting functions\n",
    "- "
   ]
  },
  {
   "cell_type": "markdown",
   "metadata": {},
   "source": [
    "**Question 1 - How has the crops/livestock primary production developed since 1960?**\n",
    "\n",
    "- Compare with population. \n",
    "    - Would be interesting to do this on continent-level.\n",
    "- Plot relative crops vs relative meat.\n",
    "- Analyze discrepancies. "
   ]
  },
  {
   "cell_type": "markdown",
   "metadata": {},
   "source": [
    "**Question 2 - Is there a connection between the development of livestock primary production and crop production?**\n",
    "\n",
    "- Analyze this!"
   ]
  },
  {
   "cell_type": "markdown",
   "metadata": {},
   "source": [
    "**Question 3 - How are the differences in production quantities between the different continents?**\n",
    "\n",
    "- Compare to population\n",
    "- Maybe look at export/import if possible?\n",
    "- Relative area use?\n",
    "- FROM TA: You could also look into what country/continents is producting more food than it would need to feed its people.\n"
   ]
  },
  {
   "cell_type": "markdown",
   "metadata": {},
   "source": [
    "**Question 4 - How has the development in agriculture affected emission of greenhouse gasses?**\n",
    "\n",
    "- Get emission data and clean it\n",
    "- Has climate change already affected production of food?"
   ]
  },
  {
   "cell_type": "code",
   "execution_count": null,
   "metadata": {},
   "outputs": [],
   "source": []
  }
 ],
 "metadata": {
  "kernelspec": {
   "display_name": "Python 3",
   "language": "python",
   "name": "python3"
  },
  "language_info": {
   "codemirror_mode": {
    "name": "ipython",
    "version": 3
   },
   "file_extension": ".py",
   "mimetype": "text/x-python",
   "name": "python",
   "nbconvert_exporter": "python",
   "pygments_lexer": "ipython3",
   "version": "3.7.4"
  }
 },
 "nbformat": 4,
 "nbformat_minor": 4
}
