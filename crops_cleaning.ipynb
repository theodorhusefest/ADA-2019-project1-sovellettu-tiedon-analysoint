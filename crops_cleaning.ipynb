{
 "cells": [
  {
   "cell_type": "markdown",
   "metadata": {},
   "source": [
    "## Crops - Exploration and Cleaning\n",
    "This notebook handles the data collected for crops data.  \n",
    "First we will explain the dataset, before we clean the data."
   ]
  },
  {
   "cell_type": "code",
   "execution_count": null,
   "metadata": {},
   "outputs": [],
   "source": [
    "import pandas as pd\n",
    "import numpy as np\n",
    "import matplotlib.pyplot as plt"
   ]
  },
  {
   "cell_type": "code",
   "execution_count": null,
   "metadata": {},
   "outputs": [],
   "source": [
    "data = pd.read_csv('raw_data/fao_data_crops_data.csv.zip', compression='zip', header=0, sep=',', quotechar='\"')\n",
    "data.head(5)"
   ]
  },
  {
   "cell_type": "markdown",
   "metadata": {},
   "source": [
    "# Explanation of crops data file\n",
    "\n",
    "Each row of the crops dataset contains data for a certain country/area and year.  \n",
    "There are 8 columns of metadata, which can be seen below.\n",
    "The years span from 1961 to 2007, but some years are undefined.  \n",
    "\n",
    "| Column name         | Explanation          |\n",
    "|---------------------|----------------------|\n",
    "| country_or_area     | Name of country/area |\n",
    "| year                | Unique code for each country/area |\n",
    "| element             | Data classification type |\n",
    "| element_code        | Unique code for each type of Element |\n",
    "| unit                | Unit of measurement |\n",
    "| value               | The value of the measurement |\n",
    "| value_footnote      | Where the data comes from |\n",
    "| category            | Crop category |\n",
    "\n",
    "### Footnotes\n",
    "The value footnotes used in the dataset have the following explanations:\n",
    "\n",
    "|  Footnote  | Meaning of footnote    |\n",
    "|------------|------------------------|\n",
    "| Fc         | Calculated data        |\n",
    "| A          | Aggregate, may include official, semi-official or estimated or calculated data |\n",
    "| NR         | Not reported by country|\n",
    "| F          | FAO Estimate           |\n",
    "\n",
    "### Elements\n",
    "- **Area harvested** refer to the area under cultivation. Area under cultivation means the area that corresponds to the total sown area, but after the harvest it excludes ruined areas (e.g. due to natural disasters). If the same land parcel is used twice in the same year, the area of this parcel can be counted twice. \n",
    "- **Production quantity** means the harvested production. Harvested production means production including on-holding losses and wastage, quantities consumed directly on the farm and marketed quantities, indicated in units of basic product weight. *Harvest year* means the calendar year in which the harvest begins. \n",
    "- **Yield** means the harvested production per ha for the area under cultivation. \n",
    "- **Seed** quantity comprises all amounts of the commodity in question used during the reference period for reproductive purposes, such as seed or seedlings. Usually, the average seed rate in any given country does not vary greatly from year to year."
   ]
  },
  {
   "cell_type": "markdown",
   "metadata": {},
   "source": [
    "### Categories\n",
    "Crop statistics are recorded for 172 products, covering the following categories: Crops Primary, Fibre Crops Primary, Cereals, Coarse Grain, Citrus Fruit, Fruit, Jute Jute-like Fibres, Oilcakes Equivalent, Oil crops Primary, Pulses, Roots and Tubers, Treenuts and Vegetables and Melons. The objective is to comprehensively cover production of all primary crops for all countries and regions in the world. \n",
    "\n",
    "**Cereals**: Area and production data on cereals relate to crops harvested for dry grain only. Cereal crops harvested for hay or harvested green for food, feed or silage or used for grazing are therefore excluded. \n",
    "\n",
    "**Vegetables**, total (including melons): Data relate to vegetable crops grown mainly for human consumption. Crops such as cabbages, pumpkins and carrots, when explicitly cultivated for animal feed, are therefore excluded. Statistics on vegetables are not available in many countries, and the coverage of the reported data differs from country to country. In general, it appears that the data refer to crops grown in field and market gardens mainly for sale, thus excluding crops cultivated in kitchen gardens or small family gardens mainly for household consumption.\n",
    "\n",
    "**Fruit**, total (excluding melons): Data refer to total production of fresh fruit, whether finally used for direct consumption for food or feed, or processed into different products: dry fruit, juice, jam, alcohol, etc. Generally, production data relate to plantation crops or orchard crops grown mainly for sale. Data on production from scattered trees used mainly for home consumption are not usually collected. Production from wild plants, particularly berries, which is of some importance in certain countries, is generally disregarded by national statistical services. Therefore, the data for the various fruits and berries are rather incomplete. Dates, plantains and total grapes are included in the “total fruit” aggregated figures, while olives are excluded.\n",
    "\n",
    "**Bananas and plantains**: Figures on bananas refer, as far as possible, to all edible fruit-bearing species of the genus Musa except Musa paradisiaca, commonly known as plantain. Unfortunately, several countries make no distinction in their statistics between bananas and plantains and publish only overall estimates. When this occurs and there is some indication or assumption that the data reported refer mainly to bananas, the data are included. The production data on bananas and plantains reported by the various countries are also difficult to compare because a number of countries report in terms of bunches, which generally means that the stalk is included in the weight.  \n",
    "\n",
    "**Treenuts**, aggregated: Production of nuts (including chestnuts) relates to nuts in the shell or in the husk. Statistics are very scanty and generally refer only to crops for sale. In addition to the kind of nuts shown separately, production data include all other treenuts mainly used as dessert or table nuts, such as pecan nuts, pili nuts, sapucaia nuts and macadamia nuts. Nuts mainly used for flavouring beverages are excludedas are masticatory and stimulant nuts and nuts used mainly for the extraction of oil or butter, including areca/betel nuts, cola nuts, illipe nuts, karate nuts, coconuts, tung nuts, oilpalm nuts etc."
   ]
  },
  {
   "cell_type": "markdown",
   "metadata": {},
   "source": [
    "# Cleaning the data"
   ]
  },
  {
   "cell_type": "markdown",
   "metadata": {},
   "source": [
    "### Renaming\n",
    "First of all we rename the columns to fit the livestock dataset.  \n",
    "This is mainly to make the first letter capital, but _Footnote_ changes to _Flag_ and _Category_ changes to _Item_."
   ]
  },
  {
   "cell_type": "code",
   "execution_count": null,
   "metadata": {},
   "outputs": [],
   "source": [
    "new_names = {'country_or_area': 'Area', 'element_code': 'Element Code', \n",
    "             'element': 'Element', 'year': 'Year', 'unit': 'Unit', \n",
    "             'value': 'Value', 'value_footnotes': 'Flag', 'category': 'Item'}\n",
    "\n",
    "data.rename(columns = new_names, inplace = True)\n",
    "data.head(2)"
   ]
  },
  {
   "cell_type": "markdown",
   "metadata": {},
   "source": [
    "### Unnecessary rows:\n",
    "The dataset is ordered according to the alphabetical order of the categories and after the end of each Item, there are rows that contain the footnote-descriptions above. We therefore need to remove these rows since they don't contain any useful data."
   ]
  },
  {
   "cell_type": "code",
   "execution_count": null,
   "metadata": {},
   "outputs": [],
   "source": [
    "# Removing rows that do not contain useful information\n",
    "keep_col = np.logical_not(data.Area.isin(['fnSeqID', 'Fc', 'A ', 'NR', 'F ', '* ']))\n",
    "crops_data = data[keep_col]"
   ]
  },
  {
   "cell_type": "code",
   "execution_count": null,
   "metadata": {},
   "outputs": [],
   "source": [
    "print(\"Number of countries in our dataset:\", crops_data.Area.unique().shape[0])"
   ]
  },
  {
   "cell_type": "markdown",
   "metadata": {},
   "source": [
    "### Keep only category totals\n",
    "\n",
    "Since we want to analyse the general production of crops it is more interesting for us to look at the total production of the different categories instead of looking at every type of item. We will therefore only keep the totals in our dataset. The categories are stored using the following item names:\n",
    "- Fibre Crops Primary = fibre_crops_primary \n",
    "- Cereals = cereals_total\n",
    "- Coarse Grain = coarse_grain_total\n",
    "- Citrus Fruit = citrus_fruit_total\n",
    "- Fruit = fruit_excl_melons_total\n",
    "- Jute Jute-like Fibres = jute_jute_like_fibres\n",
    "- Oilcakes Equivalent = oilcakes_equivalent\n",
    "- Oil crops Primary = oil_crops_primary\n",
    "- Pulses = pulses_total\n",
    "- Roots and Tubers = roots_and_tubers_total \n",
    "- Treenuts = treenuts_total \n",
    "- Vegetables and Melons = vegetables_melons_total"
   ]
  },
  {
   "cell_type": "code",
   "execution_count": null,
   "metadata": {},
   "outputs": [],
   "source": [
    "keywords = ['_total', 'primary', 'jute_jute', 'oilcakes']\n",
    "items = crops_data.Item\n",
    "crops_categorized = crops_data[items.str.contains('|'.join(keywords))]\n",
    "\n",
    "print(\"Number of countries in categorized dataset\", crops_categorized.Area.unique().shape[0])\n",
    "print(\"\\nItem categories in categorized dataset:\\n\", crops_categorized.Item.unique())"
   ]
  },
  {
   "cell_type": "markdown",
   "metadata": {},
   "source": [
    "### Missing information?"
   ]
  },
  {
   "cell_type": "markdown",
   "metadata": {},
   "source": [
    "Are we now missing any information in our datasets?"
   ]
  },
  {
   "cell_type": "code",
   "execution_count": null,
   "metadata": {},
   "outputs": [],
   "source": [
    "print(\"Missing information in categorized dataset: \\n\", crops_categorized.isna().sum())"
   ]
  },
  {
   "cell_type": "markdown",
   "metadata": {},
   "source": [
    "No information is missing as far as we can tell. No cells seem to be missing information."
   ]
  },
  {
   "cell_type": "markdown",
   "metadata": {},
   "source": [
    "### Elements"
   ]
  },
  {
   "cell_type": "code",
   "execution_count": null,
   "metadata": {},
   "outputs": [],
   "source": [
    "# Aggregate year column to 'min - max' year\n",
    "def agg_year(series):\n",
    "    min_year = int(series.min())\n",
    "    max_year = int(series.max())\n",
    "    return '{} to {}'.format(min_year, max_year)\n",
    "\n",
    "# Examine the different countries\n",
    "def count_unique_area(series):\n",
    "    return len(series.unique())\n",
    "\n",
    "# Group by element code and element to see what these columns represent \n",
    "crops_categorized.groupby(['Element Code', 'Element'])\\\n",
    "             .agg({'Value':'sum', 'Unit':'unique', 'Year':agg_year, 'Area':count_unique_area})\\\n",
    "             .sort_values(by='Value', ascending=False)"
   ]
  },
  {
   "cell_type": "markdown",
   "metadata": {},
   "source": [
    "By taking the sum of all values and sorting we see that the '51-Production Quantity' element category has information stored for all 253 countries, whereas the other element categories are missing information for some countries. Area = number of unique countries in the specified element category."
   ]
  },
  {
   "cell_type": "markdown",
   "metadata": {},
   "source": [
    "**Observation:** Are the elements apart form Production Quantity really necessary?\n",
    "\n",
    "- *Seed* is the amount of seeds that were planted, which is not relevant for the scope of this project.\n",
    "- *Area Harvested* is the amount of land that was used for planting the crops in our dataset, which is not relevant for the scope of this project.\n",
    "- *Yield* is the amount of crops that was given by the planted area, which is not relevant for the scope of this project.\n",
    "\n",
    "We will therefore remove element categories: Seed, Area Harvested and Yield."
   ]
  },
  {
   "cell_type": "code",
   "execution_count": null,
   "metadata": {},
   "outputs": [],
   "source": [
    "elements = ['Seed', 'Area Harvested', 'Yield']\n",
    "crops_processed = crops_categorized[np.logical_not(crops_categorized['Element'].isin(elements))]\n",
    "crops_processed"
   ]
  },
  {
   "cell_type": "markdown",
   "metadata": {},
   "source": [
    "But what do the element categories with element codes > 140 include? Can we remove these?"
   ]
  },
  {
   "cell_type": "markdown",
   "metadata": {},
   "source": [
    "### Element codes > 140"
   ]
  },
  {
   "cell_type": "code",
   "execution_count": null,
   "metadata": {},
   "outputs": [],
   "source": [
    "elem_codes = ['152', '154', '434', '438', '432', '436']\n",
    "study_data = crops_processed[crops_processed['Element Code'].isin(elem_codes)]\n",
    "print(\"Number of countries in this data: \", study_data.Area.unique().shape[0])\n",
    "study_data"
   ]
  },
  {
   "cell_type": "markdown",
   "metadata": {},
   "source": [
    "From what we can see in the new dataset that only contain these elements, both the rows in the beginning and end have the Item cereals_total. Is this the only Item?"
   ]
  },
  {
   "cell_type": "code",
   "execution_count": null,
   "metadata": {},
   "outputs": [],
   "source": [
    "study_data.Item.unique()"
   ]
  },
  {
   "cell_type": "markdown",
   "metadata": {},
   "source": [
    "Apparently so. Does this catgory exist for the other type of elements as well? Because if it does, we should be able to remove the elements with codes 152-438 from our dataset."
   ]
  },
  {
   "cell_type": "code",
   "execution_count": null,
   "metadata": {},
   "outputs": [],
   "source": [
    "study_data_2 = crops_processed[crops_processed.Item.str.contains('cereals_total')]\n",
    "study_data_2 = study_data_2[np.logical_not(study_data_2['Element Code'].isin(elem_codes))]\n",
    "print(\"Number of countries in this data: \", study_data_2.Area.unique().shape[0])\n",
    "study_data_2['Element Code'].unique()"
   ]
  },
  {
   "cell_type": "markdown",
   "metadata": {},
   "source": [
    "We can now see that the data for the Item 'cereals_total' with element codes > 140 are subgroups of element codes < 140. We can therefore remove this data from our dataset."
   ]
  },
  {
   "cell_type": "code",
   "execution_count": null,
   "metadata": {},
   "outputs": [],
   "source": [
    "# Drop rows with element codes > 140\n",
    "drop_col = np.logical_not(crops_processed['Element Code'].isin(elem_codes))\n",
    "crops_cleaned = crops_processed[drop_col]\n",
    "crops_cleaned"
   ]
  },
  {
   "cell_type": "markdown",
   "metadata": {},
   "source": [
    "### Area names with '+'\n",
    "\n",
    "There are countries/areas that contain a '+' at the end of the name. What names contain this sign and what do they have in common?"
   ]
  },
  {
   "cell_type": "code",
   "execution_count": null,
   "metadata": {},
   "outputs": [],
   "source": [
    "# Examining what names contain '?'\n",
    "country_series = crops_cleaned.Area\n",
    "names_with_sign = country_series[country_series.str.endswith('+')]\n",
    "names_with_sign.unique()"
   ]
  },
  {
   "cell_type": "markdown",
   "metadata": {},
   "source": [
    "All of the country/area names that contain a '+' at the end are all areas. We can therefore divide the dataset into several groups: one with all countries, one with all continents and one with the remaining areas."
   ]
  },
  {
   "cell_type": "markdown",
   "metadata": {},
   "source": [
    "# Splitting the dataset "
   ]
  },
  {
   "cell_type": "code",
   "execution_count": null,
   "metadata": {},
   "outputs": [],
   "source": [
    "# Splitting crops_data into country, continent and area based sets and renaming Area column\n",
    "\n",
    "crops_country = crops_cleaned[np.logical_not(country_series.str.endswith('+'))].rename({'Area': 'Area'}, axis=1)\n",
    "crops_remain = crops_cleaned[country_series.str.endswith('+')]\n",
    "\n",
    "# Remove last two characters from continent/area name\n",
    "crops_remain.Area = crops_remain.Area.str[:-2]\n",
    "\n",
    "continents = ['Africa', 'Northern America', 'South America', 'Asia', 'Oceania', 'Europe']\n",
    "is_continent = crops_remain.Area.isin(continents)\n",
    "\n",
    "crops_continent = crops_remain[is_continent].rename({'Area': 'Area'}, axis=1)\n",
    "crops_area = crops_remain[np.logical_not(is_continent)].rename({'Area': 'Area'}, axis=1)\n",
    "\n",
    "print('Number of unique countries:', crops_country.Area.unique().shape[0])\n",
    "print('Number of unique continents:', crops_continent.Area.unique().shape[0])\n",
    "print('Number of unique areas:', crops_area.Area.unique().shape[0])"
   ]
  },
  {
   "cell_type": "code",
   "execution_count": null,
   "metadata": {},
   "outputs": [],
   "source": [
    "# Save dataframes to CSV\n",
    "#crops_country.to_csv('./data/csv/crops_countries.csv')\n",
    "#crops_area.to_csv('./data/csv/crops_areas.csv')\n",
    "#crops_continent.to_csv('./data/csv/crops_continents.csv')"
   ]
  },
  {
   "cell_type": "code",
   "execution_count": null,
   "metadata": {},
   "outputs": [],
   "source": [
    "# Save dataframes to pickles\n",
    "crops_country.to_pickle('./data/pickles/crops_countries.pkl')\n",
    "crops_area.to_pickle('./data/pickles/crops_areas.pkl')\n",
    "crops_continent.to_pickle('./data/pickles/crops_continents.pkl')"
   ]
  },
  {
   "cell_type": "code",
   "execution_count": null,
   "metadata": {},
   "outputs": [],
   "source": [
    "crops_area"
   ]
  },
  {
   "cell_type": "code",
   "execution_count": null,
   "metadata": {},
   "outputs": [],
   "source": [
    "crops_continent"
   ]
  },
  {
   "cell_type": "code",
   "execution_count": null,
   "metadata": {},
   "outputs": [],
   "source": [
    "crops_country"
   ]
  },
  {
   "cell_type": "markdown",
   "metadata": {},
   "source": [
    "#### Categorizing crops further"
   ]
  },
  {
   "cell_type": "code",
   "execution_count": null,
   "metadata": {},
   "outputs": [],
   "source": [
    "crops_continent.Item.unique()"
   ]
  },
  {
   "cell_type": "markdown",
   "metadata": {},
   "source": [
    "We choose to categorize into the following:\n",
    "- Oilcrops & oilcakes, \n",
    "- Fruits excl melons: citrus fruits and fruits\n",
    "- Vegetables and melons\n",
    "- Others: treenuts, jute & jutelike fibres, pulses, fibre crops\n",
    "- Roots and tubers\n",
    "- Cereals\n",
    "- Coarse grains\n",
    "\n",
    "We choose to keep cereals and coars grain seperate even though they are the same family as they are both big categories independently. The 'others' are all of the small crops categories."
   ]
  },
  {
   "cell_type": "code",
   "execution_count": null,
   "metadata": {},
   "outputs": [],
   "source": [
    "oil = ['oilcakes_equivalent', 'oilcrops_primary']\n",
    "fruits = ['fruit_excl_melons_total', 'citrus_fruit_total']\n",
    "veg = ['vegetables_melons_total']\n",
    "roots_tubers = ['roots_and_tubers_total']\n",
    "cereals = ['cereals_total']\n",
    "coarse_grain = ['coarse_grain_total']\n",
    "others = ['treenuts_total', 'jute_jute_like_fibres', 'pulses_total', 'fibre_crops_primary']\n",
    "\n",
    "oil_crops = crops_continent[crops_continent.Item.isin(oil)]\n",
    "prod_oil = oil_crops.groupby(['Area','Element','Year','Unit']).agg({'Value':'sum'}).reset_index()\n",
    "prod_oil['Item'] = 'Oilcrops & oilcakes'\n",
    "\n",
    "fruit_crops = crops_continent[crops_continent.Item.isin(fruits)]\n",
    "prod_fruit = fruit_crops.groupby(['Area','Element','Year','Unit']).agg({'Value':'sum'}).reset_index()\n",
    "prod_fruit['Item'] = 'Fruits excl melons'\n",
    "\n",
    "veg_crops = crops_continent[crops_continent.Item.isin(veg)]\n",
    "prod_veg = veg_crops.groupby(['Area','Element','Year','Unit']).agg({'Value':'sum'}).reset_index()\n",
    "prod_veg['Item'] = 'Vegetables & melons'\n",
    "\n",
    "roots_tubers_crops = crops_continent[crops_continent.Item.isin(roots_tubers)]\n",
    "prod_roots_tubers = roots_tubers_crops.groupby(['Area','Element','Year','Unit']).agg({'Value':'sum'}).reset_index()\n",
    "prod_roots_tubers['Item'] = 'Roots & tubers'\n",
    "\n",
    "cereals_crops = crops_continent[crops_continent.Item.isin(cereals)]\n",
    "prod_cereals = cereals_crops.groupby(['Area','Element','Year','Unit']).agg({'Value':'sum'}).reset_index()\n",
    "prod_cereals['Item'] = 'Cereals'\n",
    "\n",
    "coarse_grain_crops = crops_continent[crops_continent.Item.isin(coarse_grain)]\n",
    "prod_coarse_grain = coarse_grain_crops.groupby(['Area','Element','Year','Unit']).agg({'Value':'sum'}).reset_index()\n",
    "prod_coarse_grain['Item'] = 'Coarse grain'\n",
    "\n",
    "coarse_grain_crops = crops_continent[crops_continent.Item.isin(coarse_grain)]\n",
    "prod_coarse_grain = coarse_grain_crops.groupby(['Area','Element','Year','Unit']).agg({'Value':'sum'}).reset_index()\n",
    "prod_coarse_grain['Item'] = 'Coarse grain'\n",
    "\n",
    "other_crops = crops_continent[crops_continent.Item.isin(others)]\n",
    "prod_other = other_crops.groupby(['Area','Element','Year','Unit']).agg({'Value':'sum'}).reset_index()\n",
    "prod_other['Item'] = 'Other crops'\n",
    "\n",
    "total_crops = crops_continent.groupby(['Area','Element','Year','Unit']).agg({'Value':'sum'}).reset_index()\n",
    "total_crops['Item'] = 'Crops, total'\n",
    "\n",
    "crops_categorized = pd.concat([prod_oil, prod_fruit, prod_veg, prod_roots_tubers, prod_cereals, prod_coarse_grain, prod_other, total_crops], axis=0)\n",
    "crops_categorized"
   ]
  },
  {
   "cell_type": "code",
   "execution_count": null,
   "metadata": {},
   "outputs": [],
   "source": [
    "# Save dataframe to pickles\n",
    "crops_categorized.to_pickle('./data/pickles/crops_categorized.pkl')"
   ]
  },
  {
   "cell_type": "code",
   "execution_count": null,
   "metadata": {},
   "outputs": [],
   "source": []
  },
  {
   "cell_type": "code",
   "execution_count": null,
   "metadata": {},
   "outputs": [],
   "source": []
  },
  {
   "cell_type": "code",
   "execution_count": null,
   "metadata": {},
   "outputs": [],
   "source": []
  }
 ],
 "metadata": {
  "kernelspec": {
   "display_name": "Python 3",
   "language": "python",
   "name": "python3"
  },
  "language_info": {
   "codemirror_mode": {
    "name": "ipython",
    "version": 3
   },
   "file_extension": ".py",
   "mimetype": "text/x-python",
   "name": "python",
   "nbconvert_exporter": "python",
   "pygments_lexer": "ipython3",
   "version": "3.7.3"
  }
 },
 "nbformat": 4,
 "nbformat_minor": 4
}
