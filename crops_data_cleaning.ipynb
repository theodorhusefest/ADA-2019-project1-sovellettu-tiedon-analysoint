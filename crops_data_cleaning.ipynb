{
 "cells": [
  {
   "cell_type": "markdown",
   "metadata": {},
   "source": [
    "## USE THIS DATASET INSTEAD? http://www.fao.org/faostat/en/#data/QC"
   ]
  },
  {
   "cell_type": "code",
   "execution_count": 25,
   "metadata": {},
   "outputs": [],
   "source": [
    "import pandas as pd\n",
    "import numpy as np\n",
    "import matplotlib.pyplot as plt"
   ]
  },
  {
   "cell_type": "code",
   "execution_count": 26,
   "metadata": {},
   "outputs": [
    {
     "data": {
      "text/html": [
       "<div>\n",
       "<style scoped>\n",
       "    .dataframe tbody tr th:only-of-type {\n",
       "        vertical-align: middle;\n",
       "    }\n",
       "\n",
       "    .dataframe tbody tr th {\n",
       "        vertical-align: top;\n",
       "    }\n",
       "\n",
       "    .dataframe thead th {\n",
       "        text-align: right;\n",
       "    }\n",
       "</style>\n",
       "<table border=\"1\" class=\"dataframe\">\n",
       "  <thead>\n",
       "    <tr style=\"text-align: right;\">\n",
       "      <th></th>\n",
       "      <th>country_or_area</th>\n",
       "      <th>element_code</th>\n",
       "      <th>element</th>\n",
       "      <th>year</th>\n",
       "      <th>unit</th>\n",
       "      <th>value</th>\n",
       "      <th>value_footnotes</th>\n",
       "      <th>category</th>\n",
       "    </tr>\n",
       "  </thead>\n",
       "  <tbody>\n",
       "    <tr>\n",
       "      <td>0</td>\n",
       "      <td>Americas +</td>\n",
       "      <td>31</td>\n",
       "      <td>Area Harvested</td>\n",
       "      <td>2007.0</td>\n",
       "      <td>Ha</td>\n",
       "      <td>49404.0</td>\n",
       "      <td>A</td>\n",
       "      <td>agave_fibres_nes</td>\n",
       "    </tr>\n",
       "    <tr>\n",
       "      <td>1</td>\n",
       "      <td>Americas +</td>\n",
       "      <td>31</td>\n",
       "      <td>Area Harvested</td>\n",
       "      <td>2006.0</td>\n",
       "      <td>Ha</td>\n",
       "      <td>49404.0</td>\n",
       "      <td>A</td>\n",
       "      <td>agave_fibres_nes</td>\n",
       "    </tr>\n",
       "    <tr>\n",
       "      <td>2</td>\n",
       "      <td>Americas +</td>\n",
       "      <td>31</td>\n",
       "      <td>Area Harvested</td>\n",
       "      <td>2005.0</td>\n",
       "      <td>Ha</td>\n",
       "      <td>49404.0</td>\n",
       "      <td>A</td>\n",
       "      <td>agave_fibres_nes</td>\n",
       "    </tr>\n",
       "    <tr>\n",
       "      <td>3</td>\n",
       "      <td>Americas +</td>\n",
       "      <td>31</td>\n",
       "      <td>Area Harvested</td>\n",
       "      <td>2004.0</td>\n",
       "      <td>Ha</td>\n",
       "      <td>49113.0</td>\n",
       "      <td>A</td>\n",
       "      <td>agave_fibres_nes</td>\n",
       "    </tr>\n",
       "    <tr>\n",
       "      <td>4</td>\n",
       "      <td>Americas +</td>\n",
       "      <td>31</td>\n",
       "      <td>Area Harvested</td>\n",
       "      <td>2003.0</td>\n",
       "      <td>Ha</td>\n",
       "      <td>48559.0</td>\n",
       "      <td>A</td>\n",
       "      <td>agave_fibres_nes</td>\n",
       "    </tr>\n",
       "  </tbody>\n",
       "</table>\n",
       "</div>"
      ],
      "text/plain": [
       "  country_or_area element_code         element    year unit    value  \\\n",
       "0      Americas +           31  Area Harvested  2007.0   Ha  49404.0   \n",
       "1      Americas +           31  Area Harvested  2006.0   Ha  49404.0   \n",
       "2      Americas +           31  Area Harvested  2005.0   Ha  49404.0   \n",
       "3      Americas +           31  Area Harvested  2004.0   Ha  49113.0   \n",
       "4      Americas +           31  Area Harvested  2003.0   Ha  48559.0   \n",
       "\n",
       "  value_footnotes          category  \n",
       "0              A   agave_fibres_nes  \n",
       "1              A   agave_fibres_nes  \n",
       "2              A   agave_fibres_nes  \n",
       "3              A   agave_fibres_nes  \n",
       "4              A   agave_fibres_nes  "
      ]
     },
     "execution_count": 26,
     "metadata": {},
     "output_type": "execute_result"
    }
   ],
   "source": [
    "data = pd.read_csv('raw_data/fao_data_crops_data.csv.zip', compression='zip', header=0, sep=',', quotechar='\"')\n",
    "data.head(5)"
   ]
  },
  {
   "cell_type": "markdown",
   "metadata": {},
   "source": [
    "## Explanation of crops data file\n",
    "\n",
    "Each row of the crops dataset contains data for a certain country/area and year.  \n",
    "There are 8 columns of metadata, which can be seen below.\n",
    "The years span from 1961 to 2007, but some years are undefined.  \n",
    "\n",
    "| Column name         | Explanation          |\n",
    "|---------------------|----------------------|\n",
    "| country_or_area     | Name of country/area |\n",
    "| year                | Unique code for each country/area |\n",
    "| element             | Data classification type |\n",
    "| element_code        | Unique code for each type of Element |\n",
    "| unit                | Unit of measurement |\n",
    "| value               | The value of the measurement |\n",
    "| value_footnote      | Where the data comes from |\n",
    "| category            | Crop category |\n",
    "\n",
    "#### Footnotes\n",
    "The value footnotes used in the dataset have the following explanations:\n",
    "\n",
    "|  Footnote  | Meaning of footnote    |\n",
    "|------------|------------------------|\n",
    "| Fc         | Calculated data        |\n",
    "| A          | Aggregate, may include official, semi-official or estimated or calculated data |\n",
    "| NR         | Not reported by country|\n",
    "| F          | FAO Estimate           |\n",
    "\n",
    "#### Elements\n",
    "- **Area harvested** refer to the area under cultivation. Area under cultivation means the area that corresponds to the total sown area, but after the harvest it excludes ruined areas (e.g. due to natural disasters). If the same land parcel is used twice in the same year, the area of this parcel can be counted twice. \n",
    "- **Production quantity** means the harvested production. Harvested production means production including on-holding losses and wastage, quantities consumed directly on the farm and marketed quantities, indicated in units of basic product weight. *Harvest year* means the calendar year in which the harvest begins. \n",
    "- **Yield** means the harvested production per ha for the area under cultivation. \n",
    "- **Seed** quantity comprises all amounts of the commodity in question used during the reference period for reproductive purposes, such as seed or seedlings. Usually, the average seed rate in any given country does not vary greatly from year to year."
   ]
  },
  {
   "cell_type": "markdown",
   "metadata": {},
   "source": [
    "#### Categories\n",
    "Crop statistics are recorded for 173 products, covering the following categories: Crops Primary, Fibre Crops Primary, Cereals, Coarse Grain, Citrus Fruit, Fruit, Jute Jute-like Fibres, Oilcakes Equivalent, Oil crops Primary, Pulses, Roots and Tubers, Treenuts and Vegetables and Melons. The objective is to comprehensively cover production of all primary crops for all countries and regions in the world. \n",
    "\n",
    "**Cereals**: Area and production data on cereals relate to crops harvested for dry grain only. Cereal crops harvested for hay or harvested green for food, feed or silage or used for grazing are therefore excluded. \n",
    "\n",
    "**Vegetables**, total (including melons): Data relate to vegetable crops grown mainly for human consumption. Crops such as cabbages, pumpkins and carrots, when explicitly cultivated for animal feed, are therefore excluded. Statistics on vegetables are not available in many countries, and the coverage of the reported data differs from country to country. In general, it appears that the data refer to crops grown in field and market gardens mainly for sale, thus excluding crops cultivated in kitchen gardens or small family gardens mainly for household consumption.\n",
    "\n",
    "**Fruit**, total (excluding melons): Data refer to total production of fresh fruit, whether finally used for direct consumption for food or feed, or processed into different products: dry fruit, juice, jam, alcohol, etc. Generally, production data relate to plantation crops or orchard crops grown mainly for sale. Data on production from scattered trees used mainly for home consumption are not usually collected. Production from wild plants, particularly berries, which is of some importance in certain countries, is generally disregarded by national statistical services. Therefore, the data for the various fruits and berries are rather incomplete. Dates, plantains and total grapes are included in the “total fruit” aggregated figures, while olives are excluded.\n",
    "\n",
    "**Bananas and plantains**: Figures on bananas refer, as far as possible, to all edible fruit-bearing species of the genus Musa except Musa paradisiaca, commonly known as plantain. Unfortunately, several countries make no distinction in their statistics between bananas and plantains and publish only overall estimates. When this occurs and there is some indication or assumption that the data reported refer mainly to bananas, the data are included. The production data on bananas and plantains reported by the various countries are also difficult to compare because a number of countries report in terms of bunches, which generally means that the stalk is included in the weight.  \n",
    "\n",
    "**Treenuts**, aggregated: Production of nuts (including chestnuts) relates to nuts in the shell or in the husk. Statistics are very scanty and generally refer only to crops for sale. In addition to the kind of nuts shown separately, production data include all other treenuts mainly used as dessert or table nuts, such as pecan nuts, pili nuts, sapucaia nuts and macadamia nuts. Nuts mainly used for flavouring beverages are excludedas are masticatory and stimulant nuts and nuts used mainly for the extraction of oil or butter, including areca/betel nuts, cola nuts, illipe nuts, karate nuts, coconuts, tung nuts, oilpalm nuts etc."
   ]
  },
  {
   "cell_type": "markdown",
   "metadata": {},
   "source": [
    "## Cleaning the data"
   ]
  },
  {
   "cell_type": "markdown",
   "metadata": {},
   "source": [
    "**Renaming**  \n",
    "First of all we rename the columns to fit the other datasets."
   ]
  },
  {
   "cell_type": "code",
   "execution_count": 27,
   "metadata": {},
   "outputs": [],
   "source": [
    "# Rename Columns to match other dataset\n",
    "new_names = {'country_or_area': 'Area', 'element_code': 'Element Code', \n",
    "             'element': 'Element', 'year': 'Year', 'unit': 'Unit', \n",
    "             'value': 'Value', 'value_footnotes': 'Flag', 'category': 'Item'}\n",
    "\n",
    "data.rename(columns = new_names, inplace = True)\n"
   ]
  },
  {
   "cell_type": "markdown",
   "metadata": {},
   "source": [
    "#### Unnecessary rows:\n",
    "The dataset is ordered according to the alphabetical order of the categories and after the end of each Item, there are rows that contain the footnote-descriptions above. We therefore need to remove these rows since they don't contain any useful data."
   ]
  },
  {
   "cell_type": "code",
   "execution_count": 28,
   "metadata": {},
   "outputs": [],
   "source": [
    "# Removing rows that do not contain useful information\n",
    "keep_col = np.logical_not(data.Area.isin(['fnSeqID', 'Fc', 'A ', 'NR', 'F ', '* ']))\n",
    "crops_data = data[keep_col]"
   ]
  },
  {
   "cell_type": "markdown",
   "metadata": {},
   "source": [
    "#### Missing information"
   ]
  },
  {
   "cell_type": "markdown",
   "metadata": {},
   "source": [
    "Are we now missing any information in our datasets?"
   ]
  },
  {
   "cell_type": "code",
   "execution_count": 29,
   "metadata": {},
   "outputs": [
    {
     "name": "stdout",
     "output_type": "stream",
     "text": [
      "Missing information in country based dataset: \n",
      " Area                 0\n",
      "Element Code         0\n",
      "Element              0\n",
      "Year                 0\n",
      "Unit                 0\n",
      "Value                0\n",
      "Flag            478418\n",
      "Item                 0\n",
      "dtype: int64\n"
     ]
    }
   ],
   "source": [
    "print(\"Missing information in country based dataset: \\n\", crops_data.isna().sum())"
   ]
  },
  {
   "cell_type": "markdown",
   "metadata": {},
   "source": [
    "We can see that a lot of value footnotes have missing information. Can we find something in common for these missing values?"
   ]
  },
  {
   "cell_type": "code",
   "execution_count": 30,
   "metadata": {},
   "outputs": [
    {
     "name": "stdout",
     "output_type": "stream",
     "text": [
      "Number of unique countries included in missing data:  217\n",
      "Number of unique elements included in missing data:  4\n",
      "Number of unique years included in missing data:  47\n",
      "Number of unique categories included in missing data:  158\n",
      "Number of unique units included in missing data:  3\n"
     ]
    }
   ],
   "source": [
    "missing_values = crops_data[crops_data.Flag.isna()]\n",
    "print(\"Number of unique countries included in missing data: \", missing_values.Area.unique().shape[0])\n",
    "print(\"Number of unique elements included in missing data: \", missing_values.Element.unique().shape[0])\n",
    "print(\"Number of unique years included in missing data: \", missing_values.Year.unique().shape[0])\n",
    "print(\"Number of unique categories included in missing data: \", missing_values.Item.unique().shape[0])\n",
    "print(\"Number of unique units included in missing data: \", missing_values.Unit.unique().shape[0])"
   ]
  },
  {
   "cell_type": "markdown",
   "metadata": {},
   "source": [
    "We aren't able to detect if the missing data follows a general rule. The missing data seems to occur in many different cases."
   ]
  },
  {
   "cell_type": "markdown",
   "metadata": {},
   "source": [
    "#### Elements"
   ]
  },
  {
   "cell_type": "code",
   "execution_count": 31,
   "metadata": {},
   "outputs": [
    {
     "ename": "KeyError",
     "evalue": "'Element Code'",
     "output_type": "error",
     "traceback": [
      "\u001b[0;31m---------------------------------------------------------------------------\u001b[0m",
      "\u001b[0;31mKeyError\u001b[0m                                  Traceback (most recent call last)",
      "\u001b[0;32m<ipython-input-31-01f44e4853cb>\u001b[0m in \u001b[0;36m<module>\u001b[0;34m\u001b[0m\n\u001b[1;32m     10\u001b[0m \u001b[0;34m\u001b[0m\u001b[0m\n\u001b[1;32m     11\u001b[0m \u001b[0;31m# Group by element code and element to see what these columns represent\u001b[0m\u001b[0;34m\u001b[0m\u001b[0;34m\u001b[0m\u001b[0;34m\u001b[0m\u001b[0m\n\u001b[0;32m---> 12\u001b[0;31m \u001b[0mcrops_continent\u001b[0m\u001b[0;34m.\u001b[0m\u001b[0mgroupby\u001b[0m\u001b[0;34m(\u001b[0m\u001b[0;34m[\u001b[0m\u001b[0;34m'Element Code'\u001b[0m\u001b[0;34m,\u001b[0m \u001b[0;34m'Element'\u001b[0m\u001b[0;34m]\u001b[0m\u001b[0;34m)\u001b[0m\u001b[0;31m\\\u001b[0m\u001b[0;34m\u001b[0m\u001b[0;34m\u001b[0m\u001b[0m\n\u001b[0m\u001b[1;32m     13\u001b[0m              \u001b[0;34m.\u001b[0m\u001b[0magg\u001b[0m\u001b[0;34m(\u001b[0m\u001b[0;34m{\u001b[0m\u001b[0;34m'value'\u001b[0m\u001b[0;34m:\u001b[0m\u001b[0;34m'sum'\u001b[0m\u001b[0;34m,\u001b[0m \u001b[0;34m'Unit'\u001b[0m\u001b[0;34m:\u001b[0m\u001b[0;34m'unique'\u001b[0m\u001b[0;34m,\u001b[0m \u001b[0;34m'Year'\u001b[0m\u001b[0;34m:\u001b[0m\u001b[0magg_year\u001b[0m\u001b[0;34m,\u001b[0m \u001b[0;34m'continent'\u001b[0m\u001b[0;34m:\u001b[0m\u001b[0mcount_unique_area\u001b[0m\u001b[0;34m}\u001b[0m\u001b[0;34m)\u001b[0m\u001b[0;31m\\\u001b[0m\u001b[0;34m\u001b[0m\u001b[0;34m\u001b[0m\u001b[0m\n\u001b[1;32m     14\u001b[0m              \u001b[0;34m.\u001b[0m\u001b[0msort_values\u001b[0m\u001b[0;34m(\u001b[0m\u001b[0mby\u001b[0m\u001b[0;34m=\u001b[0m\u001b[0;34m'Value'\u001b[0m\u001b[0;34m,\u001b[0m \u001b[0mascending\u001b[0m\u001b[0;34m=\u001b[0m\u001b[0;32mFalse\u001b[0m\u001b[0;34m)\u001b[0m\u001b[0;34m\u001b[0m\u001b[0;34m\u001b[0m\u001b[0m\n",
      "\u001b[0;32m~/anaconda3/envs/ada/lib/python3.7/site-packages/pandas/core/generic.py\u001b[0m in \u001b[0;36mgroupby\u001b[0;34m(self, by, axis, level, as_index, sort, group_keys, squeeze, observed, **kwargs)\u001b[0m\n\u001b[1;32m   7892\u001b[0m             \u001b[0msqueeze\u001b[0m\u001b[0;34m=\u001b[0m\u001b[0msqueeze\u001b[0m\u001b[0;34m,\u001b[0m\u001b[0;34m\u001b[0m\u001b[0;34m\u001b[0m\u001b[0m\n\u001b[1;32m   7893\u001b[0m             \u001b[0mobserved\u001b[0m\u001b[0;34m=\u001b[0m\u001b[0mobserved\u001b[0m\u001b[0;34m,\u001b[0m\u001b[0;34m\u001b[0m\u001b[0;34m\u001b[0m\u001b[0m\n\u001b[0;32m-> 7894\u001b[0;31m             \u001b[0;34m**\u001b[0m\u001b[0mkwargs\u001b[0m\u001b[0;34m\u001b[0m\u001b[0;34m\u001b[0m\u001b[0m\n\u001b[0m\u001b[1;32m   7895\u001b[0m         )\n\u001b[1;32m   7896\u001b[0m \u001b[0;34m\u001b[0m\u001b[0m\n",
      "\u001b[0;32m~/anaconda3/envs/ada/lib/python3.7/site-packages/pandas/core/groupby/groupby.py\u001b[0m in \u001b[0;36mgroupby\u001b[0;34m(obj, by, **kwds)\u001b[0m\n\u001b[1;32m   2520\u001b[0m         \u001b[0;32mraise\u001b[0m \u001b[0mTypeError\u001b[0m\u001b[0;34m(\u001b[0m\u001b[0;34m\"invalid type: {}\"\u001b[0m\u001b[0;34m.\u001b[0m\u001b[0mformat\u001b[0m\u001b[0;34m(\u001b[0m\u001b[0mobj\u001b[0m\u001b[0;34m)\u001b[0m\u001b[0;34m)\u001b[0m\u001b[0;34m\u001b[0m\u001b[0;34m\u001b[0m\u001b[0m\n\u001b[1;32m   2521\u001b[0m \u001b[0;34m\u001b[0m\u001b[0m\n\u001b[0;32m-> 2522\u001b[0;31m     \u001b[0;32mreturn\u001b[0m \u001b[0mklass\u001b[0m\u001b[0;34m(\u001b[0m\u001b[0mobj\u001b[0m\u001b[0;34m,\u001b[0m \u001b[0mby\u001b[0m\u001b[0;34m,\u001b[0m \u001b[0;34m**\u001b[0m\u001b[0mkwds\u001b[0m\u001b[0;34m)\u001b[0m\u001b[0;34m\u001b[0m\u001b[0;34m\u001b[0m\u001b[0m\n\u001b[0m",
      "\u001b[0;32m~/anaconda3/envs/ada/lib/python3.7/site-packages/pandas/core/groupby/groupby.py\u001b[0m in \u001b[0;36m__init__\u001b[0;34m(self, obj, keys, axis, level, grouper, exclusions, selection, as_index, sort, group_keys, squeeze, observed, **kwargs)\u001b[0m\n\u001b[1;32m    389\u001b[0m                 \u001b[0msort\u001b[0m\u001b[0;34m=\u001b[0m\u001b[0msort\u001b[0m\u001b[0;34m,\u001b[0m\u001b[0;34m\u001b[0m\u001b[0;34m\u001b[0m\u001b[0m\n\u001b[1;32m    390\u001b[0m                 \u001b[0mobserved\u001b[0m\u001b[0;34m=\u001b[0m\u001b[0mobserved\u001b[0m\u001b[0;34m,\u001b[0m\u001b[0;34m\u001b[0m\u001b[0;34m\u001b[0m\u001b[0m\n\u001b[0;32m--> 391\u001b[0;31m                 \u001b[0mmutated\u001b[0m\u001b[0;34m=\u001b[0m\u001b[0mself\u001b[0m\u001b[0;34m.\u001b[0m\u001b[0mmutated\u001b[0m\u001b[0;34m,\u001b[0m\u001b[0;34m\u001b[0m\u001b[0;34m\u001b[0m\u001b[0m\n\u001b[0m\u001b[1;32m    392\u001b[0m             )\n\u001b[1;32m    393\u001b[0m \u001b[0;34m\u001b[0m\u001b[0m\n",
      "\u001b[0;32m~/anaconda3/envs/ada/lib/python3.7/site-packages/pandas/core/groupby/grouper.py\u001b[0m in \u001b[0;36m_get_grouper\u001b[0;34m(obj, key, axis, level, sort, observed, mutated, validate)\u001b[0m\n\u001b[1;32m    619\u001b[0m                 \u001b[0min_axis\u001b[0m\u001b[0;34m,\u001b[0m \u001b[0mname\u001b[0m\u001b[0;34m,\u001b[0m \u001b[0mlevel\u001b[0m\u001b[0;34m,\u001b[0m \u001b[0mgpr\u001b[0m \u001b[0;34m=\u001b[0m \u001b[0;32mFalse\u001b[0m\u001b[0;34m,\u001b[0m \u001b[0;32mNone\u001b[0m\u001b[0;34m,\u001b[0m \u001b[0mgpr\u001b[0m\u001b[0;34m,\u001b[0m \u001b[0;32mNone\u001b[0m\u001b[0;34m\u001b[0m\u001b[0;34m\u001b[0m\u001b[0m\n\u001b[1;32m    620\u001b[0m             \u001b[0;32melse\u001b[0m\u001b[0;34m:\u001b[0m\u001b[0;34m\u001b[0m\u001b[0;34m\u001b[0m\u001b[0m\n\u001b[0;32m--> 621\u001b[0;31m                 \u001b[0;32mraise\u001b[0m \u001b[0mKeyError\u001b[0m\u001b[0;34m(\u001b[0m\u001b[0mgpr\u001b[0m\u001b[0;34m)\u001b[0m\u001b[0;34m\u001b[0m\u001b[0;34m\u001b[0m\u001b[0m\n\u001b[0m\u001b[1;32m    622\u001b[0m         \u001b[0;32melif\u001b[0m \u001b[0misinstance\u001b[0m\u001b[0;34m(\u001b[0m\u001b[0mgpr\u001b[0m\u001b[0;34m,\u001b[0m \u001b[0mGrouper\u001b[0m\u001b[0;34m)\u001b[0m \u001b[0;32mand\u001b[0m \u001b[0mgpr\u001b[0m\u001b[0;34m.\u001b[0m\u001b[0mkey\u001b[0m \u001b[0;32mis\u001b[0m \u001b[0;32mnot\u001b[0m \u001b[0;32mNone\u001b[0m\u001b[0;34m:\u001b[0m\u001b[0;34m\u001b[0m\u001b[0;34m\u001b[0m\u001b[0m\n\u001b[1;32m    623\u001b[0m             \u001b[0;31m# Add key to exclusions\u001b[0m\u001b[0;34m\u001b[0m\u001b[0;34m\u001b[0m\u001b[0;34m\u001b[0m\u001b[0m\n",
      "\u001b[0;31mKeyError\u001b[0m: 'Element Code'"
     ]
    }
   ],
   "source": [
    "# Aggregate year column to 'min - max' year\n",
    "def agg_year(series):\n",
    "    min_year = int(series.min())\n",
    "    max_year = int(series.max())\n",
    "    return '{} to {}'.format(min_year, max_year)\n",
    "\n",
    "# Examine the different countries\n",
    "def count_unique_area(series):\n",
    "    return len(series.unique())\n",
    "\n",
    "# Group by element code and element to see what these columns represent \n",
    "crops_continent.groupby(['Element Code', 'Element'])\\\n",
    "             .agg({'value':'sum', 'Unit':'unique', 'Year':agg_year, 'continent':count_unique_area})\\\n",
    "             .sort_values(by='Value', ascending=False)"
   ]
  },
  {
   "cell_type": "markdown",
   "metadata": {},
   "source": [
    "By taking the sum of all values and sorting we see that 51-Production quantity has the greatest value. We can observe that, depending one the element, we have different number of unique countries in that column"
   ]
  },
  {
   "cell_type": "markdown",
   "metadata": {},
   "source": [
    "**Observation:** Are the elements apart form Production Quantity, Area Harvested, Seed and Yield really necessary?"
   ]
  },
  {
   "cell_type": "markdown",
   "metadata": {},
   "source": [
    "#### Element codes > 140"
   ]
  },
  {
   "cell_type": "code",
   "execution_count": 32,
   "metadata": {},
   "outputs": [
    {
     "name": "stdout",
     "output_type": "stream",
     "text": [
      "Number of countries in this data:  222\n"
     ]
    },
    {
     "data": {
      "text/html": [
       "<div>\n",
       "<style scoped>\n",
       "    .dataframe tbody tr th:only-of-type {\n",
       "        vertical-align: middle;\n",
       "    }\n",
       "\n",
       "    .dataframe tbody tr th {\n",
       "        vertical-align: top;\n",
       "    }\n",
       "\n",
       "    .dataframe thead th {\n",
       "        text-align: right;\n",
       "    }\n",
       "</style>\n",
       "<table border=\"1\" class=\"dataframe\">\n",
       "  <thead>\n",
       "    <tr style=\"text-align: right;\">\n",
       "      <th></th>\n",
       "      <th>Area</th>\n",
       "      <th>Element Code</th>\n",
       "      <th>Element</th>\n",
       "      <th>Year</th>\n",
       "      <th>Unit</th>\n",
       "      <th>Value</th>\n",
       "      <th>Flag</th>\n",
       "      <th>Item</th>\n",
       "    </tr>\n",
       "  </thead>\n",
       "  <tbody>\n",
       "    <tr>\n",
       "      <td>364540</td>\n",
       "      <td>Afghanistan</td>\n",
       "      <td>152</td>\n",
       "      <td>Gross Production 1999-2001 (1000 I$)</td>\n",
       "      <td>2007.0</td>\n",
       "      <td>1000 Int. $</td>\n",
       "      <td>896908.0</td>\n",
       "      <td>A</td>\n",
       "      <td>cereals_total</td>\n",
       "    </tr>\n",
       "    <tr>\n",
       "      <td>364541</td>\n",
       "      <td>Afghanistan</td>\n",
       "      <td>152</td>\n",
       "      <td>Gross Production 1999-2001 (1000 I$)</td>\n",
       "      <td>2006.0</td>\n",
       "      <td>1000 Int. $</td>\n",
       "      <td>718798.0</td>\n",
       "      <td>A</td>\n",
       "      <td>cereals_total</td>\n",
       "    </tr>\n",
       "    <tr>\n",
       "      <td>364542</td>\n",
       "      <td>Afghanistan</td>\n",
       "      <td>152</td>\n",
       "      <td>Gross Production 1999-2001 (1000 I$)</td>\n",
       "      <td>2005.0</td>\n",
       "      <td>1000 Int. $</td>\n",
       "      <td>841895.0</td>\n",
       "      <td>A</td>\n",
       "      <td>cereals_total</td>\n",
       "    </tr>\n",
       "    <tr>\n",
       "      <td>364543</td>\n",
       "      <td>Afghanistan</td>\n",
       "      <td>152</td>\n",
       "      <td>Gross Production 1999-2001 (1000 I$)</td>\n",
       "      <td>2004.0</td>\n",
       "      <td>1000 Int. $</td>\n",
       "      <td>549037.0</td>\n",
       "      <td>A</td>\n",
       "      <td>cereals_total</td>\n",
       "    </tr>\n",
       "    <tr>\n",
       "      <td>364544</td>\n",
       "      <td>Afghanistan</td>\n",
       "      <td>152</td>\n",
       "      <td>Gross Production 1999-2001 (1000 I$)</td>\n",
       "      <td>2003.0</td>\n",
       "      <td>1000 Int. $</td>\n",
       "      <td>685931.0</td>\n",
       "      <td>A</td>\n",
       "      <td>cereals_total</td>\n",
       "    </tr>\n",
       "    <tr>\n",
       "      <td>...</td>\n",
       "      <td>...</td>\n",
       "      <td>...</td>\n",
       "      <td>...</td>\n",
       "      <td>...</td>\n",
       "      <td>...</td>\n",
       "      <td>...</td>\n",
       "      <td>...</td>\n",
       "      <td>...</td>\n",
       "    </tr>\n",
       "    <tr>\n",
       "      <td>457415</td>\n",
       "      <td>Zimbabwe</td>\n",
       "      <td>438</td>\n",
       "      <td>Net per capita PIN (base 1999-2001)</td>\n",
       "      <td>1965.0</td>\n",
       "      <td>Int. $</td>\n",
       "      <td>155.0</td>\n",
       "      <td>A</td>\n",
       "      <td>cereals_total</td>\n",
       "    </tr>\n",
       "    <tr>\n",
       "      <td>457416</td>\n",
       "      <td>Zimbabwe</td>\n",
       "      <td>438</td>\n",
       "      <td>Net per capita PIN (base 1999-2001)</td>\n",
       "      <td>1964.0</td>\n",
       "      <td>Int. $</td>\n",
       "      <td>146.0</td>\n",
       "      <td>A</td>\n",
       "      <td>cereals_total</td>\n",
       "    </tr>\n",
       "    <tr>\n",
       "      <td>457417</td>\n",
       "      <td>Zimbabwe</td>\n",
       "      <td>438</td>\n",
       "      <td>Net per capita PIN (base 1999-2001)</td>\n",
       "      <td>1963.0</td>\n",
       "      <td>Int. $</td>\n",
       "      <td>151.0</td>\n",
       "      <td>A</td>\n",
       "      <td>cereals_total</td>\n",
       "    </tr>\n",
       "    <tr>\n",
       "      <td>457418</td>\n",
       "      <td>Zimbabwe</td>\n",
       "      <td>438</td>\n",
       "      <td>Net per capita PIN (base 1999-2001)</td>\n",
       "      <td>1962.0</td>\n",
       "      <td>Int. $</td>\n",
       "      <td>184.0</td>\n",
       "      <td>A</td>\n",
       "      <td>cereals_total</td>\n",
       "    </tr>\n",
       "    <tr>\n",
       "      <td>457419</td>\n",
       "      <td>Zimbabwe</td>\n",
       "      <td>438</td>\n",
       "      <td>Net per capita PIN (base 1999-2001)</td>\n",
       "      <td>1961.0</td>\n",
       "      <td>Int. $</td>\n",
       "      <td>191.0</td>\n",
       "      <td>A</td>\n",
       "      <td>cereals_total</td>\n",
       "    </tr>\n",
       "  </tbody>\n",
       "</table>\n",
       "<p>55378 rows × 8 columns</p>\n",
       "</div>"
      ],
      "text/plain": [
       "               Area Element Code                               Element  \\\n",
       "364540  Afghanistan          152  Gross Production 1999-2001 (1000 I$)   \n",
       "364541  Afghanistan          152  Gross Production 1999-2001 (1000 I$)   \n",
       "364542  Afghanistan          152  Gross Production 1999-2001 (1000 I$)   \n",
       "364543  Afghanistan          152  Gross Production 1999-2001 (1000 I$)   \n",
       "364544  Afghanistan          152  Gross Production 1999-2001 (1000 I$)   \n",
       "...             ...          ...                                   ...   \n",
       "457415     Zimbabwe          438   Net per capita PIN (base 1999-2001)   \n",
       "457416     Zimbabwe          438   Net per capita PIN (base 1999-2001)   \n",
       "457417     Zimbabwe          438   Net per capita PIN (base 1999-2001)   \n",
       "457418     Zimbabwe          438   Net per capita PIN (base 1999-2001)   \n",
       "457419     Zimbabwe          438   Net per capita PIN (base 1999-2001)   \n",
       "\n",
       "          Year         Unit     Value Flag           Item  \n",
       "364540  2007.0  1000 Int. $  896908.0   A   cereals_total  \n",
       "364541  2006.0  1000 Int. $  718798.0   A   cereals_total  \n",
       "364542  2005.0  1000 Int. $  841895.0   A   cereals_total  \n",
       "364543  2004.0  1000 Int. $  549037.0   A   cereals_total  \n",
       "364544  2003.0  1000 Int. $  685931.0   A   cereals_total  \n",
       "...        ...          ...       ...  ...            ...  \n",
       "457415  1965.0       Int. $     155.0   A   cereals_total  \n",
       "457416  1964.0       Int. $     146.0   A   cereals_total  \n",
       "457417  1963.0       Int. $     151.0   A   cereals_total  \n",
       "457418  1962.0       Int. $     184.0   A   cereals_total  \n",
       "457419  1961.0       Int. $     191.0   A   cereals_total  \n",
       "\n",
       "[55378 rows x 8 columns]"
      ]
     },
     "execution_count": 32,
     "metadata": {},
     "output_type": "execute_result"
    }
   ],
   "source": [
    "elem_codes = ['152', '154', '434', '438', '432', '436']\n",
    "study_data = crops_data[crops_data['Element Code'].isin(elem_codes)]\n",
    "print(\"Number of countries in this data: \", study_data.Area.unique().shape[0])\n",
    "study_data"
   ]
  },
  {
   "cell_type": "markdown",
   "metadata": {},
   "source": [
    "From what we can see in the new dataset that only contain these elements, both the rows in the beginning and end have the Item cereals_total. Is this the only Item?"
   ]
  },
  {
   "cell_type": "code",
   "execution_count": 33,
   "metadata": {},
   "outputs": [
    {
     "data": {
      "text/plain": [
       "array(['cereals_total'], dtype=object)"
      ]
     },
     "execution_count": 33,
     "metadata": {},
     "output_type": "execute_result"
    }
   ],
   "source": [
    "study_data.Item.unique()"
   ]
  },
  {
   "cell_type": "markdown",
   "metadata": {},
   "source": [
    "Apparently so. Does this catgory exist for the other type of elements as well? Because if it does, we should be able to remove the elements with codes 152-438 from our dataset."
   ]
  },
  {
   "cell_type": "code",
   "execution_count": 34,
   "metadata": {},
   "outputs": [
    {
     "name": "stdout",
     "output_type": "stream",
     "text": [
      "Number of countries in this data:  225\n"
     ]
    },
    {
     "data": {
      "text/plain": [
       "array(['111', '31', '41', '51'], dtype=object)"
      ]
     },
     "execution_count": 34,
     "metadata": {},
     "output_type": "execute_result"
    }
   ],
   "source": [
    "study_data_2 = crops_data[crops_data.Item.str.contains('cereals_total')]\n",
    "study_data_2 = study_data_2[np.logical_not(study_data_2['Element Code'].isin(elem_codes))]\n",
    "print(\"Number of countries in this data: \", study_data_2.Area.unique().shape[0])\n",
    "study_data_2['Element Code'].unique()"
   ]
  },
  {
   "cell_type": "markdown",
   "metadata": {},
   "source": [
    "We can now see that the data for the Item 'cereals_total' with element codes > 140 are subgroups of element codes < 140. We can therefore remove this data from our dataset."
   ]
  },
  {
   "cell_type": "code",
   "execution_count": 35,
   "metadata": {},
   "outputs": [
    {
     "data": {
      "text/html": [
       "<div>\n",
       "<style scoped>\n",
       "    .dataframe tbody tr th:only-of-type {\n",
       "        vertical-align: middle;\n",
       "    }\n",
       "\n",
       "    .dataframe tbody tr th {\n",
       "        vertical-align: top;\n",
       "    }\n",
       "\n",
       "    .dataframe thead th {\n",
       "        text-align: right;\n",
       "    }\n",
       "</style>\n",
       "<table border=\"1\" class=\"dataframe\">\n",
       "  <thead>\n",
       "    <tr style=\"text-align: right;\">\n",
       "      <th></th>\n",
       "      <th>Area</th>\n",
       "      <th>Element Code</th>\n",
       "      <th>Element</th>\n",
       "      <th>Year</th>\n",
       "      <th>Unit</th>\n",
       "      <th>Value</th>\n",
       "      <th>Flag</th>\n",
       "      <th>Item</th>\n",
       "    </tr>\n",
       "  </thead>\n",
       "  <tbody>\n",
       "    <tr>\n",
       "      <td>0</td>\n",
       "      <td>Americas +</td>\n",
       "      <td>31</td>\n",
       "      <td>Area Harvested</td>\n",
       "      <td>2007.0</td>\n",
       "      <td>Ha</td>\n",
       "      <td>49404.0</td>\n",
       "      <td>A</td>\n",
       "      <td>agave_fibres_nes</td>\n",
       "    </tr>\n",
       "    <tr>\n",
       "      <td>1</td>\n",
       "      <td>Americas +</td>\n",
       "      <td>31</td>\n",
       "      <td>Area Harvested</td>\n",
       "      <td>2006.0</td>\n",
       "      <td>Ha</td>\n",
       "      <td>49404.0</td>\n",
       "      <td>A</td>\n",
       "      <td>agave_fibres_nes</td>\n",
       "    </tr>\n",
       "    <tr>\n",
       "      <td>2</td>\n",
       "      <td>Americas +</td>\n",
       "      <td>31</td>\n",
       "      <td>Area Harvested</td>\n",
       "      <td>2005.0</td>\n",
       "      <td>Ha</td>\n",
       "      <td>49404.0</td>\n",
       "      <td>A</td>\n",
       "      <td>agave_fibres_nes</td>\n",
       "    </tr>\n",
       "    <tr>\n",
       "      <td>3</td>\n",
       "      <td>Americas +</td>\n",
       "      <td>31</td>\n",
       "      <td>Area Harvested</td>\n",
       "      <td>2004.0</td>\n",
       "      <td>Ha</td>\n",
       "      <td>49113.0</td>\n",
       "      <td>A</td>\n",
       "      <td>agave_fibres_nes</td>\n",
       "    </tr>\n",
       "    <tr>\n",
       "      <td>4</td>\n",
       "      <td>Americas +</td>\n",
       "      <td>31</td>\n",
       "      <td>Area Harvested</td>\n",
       "      <td>2003.0</td>\n",
       "      <td>Ha</td>\n",
       "      <td>48559.0</td>\n",
       "      <td>A</td>\n",
       "      <td>agave_fibres_nes</td>\n",
       "    </tr>\n",
       "    <tr>\n",
       "      <td>...</td>\n",
       "      <td>...</td>\n",
       "      <td>...</td>\n",
       "      <td>...</td>\n",
       "      <td>...</td>\n",
       "      <td>...</td>\n",
       "      <td>...</td>\n",
       "      <td>...</td>\n",
       "      <td>...</td>\n",
       "    </tr>\n",
       "    <tr>\n",
       "      <td>2255338</td>\n",
       "      <td>World +</td>\n",
       "      <td>51</td>\n",
       "      <td>Production Quantity</td>\n",
       "      <td>1965.0</td>\n",
       "      <td>tonnes</td>\n",
       "      <td>150123.0</td>\n",
       "      <td>A</td>\n",
       "      <td>yautia_cocoyam</td>\n",
       "    </tr>\n",
       "    <tr>\n",
       "      <td>2255339</td>\n",
       "      <td>World +</td>\n",
       "      <td>51</td>\n",
       "      <td>Production Quantity</td>\n",
       "      <td>1964.0</td>\n",
       "      <td>tonnes</td>\n",
       "      <td>143203.0</td>\n",
       "      <td>A</td>\n",
       "      <td>yautia_cocoyam</td>\n",
       "    </tr>\n",
       "    <tr>\n",
       "      <td>2255340</td>\n",
       "      <td>World +</td>\n",
       "      <td>51</td>\n",
       "      <td>Production Quantity</td>\n",
       "      <td>1963.0</td>\n",
       "      <td>tonnes</td>\n",
       "      <td>142094.0</td>\n",
       "      <td>A</td>\n",
       "      <td>yautia_cocoyam</td>\n",
       "    </tr>\n",
       "    <tr>\n",
       "      <td>2255341</td>\n",
       "      <td>World +</td>\n",
       "      <td>51</td>\n",
       "      <td>Production Quantity</td>\n",
       "      <td>1962.0</td>\n",
       "      <td>tonnes</td>\n",
       "      <td>123840.0</td>\n",
       "      <td>A</td>\n",
       "      <td>yautia_cocoyam</td>\n",
       "    </tr>\n",
       "    <tr>\n",
       "      <td>2255342</td>\n",
       "      <td>World +</td>\n",
       "      <td>51</td>\n",
       "      <td>Production Quantity</td>\n",
       "      <td>1961.0</td>\n",
       "      <td>tonnes</td>\n",
       "      <td>117284.0</td>\n",
       "      <td>A</td>\n",
       "      <td>yautia_cocoyam</td>\n",
       "    </tr>\n",
       "  </tbody>\n",
       "</table>\n",
       "<p>2199007 rows × 8 columns</p>\n",
       "</div>"
      ],
      "text/plain": [
       "               Area Element Code              Element    Year    Unit  \\\n",
       "0        Americas +           31       Area Harvested  2007.0      Ha   \n",
       "1        Americas +           31       Area Harvested  2006.0      Ha   \n",
       "2        Americas +           31       Area Harvested  2005.0      Ha   \n",
       "3        Americas +           31       Area Harvested  2004.0      Ha   \n",
       "4        Americas +           31       Area Harvested  2003.0      Ha   \n",
       "...             ...          ...                  ...     ...     ...   \n",
       "2255338     World +           51  Production Quantity  1965.0  tonnes   \n",
       "2255339     World +           51  Production Quantity  1964.0  tonnes   \n",
       "2255340     World +           51  Production Quantity  1963.0  tonnes   \n",
       "2255341     World +           51  Production Quantity  1962.0  tonnes   \n",
       "2255342     World +           51  Production Quantity  1961.0  tonnes   \n",
       "\n",
       "            Value Flag              Item  \n",
       "0         49404.0   A   agave_fibres_nes  \n",
       "1         49404.0   A   agave_fibres_nes  \n",
       "2         49404.0   A   agave_fibres_nes  \n",
       "3         49113.0   A   agave_fibres_nes  \n",
       "4         48559.0   A   agave_fibres_nes  \n",
       "...           ...  ...               ...  \n",
       "2255338  150123.0   A     yautia_cocoyam  \n",
       "2255339  143203.0   A     yautia_cocoyam  \n",
       "2255340  142094.0   A     yautia_cocoyam  \n",
       "2255341  123840.0   A     yautia_cocoyam  \n",
       "2255342  117284.0   A     yautia_cocoyam  \n",
       "\n",
       "[2199007 rows x 8 columns]"
      ]
     },
     "execution_count": 35,
     "metadata": {},
     "output_type": "execute_result"
    }
   ],
   "source": [
    "# Drop rows with element codes > 140\n",
    "drop_col = np.logical_not(crops_data['Element Code'].isin(elem_codes))\n",
    "crops_data = crops_data[drop_col]\n",
    "crops_data"
   ]
  },
  {
   "cell_type": "markdown",
   "metadata": {},
   "source": [
    "#### Names with '+'"
   ]
  },
  {
   "cell_type": "markdown",
   "metadata": {},
   "source": [
    "There are countries/areas that contain a '+' at the end of the name. What names contain this sign and what do they have in common?"
   ]
  },
  {
   "cell_type": "code",
   "execution_count": 36,
   "metadata": {},
   "outputs": [
    {
     "data": {
      "text/plain": [
       "array(['Americas +', 'Asia +', 'Caribbean +', 'Central America +',\n",
       "       'Low Income Food Deficit Countries +',\n",
       "       'Net Food Importing Developing Countries +',\n",
       "       'Small Island Developing States +', 'South America +',\n",
       "       'South-Eastern Asia +', 'World +', 'Africa +',\n",
       "       'Australia and New Zealand +', 'Central Asia +', 'Eastern Asia +',\n",
       "       'Eastern Europe +', 'Europe +', 'European Union +',\n",
       "       'LandLocked developing countries +', 'Least Developed Countries +',\n",
       "       'Northern Africa +', 'Northern America +', 'Oceania +',\n",
       "       'Southern Africa +', 'Southern Asia +', 'Southern Europe +',\n",
       "       'Western Africa +', 'Western Asia +', 'Western Europe +',\n",
       "       'Eastern Africa +', 'Northern Europe +', 'Middle Africa +',\n",
       "       'Micronesia +', 'Polynesia +', 'Melanesia +'], dtype=object)"
      ]
     },
     "execution_count": 36,
     "metadata": {},
     "output_type": "execute_result"
    }
   ],
   "source": [
    "# Examining what names contain '?'\n",
    "country_series = crops_data.Area\n",
    "names_with_sign = country_series[country_series.str.endswith('+')]\n",
    "names_with_sign.unique()"
   ]
  },
  {
   "cell_type": "markdown",
   "metadata": {},
   "source": [
    "All of the country/area names that contain a '+' at the end are all areas. We can therefore divide the dataset into several groups: one with all countries, one with all continents and one with the remaining areas."
   ]
  },
  {
   "cell_type": "markdown",
   "metadata": {},
   "source": [
    "## Splitting the dataset "
   ]
  },
  {
   "cell_type": "code",
   "execution_count": 38,
   "metadata": {},
   "outputs": [
    {
     "name": "stdout",
     "output_type": "stream",
     "text": [
      "Number of unique countries: 219\n",
      "Number of unique continents: 6\n",
      "Number of unique areas: 28\n"
     ]
    }
   ],
   "source": [
    "# Splitting crops_data into country, continent and area based sets and renaming Area column\n",
    "\n",
    "crops_country = crops_data[np.logical_not(country_series.str.endswith('+'))].rename({'Area': 'Area'}, axis=1)\n",
    "crops_remain = crops_data[country_series.str.endswith('+')]\n",
    "\n",
    "# Remove last two characters from continent/area name\n",
    "crops_remain.Area = crops_remain.Area.str[:-2]\n",
    "\n",
    "continents = ['Africa', 'Northern America', 'South America', 'Asia', 'Oceania', 'Europe']\n",
    "is_continent = crops_remain.Area.isin(continents)\n",
    "\n",
    "crops_continent = crops_remain[is_continent].rename({'Area': 'Area'}, axis=1)\n",
    "crops_area = crops_remain[np.logical_not(is_continent)].rename({'Area': 'Area'}, axis=1)\n",
    "\n",
    "print('Number of unique countries:', crops_country.Area.unique().shape[0])\n",
    "print('Number of unique continents:', crops_continent.Area.unique().shape[0])\n",
    "print('Number of unique areas:', crops_area.Area.unique().shape[0])"
   ]
  },
  {
   "cell_type": "code",
   "execution_count": 39,
   "metadata": {},
   "outputs": [
    {
     "data": {
      "text/html": [
       "<div>\n",
       "<style scoped>\n",
       "    .dataframe tbody tr th:only-of-type {\n",
       "        vertical-align: middle;\n",
       "    }\n",
       "\n",
       "    .dataframe tbody tr th {\n",
       "        vertical-align: top;\n",
       "    }\n",
       "\n",
       "    .dataframe thead th {\n",
       "        text-align: right;\n",
       "    }\n",
       "</style>\n",
       "<table border=\"1\" class=\"dataframe\">\n",
       "  <thead>\n",
       "    <tr style=\"text-align: right;\">\n",
       "      <th></th>\n",
       "      <th>Area</th>\n",
       "      <th>Element Code</th>\n",
       "      <th>Element</th>\n",
       "      <th>Year</th>\n",
       "      <th>Unit</th>\n",
       "      <th>Value</th>\n",
       "      <th>Flag</th>\n",
       "      <th>Item</th>\n",
       "    </tr>\n",
       "  </thead>\n",
       "  <tbody>\n",
       "    <tr>\n",
       "      <td>564</td>\n",
       "      <td>Colombia</td>\n",
       "      <td>31</td>\n",
       "      <td>Area Harvested</td>\n",
       "      <td>2007.0</td>\n",
       "      <td>Ha</td>\n",
       "      <td>17500.0</td>\n",
       "      <td>F</td>\n",
       "      <td>agave_fibres_nes</td>\n",
       "    </tr>\n",
       "    <tr>\n",
       "      <td>565</td>\n",
       "      <td>Colombia</td>\n",
       "      <td>31</td>\n",
       "      <td>Area Harvested</td>\n",
       "      <td>2006.0</td>\n",
       "      <td>Ha</td>\n",
       "      <td>17500.0</td>\n",
       "      <td>F</td>\n",
       "      <td>agave_fibres_nes</td>\n",
       "    </tr>\n",
       "    <tr>\n",
       "      <td>566</td>\n",
       "      <td>Colombia</td>\n",
       "      <td>31</td>\n",
       "      <td>Area Harvested</td>\n",
       "      <td>2005.0</td>\n",
       "      <td>Ha</td>\n",
       "      <td>17500.0</td>\n",
       "      <td>F</td>\n",
       "      <td>agave_fibres_nes</td>\n",
       "    </tr>\n",
       "    <tr>\n",
       "      <td>567</td>\n",
       "      <td>Colombia</td>\n",
       "      <td>31</td>\n",
       "      <td>Area Harvested</td>\n",
       "      <td>2004.0</td>\n",
       "      <td>Ha</td>\n",
       "      <td>17294.0</td>\n",
       "      <td>NaN</td>\n",
       "      <td>agave_fibres_nes</td>\n",
       "    </tr>\n",
       "    <tr>\n",
       "      <td>568</td>\n",
       "      <td>Colombia</td>\n",
       "      <td>31</td>\n",
       "      <td>Area Harvested</td>\n",
       "      <td>2003.0</td>\n",
       "      <td>Ha</td>\n",
       "      <td>17094.0</td>\n",
       "      <td>NaN</td>\n",
       "      <td>agave_fibres_nes</td>\n",
       "    </tr>\n",
       "    <tr>\n",
       "      <td>...</td>\n",
       "      <td>...</td>\n",
       "      <td>...</td>\n",
       "      <td>...</td>\n",
       "      <td>...</td>\n",
       "      <td>...</td>\n",
       "      <td>...</td>\n",
       "      <td>...</td>\n",
       "      <td>...</td>\n",
       "    </tr>\n",
       "    <tr>\n",
       "      <td>2255150</td>\n",
       "      <td>Venezuela, Bolivarian Republic of</td>\n",
       "      <td>51</td>\n",
       "      <td>Production Quantity</td>\n",
       "      <td>1965.0</td>\n",
       "      <td>tonnes</td>\n",
       "      <td>61062.0</td>\n",
       "      <td>NaN</td>\n",
       "      <td>yautia_cocoyam</td>\n",
       "    </tr>\n",
       "    <tr>\n",
       "      <td>2255151</td>\n",
       "      <td>Venezuela, Bolivarian Republic of</td>\n",
       "      <td>51</td>\n",
       "      <td>Production Quantity</td>\n",
       "      <td>1964.0</td>\n",
       "      <td>tonnes</td>\n",
       "      <td>59225.0</td>\n",
       "      <td>NaN</td>\n",
       "      <td>yautia_cocoyam</td>\n",
       "    </tr>\n",
       "    <tr>\n",
       "      <td>2255152</td>\n",
       "      <td>Venezuela, Bolivarian Republic of</td>\n",
       "      <td>51</td>\n",
       "      <td>Production Quantity</td>\n",
       "      <td>1963.0</td>\n",
       "      <td>tonnes</td>\n",
       "      <td>57500.0</td>\n",
       "      <td>NaN</td>\n",
       "      <td>yautia_cocoyam</td>\n",
       "    </tr>\n",
       "    <tr>\n",
       "      <td>2255153</td>\n",
       "      <td>Venezuela, Bolivarian Republic of</td>\n",
       "      <td>51</td>\n",
       "      <td>Production Quantity</td>\n",
       "      <td>1962.0</td>\n",
       "      <td>tonnes</td>\n",
       "      <td>55825.0</td>\n",
       "      <td>NaN</td>\n",
       "      <td>yautia_cocoyam</td>\n",
       "    </tr>\n",
       "    <tr>\n",
       "      <td>2255154</td>\n",
       "      <td>Venezuela, Bolivarian Republic of</td>\n",
       "      <td>51</td>\n",
       "      <td>Production Quantity</td>\n",
       "      <td>1961.0</td>\n",
       "      <td>tonnes</td>\n",
       "      <td>54199.0</td>\n",
       "      <td>NaN</td>\n",
       "      <td>yautia_cocoyam</td>\n",
       "    </tr>\n",
       "  </tbody>\n",
       "</table>\n",
       "<p>1609439 rows × 8 columns</p>\n",
       "</div>"
      ],
      "text/plain": [
       "                                      Area Element Code              Element  \\\n",
       "564                               Colombia           31       Area Harvested   \n",
       "565                               Colombia           31       Area Harvested   \n",
       "566                               Colombia           31       Area Harvested   \n",
       "567                               Colombia           31       Area Harvested   \n",
       "568                               Colombia           31       Area Harvested   \n",
       "...                                    ...          ...                  ...   \n",
       "2255150  Venezuela, Bolivarian Republic of           51  Production Quantity   \n",
       "2255151  Venezuela, Bolivarian Republic of           51  Production Quantity   \n",
       "2255152  Venezuela, Bolivarian Republic of           51  Production Quantity   \n",
       "2255153  Venezuela, Bolivarian Republic of           51  Production Quantity   \n",
       "2255154  Venezuela, Bolivarian Republic of           51  Production Quantity   \n",
       "\n",
       "           Year    Unit    Value Flag              Item  \n",
       "564      2007.0      Ha  17500.0   F   agave_fibres_nes  \n",
       "565      2006.0      Ha  17500.0   F   agave_fibres_nes  \n",
       "566      2005.0      Ha  17500.0   F   agave_fibres_nes  \n",
       "567      2004.0      Ha  17294.0  NaN  agave_fibres_nes  \n",
       "568      2003.0      Ha  17094.0  NaN  agave_fibres_nes  \n",
       "...         ...     ...      ...  ...               ...  \n",
       "2255150  1965.0  tonnes  61062.0  NaN    yautia_cocoyam  \n",
       "2255151  1964.0  tonnes  59225.0  NaN    yautia_cocoyam  \n",
       "2255152  1963.0  tonnes  57500.0  NaN    yautia_cocoyam  \n",
       "2255153  1962.0  tonnes  55825.0  NaN    yautia_cocoyam  \n",
       "2255154  1961.0  tonnes  54199.0  NaN    yautia_cocoyam  \n",
       "\n",
       "[1609439 rows x 8 columns]"
      ]
     },
     "execution_count": 39,
     "metadata": {},
     "output_type": "execute_result"
    }
   ],
   "source": [
    "crops_country"
   ]
  },
  {
   "cell_type": "code",
   "execution_count": 40,
   "metadata": {},
   "outputs": [],
   "source": [
    "# Save dataframes to CSV\n",
    "#crops_country.to_csv('./data/csv/crops_countries.csv')\n",
    "#crops_area.to_csv('./data/csv/crops_areas.csv')\n",
    "#crops_continent.to_csv('./data/csv/crops_continents.csv')"
   ]
  },
  {
   "cell_type": "code",
   "execution_count": 41,
   "metadata": {},
   "outputs": [],
   "source": [
    "# Save dataframes to pickles\n",
    "crops_country.to_pickle('./data/pickles/crops_countries.pkl')\n",
    "crops_area.to_pickle('./data/pickles/crops_areas.pkl')\n",
    "crops_continent.to_pickle('./data/pickles/crops_continents.pkl')"
   ]
  },
  {
   "cell_type": "code",
   "execution_count": null,
   "metadata": {},
   "outputs": [],
   "source": []
  },
  {
   "cell_type": "code",
   "execution_count": null,
   "metadata": {},
   "outputs": [],
   "source": []
  },
  {
   "cell_type": "code",
   "execution_count": null,
   "metadata": {},
   "outputs": [],
   "source": []
  }
 ],
 "metadata": {
  "kernelspec": {
   "display_name": "Python 3",
   "language": "python",
   "name": "python3"
  },
  "language_info": {
   "codemirror_mode": {
    "name": "ipython",
    "version": 3
   },
   "file_extension": ".py",
   "mimetype": "text/x-python",
   "name": "python",
   "nbconvert_exporter": "python",
   "pygments_lexer": "ipython3",
   "version": "3.7.4"
  }
 },
 "nbformat": 4,
 "nbformat_minor": 4
}
