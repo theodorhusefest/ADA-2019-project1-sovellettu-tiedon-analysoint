{
 "cells": [
  {
   "cell_type": "code",
   "execution_count": null,
   "metadata": {},
   "outputs": [],
   "source": [
    "import pandas as pd\n",
    "import numpy as np\n",
    "import matplotlib.pyplot as plt"
   ]
  },
  {
   "cell_type": "code",
   "execution_count": null,
   "metadata": {},
   "outputs": [],
   "source": [
    "df = pd.read_csv('raw_data/fao_data_crops_data.csv.zip', compression='zip', header=0, sep=',', quotechar='\"')\n",
    "print('Description of the different footnotes')\n",
    "df.tail(6)[['country_or_area', 'element_code']]"
   ]
  },
  {
   "cell_type": "code",
   "execution_count": 57,
   "metadata": {},
   "outputs": [
    {
     "name": "stdout",
     "output_type": "stream",
     "text": [
      "The number of countries seem to be: 219\n"
     ]
    }
   ],
   "source": [
    "country_series = df['country_or_area']\n",
    "\n",
    "unique_land = country_series[np.logical_not(country_series.str.endswith('+'))]\n",
    "print('The number of countries seem to be: {}'.format(len(unique_land.value_counts())))"
   ]
  },
  {
   "cell_type": "code",
   "execution_count": null,
   "metadata": {},
   "outputs": [],
   "source": [
    "# Aggregate year column to 'min - max' year\n",
    "def agg_year(series):\n",
    "    min_year = int(series.min())\n",
    "    max_year = int(series.max())\n",
    "    return '{} to {}'.format(min_year, max_year)\n",
    "\n",
    "# Examine the different countries\n",
    "def count_unique_area(series):\n",
    "    return len(series.unique())\n",
    "\n",
    "# Group by element code and element to see what these columns represent \n",
    "df.groupby(['element_code', 'element']).agg({'value':'sum', 'unit':'unique', 'year':agg_year, 'country_or_area':count_unique_area}).sort_values(by='value', ascending=False)"
   ]
  },
  {
   "cell_type": "markdown",
   "metadata": {},
   "source": [
    "#### Element code, element and their values\n",
    "It seems like element and element code is a one to one match and each element code has a unique element. Also, by taking the sum of all values and sorting we see that 51-Production quantity has the greatest value. We can observe that, depending one the element, we have different number of unique countries in that column"
   ]
  },
  {
   "cell_type": "code",
   "execution_count": null,
   "metadata": {},
   "outputs": [],
   "source": [
    "print('The different footnotes: {} \\n'.format(df['value_footnotes'].unique()))\n",
    "print(df.isna().sum())\n",
    "# A few columns contain NaN values, lets examine..\n",
    "# It seems like there's something weird about element, year, unit and value and their 958 NaN values\n",
    "df.drop(df[df['value'].isna()].index, inplace=True)\n",
    "# Seems like the explanation of the value_footnotes repeat, we can drop those rows\n",
    "# Now lets look at value_footnotes NaN:s\n",
    "df[df['value_footnotes'].isna()]\n",
    "# These rows seem to be okey but just miss the value footnotes.. Let's keep them this way for now"
   ]
  },
  {
   "cell_type": "markdown",
   "metadata": {},
   "source": [
    "### Explanation of columns in 'fao_data_crops_data'\n",
    "1. **country_or_area code** -> Which country/Area the data comes from\n",
    "1. **element_code** -> The number corresponding to certain element\n",
    "1. **element** -> Type data, e.g. 'Area Harvested' or 'Production Quantity'\n",
    "1. **year** -> What year the data comes from, column spans from 1961 - 2007\n",
    "1. **unit** -> The 'value' columns unit, e.g. 'tonnes' or 'Ha'\n",
    "1. **value** -> The number of unit of element\n",
    "1. **value_footnotes** -> Value footnote, see description above\n",
    "1. **category** ->\n",
    "\n"
   ]
  },
  {
   "cell_type": "code",
   "execution_count": null,
   "metadata": {},
   "outputs": [],
   "source": []
  }
 ],
 "metadata": {
  "kernelspec": {
   "display_name": "Python 3",
   "language": "python",
   "name": "python3"
  },
  "language_info": {
   "codemirror_mode": {
    "name": "ipython",
    "version": 3
   },
   "file_extension": ".py",
   "mimetype": "text/x-python",
   "name": "python",
   "nbconvert_exporter": "python",
   "pygments_lexer": "ipython3",
   "version": "3.7.3"
  }
 },
 "nbformat": 4,
 "nbformat_minor": 4
}
