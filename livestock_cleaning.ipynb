{
 "cells": [
  {
   "cell_type": "markdown",
   "metadata": {},
   "source": [
    "# Livestock - Exploration and Data Cleaning\n",
    "In this notebook we explore the dataset we got from FAO, and try to retrieve the most important information from."
   ]
  },
  {
   "cell_type": "code",
   "execution_count": null,
   "metadata": {},
   "outputs": [],
   "source": [
    "import pandas as pd\n",
    "import numpy as np\n",
    "import matplotlib.pyplot as plt"
   ]
  },
  {
   "cell_type": "code",
   "execution_count": null,
   "metadata": {},
   "outputs": [],
   "source": [
    "livestock = pd.read_csv('raw_data/Production_LivestockPrimary_E_All_Data.csv', sep = ',', encoding = 'latin-1')\n",
    "livestock.head(3)"
   ]
  },
  {
   "cell_type": "markdown",
   "metadata": {},
   "source": [
    "## Explanations of data files\n",
    "Each row of the livestock dataset contains data on all years available, on a given metadata.  \n",
    "There are 7 columns of metadata, which can be seen below, and the rest of the columns are data for each year.  \n",
    "The years usually span from 1961 to 2017, but some years are missing.  \n",
    "\n",
    "| Column name         | Explanation|\n",
    "|------------------------|--------|\n",
    "| Area                   |Name of country/area|\n",
    "| Area Code              |Unique code for each country/area|\n",
    "| Item                   |Type of product, e.g \"Eggs, hen, in shell\"|\n",
    "| Item Code              |Unique code for each Item|\n",
    "| Element                |Type data, e.g. Production, Yield, Milk Animals |\n",
    "| Unit                   |The unit of the measurement of the element, in total 9 different units |\n",
    "| Element Code           |Unique code based on pairs of Element and Unit|\n",
    "\n",
    "\n",
    "For each year there is also a column with the year + F, which signifies the meaning of the data.  \n",
    "\n",
    "|  Flag  | Meaning of flag        |\n",
    "|--------|------------------------|\n",
    "| *      | Unofficial data        |\n",
    "| F      | FAO Estimate           |\n",
    "| NaN    | Official data          |\n",
    "| Fc     | Calculated data        |\n",
    "| A      | Aggregate, may include official, semi-official, estimated or calculated data |\n",
    "| M      | Data not available     | \n",
    "| Im     |FAO data based on imputation methodology |\n",
    "\n"
   ]
  },
  {
   "cell_type": "markdown",
   "metadata": {},
   "source": [
    "### Elements\n",
    "|  Element             | Description            |\n",
    "|----------------------|------------------------|\n",
    "| Laying               | Birds raised for laying eggs        |\n",
    "| Yield                | How much of the animal which is used           |\n",
    "| Production           | How much is produced          |\n",
    "| Producing Animals/Slaughtered    | How many animals that are being produced for meat        |\n",
    "| Yield/Carcass Weight | Same as yield, but also taking account size of animal |\n",
    "| Milk Animals         | How many animals used for milk production     | \n",
    "| Prod Popultn         | Population of a given item  |\n"
   ]
  },
  {
   "cell_type": "markdown",
   "metadata": {},
   "source": [
    "### Units\n",
    "\n",
    "The units can be quite confusing, but as we remove them many of them we do not have to use so much time on this. However, here is a quick summary of them.\n",
    "\n",
    "Producing Animals/Slaughtered: \n",
    "- Laying in 1000 heads; \n",
    "- Milk Animals in heads; \n",
    "- Prod Population (Beehives) in number; \n",
    "- Prod Population (Slaughtered animals) in heads. \n",
    "\n",
    "Production Quantity: \n",
    "\n",
    "- Eggs in tonnes and in number; \n",
    "- Meat and milk in tonnes; \n",
    "- Wool and Hides and Skins in tonnes; \n",
    "- Honey and Beeswax in tonnes.\n",
    "\n",
    "Yield: \n",
    "\n",
    "- 100 milligrams per animal; \n",
    "- number per animal; hectograms per animal; \n",
    "- hectograms.  \n",
    "\n",
    "Yield/Carcass Weight:\n",
    "\n",
    "- 0.1 grams per animal (poultry);\n",
    "- hectograms per animal (other animals).\n"
   ]
  },
  {
   "cell_type": "markdown",
   "metadata": {},
   "source": [
    "## Data Cleaning"
   ]
  },
  {
   "cell_type": "markdown",
   "metadata": {},
   "source": [
    "**Elements**  \n",
    "As we are primarily interested in meat production in this task, we take away all elements except _Production_ and _Producing Animals/Slaughtered_. "
   ]
  },
  {
   "cell_type": "code",
   "execution_count": null,
   "metadata": {},
   "outputs": [],
   "source": [
    "livestock_prod = livestock[(livestock['Element'] == 'Production') | (livestock['Element'] == 'Producing Animals /Slaughtered') ]\n",
    "livestock_prod.head(3)"
   ]
  },
  {
   "cell_type": "markdown",
   "metadata": {},
   "source": [
    "**Items**  \n",
    "After removing the other elements, we remove all items that are not meat."
   ]
  },
  {
   "cell_type": "code",
   "execution_count": null,
   "metadata": {},
   "outputs": [],
   "source": [
    "livestock_meat = livestock_prod[livestock_prod['Item'].str.contains('Meat')]\n",
    "livestock_meat.head(5)"
   ]
  },
  {
   "cell_type": "markdown",
   "metadata": {},
   "source": [
    "**Units**  \n",
    "To easily compare the data, we would like to have a joint unit for all the data. We see that for each item we get two numbers, number of animals (Heads) and the weight of produced meat (tonnes). We choose to only look at produced meat, and remove the head-counts."
   ]
  },
  {
   "cell_type": "code",
   "execution_count": null,
   "metadata": {},
   "outputs": [],
   "source": [
    "livestock_meat = livestock_meat[livestock_meat['Unit'].str.contains('tonnes')]\n",
    "livestock_meat.head(3)"
   ]
  },
  {
   "cell_type": "markdown",
   "metadata": {},
   "source": [
    "Looking at this we see that although the units are a bit different, they make sense for each for their category. Therefore we keep them like this for now.  "
   ]
  },
  {
   "cell_type": "markdown",
   "metadata": {},
   "source": [
    "**Flags**  \n",
    "The flags say something about the reliability of the data, but as this is the best data we available we \"trust\" all the data. However, we do keep the flags in case we observe inconsistencies in the future."
   ]
  },
  {
   "cell_type": "markdown",
   "metadata": {},
   "source": [
    "**Reshaping**  \n",
    "To have this dataset fit the same format as the others we have to reshape it, so that the yearly values are rows instead of columns.  "
   ]
  },
  {
   "cell_type": "code",
   "execution_count": null,
   "metadata": {},
   "outputs": [],
   "source": [
    "# Find the columns which are years, flags and metadata\n",
    "col_years = [col for col in livestock_meat.columns if (col[0] == 'Y') and (col[-1] != 'F') ]\n",
    "col_flags = [col for col in livestock_meat.columns if (col[0] == 'Y') and (col[-1] == 'F') ]\n",
    "col_metadata = livestock_meat.columns[0:7]\n",
    "\n",
    "# Do two melts, once on year and once on flag and add flags to dataframe with years\n",
    "temp_years = livestock_meat.melt(id_vars = col_metadata, value_vars = col_years, var_name = 'Year', value_name = 'Value')\n",
    "temp_flags = livestock_meat.melt(id_vars = col_metadata, value_vars = col_flags, var_name = 'FlagYear', value_name = 'Flag')\n",
    "meat_data = temp_years.join(temp_flags['Flag'])"
   ]
  },
  {
   "cell_type": "code",
   "execution_count": null,
   "metadata": {},
   "outputs": [],
   "source": [
    "#pd.to_datetime(meat_data['Year'], format = 'Y%Y')\n",
    "meat_data['Year'] = meat_data['Year'].str.replace('Y', '').astype(int)"
   ]
  },
  {
   "cell_type": "code",
   "execution_count": null,
   "metadata": {},
   "outputs": [],
   "source": [
    "meat_data"
   ]
  },
  {
   "cell_type": "markdown",
   "metadata": {},
   "source": [
    "**Missing Data**  \n",
    "Below we can see that there are some data missing in the dataset, and when we are talking are talking about production at country-levet this is not very suprising. Since 1960, a lot of states have been founded and dissolved, with the Soviet Union in 1991 as the most notable. We assume that the missing year is included somewhere else (for example Albania in Soviet Union), and remove all rows with missing values.  \n",
    "Also, we choose to remove the data after 2013 as a lot of information is missing here and we wish to have consistent data."
   ]
  },
  {
   "cell_type": "code",
   "execution_count": null,
   "metadata": {},
   "outputs": [],
   "source": [
    "# Create series with missing values\n",
    "missing_values = meat_data['Value'].isnull().groupby(meat_data['Year']).sum()\n",
    "\n",
    "# Plot missing values with years on x-axis and missing values on y-axis\n",
    "f = plt.figure(figsize = (12,6))\n",
    "plt.plot(missing_values.index, missing_values.values)\n",
    "plt.title('Missing Values in Livestock Dataset', fontsize = 16)\n",
    "plt.xlabel('Year', fontsize=12)\n",
    "plt.ylabel('Missing Values', fontsize=12)\n",
    "plt.show()"
   ]
  },
  {
   "cell_type": "code",
   "execution_count": null,
   "metadata": {},
   "outputs": [],
   "source": [
    "# Remove all null values\n",
    "meat_data = meat_data[meat_data['Value'].notnull()]\n",
    "\n",
    "# Also remove all data after 2014 to have consistent data\n",
    "meat_data = meat_data[meat_data['Year'] < 2014]"
   ]
  },
  {
   "cell_type": "markdown",
   "metadata": {},
   "source": [
    "**Categorizing the Data**  \n",
    "We would like to divide our dataset into areas, countries and continents for easier use in the future. Luckily, because of the way area codes are organized, this is easily done. Everything under 251 is countries, and everything above 5000 are areas. "
   ]
  },
  {
   "cell_type": "code",
   "execution_count": null,
   "metadata": {},
   "outputs": [],
   "source": [
    "from scripts.helpers import *\n",
    "print(split_fao_data.__doc__)\n",
    "\n",
    "meat_countries, meat_area, meat_continents = split_fao_data(meat_data)"
   ]
  },
  {
   "cell_type": "markdown",
   "metadata": {},
   "source": [
    "**Saving the Data**  \n",
    "To store the data for the future we save it in both CSV and pickles.  \n",
    "All these CSV are however not pushed to git, so it has to be run locally. "
   ]
  },
  {
   "cell_type": "code",
   "execution_count": null,
   "metadata": {},
   "outputs": [],
   "source": [
    "# Save dataframes to CSV\n",
    "meat_countries.to_csv('./data/csv/meat_countries.csv')\n",
    "meat_area.to_csv('./data/csv/meat_area.csv')\n",
    "meat_continents.to_csv('./data/csv/meat_continents.csv')"
   ]
  },
  {
   "cell_type": "code",
   "execution_count": null,
   "metadata": {},
   "outputs": [],
   "source": [
    "# Save dataframes to pickles\n",
    "meat_countries.to_pickle('./data/pickles/meat_countries.pkl')\n",
    "meat_area.to_pickle('./data/pickles/meat_area.pkl')\n",
    "meat_continents.to_pickle('./data/pickles/meat_continents.pkl')"
   ]
  },
  {
   "cell_type": "markdown",
   "metadata": {},
   "source": [
    "#### Categorizing meats"
   ]
  },
  {
   "cell_type": "code",
   "execution_count": null,
   "metadata": {},
   "outputs": [],
   "source": [
    "meat_wanted = meat_continents[meat_continents.Item.str.contains('Meat, ')]\n",
    "meat_wanted.Item.unique()"
   ]
  },
  {
   "cell_type": "markdown",
   "metadata": {},
   "source": [
    "We want to keep the three main meat categories separate (cattle, pig, chicken) and categorize the rest into the following:\n",
    "- Equidae & Camelidae: ass, horse, camel, other camelids, mule, \n",
    "- Birds: bird nes, duck, goose & guinea fowl, turkey\n",
    "- Bovidae: goat, sheep, buffalo\n",
    "- Others: game, nes, rabbit + other rodents"
   ]
  },
  {
   "cell_type": "code",
   "execution_count": null,
   "metadata": {},
   "outputs": [],
   "source": [
    "main = ['Meat, pig', 'Meat, cattle', 'Meat, chicken', 'Meat, Total']\n",
    "equidae_camelidae = ['Meat, ass', 'Meat, horse', 'Meat, camel', 'Meat, other camelids', 'Meat, mule']\n",
    "bovidae = ['Meat, goat', 'Meat, sheep', 'Meat, buffalo']\n",
    "birds = ['Meat, bird nes', 'Meat, duck', 'Meat, goose and guinea fowl', 'Meat, turkey']\n",
    "others = ['Meat, rabbit', 'Meat, other rodents', 'Meat, game', 'Meat, nes']\n",
    "\n",
    "meat_equidae_camelidae = meat_wanted[meat_wanted.Item.isin(equidae_camelidae)]\n",
    "prod_equidae_camelidae = meat_equidae_camelidae.groupby(['Area','Element','Year','Unit']).agg({'Value':'sum'}).reset_index()\n",
    "prod_equidae_camelidae['Item'] = 'Meat, equidae and camelidae'\n",
    "\n",
    "meat_bovidae = meat_wanted[meat_wanted.Item.isin(bovidae)]\n",
    "prod_bovidae = meat_bovidae.groupby(['Area','Element','Year','Unit']).agg({'Value':'sum'}).reset_index()\n",
    "prod_bovidae['Item'] = 'Meat, bovidae'\n",
    "\n",
    "meat_birds = meat_wanted[meat_wanted.Item.isin(birds)]\n",
    "prod_birds = meat_birds.groupby(['Area','Element','Year','Unit']).agg({'Value':'sum'}).reset_index()\n",
    "prod_birds['Item'] = 'Meat, bird excl chicken'\n",
    "\n",
    "meat_others = meat_wanted[meat_wanted.Item.isin(others)]\n",
    "prod_others = meat_others.groupby(['Area','Element','Year','Unit']).agg({'Value':'sum'}).reset_index()\n",
    "prod_others['Item'] = 'Meat, other'\n",
    "\n",
    "meat_main = meat_wanted[meat_wanted.Item.isin(main)]\n",
    "prod_main = meat_main.groupby(['Area','Element','Year','Unit','Item']).agg({'Value':'sum'}).reset_index()\n",
    "prod_main = prod_main[['Area','Element','Year','Unit','Value','Item']]\n",
    "\n",
    "meat_categorized = pd.concat([prod_equidae_camelidae, prod_bovidae, prod_birds, prod_others, prod_main], axis=0)\n",
    "meat_categorized"
   ]
  },
  {
   "cell_type": "code",
   "execution_count": null,
   "metadata": {},
   "outputs": [],
   "source": [
    "# Save dataframe to pickles\n",
    "meat_categorized.to_pickle('./data/pickles/meat_categorized.pkl')"
   ]
  },
  {
   "cell_type": "code",
   "execution_count": null,
   "metadata": {},
   "outputs": [],
   "source": []
  }
 ],
 "metadata": {
  "kernelspec": {
   "display_name": "Python 3",
   "language": "python",
   "name": "python3"
  },
  "language_info": {
   "codemirror_mode": {
    "name": "ipython",
    "version": 3
   },
   "file_extension": ".py",
   "mimetype": "text/x-python",
   "name": "python",
   "nbconvert_exporter": "python",
   "pygments_lexer": "ipython3",
   "version": "3.7.3"
  }
 },
 "nbformat": 4,
 "nbformat_minor": 4
}
