{
 "cells": [
  {
   "cell_type": "markdown",
   "metadata": {},
   "source": [
    "# Milestone 2\n",
    "This notebook summerizes all of what we have done in the project so far, and below is the research questions we wish to answer in this project.\n",
    "\n",
    "1. How has the crops/livestock primary production developed since 1960?\n",
    "2. Is there a connection between the development of livestock primary production and crop production?\n",
    "3. How are the differences in production quantities between the different continents?\n",
    "4. How has the development in agriculture affected emission of greenhouse gasses?\n",
    "\n",
    "To answer this we are using 4 different datasets, but all are collected from FAO-STAT (Food and Agriculture Organization of the United Nations - <http://www.fao.org/faostat/en/#data>). In this notebook we will describe and clean all of the data. \n",
    "Note that this is a summary, and we have an own notebook for each of the datasets where the cleaning is in more detail. This notebook should however be enough to understand what we have done. "
   ]
  },
  {
   "cell_type": "markdown",
   "metadata": {},
   "source": [
    "**Note regarding our datasets from FAO:**  \n",
    "- _There is limited geographical comparability due to differences between countries in methods and coverage, except for regions where countries are bound by regulations mandating harmonized methods, such as EU countries._\n",
    "- _For shorter time periods, reasonably good comparability over time can be expected, as there is stability in the product definition and classification. However, as the time series are very long (from 1961) full comparability over time cannot be expected._\n",
    "\n",
    "http://www.fao.org/faostat/en/#data/QL/metadata\n"
   ]
  },
  {
   "cell_type": "markdown",
   "metadata": {},
   "source": [
    "### Genereal Layout of Datasets\n",
    "As we have collected all the datasets from the same source they are somewhat organized in the same way. There are 7 columns with metadata and and most of the values there is also a flag to explain how the data is collected.\n",
    "\n",
    "\n",
    "| Column name         | Explanation|\n",
    "|------------------------|--------|\n",
    "| Area                   |Name of country/area|\n",
    "| Area Code              |Unique code for each country/area|\n",
    "| Item                   |Type of product, e.g \"Eggs, hen, in shell\"|\n",
    "| Item Code              |Unique code for each Item|\n",
    "| Element                |Type data, e.g. Production, Yield, Milk Animals |\n",
    "| Unit                   |The unit of the measurement of the element, in total 9 different units |\n",
    "| Element Code           |Unique code based on pairs of Element and Unit|\n",
    "\n",
    "\n",
    "\n",
    "\n",
    "|  Flag  | Meaning of flag        |\n",
    "|--------|------------------------|\n",
    "| *      | Unofficial data        |\n",
    "| F      | FAO Estimate           |\n",
    "| NaN    | Official data          |\n",
    "| Fc     | Calculated data        |\n",
    "| A      | Aggregate, may include official, semi-official, estimated or calculated data |\n",
    "| M      | Data not available     | \n",
    "| Im     |FAO data based on imputation methodology |"
   ]
  },
  {
   "cell_type": "code",
   "execution_count": 2,
   "metadata": {},
   "outputs": [],
   "source": [
    "import pandas as pd\n",
    "import numpy as np\n",
    "import matplotlib.pyplot as plt\n",
    "import seaborn as sns; sns.set()"
   ]
  },
  {
   "cell_type": "markdown",
   "metadata": {},
   "source": [
    "---\n",
    "## Livestock\n",
    "\n",
    "The livestock dataset covers information on several livestock products globally, during the time 1961-2014. From 2014-2017 several values may be missing. The data contains all the production from both industrial production and farm production. The dataset is available at http://www.fao.org/faostat/en/#data/QL.   \n",
    "\n",
    "Each row of the raw livestock dataset contains data on all years available, on a given metadata. There are 7 columns of metadata, which can be seen below, and the rest of the columns are data for each year. The years usually span from 1961 to 2017, but some years are missing.\n",
    "\n",
    "The Item also describes if a product is “Indigenous” or not. If a product is not “indigenous” the animal from which the product has been derived has been imported.\n"
   ]
  },
  {
   "cell_type": "code",
   "execution_count": 3,
   "metadata": {},
   "outputs": [
    {
     "data": {
      "text/html": [
       "<div>\n",
       "<style scoped>\n",
       "    .dataframe tbody tr th:only-of-type {\n",
       "        vertical-align: middle;\n",
       "    }\n",
       "\n",
       "    .dataframe tbody tr th {\n",
       "        vertical-align: top;\n",
       "    }\n",
       "\n",
       "    .dataframe thead th {\n",
       "        text-align: right;\n",
       "    }\n",
       "</style>\n",
       "<table border=\"1\" class=\"dataframe\">\n",
       "  <thead>\n",
       "    <tr style=\"text-align: right;\">\n",
       "      <th></th>\n",
       "      <th>Area Code</th>\n",
       "      <th>Area</th>\n",
       "      <th>Item Code</th>\n",
       "      <th>Item</th>\n",
       "      <th>Element Code</th>\n",
       "      <th>Element</th>\n",
       "      <th>Unit</th>\n",
       "      <th>Y1961</th>\n",
       "      <th>Y1961F</th>\n",
       "      <th>Y1962</th>\n",
       "      <th>...</th>\n",
       "      <th>Y2013</th>\n",
       "      <th>Y2013F</th>\n",
       "      <th>Y2014</th>\n",
       "      <th>Y2014F</th>\n",
       "      <th>Y2015</th>\n",
       "      <th>Y2015F</th>\n",
       "      <th>Y2016</th>\n",
       "      <th>Y2016F</th>\n",
       "      <th>Y2017</th>\n",
       "      <th>Y2017F</th>\n",
       "    </tr>\n",
       "  </thead>\n",
       "  <tbody>\n",
       "    <tr>\n",
       "      <td>0</td>\n",
       "      <td>2</td>\n",
       "      <td>Afghanistan</td>\n",
       "      <td>1062</td>\n",
       "      <td>Eggs, hen, in shell</td>\n",
       "      <td>5313</td>\n",
       "      <td>Laying</td>\n",
       "      <td>1000 Head</td>\n",
       "      <td>4000.0</td>\n",
       "      <td>F</td>\n",
       "      <td>4400.0</td>\n",
       "      <td>...</td>\n",
       "      <td>9500.0</td>\n",
       "      <td>F</td>\n",
       "      <td>9500.0</td>\n",
       "      <td>F</td>\n",
       "      <td>9337.0</td>\n",
       "      <td>Im</td>\n",
       "      <td>9369.0</td>\n",
       "      <td>Im</td>\n",
       "      <td>10688.0</td>\n",
       "      <td>F</td>\n",
       "    </tr>\n",
       "    <tr>\n",
       "      <td>1</td>\n",
       "      <td>2</td>\n",
       "      <td>Afghanistan</td>\n",
       "      <td>1062</td>\n",
       "      <td>Eggs, hen, in shell</td>\n",
       "      <td>5410</td>\n",
       "      <td>Yield</td>\n",
       "      <td>100mg/An</td>\n",
       "      <td>25000.0</td>\n",
       "      <td>Fc</td>\n",
       "      <td>25000.0</td>\n",
       "      <td>...</td>\n",
       "      <td>18947.0</td>\n",
       "      <td>Fc</td>\n",
       "      <td>19474.0</td>\n",
       "      <td>Fc</td>\n",
       "      <td>21253.0</td>\n",
       "      <td>Fc</td>\n",
       "      <td>21263.0</td>\n",
       "      <td>Fc</td>\n",
       "      <td>18713.0</td>\n",
       "      <td>Fc</td>\n",
       "    </tr>\n",
       "  </tbody>\n",
       "</table>\n",
       "<p>2 rows × 121 columns</p>\n",
       "</div>"
      ],
      "text/plain": [
       "   Area Code         Area  Item Code                 Item  Element Code  \\\n",
       "0          2  Afghanistan       1062  Eggs, hen, in shell          5313   \n",
       "1          2  Afghanistan       1062  Eggs, hen, in shell          5410   \n",
       "\n",
       "  Element       Unit    Y1961 Y1961F    Y1962  ...    Y2013  Y2013F    Y2014  \\\n",
       "0  Laying  1000 Head   4000.0      F   4400.0  ...   9500.0       F   9500.0   \n",
       "1   Yield   100mg/An  25000.0     Fc  25000.0  ...  18947.0      Fc  19474.0   \n",
       "\n",
       "   Y2014F    Y2015  Y2015F    Y2016  Y2016F    Y2017  Y2017F  \n",
       "0       F   9337.0      Im   9369.0      Im  10688.0       F  \n",
       "1      Fc  21253.0      Fc  21263.0      Fc  18713.0      Fc  \n",
       "\n",
       "[2 rows x 121 columns]"
      ]
     },
     "execution_count": 3,
     "metadata": {},
     "output_type": "execute_result"
    }
   ],
   "source": [
    "livestock = pd.read_csv('raw_data/Production_LivestockPrimary_E_All_Data.csv', sep = ',', encoding = 'latin-1')\n",
    "livestock.head(2)"
   ]
  },
  {
   "cell_type": "markdown",
   "metadata": {},
   "source": [
    "### Exploration\n",
    "\n",
    "Thorough information on all columns can be found in the notebook *livestock_data_cleaning.ipynb*.   \n",
    "Here is the different elements that are found in the dataset.\n",
    "\n",
    "\n",
    "|  Element             | Description            |\n",
    "|----------------------|------------------------|\n",
    "| Laying               | Birds raised for laying eggs        |\n",
    "| Yield                | How much of the animal which is used           |\n",
    "| Production           | How much is produced          |\n",
    "| Producing Animals/Slaughtered    | How many animals that are being produced for meat        |\n",
    "| Yield/Carcass Weight | Same as yield, but also taking account size of animal |\n",
    "| Milk Animals         | How many animals used for milk production     | \n",
    "| Prod Popultn         | Population of a given item  |\n"
   ]
  },
  {
   "cell_type": "markdown",
   "metadata": {},
   "source": [
    "### Data Cleaning"
   ]
  },
  {
   "cell_type": "markdown",
   "metadata": {},
   "source": [
    "**Elements**  \n",
    "As we are primarily interested in meat production in this task, we take away all elements except _Production_ and _Producing Animals/Slaughtered_. "
   ]
  },
  {
   "cell_type": "code",
   "execution_count": 4,
   "metadata": {},
   "outputs": [],
   "source": [
    "livestock_prod = livestock[(livestock['Element'] == 'Production') | (livestock['Element'] == 'Producing Animals /Slaughtered') ]"
   ]
  },
  {
   "cell_type": "markdown",
   "metadata": {},
   "source": [
    "**Items**  \n",
    "After removing the other elements, we remove all items that are not meat."
   ]
  },
  {
   "cell_type": "code",
   "execution_count": 5,
   "metadata": {},
   "outputs": [
    {
     "data": {
      "text/html": [
       "<div>\n",
       "<style scoped>\n",
       "    .dataframe tbody tr th:only-of-type {\n",
       "        vertical-align: middle;\n",
       "    }\n",
       "\n",
       "    .dataframe tbody tr th {\n",
       "        vertical-align: top;\n",
       "    }\n",
       "\n",
       "    .dataframe thead th {\n",
       "        text-align: right;\n",
       "    }\n",
       "</style>\n",
       "<table border=\"1\" class=\"dataframe\">\n",
       "  <thead>\n",
       "    <tr style=\"text-align: right;\">\n",
       "      <th></th>\n",
       "      <th>Area Code</th>\n",
       "      <th>Area</th>\n",
       "      <th>Item Code</th>\n",
       "      <th>Item</th>\n",
       "      <th>Element Code</th>\n",
       "      <th>Element</th>\n",
       "      <th>Unit</th>\n",
       "      <th>Y1961</th>\n",
       "      <th>Y1961F</th>\n",
       "      <th>Y1962</th>\n",
       "      <th>...</th>\n",
       "      <th>Y2013</th>\n",
       "      <th>Y2013F</th>\n",
       "      <th>Y2014</th>\n",
       "      <th>Y2014F</th>\n",
       "      <th>Y2015</th>\n",
       "      <th>Y2015F</th>\n",
       "      <th>Y2016</th>\n",
       "      <th>Y2016F</th>\n",
       "      <th>Y2017</th>\n",
       "      <th>Y2017F</th>\n",
       "    </tr>\n",
       "  </thead>\n",
       "  <tbody>\n",
       "    <tr>\n",
       "      <td>8</td>\n",
       "      <td>2</td>\n",
       "      <td>Afghanistan</td>\n",
       "      <td>1137</td>\n",
       "      <td>Meat indigenous, camel</td>\n",
       "      <td>5322</td>\n",
       "      <td>Production</td>\n",
       "      <td>Head</td>\n",
       "      <td>20000.0</td>\n",
       "      <td>F</td>\n",
       "      <td>22393.0</td>\n",
       "      <td>...</td>\n",
       "      <td>19500.0</td>\n",
       "      <td>F</td>\n",
       "      <td>NaN</td>\n",
       "      <td>NaN</td>\n",
       "      <td>NaN</td>\n",
       "      <td>NaN</td>\n",
       "      <td>NaN</td>\n",
       "      <td>NaN</td>\n",
       "      <td>NaN</td>\n",
       "      <td>NaN</td>\n",
       "    </tr>\n",
       "    <tr>\n",
       "      <td>10</td>\n",
       "      <td>2</td>\n",
       "      <td>Afghanistan</td>\n",
       "      <td>1137</td>\n",
       "      <td>Meat indigenous, camel</td>\n",
       "      <td>5510</td>\n",
       "      <td>Production</td>\n",
       "      <td>tonnes</td>\n",
       "      <td>3600.0</td>\n",
       "      <td>Fc</td>\n",
       "      <td>4031.0</td>\n",
       "      <td>...</td>\n",
       "      <td>3510.0</td>\n",
       "      <td>Fc</td>\n",
       "      <td>NaN</td>\n",
       "      <td>NaN</td>\n",
       "      <td>NaN</td>\n",
       "      <td>NaN</td>\n",
       "      <td>NaN</td>\n",
       "      <td>NaN</td>\n",
       "      <td>NaN</td>\n",
       "      <td>NaN</td>\n",
       "    </tr>\n",
       "  </tbody>\n",
       "</table>\n",
       "<p>2 rows × 121 columns</p>\n",
       "</div>"
      ],
      "text/plain": [
       "    Area Code         Area  Item Code                    Item  Element Code  \\\n",
       "8           2  Afghanistan       1137  Meat indigenous, camel          5322   \n",
       "10          2  Afghanistan       1137  Meat indigenous, camel          5510   \n",
       "\n",
       "       Element    Unit    Y1961 Y1961F    Y1962  ...    Y2013  Y2013F Y2014  \\\n",
       "8   Production    Head  20000.0      F  22393.0  ...  19500.0       F   NaN   \n",
       "10  Production  tonnes   3600.0     Fc   4031.0  ...   3510.0      Fc   NaN   \n",
       "\n",
       "    Y2014F Y2015  Y2015F Y2016  Y2016F Y2017  Y2017F  \n",
       "8      NaN   NaN     NaN   NaN     NaN   NaN     NaN  \n",
       "10     NaN   NaN     NaN   NaN     NaN   NaN     NaN  \n",
       "\n",
       "[2 rows x 121 columns]"
      ]
     },
     "execution_count": 5,
     "metadata": {},
     "output_type": "execute_result"
    }
   ],
   "source": [
    "livestock_meat = livestock_prod[livestock_prod['Item'].str.contains('Meat')]\n",
    "livestock_meat.head(2)"
   ]
  },
  {
   "cell_type": "markdown",
   "metadata": {},
   "source": [
    "**Units**  \n",
    "To easily compare the data, we would like to have a joint unit for all the data. We see that for each item we get two numbers, number of animals (Heads) and the weight of produced meat (tonnes). We choose to only look at produced meat, and remove the head-counts."
   ]
  },
  {
   "cell_type": "code",
   "execution_count": 6,
   "metadata": {},
   "outputs": [
    {
     "data": {
      "text/html": [
       "<div>\n",
       "<style scoped>\n",
       "    .dataframe tbody tr th:only-of-type {\n",
       "        vertical-align: middle;\n",
       "    }\n",
       "\n",
       "    .dataframe tbody tr th {\n",
       "        vertical-align: top;\n",
       "    }\n",
       "\n",
       "    .dataframe thead th {\n",
       "        text-align: right;\n",
       "    }\n",
       "</style>\n",
       "<table border=\"1\" class=\"dataframe\">\n",
       "  <thead>\n",
       "    <tr style=\"text-align: right;\">\n",
       "      <th></th>\n",
       "      <th>Area Code</th>\n",
       "      <th>Area</th>\n",
       "      <th>Item Code</th>\n",
       "      <th>Item</th>\n",
       "      <th>Element Code</th>\n",
       "      <th>Element</th>\n",
       "      <th>Unit</th>\n",
       "      <th>Y1961</th>\n",
       "      <th>Y1961F</th>\n",
       "      <th>Y1962</th>\n",
       "      <th>...</th>\n",
       "      <th>Y2013</th>\n",
       "      <th>Y2013F</th>\n",
       "      <th>Y2014</th>\n",
       "      <th>Y2014F</th>\n",
       "      <th>Y2015</th>\n",
       "      <th>Y2015F</th>\n",
       "      <th>Y2016</th>\n",
       "      <th>Y2016F</th>\n",
       "      <th>Y2017</th>\n",
       "      <th>Y2017F</th>\n",
       "    </tr>\n",
       "  </thead>\n",
       "  <tbody>\n",
       "    <tr>\n",
       "      <td>10</td>\n",
       "      <td>2</td>\n",
       "      <td>Afghanistan</td>\n",
       "      <td>1137</td>\n",
       "      <td>Meat indigenous, camel</td>\n",
       "      <td>5510</td>\n",
       "      <td>Production</td>\n",
       "      <td>tonnes</td>\n",
       "      <td>3600.0</td>\n",
       "      <td>Fc</td>\n",
       "      <td>4031.0</td>\n",
       "      <td>...</td>\n",
       "      <td>3510.0</td>\n",
       "      <td>Fc</td>\n",
       "      <td>NaN</td>\n",
       "      <td>NaN</td>\n",
       "      <td>NaN</td>\n",
       "      <td>NaN</td>\n",
       "      <td>NaN</td>\n",
       "      <td>NaN</td>\n",
       "      <td>NaN</td>\n",
       "      <td>NaN</td>\n",
       "    </tr>\n",
       "    <tr>\n",
       "      <td>13</td>\n",
       "      <td>2</td>\n",
       "      <td>Afghanistan</td>\n",
       "      <td>944</td>\n",
       "      <td>Meat indigenous, cattle</td>\n",
       "      <td>5510</td>\n",
       "      <td>Production</td>\n",
       "      <td>tonnes</td>\n",
       "      <td>42984.0</td>\n",
       "      <td>Fc</td>\n",
       "      <td>45811.0</td>\n",
       "      <td>...</td>\n",
       "      <td>117829.0</td>\n",
       "      <td>Fc</td>\n",
       "      <td>NaN</td>\n",
       "      <td>NaN</td>\n",
       "      <td>NaN</td>\n",
       "      <td>NaN</td>\n",
       "      <td>NaN</td>\n",
       "      <td>NaN</td>\n",
       "      <td>NaN</td>\n",
       "      <td>NaN</td>\n",
       "    </tr>\n",
       "  </tbody>\n",
       "</table>\n",
       "<p>2 rows × 121 columns</p>\n",
       "</div>"
      ],
      "text/plain": [
       "    Area Code         Area  Item Code                     Item  Element Code  \\\n",
       "10          2  Afghanistan       1137   Meat indigenous, camel          5510   \n",
       "13          2  Afghanistan        944  Meat indigenous, cattle          5510   \n",
       "\n",
       "       Element    Unit    Y1961 Y1961F    Y1962  ...     Y2013  Y2013F Y2014  \\\n",
       "10  Production  tonnes   3600.0     Fc   4031.0  ...    3510.0      Fc   NaN   \n",
       "13  Production  tonnes  42984.0     Fc  45811.0  ...  117829.0      Fc   NaN   \n",
       "\n",
       "    Y2014F Y2015  Y2015F Y2016  Y2016F Y2017  Y2017F  \n",
       "10     NaN   NaN     NaN   NaN     NaN   NaN     NaN  \n",
       "13     NaN   NaN     NaN   NaN     NaN   NaN     NaN  \n",
       "\n",
       "[2 rows x 121 columns]"
      ]
     },
     "execution_count": 6,
     "metadata": {},
     "output_type": "execute_result"
    }
   ],
   "source": [
    "livestock_meat = livestock_meat[livestock_meat['Unit'].str.contains('tonnes')]\n",
    "livestock_meat.head(2)"
   ]
  },
  {
   "cell_type": "markdown",
   "metadata": {},
   "source": [
    "**Flags**  \n",
    "The flags say something about the reliability of the data, but as this is the best data available we \"trust\" all the data. However, we do keep the flags in case we observe inconsistencies in the future."
   ]
  },
  {
   "cell_type": "markdown",
   "metadata": {},
   "source": [
    "**Reshaping**  \n",
    "To have this dataset fit the same format as the others we have to reshape it, so that the yearly values are rows instead of columns. Afterwards we clean years to an int (remove Y before the year)."
   ]
  },
  {
   "cell_type": "code",
   "execution_count": 7,
   "metadata": {},
   "outputs": [],
   "source": [
    "# Find the columns which are years, flags and metadata\n",
    "col_years = [col for col in livestock_meat.columns if (col[0] == 'Y') and (col[-1] != 'F') ]\n",
    "col_flags = [col for col in livestock_meat.columns if (col[0] == 'Y') and (col[-1] == 'F') ]\n",
    "col_metadata = livestock_meat.columns[0:7]\n",
    "\n",
    "# Do two melts, once on year and once on flag and add flags to dataframe with years\n",
    "temp_years = livestock_meat.melt(id_vars = col_metadata, value_vars = col_years, var_name = 'Year', value_name = 'Value')\n",
    "temp_flags = livestock_meat.melt(id_vars = col_metadata, value_vars = col_flags, var_name = 'FlagYear', value_name = 'Flag')\n",
    "meat_data = temp_years.join(temp_flags['Flag'])"
   ]
  },
  {
   "cell_type": "code",
   "execution_count": 8,
   "metadata": {},
   "outputs": [],
   "source": [
    "# Remove Y n\n",
    "meat_data['Year'] = meat_data['Year'].str.replace('Y', '').astype(int)"
   ]
  },
  {
   "cell_type": "code",
   "execution_count": 9,
   "metadata": {},
   "outputs": [
    {
     "data": {
      "text/html": [
       "<div>\n",
       "<style scoped>\n",
       "    .dataframe tbody tr th:only-of-type {\n",
       "        vertical-align: middle;\n",
       "    }\n",
       "\n",
       "    .dataframe tbody tr th {\n",
       "        vertical-align: top;\n",
       "    }\n",
       "\n",
       "    .dataframe thead th {\n",
       "        text-align: right;\n",
       "    }\n",
       "</style>\n",
       "<table border=\"1\" class=\"dataframe\">\n",
       "  <thead>\n",
       "    <tr style=\"text-align: right;\">\n",
       "      <th></th>\n",
       "      <th>Area Code</th>\n",
       "      <th>Area</th>\n",
       "      <th>Item Code</th>\n",
       "      <th>Item</th>\n",
       "      <th>Element Code</th>\n",
       "      <th>Element</th>\n",
       "      <th>Unit</th>\n",
       "      <th>Year</th>\n",
       "      <th>Value</th>\n",
       "      <th>Flag</th>\n",
       "    </tr>\n",
       "  </thead>\n",
       "  <tbody>\n",
       "    <tr>\n",
       "      <td>0</td>\n",
       "      <td>2</td>\n",
       "      <td>Afghanistan</td>\n",
       "      <td>1137</td>\n",
       "      <td>Meat indigenous, camel</td>\n",
       "      <td>5510</td>\n",
       "      <td>Production</td>\n",
       "      <td>tonnes</td>\n",
       "      <td>1961</td>\n",
       "      <td>3600.0</td>\n",
       "      <td>Fc</td>\n",
       "    </tr>\n",
       "    <tr>\n",
       "      <td>1</td>\n",
       "      <td>2</td>\n",
       "      <td>Afghanistan</td>\n",
       "      <td>944</td>\n",
       "      <td>Meat indigenous, cattle</td>\n",
       "      <td>5510</td>\n",
       "      <td>Production</td>\n",
       "      <td>tonnes</td>\n",
       "      <td>1961</td>\n",
       "      <td>42984.0</td>\n",
       "      <td>Fc</td>\n",
       "    </tr>\n",
       "  </tbody>\n",
       "</table>\n",
       "</div>"
      ],
      "text/plain": [
       "   Area Code         Area  Item Code                     Item  Element Code  \\\n",
       "0          2  Afghanistan       1137   Meat indigenous, camel          5510   \n",
       "1          2  Afghanistan        944  Meat indigenous, cattle          5510   \n",
       "\n",
       "      Element    Unit  Year    Value Flag  \n",
       "0  Production  tonnes  1961   3600.0   Fc  \n",
       "1  Production  tonnes  1961  42984.0   Fc  "
      ]
     },
     "execution_count": 9,
     "metadata": {},
     "output_type": "execute_result"
    }
   ],
   "source": [
    "meat_data.head(2)"
   ]
  },
  {
   "cell_type": "markdown",
   "metadata": {},
   "source": [
    "**Missing Data**  \n",
    "Below we can see that there are some data missing in the dataset, and when we are talking are talking about production at country-levet this is not very suprising. Since 1960, a lot of states have been founded and dissolved, with the Sovjet Union in 1991 as the most notable. As we are mostly looking at a continent-level, we choose to not clean this up at the moment, although it is important to remember with the data.  \n",
    "However, we choose to remove the data after 2013 as a lot of information is missing here."
   ]
  },
  {
   "cell_type": "code",
   "execution_count": 10,
   "metadata": {},
   "outputs": [
    {
     "data": {
      "image/png": "[encoded data removed]",
      "text/plain": [
       "<Figure size 864x432 with 1 Axes>"
      ]
     },
     "metadata": {
      "needs_background": "light"
     },
     "output_type": "display_data"
    }
   ],
   "source": [
    "# Create series with missing values\n",
    "missing_values = meat_data['Value'].isnull().groupby(meat_data['Year']).sum()\n",
    "\n",
    "# Plot missing values with years on x-axis and missing values on y-axis\n",
    "f = plt.figure(figsize = (12,6))\n",
    "plt.plot(missing_values.index, missing_values.values)\n",
    "plt.title('Missing Values in Livestock Dataset', fontsize = 16)\n",
    "plt.xlabel('Year', fontsize=12)\n",
    "plt.ylabel('Missing Values', fontsize=12)\n",
    "plt.show()"
   ]
  },
  {
   "cell_type": "code",
   "execution_count": 11,
   "metadata": {},
   "outputs": [
    {
     "data": {
      "text/html": [
       "<div>\n",
       "<style scoped>\n",
       "    .dataframe tbody tr th:only-of-type {\n",
       "        vertical-align: middle;\n",
       "    }\n",
       "\n",
       "    .dataframe tbody tr th {\n",
       "        vertical-align: top;\n",
       "    }\n",
       "\n",
       "    .dataframe thead th {\n",
       "        text-align: right;\n",
       "    }\n",
       "</style>\n",
       "<table border=\"1\" class=\"dataframe\">\n",
       "  <thead>\n",
       "    <tr style=\"text-align: right;\">\n",
       "      <th></th>\n",
       "      <th>Area Code</th>\n",
       "      <th>Area</th>\n",
       "      <th>Item Code</th>\n",
       "      <th>Item</th>\n",
       "      <th>Element Code</th>\n",
       "      <th>Element</th>\n",
       "      <th>Unit</th>\n",
       "      <th>Y1961</th>\n",
       "      <th>Y1961F</th>\n",
       "      <th>Y1962</th>\n",
       "      <th>...</th>\n",
       "      <th>Y2009</th>\n",
       "      <th>Y2009F</th>\n",
       "      <th>Y2010</th>\n",
       "      <th>Y2010F</th>\n",
       "      <th>Y2011</th>\n",
       "      <th>Y2011F</th>\n",
       "      <th>Y2012</th>\n",
       "      <th>Y2012F</th>\n",
       "      <th>Y2013</th>\n",
       "      <th>Y2013F</th>\n",
       "    </tr>\n",
       "  </thead>\n",
       "  <tbody>\n",
       "    <tr>\n",
       "      <td>10</td>\n",
       "      <td>2</td>\n",
       "      <td>Afghanistan</td>\n",
       "      <td>1137</td>\n",
       "      <td>Meat indigenous, camel</td>\n",
       "      <td>5510</td>\n",
       "      <td>Production</td>\n",
       "      <td>tonnes</td>\n",
       "      <td>3600.0</td>\n",
       "      <td>Fc</td>\n",
       "      <td>4031.0</td>\n",
       "      <td>...</td>\n",
       "      <td>3960.0</td>\n",
       "      <td>Fc</td>\n",
       "      <td>3960.0</td>\n",
       "      <td>Fc</td>\n",
       "      <td>3564.0</td>\n",
       "      <td>Fc</td>\n",
       "      <td>3600.0</td>\n",
       "      <td>Fc</td>\n",
       "      <td>3510.0</td>\n",
       "      <td>Fc</td>\n",
       "    </tr>\n",
       "    <tr>\n",
       "      <td>13</td>\n",
       "      <td>2</td>\n",
       "      <td>Afghanistan</td>\n",
       "      <td>944</td>\n",
       "      <td>Meat indigenous, cattle</td>\n",
       "      <td>5510</td>\n",
       "      <td>Production</td>\n",
       "      <td>tonnes</td>\n",
       "      <td>42984.0</td>\n",
       "      <td>Fc</td>\n",
       "      <td>45811.0</td>\n",
       "      <td>...</td>\n",
       "      <td>134133.0</td>\n",
       "      <td>Fc</td>\n",
       "      <td>130922.0</td>\n",
       "      <td>Fc</td>\n",
       "      <td>138002.0</td>\n",
       "      <td>Fc</td>\n",
       "      <td>137723.0</td>\n",
       "      <td>Fc</td>\n",
       "      <td>117829.0</td>\n",
       "      <td>Fc</td>\n",
       "    </tr>\n",
       "  </tbody>\n",
       "</table>\n",
       "<p>2 rows × 113 columns</p>\n",
       "</div>"
      ],
      "text/plain": [
       "    Area Code         Area  Item Code                     Item  Element Code  \\\n",
       "10          2  Afghanistan       1137   Meat indigenous, camel          5510   \n",
       "13          2  Afghanistan        944  Meat indigenous, cattle          5510   \n",
       "\n",
       "       Element    Unit    Y1961 Y1961F    Y1962  ...     Y2009  Y2009F  \\\n",
       "10  Production  tonnes   3600.0     Fc   4031.0  ...    3960.0      Fc   \n",
       "13  Production  tonnes  42984.0     Fc  45811.0  ...  134133.0      Fc   \n",
       "\n",
       "       Y2010  Y2010F     Y2011  Y2011F     Y2012  Y2012F     Y2013  Y2013F  \n",
       "10    3960.0      Fc    3564.0      Fc    3600.0      Fc    3510.0      Fc  \n",
       "13  130922.0      Fc  138002.0      Fc  137723.0      Fc  117829.0      Fc  \n",
       "\n",
       "[2 rows x 113 columns]"
      ]
     },
     "execution_count": 11,
     "metadata": {},
     "output_type": "execute_result"
    }
   ],
   "source": [
    "drop_years = ['Y2014', 'Y2015', 'Y2016', 'Y2017',  'Y2014F', 'Y2015F', 'Y2016F', 'Y2017F' ]\n",
    "livestock_meat.drop(drop_years, axis = 1, inplace = True)\n",
    "livestock_meat.head(2)"
   ]
  },
  {
   "cell_type": "markdown",
   "metadata": {},
   "source": [
    "**Categorizing the Data**  \n",
    "We would like to divide our dataset into areas, countries and continents for easier use in the future. Luckily, because of the way area codes are organized, this is easily done. Everything under 251 is countries, and everything above 5000 are areas. "
   ]
  },
  {
   "cell_type": "code",
   "execution_count": 12,
   "metadata": {},
   "outputs": [
    {
     "name": "stdout",
     "output_type": "stream",
     "text": [
      "\n",
      "    Function that splits data into countries, areas and continents.\n",
      "    params:\n",
      "        df: fao-dataframe that includes area codes.\n",
      "        \n",
      "    returns:\n",
      "        countries: dataframe with area-code < 500\n",
      "        area: dataframe with only area-code > 500\n",
      "        continents: dataframe with the 6 continents\n",
      "    \n",
      "    \n"
     ]
    }
   ],
   "source": [
    "from scripts.helpers import *\n",
    "print(split_fao_data.__doc__)\n",
    "\n",
    "meat_countries, meat_area, meat_continents = split_fao_data(meat_data)"
   ]
  },
  {
   "cell_type": "markdown",
   "metadata": {},
   "source": [
    "#### Summary of Livestock\n",
    "After the data cleaning we have three dataframes, one for countries, one for area and one with only continents. \n",
    "We have kept the cleaning quite general in order to not miss important information, but have still ended up with a dataset that is easy to use."
   ]
  },
  {
   "cell_type": "markdown",
   "metadata": {},
   "source": [
    "***\n",
    "## Crops\n",
    "\n",
    "The dataset covers production of all primary crops for all countries and regions in the world and the production is only for human consumption. Household production is not included in the data, that is, crops that are planted for personal consumption, in for example one’s garden. The dataset is available at <http://www.fao.org/faostat/en/#data/QC>.  \n",
    "\n",
    "Each row of the crops dataset contains data for a certain country/area, crop item and year. There are 8 columns of metadata, which can be seen below. The years in the dataset span from 1961 to 2007.\n"
   ]
  },
  {
   "cell_type": "code",
   "execution_count": 13,
   "metadata": {},
   "outputs": [
    {
     "data": {
      "text/html": [
       "<div>\n",
       "<style scoped>\n",
       "    .dataframe tbody tr th:only-of-type {\n",
       "        vertical-align: middle;\n",
       "    }\n",
       "\n",
       "    .dataframe tbody tr th {\n",
       "        vertical-align: top;\n",
       "    }\n",
       "\n",
       "    .dataframe thead th {\n",
       "        text-align: right;\n",
       "    }\n",
       "</style>\n",
       "<table border=\"1\" class=\"dataframe\">\n",
       "  <thead>\n",
       "    <tr style=\"text-align: right;\">\n",
       "      <th></th>\n",
       "      <th>country_or_area</th>\n",
       "      <th>element_code</th>\n",
       "      <th>element</th>\n",
       "      <th>year</th>\n",
       "      <th>unit</th>\n",
       "      <th>value</th>\n",
       "      <th>value_footnotes</th>\n",
       "      <th>category</th>\n",
       "    </tr>\n",
       "  </thead>\n",
       "  <tbody>\n",
       "    <tr>\n",
       "      <td>0</td>\n",
       "      <td>Americas +</td>\n",
       "      <td>31</td>\n",
       "      <td>Area Harvested</td>\n",
       "      <td>2007.0</td>\n",
       "      <td>Ha</td>\n",
       "      <td>49404.0</td>\n",
       "      <td>A</td>\n",
       "      <td>agave_fibres_nes</td>\n",
       "    </tr>\n",
       "    <tr>\n",
       "      <td>1</td>\n",
       "      <td>Americas +</td>\n",
       "      <td>31</td>\n",
       "      <td>Area Harvested</td>\n",
       "      <td>2006.0</td>\n",
       "      <td>Ha</td>\n",
       "      <td>49404.0</td>\n",
       "      <td>A</td>\n",
       "      <td>agave_fibres_nes</td>\n",
       "    </tr>\n",
       "    <tr>\n",
       "      <td>2</td>\n",
       "      <td>Americas +</td>\n",
       "      <td>31</td>\n",
       "      <td>Area Harvested</td>\n",
       "      <td>2005.0</td>\n",
       "      <td>Ha</td>\n",
       "      <td>49404.0</td>\n",
       "      <td>A</td>\n",
       "      <td>agave_fibres_nes</td>\n",
       "    </tr>\n",
       "  </tbody>\n",
       "</table>\n",
       "</div>"
      ],
      "text/plain": [
       "  country_or_area element_code         element    year unit    value  \\\n",
       "0      Americas +           31  Area Harvested  2007.0   Ha  49404.0   \n",
       "1      Americas +           31  Area Harvested  2006.0   Ha  49404.0   \n",
       "2      Americas +           31  Area Harvested  2005.0   Ha  49404.0   \n",
       "\n",
       "  value_footnotes          category  \n",
       "0              A   agave_fibres_nes  \n",
       "1              A   agave_fibres_nes  \n",
       "2              A   agave_fibres_nes  "
      ]
     },
     "execution_count": 13,
     "metadata": {},
     "output_type": "execute_result"
    }
   ],
   "source": [
    "data = pd.read_csv('raw_data/fao_data_crops_data.csv.zip', compression='zip', header=0, sep=',', quotechar='\"')\n",
    "data.head(3)"
   ]
  },
  {
   "cell_type": "markdown",
   "metadata": {},
   "source": [
    "### Explanation of Columns\n",
    "\n",
    "\n",
    "#### Elements\n",
    "- **Area harvested** refer to the area under cultivation. Area under cultivation means the area that corresponds to the total sown area, but after the harvest it excludes ruined areas (e.g. due to natural disasters). If the same land parcel is used twice in the same year, the area of this parcel can be counted twice. \n",
    "- **Production quantity** means the harvested production. Harvested production means production including on-holding losses and wastage, quantities consumed directly on the farm and marketed quantities, indicated in units of basic product weight. *Harvest year* means the calendar year in which the harvest begins. \n",
    "- **Yield** means the harvested production per ha for the area under cultivation. \n",
    "- **Seed** quantity comprises all amounts of the commodity in question used during the reference period for reproductive purposes, such as seed or seedlings. Usually, the average seed rate in any given country does not vary greatly from year to year."
   ]
  },
  {
   "cell_type": "markdown",
   "metadata": {},
   "source": [
    "#### Categories\n",
    "Crop statistics are recorded for 172 products, covering the following categories: Crops Primary, Fibre Crops Primary, Cereals, Coarse Grain, Citrus Fruit, Fruit, Jute Jute-like Fibres, Oilcakes Equivalent, Oil crops Primary, Pulses, Roots and Tubers, Treenuts and Vegetables and Melons. The objective is to comprehensively cover production of all primary crops for all countries and regions in the world. \n",
    "\n"
   ]
  },
  {
   "cell_type": "markdown",
   "metadata": {},
   "source": [
    "### Data Cleaning"
   ]
  },
  {
   "cell_type": "markdown",
   "metadata": {},
   "source": [
    "#### Renaming\n",
    "First of all we rename the columns to fit the livestock dataset.  \n",
    "This is mainly to make the first letter capital, but _Footnote_ changes to _Flag_ and _Category_ changes to _Item_."
   ]
  },
  {
   "cell_type": "code",
   "execution_count": 14,
   "metadata": {},
   "outputs": [
    {
     "data": {
      "text/html": [
       "<div>\n",
       "<style scoped>\n",
       "    .dataframe tbody tr th:only-of-type {\n",
       "        vertical-align: middle;\n",
       "    }\n",
       "\n",
       "    .dataframe tbody tr th {\n",
       "        vertical-align: top;\n",
       "    }\n",
       "\n",
       "    .dataframe thead th {\n",
       "        text-align: right;\n",
       "    }\n",
       "</style>\n",
       "<table border=\"1\" class=\"dataframe\">\n",
       "  <thead>\n",
       "    <tr style=\"text-align: right;\">\n",
       "      <th></th>\n",
       "      <th>Area</th>\n",
       "      <th>Element Code</th>\n",
       "      <th>Element</th>\n",
       "      <th>Year</th>\n",
       "      <th>Unit</th>\n",
       "      <th>Value</th>\n",
       "      <th>Flag</th>\n",
       "      <th>Item</th>\n",
       "    </tr>\n",
       "  </thead>\n",
       "  <tbody>\n",
       "    <tr>\n",
       "      <td>0</td>\n",
       "      <td>Americas +</td>\n",
       "      <td>31</td>\n",
       "      <td>Area Harvested</td>\n",
       "      <td>2007.0</td>\n",
       "      <td>Ha</td>\n",
       "      <td>49404.0</td>\n",
       "      <td>A</td>\n",
       "      <td>agave_fibres_nes</td>\n",
       "    </tr>\n",
       "    <tr>\n",
       "      <td>1</td>\n",
       "      <td>Americas +</td>\n",
       "      <td>31</td>\n",
       "      <td>Area Harvested</td>\n",
       "      <td>2006.0</td>\n",
       "      <td>Ha</td>\n",
       "      <td>49404.0</td>\n",
       "      <td>A</td>\n",
       "      <td>agave_fibres_nes</td>\n",
       "    </tr>\n",
       "  </tbody>\n",
       "</table>\n",
       "</div>"
      ],
      "text/plain": [
       "         Area Element Code         Element    Year Unit    Value Flag  \\\n",
       "0  Americas +           31  Area Harvested  2007.0   Ha  49404.0   A    \n",
       "1  Americas +           31  Area Harvested  2006.0   Ha  49404.0   A    \n",
       "\n",
       "               Item  \n",
       "0  agave_fibres_nes  \n",
       "1  agave_fibres_nes  "
      ]
     },
     "execution_count": 14,
     "metadata": {},
     "output_type": "execute_result"
    }
   ],
   "source": [
    "new_names = {'country_or_area': 'Area', 'element_code': 'Element Code', \n",
    "             'element': 'Element', 'year': 'Year', 'unit': 'Unit', \n",
    "             'value': 'Value', 'value_footnotes': 'Flag', 'category': 'Item'}\n",
    "\n",
    "data.rename(columns = new_names, inplace = True)\n",
    "data.head(2)"
   ]
  },
  {
   "cell_type": "markdown",
   "metadata": {},
   "source": [
    "#### Unnecessary rows:\n",
    "The dataset is ordered according to the alphabetical order of the categories and after the end of each Item, there are rows that contain the footnote-descriptions above. We therefore need to remove these rows since they don't contain any useful data."
   ]
  },
  {
   "cell_type": "code",
   "execution_count": 15,
   "metadata": {},
   "outputs": [],
   "source": [
    "# Removing rows that do not contain useful information\n",
    "keep_col = np.logical_not(data.Area.isin(['fnSeqID', 'Fc', 'A ', 'NR', 'F ', '* ']))\n",
    "crops_data = data[keep_col]"
   ]
  },
  {
   "cell_type": "code",
   "execution_count": 16,
   "metadata": {},
   "outputs": [
    {
     "name": "stdout",
     "output_type": "stream",
     "text": [
      "Number of countries in our dataset: 253\n"
     ]
    }
   ],
   "source": [
    "print(\"Number of countries in our dataset:\", crops_data.Area.unique().shape[0])"
   ]
  },
  {
   "cell_type": "markdown",
   "metadata": {},
   "source": [
    "#### Keep only category totals\n",
    "\n",
    "Since we want to analyse the general production of crops it is more interesting for us to look at the total production of the different categories instead of looking at every type of item. We will therefore only keep the totals in our dataset. The categories are stored using the following item names:\n",
    "- Fibre Crops Primary = fibre_crops_primary \n",
    "- Cereals = cereals_total\n",
    "- Coarse Grain = coarse_grain_total\n",
    "- Citrus Fruit = citrus_fruit_total\n",
    "- Fruit = fruit_excl_melons_total\n",
    "- Jute Jute-like Fibres = jute_jute_like_fibres\n",
    "- Oilcakes Equivalent = oilcakes_equivalent\n",
    "- Oil crops Primary = oil_crops_primary\n",
    "- Pulses = pulses_total\n",
    "- Roots and Tubers = roots_and_tubers_total \n",
    "- Treenuts = treenuts_total \n",
    "- Vegetables and Melons = vegetables_melons_total"
   ]
  },
  {
   "cell_type": "code",
   "execution_count": 17,
   "metadata": {},
   "outputs": [
    {
     "name": "stdout",
     "output_type": "stream",
     "text": [
      "Number of countries in categorized dataset 253\n",
      "\n",
      "Item categories in categorized dataset:\n",
      " ['cereals_total' 'citrus_fruit_total' 'coarse_grain_total'\n",
      " 'fibre_crops_primary' 'fruit_excl_melons_total' 'jute_jute_like_fibres'\n",
      " 'oilcakes_equivalent' 'oilcrops_primary' 'pulses_total'\n",
      " 'roots_and_tubers_total' 'treenuts_total' 'vegetables_melons_total']\n"
     ]
    }
   ],
   "source": [
    "keywords = ['_total', 'primary', 'jute_jute', 'oilcakes']\n",
    "items = crops_data.Item\n",
    "crops_categorized = crops_data[items.str.contains('|'.join(keywords))]\n",
    "\n",
    "print(\"Number of countries in categorized dataset\", crops_categorized.Area.unique().shape[0])\n",
    "print(\"\\nItem categories in categorized dataset:\\n\", crops_categorized.Item.unique())"
   ]
  },
  {
   "cell_type": "markdown",
   "metadata": {},
   "source": [
    "#### Missing information?"
   ]
  },
  {
   "cell_type": "markdown",
   "metadata": {},
   "source": [
    "Are we now missing any information in our datasets?"
   ]
  },
  {
   "cell_type": "code",
   "execution_count": 18,
   "metadata": {},
   "outputs": [
    {
     "name": "stdout",
     "output_type": "stream",
     "text": [
      "Missing information in categorized dataset: \n",
      " Area            0\n",
      "Element Code    0\n",
      "Element         0\n",
      "Year            0\n",
      "Unit            0\n",
      "Value           0\n",
      "Flag            0\n",
      "Item            0\n",
      "dtype: int64\n"
     ]
    }
   ],
   "source": [
    "print(\"Missing information in categorized dataset: \\n\", crops_categorized.isna().sum())"
   ]
  },
  {
   "cell_type": "markdown",
   "metadata": {},
   "source": [
    "No information is missing as far as we can tell. No cells seem to be missing information."
   ]
  },
  {
   "cell_type": "markdown",
   "metadata": {},
   "source": [
    "#### Elements"
   ]
  },
  {
   "cell_type": "markdown",
   "metadata": {},
   "source": [
    "**Observation:** Are the elements apart form Production Quantity really necessary?\n",
    "\n",
    "- *Seed* is the amount of seeds that were planted, which is not relevant for the scope of this project.\n",
    "- *Area Harvested* is the amount of land that was used for planting the crops in our dataset, which is not relevant for the scope of this project.\n",
    "- *Yield* is the amount of crops that was given by the planted area, which is not relevant for the scope of this project.\n",
    "\n",
    "We will therefore remove element categories: Seed, Area Harvested and Yield."
   ]
  },
  {
   "cell_type": "code",
   "execution_count": 19,
   "metadata": {},
   "outputs": [
    {
     "data": {
      "text/html": [
       "<div>\n",
       "<style scoped>\n",
       "    .dataframe tbody tr th:only-of-type {\n",
       "        vertical-align: middle;\n",
       "    }\n",
       "\n",
       "    .dataframe tbody tr th {\n",
       "        vertical-align: top;\n",
       "    }\n",
       "\n",
       "    .dataframe thead th {\n",
       "        text-align: right;\n",
       "    }\n",
       "</style>\n",
       "<table border=\"1\" class=\"dataframe\">\n",
       "  <thead>\n",
       "    <tr style=\"text-align: right;\">\n",
       "      <th></th>\n",
       "      <th>Area</th>\n",
       "      <th>Element Code</th>\n",
       "      <th>Element</th>\n",
       "      <th>Year</th>\n",
       "      <th>Unit</th>\n",
       "      <th>Value</th>\n",
       "      <th>Flag</th>\n",
       "      <th>Item</th>\n",
       "    </tr>\n",
       "  </thead>\n",
       "  <tbody>\n",
       "    <tr>\n",
       "      <td>364540</td>\n",
       "      <td>Afghanistan</td>\n",
       "      <td>152</td>\n",
       "      <td>Gross Production 1999-2001 (1000 I$)</td>\n",
       "      <td>2007.0</td>\n",
       "      <td>1000 Int. $</td>\n",
       "      <td>896908.0</td>\n",
       "      <td>A</td>\n",
       "      <td>cereals_total</td>\n",
       "    </tr>\n",
       "    <tr>\n",
       "      <td>364541</td>\n",
       "      <td>Afghanistan</td>\n",
       "      <td>152</td>\n",
       "      <td>Gross Production 1999-2001 (1000 I$)</td>\n",
       "      <td>2006.0</td>\n",
       "      <td>1000 Int. $</td>\n",
       "      <td>718798.0</td>\n",
       "      <td>A</td>\n",
       "      <td>cereals_total</td>\n",
       "    </tr>\n",
       "    <tr>\n",
       "      <td>364542</td>\n",
       "      <td>Afghanistan</td>\n",
       "      <td>152</td>\n",
       "      <td>Gross Production 1999-2001 (1000 I$)</td>\n",
       "      <td>2005.0</td>\n",
       "      <td>1000 Int. $</td>\n",
       "      <td>841895.0</td>\n",
       "      <td>A</td>\n",
       "      <td>cereals_total</td>\n",
       "    </tr>\n",
       "  </tbody>\n",
       "</table>\n",
       "</div>"
      ],
      "text/plain": [
       "               Area Element Code                               Element  \\\n",
       "364540  Afghanistan          152  Gross Production 1999-2001 (1000 I$)   \n",
       "364541  Afghanistan          152  Gross Production 1999-2001 (1000 I$)   \n",
       "364542  Afghanistan          152  Gross Production 1999-2001 (1000 I$)   \n",
       "\n",
       "          Year         Unit     Value Flag           Item  \n",
       "364540  2007.0  1000 Int. $  896908.0   A   cereals_total  \n",
       "364541  2006.0  1000 Int. $  718798.0   A   cereals_total  \n",
       "364542  2005.0  1000 Int. $  841895.0   A   cereals_total  "
      ]
     },
     "execution_count": 19,
     "metadata": {},
     "output_type": "execute_result"
    }
   ],
   "source": [
    "elements = ['Seed', 'Area Harvested', 'Yield']\n",
    "crops_processed = crops_categorized[np.logical_not(crops_categorized['Element'].isin(elements))]\n",
    "crops_processed.head(3)"
   ]
  },
  {
   "cell_type": "markdown",
   "metadata": {},
   "source": [
    "But what do the element categories with element codes > 140 include? Can we remove these?"
   ]
  },
  {
   "cell_type": "markdown",
   "metadata": {},
   "source": [
    "#### Element codes > 140"
   ]
  },
  {
   "cell_type": "code",
   "execution_count": 20,
   "metadata": {},
   "outputs": [
    {
     "name": "stdout",
     "output_type": "stream",
     "text": [
      "Number of countries in this data:  222\n"
     ]
    },
    {
     "data": {
      "text/html": [
       "<div>\n",
       "<style scoped>\n",
       "    .dataframe tbody tr th:only-of-type {\n",
       "        vertical-align: middle;\n",
       "    }\n",
       "\n",
       "    .dataframe tbody tr th {\n",
       "        vertical-align: top;\n",
       "    }\n",
       "\n",
       "    .dataframe thead th {\n",
       "        text-align: right;\n",
       "    }\n",
       "</style>\n",
       "<table border=\"1\" class=\"dataframe\">\n",
       "  <thead>\n",
       "    <tr style=\"text-align: right;\">\n",
       "      <th></th>\n",
       "      <th>Area</th>\n",
       "      <th>Element Code</th>\n",
       "      <th>Element</th>\n",
       "      <th>Year</th>\n",
       "      <th>Unit</th>\n",
       "      <th>Value</th>\n",
       "      <th>Flag</th>\n",
       "      <th>Item</th>\n",
       "    </tr>\n",
       "  </thead>\n",
       "  <tbody>\n",
       "    <tr>\n",
       "      <td>364540</td>\n",
       "      <td>Afghanistan</td>\n",
       "      <td>152</td>\n",
       "      <td>Gross Production 1999-2001 (1000 I$)</td>\n",
       "      <td>2007.0</td>\n",
       "      <td>1000 Int. $</td>\n",
       "      <td>896908.0</td>\n",
       "      <td>A</td>\n",
       "      <td>cereals_total</td>\n",
       "    </tr>\n",
       "    <tr>\n",
       "      <td>364541</td>\n",
       "      <td>Afghanistan</td>\n",
       "      <td>152</td>\n",
       "      <td>Gross Production 1999-2001 (1000 I$)</td>\n",
       "      <td>2006.0</td>\n",
       "      <td>1000 Int. $</td>\n",
       "      <td>718798.0</td>\n",
       "      <td>A</td>\n",
       "      <td>cereals_total</td>\n",
       "    </tr>\n",
       "    <tr>\n",
       "      <td>364542</td>\n",
       "      <td>Afghanistan</td>\n",
       "      <td>152</td>\n",
       "      <td>Gross Production 1999-2001 (1000 I$)</td>\n",
       "      <td>2005.0</td>\n",
       "      <td>1000 Int. $</td>\n",
       "      <td>841895.0</td>\n",
       "      <td>A</td>\n",
       "      <td>cereals_total</td>\n",
       "    </tr>\n",
       "    <tr>\n",
       "      <td>364543</td>\n",
       "      <td>Afghanistan</td>\n",
       "      <td>152</td>\n",
       "      <td>Gross Production 1999-2001 (1000 I$)</td>\n",
       "      <td>2004.0</td>\n",
       "      <td>1000 Int. $</td>\n",
       "      <td>549037.0</td>\n",
       "      <td>A</td>\n",
       "      <td>cereals_total</td>\n",
       "    </tr>\n",
       "    <tr>\n",
       "      <td>364544</td>\n",
       "      <td>Afghanistan</td>\n",
       "      <td>152</td>\n",
       "      <td>Gross Production 1999-2001 (1000 I$)</td>\n",
       "      <td>2003.0</td>\n",
       "      <td>1000 Int. $</td>\n",
       "      <td>685931.0</td>\n",
       "      <td>A</td>\n",
       "      <td>cereals_total</td>\n",
       "    </tr>\n",
       "  </tbody>\n",
       "</table>\n",
       "</div>"
      ],
      "text/plain": [
       "               Area Element Code                               Element  \\\n",
       "364540  Afghanistan          152  Gross Production 1999-2001 (1000 I$)   \n",
       "364541  Afghanistan          152  Gross Production 1999-2001 (1000 I$)   \n",
       "364542  Afghanistan          152  Gross Production 1999-2001 (1000 I$)   \n",
       "364543  Afghanistan          152  Gross Production 1999-2001 (1000 I$)   \n",
       "364544  Afghanistan          152  Gross Production 1999-2001 (1000 I$)   \n",
       "\n",
       "          Year         Unit     Value Flag           Item  \n",
       "364540  2007.0  1000 Int. $  896908.0   A   cereals_total  \n",
       "364541  2006.0  1000 Int. $  718798.0   A   cereals_total  \n",
       "364542  2005.0  1000 Int. $  841895.0   A   cereals_total  \n",
       "364543  2004.0  1000 Int. $  549037.0   A   cereals_total  \n",
       "364544  2003.0  1000 Int. $  685931.0   A   cereals_total  "
      ]
     },
     "execution_count": 20,
     "metadata": {},
     "output_type": "execute_result"
    }
   ],
   "source": [
    "elem_codes = ['152', '154', '434', '438', '432', '436']\n",
    "study_data = crops_processed[crops_processed['Element Code'].isin(elem_codes)]\n",
    "print(\"Number of countries in this data: \", study_data.Area.unique().shape[0])\n",
    "study_data.head(5)"
   ]
  },
  {
   "cell_type": "markdown",
   "metadata": {},
   "source": [
    "From what we can see in the new dataset that only contain these elements, both the rows in the beginning and end have the Item cereals_total. Is this the only Item?"
   ]
  },
  {
   "cell_type": "code",
   "execution_count": 21,
   "metadata": {},
   "outputs": [
    {
     "data": {
      "text/plain": [
       "array(['cereals_total'], dtype=object)"
      ]
     },
     "execution_count": 21,
     "metadata": {},
     "output_type": "execute_result"
    }
   ],
   "source": [
    "study_data.Item.unique()"
   ]
  },
  {
   "cell_type": "markdown",
   "metadata": {},
   "source": [
    "Apparently so. Does this catgory exist for the other type of elements as well? Because if it does, we should be able to remove the elements with codes 152-438 from our dataset."
   ]
  },
  {
   "cell_type": "code",
   "execution_count": 22,
   "metadata": {},
   "outputs": [
    {
     "name": "stdout",
     "output_type": "stream",
     "text": [
      "Number of countries in this data:  225\n"
     ]
    },
    {
     "data": {
      "text/plain": [
       "array(['51'], dtype=object)"
      ]
     },
     "execution_count": 22,
     "metadata": {},
     "output_type": "execute_result"
    }
   ],
   "source": [
    "study_data_2 = crops_processed[crops_processed.Item.str.contains('cereals_total')]\n",
    "study_data_2 = study_data_2[np.logical_not(study_data_2['Element Code'].isin(elem_codes))]\n",
    "print(\"Number of countries in this data: \", study_data_2.Area.unique().shape[0])\n",
    "study_data_2['Element Code'].unique()"
   ]
  },
  {
   "cell_type": "markdown",
   "metadata": {},
   "source": [
    "We can now see that the data for the Item 'cereals_total' with element codes > 140 are subgroups of element codes < 140. We can therefore remove this data from our dataset."
   ]
  },
  {
   "cell_type": "code",
   "execution_count": 23,
   "metadata": {},
   "outputs": [
    {
     "data": {
      "text/html": [
       "<div>\n",
       "<style scoped>\n",
       "    .dataframe tbody tr th:only-of-type {\n",
       "        vertical-align: middle;\n",
       "    }\n",
       "\n",
       "    .dataframe tbody tr th {\n",
       "        vertical-align: top;\n",
       "    }\n",
       "\n",
       "    .dataframe thead th {\n",
       "        text-align: right;\n",
       "    }\n",
       "</style>\n",
       "<table border=\"1\" class=\"dataframe\">\n",
       "  <thead>\n",
       "    <tr style=\"text-align: right;\">\n",
       "      <th></th>\n",
       "      <th>Area</th>\n",
       "      <th>Element Code</th>\n",
       "      <th>Element</th>\n",
       "      <th>Year</th>\n",
       "      <th>Unit</th>\n",
       "      <th>Value</th>\n",
       "      <th>Flag</th>\n",
       "      <th>Item</th>\n",
       "    </tr>\n",
       "  </thead>\n",
       "  <tbody>\n",
       "    <tr>\n",
       "      <td>364916</td>\n",
       "      <td>Afghanistan</td>\n",
       "      <td>51</td>\n",
       "      <td>Production Quantity</td>\n",
       "      <td>2007.0</td>\n",
       "      <td>tonnes</td>\n",
       "      <td>5778000.0</td>\n",
       "      <td>A</td>\n",
       "      <td>cereals_total</td>\n",
       "    </tr>\n",
       "    <tr>\n",
       "      <td>364917</td>\n",
       "      <td>Afghanistan</td>\n",
       "      <td>51</td>\n",
       "      <td>Production Quantity</td>\n",
       "      <td>2006.0</td>\n",
       "      <td>tonnes</td>\n",
       "      <td>4638000.0</td>\n",
       "      <td>A</td>\n",
       "      <td>cereals_total</td>\n",
       "    </tr>\n",
       "    <tr>\n",
       "      <td>364918</td>\n",
       "      <td>Afghanistan</td>\n",
       "      <td>51</td>\n",
       "      <td>Production Quantity</td>\n",
       "      <td>2005.0</td>\n",
       "      <td>tonnes</td>\n",
       "      <td>5425000.0</td>\n",
       "      <td>A</td>\n",
       "      <td>cereals_total</td>\n",
       "    </tr>\n",
       "  </tbody>\n",
       "</table>\n",
       "</div>"
      ],
      "text/plain": [
       "               Area Element Code              Element    Year    Unit  \\\n",
       "364916  Afghanistan           51  Production Quantity  2007.0  tonnes   \n",
       "364917  Afghanistan           51  Production Quantity  2006.0  tonnes   \n",
       "364918  Afghanistan           51  Production Quantity  2005.0  tonnes   \n",
       "\n",
       "            Value Flag           Item  \n",
       "364916  5778000.0   A   cereals_total  \n",
       "364917  4638000.0   A   cereals_total  \n",
       "364918  5425000.0   A   cereals_total  "
      ]
     },
     "execution_count": 23,
     "metadata": {},
     "output_type": "execute_result"
    }
   ],
   "source": [
    "# Drop rows with element codes > 140\n",
    "drop_col = np.logical_not(crops_processed['Element Code'].isin(elem_codes))\n",
    "crops_cleaned = crops_processed[drop_col]\n",
    "crops_cleaned.head(3)"
   ]
  },
  {
   "cell_type": "markdown",
   "metadata": {},
   "source": [
    "#### Area names with '+'\n",
    "\n",
    "There are countries/areas that contain a '+' at the end of the name. What names contain this sign and what do they have in common?"
   ]
  },
  {
   "cell_type": "code",
   "execution_count": 24,
   "metadata": {},
   "outputs": [
    {
     "data": {
      "text/plain": [
       "array(['Africa +', 'Americas +', 'Asia +', 'Australia and New Zealand +',\n",
       "       'Caribbean +', 'Central America +', 'Central Asia +',\n",
       "       'Eastern Africa +', 'Eastern Asia +', 'Eastern Europe +',\n",
       "       'Europe +', 'European Union +',\n",
       "       'LandLocked developing countries +', 'Least Developed Countries +',\n",
       "       'Low Income Food Deficit Countries +', 'Melanesia +',\n",
       "       'Micronesia +', 'Middle Africa +',\n",
       "       'Net Food Importing Developing Countries +', 'Northern Africa +',\n",
       "       'Northern America +', 'Northern Europe +', 'Oceania +',\n",
       "       'Small Island Developing States +', 'South America +',\n",
       "       'South-Eastern Asia +', 'Southern Africa +', 'Southern Asia +',\n",
       "       'Southern Europe +', 'Western Africa +', 'Western Asia +',\n",
       "       'Western Europe +', 'World +', 'Polynesia +'], dtype=object)"
      ]
     },
     "execution_count": 24,
     "metadata": {},
     "output_type": "execute_result"
    }
   ],
   "source": [
    "# Examining what names contain '?'\n",
    "country_series = crops_cleaned.Area\n",
    "names_with_sign = country_series[country_series.str.endswith('+')]\n",
    "names_with_sign.unique()"
   ]
  },
  {
   "cell_type": "markdown",
   "metadata": {},
   "source": [
    "All of the country/area names that contain a '+' at the end are all areas. We can therefore divide the dataset into several groups: one with all countries, one with all continents and one with the remaining areas."
   ]
  },
  {
   "cell_type": "markdown",
   "metadata": {},
   "source": [
    "#### Categorizing the Data "
   ]
  },
  {
   "cell_type": "code",
   "execution_count": 25,
   "metadata": {},
   "outputs": [
    {
     "name": "stdout",
     "output_type": "stream",
     "text": [
      "Number of unique countries: 219\n",
      "Number of unique continents: 6\n",
      "Number of unique areas: 28\n"
     ]
    },
    {
     "name": "stderr",
     "output_type": "stream",
     "text": [
      "/Users/theodor/anaconda3/envs/ada/lib/python3.7/site-packages/pandas/core/generic.py:5208: SettingWithCopyWarning: \n",
      "A value is trying to be set on a copy of a slice from a DataFrame.\n",
      "Try using .loc[row_indexer,col_indexer] = value instead\n",
      "\n",
      "See the caveats in the documentation: http://pandas.pydata.org/pandas-docs/stable/user_guide/indexing.html#returning-a-view-versus-a-copy\n",
      "  self[name] = value\n"
     ]
    }
   ],
   "source": [
    "# Splitting crops_data into country, continent and area based sets and renaming Area column\n",
    "\n",
    "crops_country = crops_cleaned[np.logical_not(country_series.str.endswith('+'))].rename({'Area': 'Area'}, axis=1)\n",
    "crops_remain = crops_cleaned[country_series.str.endswith('+')]\n",
    "\n",
    "# Remove last two characters from continent/area name\n",
    "crops_remain.Area = crops_remain.Area.str[:-2]\n",
    "\n",
    "continents = ['Africa', 'Northern America', 'South America', 'Asia', 'Oceania', 'Europe']\n",
    "is_continent = crops_remain.Area.isin(continents)\n",
    "\n",
    "crops_continent = crops_remain[is_continent].rename({'Area': 'Area'}, axis=1)\n",
    "crops_area = crops_remain[np.logical_not(is_continent)].rename({'Area': 'Area'}, axis=1)\n",
    "\n",
    "print('Number of unique countries:', crops_country.Area.unique().shape[0])\n",
    "print('Number of unique continents:', crops_continent.Area.unique().shape[0])\n",
    "print('Number of unique areas:', crops_area.Area.unique().shape[0])"
   ]
  },
  {
   "cell_type": "markdown",
   "metadata": {},
   "source": [
    "***\n",
    "## Population Data\n",
    "In order to interpret our data in a sensible way we also need population-data, as it of course will be a difference in food production with current population compared to 1960. The data is also collected from FAO, and looks very similar to the Livestock-dataset"
   ]
  },
  {
   "cell_type": "code",
   "execution_count": 40,
   "metadata": {},
   "outputs": [
    {
     "data": {
      "text/html": [
       "<div>\n",
       "<style scoped>\n",
       "    .dataframe tbody tr th:only-of-type {\n",
       "        vertical-align: middle;\n",
       "    }\n",
       "\n",
       "    .dataframe tbody tr th {\n",
       "        vertical-align: top;\n",
       "    }\n",
       "\n",
       "    .dataframe thead th {\n",
       "        text-align: right;\n",
       "    }\n",
       "</style>\n",
       "<table border=\"1\" class=\"dataframe\">\n",
       "  <thead>\n",
       "    <tr style=\"text-align: right;\">\n",
       "      <th></th>\n",
       "      <th>Domain Code</th>\n",
       "      <th>Domain</th>\n",
       "      <th>Area Code</th>\n",
       "      <th>Area</th>\n",
       "      <th>Element Code</th>\n",
       "      <th>Element</th>\n",
       "      <th>Item Code</th>\n",
       "      <th>Item</th>\n",
       "      <th>Year Code</th>\n",
       "      <th>Year</th>\n",
       "      <th>Unit</th>\n",
       "      <th>Value</th>\n",
       "      <th>Flag</th>\n",
       "      <th>Flag Description</th>\n",
       "      <th>Note</th>\n",
       "    </tr>\n",
       "  </thead>\n",
       "  <tbody>\n",
       "    <tr>\n",
       "      <td>0</td>\n",
       "      <td>OA</td>\n",
       "      <td>Annual population</td>\n",
       "      <td>2</td>\n",
       "      <td>Afghanistan</td>\n",
       "      <td>511</td>\n",
       "      <td>Total Population - Both sexes</td>\n",
       "      <td>3010</td>\n",
       "      <td>Population - Est. &amp; Proj.</td>\n",
       "      <td>1950</td>\n",
       "      <td>1950</td>\n",
       "      <td>1000 persons</td>\n",
       "      <td>7752.118</td>\n",
       "      <td>X</td>\n",
       "      <td>International reliable sources</td>\n",
       "      <td>UNDESA, Population Division – World Population...</td>\n",
       "    </tr>\n",
       "    <tr>\n",
       "      <td>1</td>\n",
       "      <td>OA</td>\n",
       "      <td>Annual population</td>\n",
       "      <td>2</td>\n",
       "      <td>Afghanistan</td>\n",
       "      <td>511</td>\n",
       "      <td>Total Population - Both sexes</td>\n",
       "      <td>3010</td>\n",
       "      <td>Population - Est. &amp; Proj.</td>\n",
       "      <td>1951</td>\n",
       "      <td>1951</td>\n",
       "      <td>1000 persons</td>\n",
       "      <td>7840.156</td>\n",
       "      <td>X</td>\n",
       "      <td>International reliable sources</td>\n",
       "      <td>NaN</td>\n",
       "    </tr>\n",
       "    <tr>\n",
       "      <td>2</td>\n",
       "      <td>OA</td>\n",
       "      <td>Annual population</td>\n",
       "      <td>2</td>\n",
       "      <td>Afghanistan</td>\n",
       "      <td>511</td>\n",
       "      <td>Total Population - Both sexes</td>\n",
       "      <td>3010</td>\n",
       "      <td>Population - Est. &amp; Proj.</td>\n",
       "      <td>1952</td>\n",
       "      <td>1952</td>\n",
       "      <td>1000 persons</td>\n",
       "      <td>7935.997</td>\n",
       "      <td>X</td>\n",
       "      <td>International reliable sources</td>\n",
       "      <td>NaN</td>\n",
       "    </tr>\n",
       "  </tbody>\n",
       "</table>\n",
       "</div>"
      ],
      "text/plain": [
       "  Domain Code             Domain  Area Code         Area  Element Code  \\\n",
       "0          OA  Annual population          2  Afghanistan           511   \n",
       "1          OA  Annual population          2  Afghanistan           511   \n",
       "2          OA  Annual population          2  Afghanistan           511   \n",
       "\n",
       "                         Element  Item Code                       Item  \\\n",
       "0  Total Population - Both sexes       3010  Population - Est. & Proj.   \n",
       "1  Total Population - Both sexes       3010  Population - Est. & Proj.   \n",
       "2  Total Population - Both sexes       3010  Population - Est. & Proj.   \n",
       "\n",
       "   Year Code  Year          Unit     Value Flag  \\\n",
       "0       1950  1950  1000 persons  7752.118    X   \n",
       "1       1951  1951  1000 persons  7840.156    X   \n",
       "2       1952  1952  1000 persons  7935.997    X   \n",
       "\n",
       "                 Flag Description  \\\n",
       "0  International reliable sources   \n",
       "1  International reliable sources   \n",
       "2  International reliable sources   \n",
       "\n",
       "                                                Note  \n",
       "0  UNDESA, Population Division – World Population...  \n",
       "1                                                NaN  \n",
       "2                                                NaN  "
      ]
     },
     "execution_count": 40,
     "metadata": {},
     "output_type": "execute_result"
    }
   ],
   "source": [
    "population = pd.read_csv('./raw_data/fao_data_population.csv')\n",
    "population.head(3)"
   ]
  },
  {
   "cell_type": "code",
   "execution_count": 41,
   "metadata": {},
   "outputs": [
    {
     "name": "stdout",
     "output_type": "stream",
     "text": [
      "Domain Code has 1 unique values.\n",
      "Domain has 1 unique values.\n",
      "Area Code has 273 unique values.\n",
      "Area has 273 unique values.\n",
      "Element Code has 1 unique values.\n",
      "Element has 1 unique values.\n",
      "Item Code has 1 unique values.\n",
      "Item has 1 unique values.\n",
      "Year Code has 69 unique values.\n",
      "Year has 69 unique values.\n",
      "Unit has 1 unique values.\n",
      "Value has 16730 unique values.\n",
      "Flag has 2 unique values.\n",
      "Flag Description has 2 unique values.\n",
      "Note has 2 unique values.\n"
     ]
    }
   ],
   "source": [
    "# Check unique values in dataset\n",
    "for (col_name, col_data) in population.iteritems():\n",
    "    print('{} has {} unique values.'.format(col_name, pd.unique(col_data).shape[0]))"
   ]
  },
  {
   "cell_type": "markdown",
   "metadata": {},
   "source": [
    "We see that many of the columns are irrelevant as they contain the same information in all columns. This is Domain Code, Domain, Element, Element Code, Item Code, Item, Year Code (Same as Year) and Note.  \n",
    "We actually have two Flags: A and X. X is regarded most reliable(_International reliable sources_), but we will also regard A (_Aggregate, may include official, semi-official, estimated or calculated data_) as reliable. Therefore we also remove these columns."
   ]
  },
  {
   "cell_type": "code",
   "execution_count": 42,
   "metadata": {},
   "outputs": [
    {
     "data": {
      "text/html": [
       "<div>\n",
       "<style scoped>\n",
       "    .dataframe tbody tr th:only-of-type {\n",
       "        vertical-align: middle;\n",
       "    }\n",
       "\n",
       "    .dataframe tbody tr th {\n",
       "        vertical-align: top;\n",
       "    }\n",
       "\n",
       "    .dataframe thead th {\n",
       "        text-align: right;\n",
       "    }\n",
       "</style>\n",
       "<table border=\"1\" class=\"dataframe\">\n",
       "  <thead>\n",
       "    <tr style=\"text-align: right;\">\n",
       "      <th></th>\n",
       "      <th>Area Code</th>\n",
       "      <th>Area</th>\n",
       "      <th>Year</th>\n",
       "      <th>Unit</th>\n",
       "      <th>Value</th>\n",
       "    </tr>\n",
       "  </thead>\n",
       "  <tbody>\n",
       "    <tr>\n",
       "      <td>0</td>\n",
       "      <td>2</td>\n",
       "      <td>Afghanistan</td>\n",
       "      <td>1950</td>\n",
       "      <td>1000 persons</td>\n",
       "      <td>7752.118</td>\n",
       "    </tr>\n",
       "    <tr>\n",
       "      <td>1</td>\n",
       "      <td>2</td>\n",
       "      <td>Afghanistan</td>\n",
       "      <td>1951</td>\n",
       "      <td>1000 persons</td>\n",
       "      <td>7840.156</td>\n",
       "    </tr>\n",
       "    <tr>\n",
       "      <td>2</td>\n",
       "      <td>2</td>\n",
       "      <td>Afghanistan</td>\n",
       "      <td>1952</td>\n",
       "      <td>1000 persons</td>\n",
       "      <td>7935.997</td>\n",
       "    </tr>\n",
       "  </tbody>\n",
       "</table>\n",
       "</div>"
      ],
      "text/plain": [
       "   Area Code         Area  Year          Unit     Value\n",
       "0          2  Afghanistan  1950  1000 persons  7752.118\n",
       "1          2  Afghanistan  1951  1000 persons  7840.156\n",
       "2          2  Afghanistan  1952  1000 persons  7935.997"
      ]
     },
     "execution_count": 42,
     "metadata": {},
     "output_type": "execute_result"
    }
   ],
   "source": [
    "drop_col = ['Domain Code', 'Domain', 'Element Code', 'Element', 'Item Code', 'Item', 'Year Code', 'Flag', 'Flag Description', 'Note']\n",
    "population.drop(drop_col, axis = 1, inplace = True)\n",
    "population.head(3)"
   ]
  },
  {
   "cell_type": "markdown",
   "metadata": {},
   "source": [
    "As we only have data in the other datasets from 1961 to 2013, we remove the extra years. "
   ]
  },
  {
   "cell_type": "code",
   "execution_count": 43,
   "metadata": {},
   "outputs": [],
   "source": [
    "population = population[(population['Year'] > 1960) & (population['Year'] <2014)]"
   ]
  },
  {
   "cell_type": "markdown",
   "metadata": {},
   "source": [
    "**Categorizing the Data**  \n",
    "We would like to divide our dataset into areas, countries and continents for easier use in the future. Luckily, because of the way area codes are organized, this is easily done. Everything under 251 is countries, and everything above 5000 are areas. "
   ]
  },
  {
   "cell_type": "code",
   "execution_count": 44,
   "metadata": {},
   "outputs": [
    {
     "name": "stdout",
     "output_type": "stream",
     "text": [
      "\n",
      "    Function that splits data into countries, areas and continents.\n",
      "    params:\n",
      "        df: fao-dataframe that includes area codes.\n",
      "        \n",
      "    returns:\n",
      "        countries: dataframe with area-code < 500\n",
      "        area: dataframe with only area-code > 500\n",
      "        continents: dataframe with the 6 continents\n",
      "    \n",
      "    \n"
     ]
    }
   ],
   "source": [
    "from scripts.helpers import *\n",
    "print(split_fao_data.__doc__)\n",
    "\n",
    "pop_countries, pop_area, pop_continents = split_fao_data(population)"
   ]
  },
  {
   "cell_type": "markdown",
   "metadata": {},
   "source": [
    "#### First look at the data\n",
    "To check if the data seems reasonable we plot the development in population for each continent."
   ]
  },
  {
   "cell_type": "code",
   "execution_count": 54,
   "metadata": {},
   "outputs": [
    {
     "data": {
      "image/png": "[encoded data removed]",
      "text/plain": [
       "<Figure size 864x432 with 1 Axes>"
      ]
     },
     "metadata": {
      "needs_background": "light"
     },
     "output_type": "display_data"
    }
   ],
   "source": [
    "tmp = pop_continents.groupby(['Year', 'Area']).agg({'Value':'sum'}).reset_index()\n",
    "\n",
    "f = plt.figure(figsize=(12, 6))\n",
    "for area in tmp.Area.unique():\n",
    "    y = tmp[tmp['Area'] == area].Value.values\n",
    "    x = tmp[tmp['Area'] == area].Year.values\n",
    "    plt.plot(x,y)\n",
    "    \n",
    "plt.legend(tmp.Area.unique())\n",
    "plt.title('Population in Continents', fontsize = 18)\n",
    "plt.xlabel('Year', fontsize = 14)\n",
    "plt.ylabel('Population [1000 persons]', fontsize = 14)\n",
    "plt.show()"
   ]
  },
  {
   "cell_type": "markdown",
   "metadata": {},
   "source": [
    "***\n",
    "\n"
   ]
  }
 ],
 "metadata": {
  "kernelspec": {
   "display_name": "Python [conda env:ada] *",
   "language": "python",
   "name": "conda-env-ada-py"
  },
  "language_info": {
   "codemirror_mode": {
    "name": "ipython",
    "version": 3
   },
   "file_extension": ".py",
   "mimetype": "text/x-python",
   "name": "python",
   "nbconvert_exporter": "python",
   "pygments_lexer": "ipython3",
   "version": "3.7.4"
  }
 },
 "nbformat": 4,
 "nbformat_minor": 4
}
