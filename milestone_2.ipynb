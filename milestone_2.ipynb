{
 "cells": [
  {
   "cell_type": "markdown",
   "metadata": {},
   "source": [
    "# Milestone 2\n",
    "This notebook summarizes all that we have done in the project so far, more detailed and thorough data exploration and cleaning can be found in each of the cleaning notebooks. Below are the research questions we wish to answer in this project.\n",
    "\n",
    "1. How has the crops/livestock primary production developed since 1960?\n",
    "2. Is there a connection between the development of livestock primary production and crop production?\n",
    "3. How are the differences in production quantities between the different continents?\n",
    "4. How has the development in agriculture affected emission of greenhouse gasses?\n",
    "\n",
    "To answer this we are using 4 different datasets, all are collected from FAO-STAT (Food and Agriculture Organization of the United Nations - <http://www.fao.org/faostat/en/#data>). In this notebook we will describe and clean all of the data. "
   ]
  },
  {
   "cell_type": "markdown",
   "metadata": {},
   "source": [
    "**Note regarding our datasets from FAO:**  \n",
    "- _There is limited geographical comparability due to differences between countries in methods and coverage, except for regions where countries are bound by regulations mandating harmonized methods, such as EU countries._\n",
    "- _For shorter time periods, reasonably good comparability over time can be expected, as there is stability in the product definition and classification. However, as the time series are very long (from 1961) full comparability over time cannot be expected._\n",
    "\n",
    "http://www.fao.org/faostat/en/#data/QL/metadata\n"
   ]
  },
  {
   "cell_type": "markdown",
   "metadata": {},
   "source": [
    "## Contents\n",
    "- Exploration and cleaning\n",
    "    - [Livestock](#livestock)\n",
    "    - [Crops](#crops)\n",
    "    - [Population](#population)\n",
    "    - [Emission](#emission)\n",
    "- [Plan for Milestone 3](#plan)"
   ]
  },
  {
   "cell_type": "markdown",
   "metadata": {},
   "source": [
    "### General Layout of Datasets\n",
    "As we have collected all the datasets from the same source they are somewhat organized in the same way. There are 7 columns with metadata and for most of the values there are also flags that explain how the data was collected.\n",
    "\n",
    "\n",
    "| Column name         | Explanation|\n",
    "|------------------------|--------|\n",
    "| Area                   |Name of country/area|\n",
    "| Area Code              |Unique code for each country/area|\n",
    "| Item                   |Type of product, e.g \"Eggs, hen, in shell\"|\n",
    "| Item Code              |Unique code for each Item|\n",
    "| Element                |Type data, e.g. Production, Yield, Milk Animals |\n",
    "| Unit                   |The unit of the measurement of the element |\n",
    "| Element Code           |Unique code based on pairs of Element and Unit|\n",
    "\n",
    "\n",
    "\n",
    "\n",
    "|  Flag  | Meaning of flag        |\n",
    "|--------|------------------------|\n",
    "| *      | Unofficial data        |\n",
    "| F      | FAO Estimate           |\n",
    "| NaN    | Official data          |\n",
    "| Fc     | Calculated data        |\n",
    "| A      | Aggregate, may include official, semi-official, estimated or calculated data |\n",
    "| M      | Data not available     | \n",
    "| Im     |FAO data based on imputation methodology |"
   ]
  },
  {
   "cell_type": "code",
   "execution_count": null,
   "metadata": {},
   "outputs": [],
   "source": [
    "# Import packages that are used\n",
    "import pandas as pd\n",
    "import numpy as np\n",
    "import matplotlib.pyplot as plt\n",
    "import matplotlib.ticker as mtick\n",
    "import seaborn as sns; sns.set()\n",
    "from matplotlib.font_manager import FontProperties\n",
    "import warnings\n"
   ]
  },
  {
   "cell_type": "markdown",
   "metadata": {},
   "source": [
    "---\n",
    "<a id='livestock'></a>\n",
    "## Livestock\n",
    "\n",
    "The livestock dataset covers information on several livestock products globally, during the time 1961-2014. From 2014-2017 several values may be missing. The data contains all the production from both industrial production and farm production. The dataset is available at http://www.fao.org/faostat/en/#data/QL.   \n",
    "\n",
    "Each row of the raw livestock dataset contains data on all years available, on a given metadata. There are 7 columns of metadata, which were described above, and the rest of the columns are data for each year. \n",
    "\n",
    "The Item also describes if a product is “indigenous” or not. If a product is not indigenous, the animal from which the product has been derived, has been imported."
   ]
  },
  {
   "cell_type": "code",
   "execution_count": null,
   "metadata": {},
   "outputs": [],
   "source": [
    "livestock = pd.read_csv('raw_data/Production_LivestockPrimary_E_All_Data.csv', sep = ',', encoding = 'latin-1')\n",
    "livestock.head(2)"
   ]
  },
  {
   "cell_type": "markdown",
   "metadata": {},
   "source": [
    "### Exploration\n",
    "\n",
    "Thorough information on all columns can be found in the notebook *livestock_data_cleaning.ipynb*.   \n",
    "Here are the different elements that are found in the dataset.\n",
    "\n",
    "\n",
    "|  Element             | Description            |\n",
    "|----------------------|------------------------|\n",
    "| Laying               | Birds raised for laying eggs        |\n",
    "| Yield                | How much of the animal which is used           |\n",
    "| Production           | How much is produced          |\n",
    "| Producing Animals/Slaughtered    | How many animals that are being produced for meat        |\n",
    "| Yield/Carcass Weight | Same as yield, but also taking account size of animal |\n",
    "| Milk Animals         | How many animals used for milk production     | \n",
    "| Prod Popultn         | Population of a given item  |\n"
   ]
  },
  {
   "cell_type": "markdown",
   "metadata": {},
   "source": [
    "### Data Cleaning"
   ]
  },
  {
   "cell_type": "markdown",
   "metadata": {},
   "source": [
    "**Elements**  \n",
    "As we are primarily interested in meat production in this task, we take away all elements except _Production_ and _Producing Animals/Slaughtered_. "
   ]
  },
  {
   "cell_type": "code",
   "execution_count": null,
   "metadata": {},
   "outputs": [],
   "source": [
    "livestock_prod = livestock[(livestock['Element'] == 'Production') | (livestock['Element'] == 'Producing Animals /Slaughtered') ]"
   ]
  },
  {
   "cell_type": "markdown",
   "metadata": {},
   "source": [
    "**Items**  \n",
    "After removing the other elements, we remove all items that are not meat."
   ]
  },
  {
   "cell_type": "code",
   "execution_count": null,
   "metadata": {},
   "outputs": [],
   "source": [
    "livestock_meat = livestock_prod[livestock_prod['Item'].str.contains('Meat')]\n",
    "livestock_meat.head(2)"
   ]
  },
  {
   "cell_type": "markdown",
   "metadata": {},
   "source": [
    "**Units**  \n",
    "To easily compare the data, we would like to have a joint unit for all the data. We see that for each item we get two numbers, number of animals (Heads) and the weight of produced meat (tonnes). We choose to only look at produced meat, and remove the head-counts."
   ]
  },
  {
   "cell_type": "code",
   "execution_count": null,
   "metadata": {},
   "outputs": [],
   "source": [
    "livestock_meat = livestock_meat[livestock_meat['Unit'].str.contains('tonnes')]\n",
    "livestock_meat.head(2)"
   ]
  },
  {
   "cell_type": "markdown",
   "metadata": {},
   "source": [
    "**Flags**  \n",
    "The flags say something about the reliability of the data, but as this is the best data available we \"trust\" all the data. However, we do keep the flags in case we observe inconsistencies in the future."
   ]
  },
  {
   "cell_type": "markdown",
   "metadata": {},
   "source": [
    "**Reshaping**  \n",
    "To have this dataset fit the same format as the others we have to reshape it, so that the yearly values are rows instead of columns. Afterwards we clean years to an int (remove Y before the year)."
   ]
  },
  {
   "cell_type": "code",
   "execution_count": null,
   "metadata": {},
   "outputs": [],
   "source": [
    "# Find the columns which are years, flags and metadata\n",
    "col_years = [col for col in livestock_meat.columns if (col[0] == 'Y') and (col[-1] != 'F') ]\n",
    "col_flags = [col for col in livestock_meat.columns if (col[0] == 'Y') and (col[-1] == 'F') ]\n",
    "col_metadata = livestock_meat.columns[0:7]\n",
    "\n",
    "# Do two melts, once on year and once on flag and add flags to dataframe with years\n",
    "temp_years = livestock_meat.melt(id_vars = col_metadata, value_vars = col_years, var_name = 'Year', value_name = 'Value')\n",
    "temp_flags = livestock_meat.melt(id_vars = col_metadata, value_vars = col_flags, var_name = 'FlagYear', value_name = 'Flag')\n",
    "meat_data = temp_years.join(temp_flags['Flag'])"
   ]
  },
  {
   "cell_type": "code",
   "execution_count": null,
   "metadata": {},
   "outputs": [],
   "source": [
    "# Remove Y in years\n",
    "meat_data['Year'] = meat_data['Year'].str.replace('Y', '').astype(int)"
   ]
  },
  {
   "cell_type": "code",
   "execution_count": null,
   "metadata": {},
   "outputs": [],
   "source": [
    "meat_data.head(2)"
   ]
  },
  {
   "cell_type": "markdown",
   "metadata": {},
   "source": [
    "**Missing Data**  \n",
    "Below we can see that there is some data missing in the dataset, and when we are talking about production at country-level this is not very suprising. Since 1960, a lot of states have been founded and dissolved, with the Soviet Union in 1991 as the most notable. We assume that the missing year is included somewhere else (for example Albania in Soviet Union), and remove all rows (that is years) with missing values.  \n",
    "\n",
    "Also, we choose to remove the data after 2013 as a lot of information is missing here and we wish to have consistent data."
   ]
  },
  {
   "cell_type": "code",
   "execution_count": null,
   "metadata": {},
   "outputs": [],
   "source": [
    "# Create series with missing values\n",
    "missing_values = meat_data['Value'].isnull().groupby(meat_data['Year']).sum()\n",
    "\n",
    "# Plot missing values with years on x-axis and missing values on y-axis\n",
    "f = plt.figure(figsize = (12,6))\n",
    "plt.plot(missing_values.index, missing_values.values)\n",
    "plt.title('Missing Values in Livestock Dataset', fontsize = 16)\n",
    "plt.xlabel('Year', fontsize=12)\n",
    "plt.ylabel('Missing Values', fontsize=12)\n",
    "plt.show()"
   ]
  },
  {
   "cell_type": "code",
   "execution_count": null,
   "metadata": {},
   "outputs": [],
   "source": [
    "# Remove all null values\n",
    "meat_data = meat_data[meat_data['Value'].notnull()]\n",
    "\n",
    "# Also remove all data after 2014 to have consistent data\n",
    "meat_data = meat_data[meat_data['Year'] < 2014]"
   ]
  },
  {
   "cell_type": "markdown",
   "metadata": {},
   "source": [
    "**Categorizing the Data**  \n",
    "We would like to divide our dataset into areas, countries and continents for easier use in the future. Luckily, because of the way area codes are organized, this is easily done. Everything under 251 is countries, and everything above 5000 are areas. "
   ]
  },
  {
   "cell_type": "code",
   "execution_count": null,
   "metadata": {},
   "outputs": [],
   "source": [
    "from scripts.helpers import split_fao_data\n",
    "print(split_fao_data.__doc__)\n",
    "\n",
    "meat_countries, meat_area, meat_continents = split_fao_data(meat_data)"
   ]
  },
  {
   "cell_type": "markdown",
   "metadata": {},
   "source": [
    "#### Summary of Livestock Dataset\n",
    "After the data cleaning we have three dataframes, one for countries, one for area and one with only continents. \n",
    "We have kept the cleaning quite general in order to not miss important information, but have still ended up with a dataset that is easy to use."
   ]
  },
  {
   "cell_type": "markdown",
   "metadata": {},
   "source": [
    "### First look at the clean Livestock data\n",
    "We ended up with 3 separate files for the livestock production data. One data set for the production aggregated continentally, one for country specific production and one for more specific areas within continents (e.g. Western Africa, Northern Europe). Let's take a look at how the production quantities have changed and what meats we have."
   ]
  },
  {
   "cell_type": "code",
   "execution_count": null,
   "metadata": {},
   "outputs": [],
   "source": [
    "meat_area = pd.read_pickle('data/pickles/meat_area.pkl')\n",
    "meat_cont = pd.read_pickle('data/pickles/meat_continents.pkl')\n",
    "meat_country = pd.read_pickle('data/pickles/meat_countries.pkl')\n",
    "meat_cont.head(3)"
   ]
  },
  {
   "cell_type": "code",
   "execution_count": null,
   "metadata": {},
   "outputs": [],
   "source": [
    "yearly_meat = meat_cont.groupby(['Area', 'Year']).agg({'Value':'sum'}).reset_index()\n",
    "\n",
    "fig = plt.figure(figsize=(12, 6))\n",
    "for cont in yearly_meat.Area.unique():\n",
    "    y = yearly_meat[yearly_meat['Area'] == cont].Value.values\n",
    "    x = yearly_meat[yearly_meat['Area'] == cont].Year.values\n",
    "    \n",
    "    plt.plot(x, y, label = cont)\n",
    "    plt.title('Continental meat production')\n",
    "    plt.ylabel('Tonnes*10^8')\n",
    "    plt.xlabel('Year')\n",
    "    plt.legend()"
   ]
  },
  {
   "cell_type": "markdown",
   "metadata": {},
   "source": [
    "We can see that meat production has increased globally, and Asia has been the major driver in this increase. The data here is not normalized to population and Asia has experienced a major increase in population so lets take a look at production normalized to population. "
   ]
  },
  {
   "cell_type": "code",
   "execution_count": null,
   "metadata": {},
   "outputs": [],
   "source": [
    "population = pd.read_csv('./data/csv/pop_continents.csv')"
   ]
  },
  {
   "cell_type": "code",
   "execution_count": null,
   "metadata": {},
   "outputs": [],
   "source": [
    "def plot_yearly(yearly_item, item, yearly_population, by = 'Area'):\n",
    "    warnings.filterwarnings('ignore')\n",
    "    fig, axs = plt.subplots(2, 2)\n",
    "    \n",
    "    yearly_population.sort_values(by = 'Year', inplace = True)\n",
    "    groups = yearly_item[by].unique()\n",
    "    world_year_population = yearly_population.groupby('Year').agg({'Value':'sum'}).reset_index()\n",
    "    \n",
    "    mycolors = ['tab:red', 'tab:blue', 'tab:green', 'tab:orange', 'tab:pink']  \n",
    "    fig.set_size_inches(15,12)\n",
    "\n",
    "    plot_y = []\n",
    "    for group in groups:\n",
    "        y = yearly_item[yearly_item[by] == group].Value.values\n",
    "        x = yearly_item[yearly_item[by] == group].Year.values\n",
    "        \n",
    "        axs[0,0].plot(x, y)\n",
    "        \n",
    "        if by == 'Area':\n",
    "            y_n = yearly_item[yearly_item[by] == group].Value.values/(yearly_population[yearly_population[by] == group].Value.values*1000)\n",
    "            axs[1,0].plot(x, y_n)\n",
    "\n",
    "        plot_y.append(yearly_item[yearly_item[by] == cont].Value.values.tolist())\n",
    "\n",
    "    axs[0,0].legend(groups)\n",
    "    axs[0,0].set_title(item + ' production per continent')\n",
    "    axs[0,0].set_xlabel('Year')\n",
    "    axs[0,0].set_ylabel('Tonnes')\n",
    "    axs[0,0].yaxis.set_major_formatter(mtick.StrMethodFormatter('{x:,.0}')) \n",
    "\n",
    "    axs[0,1].stackplot(x, np.vstack(plot_y), labels = groups, alpha=0.8)\n",
    "    axs[0,1].legend(loc='upper left')\n",
    "    axs[0,1].set_title('Total world '+ item +' production')\n",
    "    axs[0,1].set_xlabel('Year')\n",
    "    axs[0,1].set_ylabel('Tonnes')\n",
    "    axs[0,1].yaxis.set_major_formatter(mtick.StrMethodFormatter('{x:,.0}'))\n",
    "    \n",
    "    if by == 'Area':\n",
    "        \n",
    "        axs[1,0].set_title(item + ' production per continent, normalized on continent population')\n",
    "        axs[1,0].set_xlabel('Year')\n",
    "        axs[1,0].set_ylabel('Tonnes')\n",
    "\n",
    "        total_year_item = yearly_item.groupby('Year').agg({'Value':'sum'}).reset_index()\n",
    "\n",
    "        axs[1,1].plot(total_year_item['Year'].values,\n",
    "                total_year_item['Value'].values/(world_year_population['Value'].values*1000))\n",
    "        axs[1,1].legend(['Total all continents'])\n",
    "        axs[1,1].set_title('Total, normalized on population')\n",
    "        axs[1,1].set_xlabel('Year')\n",
    "        axs[1,1].set_ylabel('Tonnes')\n",
    "\n",
    "    plt.show()"
   ]
  },
  {
   "cell_type": "code",
   "execution_count": null,
   "metadata": {},
   "outputs": [],
   "source": [
    "area_year_population = population.groupby(['Area', 'Year']).agg({'Value':'sum','Unit':'first'}).reset_index()\n",
    "plot_yearly(yearly_meat, 'Meat', area_year_population, 'Area')"
   ]
  },
  {
   "cell_type": "markdown",
   "metadata": {},
   "source": [
    "When we normalize by population count, we can see that Oceania is fairly volatile, perhaps a result of low population compared to the meat production. Overall we can see that when the production is normalized by population, Asia is not nearly as significant. In fact, Oceania has the largest production of meat per person. However, we can see an increase in production for all continents except Europe, where the production has not risen since the 90s. In the end, total meat production per year per person has more than doubled in the last 50 years.\n",
    "\n",
    "Let us take a look into the production of different meats. We will choose to only focus on indigenous meat production for the time being."
   ]
  },
  {
   "cell_type": "code",
   "execution_count": null,
   "metadata": {},
   "outputs": [],
   "source": [
    "warnings.filterwarnings('ignore')\n",
    "#Drop everythin except indigenous and drop some aggregates\n",
    "meat_cont_ind = meat_cont[(meat_cont.Item.str.contains('indigenous')) &\n",
    "                          (np.logical_not(meat_cont.Item.str.contains('total'))) &\n",
    "                          (np.logical_not(meat_cont.Item.str.contains('poultry')))]\n",
    "\n",
    "meat_cont_ind = meat_cont_ind.groupby(['Item', 'Year']).agg({'Value':'sum'}).reset_index()\n",
    "fig = plt.figure(figsize = (15,8))\n",
    "\n",
    "largest_groups = meat_cont_ind[meat_cont_ind['Year'] == 2013].sort_values(by = 'Value', ascending = False).head(3).Item\n",
    "\n",
    "wy_population = area_year_population.groupby('Year').agg({'Value':'sum'}).reset_index()\n",
    "groups = meat_cont_ind.Item.unique()\n",
    "labels = meat_cont_ind[meat_cont_ind['Year'] == 2013].sort_values(by = 'Value', ascending = False).iloc[1:6, :].Item.values \n",
    "\n",
    "for group in groups:\n",
    "    y = meat_cont_ind[meat_cont_ind['Item'] == group].Value.values\n",
    "    x = meat_cont_ind[meat_cont_ind['Item'] == group].Year.values\n",
    "        \n",
    "    plt.subplot(1,2,1)\n",
    "    if group in list(largest_groups):\n",
    "        plt.plot(x, y, label = group)\n",
    "    else:\n",
    "        plt.plot(x, y)\n",
    "        \n",
    "    plt.xlabel('Year')\n",
    "    plt.ylabel('Tonnes')\n",
    "    plt.title('Yearly production of different indigenous meats')\n",
    "    plt.legend()\n",
    "    \n",
    "    \n",
    "    plt.subplot(1,2,2)\n",
    "    y = meat_cont_ind[meat_cont_ind['Item'] == group].Value.values/(wy_population.Value.values*1000)\n",
    "    if group in list(largest_groups):\n",
    "        plt.plot(x, y, label = group)\n",
    "    else:\n",
    "        plt.plot(x, y)\n",
    "    \n",
    "    plt.xlabel('Year')\n",
    "    plt.ylabel('Tonnes')\n",
    "    plt.title('Yearly production of different indigenous meats, Normalized on population')\n",
    "    plt.plot(x, y)"
   ]
  },
  {
   "cell_type": "markdown",
   "metadata": {},
   "source": [
    "We clearly have 3 different meats with a significantly higher production quantity than the others. Overall the production quantities seem to have increased yearly in total, but when normalized by population count we can see that some meats have decreased in production."
   ]
  },
  {
   "cell_type": "code",
   "execution_count": null,
   "metadata": {},
   "outputs": [],
   "source": [
    "meat_cont_ind[meat_cont_ind['Year'] == 2013].sort_values(by = 'Value', ascending = False).head()"
   ]
  },
  {
   "cell_type": "markdown",
   "metadata": {},
   "source": [
    "Our 3 most commonly produced meats are (not surprisingly) pig, chicken and cattle."
   ]
  },
  {
   "cell_type": "markdown",
   "metadata": {},
   "source": [
    "***\n",
    "<a id='crops'></a>\n",
    "## Crops\n",
    "\n",
    "The crops dataset covers production of all primary crops for all countries and regions in the world and **the production is only for human consumption**. Household production is not included in the data, that is, crops that are planted for personal consumption, in for example one’s garden. The dataset is available at https://www.kaggle.com/unitednations/global-food-agriculture-statistics.  \n",
    "\n",
    "Each row of the crops dataset contains data for a certain country/area, crop item and year. There are 7 columns of metadata, and the years in the dataset span from 1961 to 2007."
   ]
  },
  {
   "cell_type": "code",
   "execution_count": null,
   "metadata": {},
   "outputs": [],
   "source": [
    "data = pd.read_csv('raw_data/fao_data_crops_data.csv.zip', compression='zip', header=0, sep=',', quotechar='\"')\n",
    "data.head(3)"
   ]
  },
  {
   "cell_type": "markdown",
   "metadata": {},
   "source": [
    "### Explanation of Columns\n",
    "\n",
    "\n",
    "#### Elements\n",
    "- **Area harvested** refer to the area under cultivation. Area under cultivation means the area that corresponds to the total sown area, but after the harvest it excludes ruined areas (e.g. due to natural disasters). If the same land parcel is used twice in the same year, the area of this parcel can be counted twice. \n",
    "- **Production quantity** means the harvested production. Harvested production means production including on-holding losses and wastage, quantities consumed directly on the farm and marketed quantities, indicated in units of basic product weight. *Harvest year* means the calendar year in which the harvest begins. \n",
    "- **Yield** means the harvested production per ha for the area under cultivation. \n",
    "- **Seed** quantity comprises all amounts of the commodity in question used during the reference period for reproductive purposes, such as seed or seedlings. Usually, the average seed rate in any given country does not vary greatly from year to year.\n",
    "- **Gross Production, Net Production, Net per capita PIN, Grs per capita PIN, Net PIN, Gross PIN** (element codes > 140)"
   ]
  },
  {
   "cell_type": "markdown",
   "metadata": {},
   "source": [
    "#### Categories\n",
    "Crop statistics are recorded for 172 products, covering the following categories: Fibre Crops Primary, Cereals, Coarse Grain, Citrus Fruit, Fruit, Jute Jute-like Fibres, Oilcakes Equivalent, Oil crops Primary, Pulses, Roots and Tubers, Treenuts and Vegetables and Melons. The objective is to comprehensively cover production of all primary crops for all countries and regions in the world. \n",
    "\n"
   ]
  },
  {
   "cell_type": "markdown",
   "metadata": {},
   "source": [
    "### Data Cleaning"
   ]
  },
  {
   "cell_type": "markdown",
   "metadata": {},
   "source": [
    "#### Renaming\n",
    "First of all we rename the columns to fit the livestock dataset.  \n",
    "This is mainly to make the first letter capital, but _Footnote_ changes to _Flag_ and _Category_ changes to _Item_."
   ]
  },
  {
   "cell_type": "code",
   "execution_count": null,
   "metadata": {},
   "outputs": [],
   "source": [
    "new_names = {'country_or_area': 'Area', 'element_code': 'Element Code', \n",
    "             'element': 'Element', 'year': 'Year', 'unit': 'Unit', \n",
    "             'value': 'Value', 'value_footnotes': 'Flag', 'category': 'Item'}\n",
    "\n",
    "data.rename(columns = new_names, inplace = True)\n",
    "data.head(2)"
   ]
  },
  {
   "cell_type": "markdown",
   "metadata": {},
   "source": [
    "#### Unnecessary rows:\n",
    "The dataset is ordered according to the alphabetical order of the _Item_ and after the end of each Item, there are rows that contain the footnote-descriptions mentioned before.  \n",
    "We therefore need to remove these rows since they don't contain any useful data."
   ]
  },
  {
   "cell_type": "code",
   "execution_count": null,
   "metadata": {},
   "outputs": [],
   "source": [
    "# Removing rows that do not contain useful information\n",
    "keep_col = np.logical_not(data.Area.isin(['fnSeqID', 'Fc', 'A ', 'NR', 'F ', '* ']))\n",
    "crops_data = data[keep_col]"
   ]
  },
  {
   "cell_type": "markdown",
   "metadata": {},
   "source": [
    "#### Keep only category totals\n",
    "\n",
    "Since we want to analyse the general production of crops it is more interesting for us to look at the total production of the different categories instead of looking at every type of item. We will therefore only keep the totals in our dataset. The categories are stored using the following item names:\n",
    "- Fibre Crops Primary = fibre_crops_primary \n",
    "- Cereals = cereals_total\n",
    "- Coarse Grain = coarse_grain_total\n",
    "- Citrus Fruit = citrus_fruit_total\n",
    "- Fruit = fruit_excl_melons_total\n",
    "- Jute Jute-like Fibres = jute_jute_like_fibres\n",
    "- Oilcakes Equivalent = oilcakes_equivalent\n",
    "- Oil crops Primary = oil_crops_primary\n",
    "- Pulses = pulses_total\n",
    "- Roots and Tubers = roots_and_tubers_total \n",
    "- Treenuts = treenuts_total \n",
    "- Vegetables and Melons = vegetables_melons_total"
   ]
  },
  {
   "cell_type": "code",
   "execution_count": null,
   "metadata": {},
   "outputs": [],
   "source": [
    "keywords = ['_total', 'primary', 'jute_jute', 'oilcakes']\n",
    "items = crops_data.Item\n",
    "crops_categorized = crops_data[items.str.contains('|'.join(keywords))]\n",
    "\n",
    "print(\"Item categories in categorized dataset:\\n\", crops_categorized.Item.unique())"
   ]
  },
  {
   "cell_type": "markdown",
   "metadata": {},
   "source": [
    "#### Missing Data"
   ]
  },
  {
   "cell_type": "markdown",
   "metadata": {},
   "source": [
    "Below we check if there is missing data in our dataset, and as we see there is none."
   ]
  },
  {
   "cell_type": "code",
   "execution_count": null,
   "metadata": {},
   "outputs": [],
   "source": [
    "print(\"Missing information in categorized dataset: \\n\", crops_categorized.isna().sum())"
   ]
  },
  {
   "cell_type": "markdown",
   "metadata": {},
   "source": [
    "#### Elements"
   ]
  },
  {
   "cell_type": "markdown",
   "metadata": {},
   "source": [
    "**Observation:** Are the elements apart form Production Quantity really necessary?\n",
    "\n",
    "- *Seed* is the amount of seeds that were planted, which is not relevant for the scope of this project.\n",
    "- *Area Harvested* is the amount of land that was used for planting the crops in our dataset, which is not relevant for the scope of this project.\n",
    "- *Yield* is the amount of crops that was given by the planted area, which is not relevant for the scope of this project.\n",
    "\n",
    "We will therefore remove element categories: Seed, Area Harvested and Yield."
   ]
  },
  {
   "cell_type": "code",
   "execution_count": null,
   "metadata": {},
   "outputs": [],
   "source": [
    "elements = ['Seed', 'Area Harvested', 'Yield']\n",
    "crops_processed = crops_categorized[np.logical_not(crops_categorized['Element'].isin(elements))]\n",
    "crops_processed.head(3)"
   ]
  },
  {
   "cell_type": "markdown",
   "metadata": {},
   "source": [
    "But what do the element categories with element codes > 140 include? Can we remove these?"
   ]
  },
  {
   "cell_type": "markdown",
   "metadata": {},
   "source": [
    "#### Element codes > 140"
   ]
  },
  {
   "cell_type": "code",
   "execution_count": null,
   "metadata": {},
   "outputs": [],
   "source": [
    "elem_codes = ['152', '154', '434', '438', '432', '436']\n",
    "study_data = crops_processed[crops_processed['Element Code'].isin(elem_codes)]\n",
    "print(\"Number of countries in this data: \", study_data.Area.unique().shape[0])\n",
    "study_data.head(5)"
   ]
  },
  {
   "cell_type": "markdown",
   "metadata": {},
   "source": [
    "From what we can see in the new dataset that only contain these elements, both the rows in the beginning and end have the Item cereals_total. Is this the only Item?"
   ]
  },
  {
   "cell_type": "code",
   "execution_count": null,
   "metadata": {},
   "outputs": [],
   "source": [
    "study_data.Item.unique()"
   ]
  },
  {
   "cell_type": "markdown",
   "metadata": {},
   "source": [
    "Apparently so. Does this catgory exist for the other type of elements as well? Because if it does, we should be able to remove the elements with codes 152-438 from our dataset."
   ]
  },
  {
   "cell_type": "code",
   "execution_count": null,
   "metadata": {},
   "outputs": [],
   "source": [
    "study_data_2 = crops_processed[crops_processed.Item.str.contains('cereals_total')]\n",
    "study_data_2 = study_data_2[np.logical_not(study_data_2['Element Code'].isin(elem_codes))]\n",
    "print(\"Number of countries in this data: \", study_data_2.Area.unique().shape[0])\n",
    "study_data_2['Element Code'].unique()"
   ]
  },
  {
   "cell_type": "markdown",
   "metadata": {},
   "source": [
    "We can now see that the data for the Item 'cereals_total' with element codes > 140 are subgroups of element codes < 140. We can therefore remove this data from our dataset."
   ]
  },
  {
   "cell_type": "code",
   "execution_count": null,
   "metadata": {},
   "outputs": [],
   "source": [
    "# Drop rows with element codes > 140\n",
    "drop_col = np.logical_not(crops_processed['Element Code'].isin(elem_codes))\n",
    "crops_cleaned = crops_processed[drop_col]\n",
    "crops_cleaned.head(3)"
   ]
  },
  {
   "cell_type": "markdown",
   "metadata": {},
   "source": [
    "#### Area names with '+'\n",
    "\n",
    "There are countries/areas that contain a '+' at the end of the name. What names contain this sign and what do they have in common?"
   ]
  },
  {
   "cell_type": "code",
   "execution_count": null,
   "metadata": {},
   "outputs": [],
   "source": [
    "# Examining what names contain '?'\n",
    "country_series = crops_cleaned.Area\n",
    "names_with_sign = country_series[country_series.str.endswith('+')]\n",
    "names_with_sign.unique()"
   ]
  },
  {
   "cell_type": "markdown",
   "metadata": {},
   "source": [
    "All of the country/area names that contain a '+' at the end are all areas. We can therefore divide the dataset into several groups: one with all countries, one with all continents and one with the remaining areas."
   ]
  },
  {
   "cell_type": "markdown",
   "metadata": {},
   "source": [
    "#### Categorizing the Data "
   ]
  },
  {
   "cell_type": "code",
   "execution_count": null,
   "metadata": {},
   "outputs": [],
   "source": [
    "# Splitting crops_data into country, continent and area based sets and renaming Area column\n",
    "crops_country = crops_cleaned[np.logical_not(country_series.str.endswith('+'))].rename({'Area': 'Area'}, axis=1)\n",
    "crops_remain = crops_cleaned[country_series.str.endswith('+')]\n",
    "\n",
    "# Remove last two characters from continent/area name\n",
    "crops_remain.Area = crops_remain.Area.str[:-2]\n",
    "\n",
    "continents = ['Africa', 'Northern America', 'South America', 'Asia', 'Oceania', 'Europe']\n",
    "is_continent = crops_remain.Area.isin(continents)\n",
    "\n",
    "crops_continent = crops_remain[is_continent].rename({'Area': 'Area'}, axis=1)\n",
    "crops_area = crops_remain[np.logical_not(is_continent)].rename({'Area': 'Area'}, axis=1)\n",
    "\n",
    "print('Number of unique countries:', crops_country.Area.unique().shape[0])\n",
    "print('Number of unique continents:', crops_continent.Area.unique().shape[0])\n",
    "print('Number of unique areas:', crops_area.Area.unique().shape[0])"
   ]
  },
  {
   "cell_type": "markdown",
   "metadata": {},
   "source": [
    "### First look at the clean crops data\n",
    "Similarly to the Livestock data we ended up with 3 separate files for the crops data. One data set for the production aggregated continentally, one for country specific production and one for more specific areas within continents (e.g. Western Africa, Northern Europe). Let's take a look at how the production quantities have changed and what meats we have."
   ]
  },
  {
   "cell_type": "code",
   "execution_count": null,
   "metadata": {},
   "outputs": [],
   "source": [
    "crops_area = pd.read_pickle('data/pickles/crops_areas.pkl')\n",
    "crops_cont = pd.read_pickle('data/pickles/crops_continents.pkl')\n",
    "crops_country = pd.read_pickle('data/pickles/crops_countries.pkl')"
   ]
  },
  {
   "cell_type": "code",
   "execution_count": null,
   "metadata": {},
   "outputs": [],
   "source": [
    "crops_yearly = crops_cont.groupby(['Area', 'Year']).agg({'Value':'sum'}).reset_index()\n",
    "plot_yearly(crops_yearly, 'Crops', area_year_population, 'Area')"
   ]
  },
  {
   "cell_type": "markdown",
   "metadata": {},
   "source": [
    "We can see a great increase in crops production in Asia and a slight increase in the other continents except Europe. The data seems to be extremely volatile for North America and Oceania.\n",
    "However, overall we can see a production increase in all continents. Further investigation into reasons for the high volatility will be needed. The total crop production per person has seen a significant increase in the last 50 years."
   ]
  },
  {
   "cell_type": "code",
   "execution_count": null,
   "metadata": {},
   "outputs": [],
   "source": [
    "crops_cont_y = pd.DataFrame(crops_yearly[crops_yearly['Area'] == 'Africa'].Year)\n",
    "\n",
    "for continent in crops_yearly['Area'].unique():\n",
    "    crops_cont_y[continent] = crops_yearly[crops_yearly['Area'] == continent].Value.values\n",
    "\n",
    "corr = np.log(crops_cont_y.iloc[:, 1:10]).diff().corr()\n",
    "fig = plt.figure(figsize = (10, 8))\n",
    "\n",
    "ax = sns.heatmap(corr, annot = True, vmax = 1)\n",
    "plt.yticks(rotation= 0)\n",
    "plt.xticks(rotation= 0)\n",
    "plt.title('Crosscorrelation', fontsize = 20)\n",
    "bottom, top = ax.get_ylim()\n",
    "ax.set_ylim(bottom + 0.5, top - 0.5)\n",
    "plt.show()"
   ]
  },
  {
   "cell_type": "markdown",
   "metadata": {},
   "source": [
    "The change in production quantities year on year shows no correlation between different continents except between Asia and Oceania."
   ]
  },
  {
   "cell_type": "code",
   "execution_count": null,
   "metadata": {},
   "outputs": [],
   "source": [
    "crops_items_yearly = crops_cont.groupby(['Item', 'Year']).agg({'Value':'sum'}).reset_index()\n",
    "fig = plt.figure(figsize = (15,8))\n",
    "\n",
    "wy_population = area_year_population.groupby('Year').agg({'Value':'sum'}).reset_index()\n",
    "groups = crops_items_yearly.Item.unique()\n",
    "largest_groups = crops_items_yearly[crops_items_yearly['Year'] == 2007].sort_values(by = 'Value', ascending = False).head(3).Item\n",
    "\n",
    "for group in groups:\n",
    "    y = crops_items_yearly[crops_items_yearly['Item'] == group].Value.values\n",
    "    x = crops_items_yearly[crops_items_yearly['Item'] == group].Year.values\n",
    "\n",
    "    plt.subplot(1,2,1)\n",
    "    \n",
    "    if group in list(largest_groups):\n",
    "        plt.plot(x, y, label = group)\n",
    "    else:\n",
    "        plt.plot(x, y)\n",
    "\n",
    "    plt.xlabel('Year')\n",
    "    plt.ylabel('Tonnes')\n",
    "    plt.title('Yearly production of different crops')\n",
    "    plt.legend()\n",
    "\n",
    "    \n",
    "    plt.subplot(1,2,2)\n",
    "    y = crops_items_yearly[crops_items_yearly['Item'] == group].Value.values/(wy_population.Value.values*1000)\n",
    "    plt.xlabel('Year')\n",
    "    plt.ylabel('Tonnes')\n",
    "    plt.title('Yearly production of different crops, Normalized on population')\n",
    "    \n",
    "    if group in list(largest_groups):\n",
    "        plt.plot(x, y, label = group)\n",
    "    else:\n",
    "        plt.plot(x, y)\n",
    "\n",
    "    plt.legend()"
   ]
  },
  {
   "cell_type": "code",
   "execution_count": null,
   "metadata": {},
   "outputs": [],
   "source": [
    "crops_items_yearly[crops_items_yearly['Year'] == 2007].sort_values(by = 'Value', ascending = False).head()"
   ]
  },
  {
   "cell_type": "markdown",
   "metadata": {},
   "source": [
    "The plots show that the crop group cereals is produced in significantly higher quantities than any other group. "
   ]
  },
  {
   "cell_type": "markdown",
   "metadata": {},
   "source": [
    "***\n",
    "<a id='population'></a>\n",
    "## Population Data\n",
    "\n",
    "In order to interpret our data in a sensible way we also need population-data, as it of course will be a difference in food production with current population compared to 1960. The data is also collected from FAO, and looks very similar to the Livestock-dataset. The dataset can be found here http://www.fao.org/faostat/en/#data/OA."
   ]
  },
  {
   "cell_type": "code",
   "execution_count": null,
   "metadata": {},
   "outputs": [],
   "source": [
    "population = pd.read_csv('./raw_data/fao_data_population.csv')\n",
    "population.head(3)"
   ]
  },
  {
   "cell_type": "code",
   "execution_count": null,
   "metadata": {},
   "outputs": [],
   "source": [
    "# Check unique values in dataset\n",
    "for (col_name, col_data) in population.iteritems():\n",
    "    print('{} has {} unique values.'.format(col_name, pd.unique(col_data).shape[0]))"
   ]
  },
  {
   "cell_type": "markdown",
   "metadata": {},
   "source": [
    "We see that many of the columns are irrelevant as they contain the same information in all columns. This is Domain Code, Domain, Element, Element Code, Item Code, Item, Year Code (Same as Year) and Note.  \n",
    "We actually have two Flags: A and X. X is regarded most reliable(_International reliable sources_), but we will also regard A (_Aggregate, may include official, semi-official, estimated or calculated data_) as reliable. Therefore we also remove these columns."
   ]
  },
  {
   "cell_type": "code",
   "execution_count": null,
   "metadata": {},
   "outputs": [],
   "source": [
    "drop_col = ['Domain Code', 'Domain', 'Element Code', 'Element', 'Item Code', 'Item', 'Year Code', 'Flag', 'Flag Description', 'Note']\n",
    "population.drop(drop_col, axis = 1, inplace = True)\n",
    "population.head(3)"
   ]
  },
  {
   "cell_type": "markdown",
   "metadata": {},
   "source": [
    "As we only have data in the other datasets from 1961 to 2007/2013, we remove the extra years. "
   ]
  },
  {
   "cell_type": "code",
   "execution_count": null,
   "metadata": {},
   "outputs": [],
   "source": [
    "population = population[(population['Year'] > 1960) & (population['Year'] < 2014)]"
   ]
  },
  {
   "cell_type": "markdown",
   "metadata": {},
   "source": [
    "**Categorizing the Data**  \n",
    "We would like to divide our dataset into areas, countries and continents for easier use in the future. Luckily, because of the way area codes are organized, this is easily done. Everything under 251 is countries, and everything above 5000 are areas. "
   ]
  },
  {
   "cell_type": "code",
   "execution_count": null,
   "metadata": {},
   "outputs": [],
   "source": [
    "from scripts.helpers import split_fao_data\n",
    "print(split_fao_data.__doc__)\n",
    "\n",
    "pop_countries, pop_area, pop_continents = split_fao_data(population)"
   ]
  },
  {
   "cell_type": "markdown",
   "metadata": {},
   "source": [
    "#### First look at the data\n",
    "To check if the data seems reasonable we plot the development in population for each continent."
   ]
  },
  {
   "cell_type": "code",
   "execution_count": null,
   "metadata": {},
   "outputs": [],
   "source": [
    "tmp = pop_continents.groupby(['Year', 'Area']).agg({'Value':'sum'}).reset_index()\n",
    "\n",
    "f = plt.figure(figsize=(12, 6))\n",
    "\n",
    "for area in tmp.Area.unique():\n",
    "    y = tmp[tmp['Area'] == area].Value.values\n",
    "    x = tmp[tmp['Area'] == area].Year.values\n",
    "    plt.plot(x,y)\n",
    "    \n",
    "plt.legend(tmp.Area.unique())\n",
    "plt.title('Population in Continents', fontsize = 18)\n",
    "plt.xlabel('Year', fontsize = 14)\n",
    "plt.ylabel('Population [1000 persons]', fontsize = 14)\n",
    "plt.show()"
   ]
  },
  {
   "cell_type": "markdown",
   "metadata": {},
   "source": [
    "The data looks reasonable at first glance, but we see that there is some wierd behaviour in Asia and Europe around 1990. To examine this we plot each of the continents seperately."
   ]
  },
  {
   "cell_type": "code",
   "execution_count": null,
   "metadata": {},
   "outputs": [],
   "source": [
    "pop_europe_asia = pop_continents[(pop_continents['Area'] == 'Europe') | (pop_continents['Area'] == 'Asia')]\n",
    "tmp = pop_europe_asia.groupby(['Year', 'Area']).agg({'Value':'sum'}).reset_index()\n",
    "\n",
    "f = plt.figure(figsize=(16, 4))\n",
    "\n",
    "for (ind, area) in zip(range(1,1 + tmp.Area.unique().shape[0]), tmp.Area.unique()):\n",
    "    plt.subplot(1, 2, ind)\n",
    "    y = tmp[tmp['Area'] == area].Value.values\n",
    "    x = tmp[tmp['Area'] == area].Year.values\n",
    "    plt.plot(x,y)\n",
    "    plt.scatter(x = 1992, y = tmp[tmp['Year'] == 1992]['Value'].values[ind-1], label = '1992', color = 'b')\n",
    "    plt.title(area, fontsize= 14)\n",
    "    plt.xlabel('Year')\n",
    "    plt.ylabel('Population [1000 capita]')\n",
    "    plt.legend(fontsize = 14)\n",
    "plt.show()"
   ]
  },
  {
   "cell_type": "markdown",
   "metadata": {},
   "source": [
    "We see that we have a huge drop in the population in Europe in 1992, which coincides with the dissolution of the Soviet Union. What really happens is that some countries from the Soviet Union is now classified as Asia instead of Europe, and the relative difference in Asia is smaller than in Europe.   \n",
    "There is no easy way to fix this, but luckily all other statistics are also handled in this way, so we use the dataset as it is."
   ]
  },
  {
   "cell_type": "markdown",
   "metadata": {},
   "source": [
    "***\n",
    "<a id='emission'></a>\n",
    "## Emissions\n",
    "\n",
    "Since the project strive to answer questions regarding the emission that has been caused by agriculture we need data regarding this area. In this project we will be analyzing two different datasets, one will be used when we are interested in a continents total agriculture emissions while the other dataset will be used when more specific data, such as how much CO2 the pork production causes in a certain country or in the world.  \n"
   ]
  },
  {
   "cell_type": "markdown",
   "metadata": {},
   "source": [
    "## Explanation of agriculture emissions datafiles"
   ]
  },
  {
   "cell_type": "markdown",
   "metadata": {},
   "source": [
    "#### Emission data number 1\n",
    "The first emissions data in our dataset covers all emissions from agriculture. That is, both the emissions from crops and livestock production. The dataset can be found here http://www.fao.org/faostat/en/#data/EM."
   ]
  },
  {
   "cell_type": "code",
   "execution_count": null,
   "metadata": {},
   "outputs": [],
   "source": [
    "emission_data = pd.read_csv('raw_data/emission_data_continent.csv', sep = ',', encoding = 'latin-1')\n",
    "emission_data.head(3)"
   ]
  },
  {
   "cell_type": "code",
   "execution_count": null,
   "metadata": {},
   "outputs": [],
   "source": [
    "from scripts.helpers import explain_df\n",
    "\n",
    "print(explain_df.__doc__)\n",
    "explain_df(emission_data)"
   ]
  },
  {
   "cell_type": "markdown",
   "metadata": {},
   "source": [
    "As you can see from the print above we have data from all the continents, between 1961 and 2017, regarding agriculture total emissions and all data is in CO2 gigagram. \n",
    "\n",
    "Lets examine if there's any data missing."
   ]
  },
  {
   "cell_type": "code",
   "execution_count": null,
   "metadata": {},
   "outputs": [],
   "source": [
    "# Is any information missing?\n",
    "print(\"Missing information in categorized dataset:\\n\", emission_data.isna().sum())"
   ]
  },
  {
   "cell_type": "markdown",
   "metadata": {},
   "source": [
    "Note is the only column with missing values, but as far as we can tell it does not have any interesting information. So we remove it."
   ]
  },
  {
   "cell_type": "code",
   "execution_count": null,
   "metadata": {},
   "outputs": [],
   "source": [
    "emission_data.drop(['Note'], axis = 1, inplace = True)"
   ]
  },
  {
   "cell_type": "code",
   "execution_count": null,
   "metadata": {},
   "outputs": [],
   "source": [
    "fig = plt.figure(figsize = (15,8))\n",
    "\n",
    "for area in emission_data.Area.unique():\n",
    "    plt.plot(emission_data[emission_data['Area'] == area].Year.values, \n",
    "             emission_data[emission_data['Area'] == area].Value.values)\n",
    "    \n",
    "plt.legend(emission_data.Area.unique())\n",
    "plt.title('Agriculture emission per continent')\n",
    "plt.xlabel('Year')\n",
    "plt.ylabel('Amount (gigagrams)')\n",
    "plt.show()"
   ]
  },
  {
   "cell_type": "markdown",
   "metadata": {},
   "source": [
    "#### Plot\n",
    "The data does not have any extreme outliers and without any particular knowledge in agriculture emissions, the data seems to make sense. We have a few jumps in the data that we will examine later."
   ]
  },
  {
   "cell_type": "markdown",
   "metadata": {},
   "source": [
    "#### Emission data number 2\n",
    "\n",
    "We also have another emissions file with some categories to easier be able to determine differences in emission between crops and livestock production. This data contains emission data for each continent. The dataset can be found here http://www.fao.org/faostat/en/#data/EI."
   ]
  },
  {
   "cell_type": "code",
   "execution_count": null,
   "metadata": {},
   "outputs": [],
   "source": [
    "categorized_emission_data = pd.read_csv('raw_data/Emission_data.csv', sep = ',', encoding = 'latin-1')\n",
    "explain_df(categorized_emission_data)"
   ]
  },
  {
   "cell_type": "markdown",
   "metadata": {},
   "source": [
    "This dataset contains data about the CO2 emissions coming from various areas (_items_) such as _rice_, _meat, sheep_ etc. Some of the data has information about production of each item which is not out of interest as we are interested in emissions. We will therefore remove rows with these values."
   ]
  },
  {
   "cell_type": "code",
   "execution_count": null,
   "metadata": {},
   "outputs": [],
   "source": [
    "# Keep only emission data\n",
    "categorized_emission_data = categorized_emission_data[categorized_emission_data.Element == 'Emissions (CO2eq)']\n",
    "\n",
    "explain_df(categorized_emission_data)\n",
    "# Is any information missing?\n",
    "print(\"Missing information in categorized dataset:\\n\", categorized_emission_data.isna().sum())\n",
    "categorized_emission_data.head(3)"
   ]
  },
  {
   "cell_type": "markdown",
   "metadata": {},
   "source": [
    "We can see that this dataset is similar to the previous one apart from the _item_ column which contains multiple values, this is what we wanted. Futhermore we have no missing values. Let's save this file."
   ]
  },
  {
   "cell_type": "markdown",
   "metadata": {},
   "source": [
    "**For now we will stick to the first dataset discussed in this notebook section since we are more interested in the total agriculture emissions.**\n",
    "\n",
    "Let's plot the _Agriculture, total_ emissions from the dataset 1. Let's also make use of the population data so we can normalize the data on the population of a given continent or the world."
   ]
  },
  {
   "cell_type": "code",
   "execution_count": null,
   "metadata": {},
   "outputs": [],
   "source": [
    "# Get population data\n",
    "population = pd.read_csv('./data/csv/pop_continents.csv')\n",
    "\n",
    "area_year_population = population.groupby(['Area', 'Year']).agg({'Value':'sum','Unit':'first'}).reset_index()\n",
    "world_year_population = area_year_population.groupby('Year').agg({'Value':'sum'}).reset_index()"
   ]
  },
  {
   "cell_type": "code",
   "execution_count": null,
   "metadata": {},
   "outputs": [],
   "source": [
    "import warnings\n",
    "warnings.filterwarnings('ignore')\n",
    "\n",
    "area_year_emission = emission_data.groupby(['Area', 'Year']).agg({'Value':'sum','Unit':'first'}).reset_index()\n",
    "area_year_emission = area_year_emission[(area_year_emission['Year'] <= 2013)]\n",
    "\n",
    "x = area_year_emission.Year.unique()\n",
    "plot_y_emi = []\n",
    "mycolors = ['tab:red', 'tab:blue', 'tab:green', 'tab:orange', 'tab:pink']  \n",
    "fig = plt.figure(figsize = (15,12))\n",
    "\n",
    "areas = area_year_emission.Area.unique()\n",
    "\n",
    "for area in areas:\n",
    "    plt.subplot(2,2,3)\n",
    "    plt.plot(area_year_emission[area_year_emission['Area'] == area].Year.values, \n",
    "             area_year_emission[area_year_emission['Area'] == area].Value.values/\n",
    "             area_year_population[area_year_population['Area'] == area].Value.values)\n",
    "   \n",
    "    plt.subplot(2,2,1)\n",
    "    plt.plot(area_year_emission[area_year_emission['Area'] == area].Year.values, \n",
    "             area_year_emission[area_year_emission['Area'] == area].Value.values)\n",
    "    \n",
    "    plot_y_emi.append(area_year_emission[area_year_emission['Area'] == area].Value.values.tolist())\n",
    "\n",
    "plt.subplot(2,2,1)\n",
    "plt.legend(areas)\n",
    "plt.title('(1) Agriculture emission per continent')\n",
    "plt.xlabel('Year')\n",
    "plt.ylabel('Amount (gigagrams)')\n",
    "\n",
    "plt.subplot(2,2,3)\n",
    "plt.legend(areas)\n",
    "plt.title('(3) Agriculture emission per continent, normalized on continent population')\n",
    "plt.xlabel('Year')\n",
    "plt.ylabel('Amount (gigagrams)')\n",
    "\n",
    "# Global yearly emission\n",
    "total_year_emission = area_year_emission.groupby('Year').agg({'Value':'sum'}).reset_index()\n",
    "total_year_emission = total_year_emission[total_year_emission['Year'] <= 2013]\n",
    "\n",
    "plt.subplot(2,2,2)\n",
    "plt.stackplot(x, np.vstack(plot_y_emi), labels=area_year_emission.Area.unique(), alpha=0.8)\n",
    "plt.legend(loc='upper left')\n",
    "plt.title('(2) Total world agriculture emission')\n",
    "plt.xlabel('Year')\n",
    "plt.ylabel('Amount (gigagrams)')\n",
    "\n",
    "plt.subplot(2,2,4)\n",
    "plt.plot(total_year_emission['Year'].values,\n",
    "        total_year_emission['Value'].values/world_year_population['Value'].values)\n",
    "plt.legend(['Total all continents'])\n",
    "plt.title('(4) Total, normalized on population, world agriculture emission')\n",
    "plt.xlabel('Year')\n",
    "plt.ylabel('Amount (gigagrams)')\n",
    "\n",
    "plt.show()"
   ]
  },
  {
   "cell_type": "markdown",
   "metadata": {},
   "source": [
    "##### Emission area plot \n",
    "There are a few questions that arise when observing the plots above:\n",
    "- We can observe a big increase in emission around year 1990 which seems slightly weird.\n",
    "- In the normalized continent emissions _Oceania_ has a much greater and volatile normalized emission compared to the other continents. The relatively higher normalized emission by _Oceania_ could be reasonable given that they have a lot of livestock production, however the sudden jumps in value from year to year seem off.\n",
    "\n",
    "Let's try and find an answer to these obeservations.\n",
    "The reason that the emission jumps in 1990 is most likely because of _New estimates of CO2 forest emissions and removals: 1990–2015._ Which is stated [at faostat](http://www.fao.org/faostat/en/#data/GT/metadata), where the data comes from, in point number 10.\n",
    "\n",
    "Now, when it comes to the weird behaviour in _Oceania_'s emissions when should look at the data we have acquired regarding the crop and livestock production aswell as the population that _Oceania_ has in order to explain the weirdness. \n",
    " "
   ]
  },
  {
   "cell_type": "code",
   "execution_count": null,
   "metadata": {},
   "outputs": [],
   "source": [
    "fig = plt.figure(figsize=(20,5))\n",
    "\n",
    "# Oceania's population\n",
    "plt.subplot(1,3,1)\n",
    "plt.plot(area_year_population.Year.unique(), area_year_population[area_year_population.Area == 'Oceania'].Value.values)\n",
    "plt.title('Oceania\\'s population', fontsize=15)\n",
    "plt.xlabel('Year')\n",
    "plt.ylabel('Population (1000 person)')\n",
    "\n",
    "# Oceania's livestock production\n",
    "plt.subplot(1,3,2)\n",
    "meat_production_continents = pd.read_csv('data/csv/meat_continents.csv')\n",
    "meat_production_oceania = meat_production_continents[(meat_production_continents.Area == 'Oceania') \\\n",
    "                                                     & (meat_production_continents.Item == 'Meat, Total')]\n",
    "plt.plot(meat_production_oceania.Year.unique(), meat_production_oceania.Value.values)\n",
    "plt.title('Oceania\\'s livestock production', fontsize=15)\n",
    "plt.xlabel('Year')\n",
    "plt.ylabel('Amount (tonnes)')\n",
    "\n",
    "# Oceania's crops production\n",
    "crop_production_continents = pd.read_pickle('data/pickles/crops_continents.pkl')\n",
    "crop_production_oceania = crop_production_continents[(crop_production_continents.Area == 'Oceania')]\\\n",
    "                                                    .groupby('Year').agg({'Value':'sum'}).reset_index()\n",
    "plt.subplot(1,3,3)\n",
    "plt.plot(crop_production_oceania.Year.unique(), crop_production_oceania.Value.values)\n",
    "plt.title('Oceania\\'s crop production', fontsize=15)\n",
    "plt.xlabel('Year')\n",
    "plt.ylabel('Amount (tonnes)')\n",
    "\n",
    "plt.show()"
   ]
  },
  {
   "cell_type": "markdown",
   "metadata": {},
   "source": [
    "We can see that there is nothing that seems to be weird with the _Oceania_'s population data, however the livestock and especially the crop production is volatile. This corresponds with the diffrences that we can observe in the agriculture emission caused by _Oceania_. Since _Oceania_ is the continent which produces the least amount of CO2 from agriculture compared to all other continents it is more likely to be volatile. For example, if the weather is bad for agriculture, it is more likely that the total amount will be affected compared to a bigger continent that is not as concentrated around a specific area.\n",
    "\n",
    "#### Summarize\n",
    "\n",
    "The data looks good and we are ready to move further with our analysis and use this data to answer the questions."
   ]
  },
  {
   "cell_type": "markdown",
   "metadata": {},
   "source": [
    "#### Correlation"
   ]
  },
  {
   "cell_type": "code",
   "execution_count": null,
   "metadata": {},
   "outputs": [],
   "source": [
    "# Correlations\n",
    "corr = np.corrcoef(x = total_year_emission.Value.values, y = world_year_population.Value.values)[0,1]\n",
    "print(f'Correlation between agriculture emission and population is {round(corr,2)}')"
   ]
  },
  {
   "cell_type": "markdown",
   "metadata": {},
   "source": [
    "#### Example use of second emissions dataset"
   ]
  },
  {
   "cell_type": "code",
   "execution_count": null,
   "metadata": {},
   "outputs": [],
   "source": [
    "# Emission data for sheep production for every continent and year\n",
    "sheep_prod = categorized_emission_data[categorized_emission_data.Item.str.contains('sheep')]\n",
    "\n",
    "sheep_data = sheep_prod.groupby(['Area','Element','Year','Unit']).agg({'Value':'sum'})\n",
    "sheep_data['Item'] = 'Sheep'"
   ]
  },
  {
   "cell_type": "code",
   "execution_count": null,
   "metadata": {},
   "outputs": [],
   "source": [
    "sheep_data.reset_index()"
   ]
  },
  {
   "cell_type": "markdown",
   "metadata": {},
   "source": [
    "<a id=plan></a>\n",
    "## Plan for Milestone 3"
   ]
  },
  {
   "cell_type": "markdown",
   "metadata": {},
   "source": [
    "## Internal Milestones until Project Milestone 3 \n",
    "\n",
    "In the ReadMe we have written how we will answer all the research questions, and we will therefore not go in detail of that here.  \n",
    "This is to be considered an overall plan.\n",
    "\n",
    "1 - Answer research Questions 1 & 2 (29th November)\n",
    "\n",
    "2 - Answer research Questions 3 & 4. (6th December)\n",
    "- Decide on either report or data story.\n",
    "\n",
    "3 - Finish visuals and make a draft of report/data story (13th December)\n",
    "\n",
    "4 - Final Deadline (20th December)\n",
    "- Make sure the report/data story is consistent, and includes all the important information.\n",
    "- Make sure the final notebook (extending on Milestone 2) is comprehensive and includes all mathematical calculations.\n",
    "- Update readme with contributions of team members (including who works on the final presentation)\n",
    "\n",
    "5 - Presentations (18th January)\n",
    "- Finish poster for presentation\n",
    "- Decide on who talks\n",
    "- Prepare a 3 min presentation"
   ]
  },
  {
   "cell_type": "code",
   "execution_count": null,
   "metadata": {},
   "outputs": [],
   "source": []
  }
 ],
 "metadata": {
  "kernelspec": {
   "display_name": "Python 3",
   "language": "python",
   "name": "python3"
  },
  "language_info": {
   "codemirror_mode": {
    "name": "ipython",
    "version": 3
   },
   "file_extension": ".py",
   "mimetype": "text/x-python",
   "name": "python",
   "nbconvert_exporter": "python",
   "pygments_lexer": "ipython3",
   "version": "3.7.3"
  }
 },
 "nbformat": 4,
 "nbformat_minor": 4
}
