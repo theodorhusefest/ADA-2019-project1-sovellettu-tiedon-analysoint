{
 "cells": [
  {
   "cell_type": "markdown",
   "metadata": {},
   "source": [
    "# Milestone 3\n",
    "This notebook should be connected with milestone 2 at one point, but easier to work with two different notebooks."
   ]
  },
  {
   "cell_type": "code",
   "execution_count": null,
   "metadata": {},
   "outputs": [],
   "source": [
    "import warnings\n",
    "warnings.filterwarnings('ignore')\n",
    "import pandas as pd\n",
    "import numpy as np\n",
    "import matplotlib.pyplot as plt\n",
    "import matplotlib.ticker as mtick\n",
    "import seaborn as sns; sns.set()\n",
    "from matplotlib.font_manager import FontProperties"
   ]
  },
  {
   "cell_type": "markdown",
   "metadata": {},
   "source": [
    "## Question 1 - How has the crops and livestock production changed since the 1960s?\n",
    "To get a general picture of how production has changed we start by looking at everything at a world-level.\n",
    "\n",
    "This question will serve as an intro to the whole project and look at the big trends in the world, with focus on products more than areas. We will mainly study total development of production (without normalizing for population), as this is how the production actually has developed and how the scale has changed during the 50 years.\n",
    "We will follow these steps:\n",
    "\n",
    "- Get an overview of development by analyzing at world-level.\n",
    "- Look if any special products have increased/decreased in popularity.\n",
    "- Find statistical indicators showing the differences now and in 1960.\n",
    "- Look for certain countries and areas that stand out."
   ]
  },
  {
   "cell_type": "code",
   "execution_count": null,
   "metadata": {},
   "outputs": [],
   "source": [
    "# Load data\n",
    "data_path = 'data/pickles/'\n",
    "meat_cont = pd.read_pickle(data_path + 'meat_categorized.pkl')\n",
    "crops_cont = pd.read_pickle(data_path + 'crops_categorized.pkl')\n",
    "pop_cont = pd.read_pickle(data_path + 'pop_continents.pkl')"
   ]
  },
  {
   "cell_type": "code",
   "execution_count": null,
   "metadata": {},
   "outputs": [],
   "source": [
    "from imp import reload\n",
    "import scripts.visualization\n",
    "reload(scripts.visualization)\n",
    "from scripts.visualization import *"
   ]
  },
  {
   "cell_type": "code",
   "execution_count": null,
   "metadata": {},
   "outputs": [],
   "source": [
    "# Plot of how meat production, crops production and population have developed since 1961\n",
    "\n",
    "fig = plt.figure(figsize = (15, 11))\n",
    "meat_total = meat_cont[meat_cont.Item == 'Meat, Total']\n",
    "meat_no_total = meat_cont[np.logical_not(meat_cont['Item'] == 'Meat, Total')]\n",
    "crops_total = crops_cont[crops_cont.Item == 'Crops, total']\n",
    "crops_no_total = crops_cont[np.logical_not(crops_cont.Item.str.contains('total'))]\n",
    "\n",
    "ax1 = plt.subplot(2,2,1)\n",
    "plot_compare_areas(meat_total, \n",
    "                   y = 'Value', y_label = 'Meat Production [tonnes]',\n",
    "                   title='Total meat production per continent',\n",
    "                   subplot = True, ax = ax1)\n",
    "\n",
    "ax2 = plt.subplot(2,2,2)\n",
    "plot_compare_areas(crops_total, \n",
    "                    y = 'Value', y_label = 'Crops Production [tonnes]',\n",
    "                    title='Crops Production Different Continents',\n",
    "                    subplot = True, ax = ax2)\n",
    "\n",
    "ax3 = plt.subplot(2,2,3)\n",
    "plot_compare_areas(pop_cont, \n",
    "                    y = 'Value', y_label = 'Population [1000 Persons]',\n",
    "                    title='Population Different Continents',\n",
    "                    subplot = True, ax = ax3)"
   ]
  },
  {
   "cell_type": "markdown",
   "metadata": {},
   "source": [
    "As we can see from the plots above, meat and crops production have increased in all continents from 1961 to 2013. We can also see that the way that the production has developped follows a general pattern, that is, the population growth in each respective continent. This makes sense as an increased population will require more food production in order to be able to feed all habitants.\n",
    "\n",
    "In the population growth plot, there is a non-linear change in the population growth for both Europe and Asia in 1991. This is due to the fall of the Soviet Union in 1991 which resulted in new continent borders for Europe and Asia.\n",
    "\n",
    "The drop in the meat production in Asia in 1997 is probably due to the asian financial crisis. The only meat production category that also drops this year is pig and when doing som research on Google, some results show that the asian financial crisis in 1997 affected the pig production. ([article 1](https://books.google.ch/books?id=DQUFd2UBUAwC&pg=PA5&lpg=PA5&dq=1995+asia+pig+production&source=bl&ots=8U_-qWYyqa&sig=ACfU3U3nubnDJojZckPCrny5KO-q0PjHuA&hl=en&sa=X&ved=2ahUKEwizv4Pr9rzmAhURsXEKHfYaCLUQ6AEwAXoECAoQAQ#v=onepage&q=asian%20financial%20crisis&f=false), [article 2](https://books.google.ch/books?id=eXtZwpHL5AcC&pg=RA1-PA2&lpg=RA1-PA2&dq=asian+financial+crisis+pig+production+1997&source=bl&ots=8Q74PJcET8&sig=ACfU3U249goE42MgSw9ODL2r8eNHVBcQQg&hl=en&sa=X&ved=2ahUKEwjE7MqG-rzmAhXj0aYKHY6fA20Q6AEwFnoECAsQAQ#v=onepage&q=asian%20financial%20crisis%20pig%20production%201997&f=false))\n",
    "\n",
    "The crops production is in general quite volatile which is not surprising as crops production is very weather dependent which can lead to good and bad harvest years.\n",
    "\n",
    "### Percentage increase of crops & meat production and population"
   ]
  },
  {
   "cell_type": "code",
   "execution_count": null,
   "metadata": {},
   "outputs": [],
   "source": [
    "# Comparing areawise total production of meat in raw numbers\n",
    "meat_1961 = meat_total[meat_total['Year'] == 1961]\n",
    "meat_2007 = meat_total[meat_total['Year'] == 2007]\n",
    "\n",
    "comparison_m = pd.DataFrame({'Area':meat_1961.Area.unique(), \n",
    "                          '1961 total [tonnes]':meat_1961.Value.values, \n",
    "                          '2007 total [tonnes]':meat_2007.Value.values})\n",
    "comparison_m['% Increase'] = round(comparison_m['2007 total [tonnes]']/comparison_m['1961 total [tonnes]']*100-100,2)\n",
    "comparison_m = comparison_m.sort_values(by = 'Area')\n",
    "print(\"Total meat production comparison for years 1961 and 2007 and each continent:\\n\", comparison_m)\n",
    "\n",
    "# Comparing areawise total production of crops in raw numbers\n",
    "crops_1961 = crops_total[crops_total['Year'] == 1961]\n",
    "crops_2007 = crops_total[crops_total['Year'] == 2007]\n",
    "\n",
    "comparison_c = pd.DataFrame({'Area':meat_1961.Area.unique(), \n",
    "                          '1961 total [tonnes]':crops_1961.Value.values, \n",
    "                          '2007 total [tonnes]':crops_2007.Value.values})\n",
    "comparison_c['% Increase'] = round(comparison_c['2007 total [tonnes]']/comparison_c['1961 total [tonnes]']*100-100,2)\n",
    "comparison_c = comparison_c.sort_values(by = 'Area')\n",
    "print(\"\\nTotal crops production comparison for years 1961 and 2007 and each continent:\\n\", comparison_c)\n",
    "\n",
    "# Comparing areawise total population growth in raw numbers\n",
    "population_1961 = pop_cont[pop_cont['Year'] == 1961]\n",
    "population_2007 = pop_cont[pop_cont['Year'] == 2007]\n",
    "\n",
    "comparison_p = pd.DataFrame({'Area':population_1961.Area.unique(), \n",
    "                          '1961 total [tonnes]':population_1961.Value.values, \n",
    "                          '2007 total [tonnes]':population_2007.Value.values})\n",
    "comparison_p['% Increase'] = round(comparison_p['2007 total [tonnes]']/comparison_p['1961 total [tonnes]']*100-100,2)\n",
    "comparison_p = comparison_p.sort_values(by = 'Area')\n",
    "print(\"\\nTotal population comparison for years 1961 and 2007 and each continent:\\n\", comparison_p)"
   ]
  },
  {
   "cell_type": "code",
   "execution_count": null,
   "metadata": {},
   "outputs": [],
   "source": [
    "# Results from previous cell visualized\n",
    "labels = comparison_p.Area.sort_values().unique()\n",
    "\n",
    "x = np.arange(len(labels))+10  # the label locations\n",
    "width = 0.18  # the width of the bars\n",
    "\n",
    "fig, ax = plt.subplots(figsize=(15,6))\n",
    "rects1 = ax.bar(x - width, round(comparison_m['% Increase']), width, label='Meat production')\n",
    "rects2 = ax.bar(x, round(comparison_c['% Increase']), width, label='Crops production')\n",
    "rects3 = ax.bar(x + width + width/3, round(comparison_p['% Increase']), width, label='Population')\n",
    "\n",
    "# Add some text for labels, title and custom x-axis tick labels, etc.\n",
    "ax.set_ylabel('Increase [%]')\n",
    "ax.set_title('Percentage increase, 1961 to 2007')\n",
    "ax.set_xticks(x)\n",
    "ax.set_xticklabels(labels)\n",
    "ax.legend()\n",
    "\n",
    "def autolabel(rects):\n",
    "    \"\"\"Attach a text label above each bar in *rects*, displaying its height.\"\"\"\n",
    "    for rect in rects:\n",
    "        height = int(rect.get_height())\n",
    "        ax.annotate('{}'.format(height),\n",
    "                    xy = (rect.get_x() + rect.get_width() / 2, height),\n",
    "                    xytext = (0, 3),  # 3 points vertical offset\n",
    "                    textcoords = \"offset points\",\n",
    "                    ha = 'center', va = 'bottom')\n",
    "\n",
    "autolabel(rects1)\n",
    "autolabel(rects2)\n",
    "autolabel(rects3)"
   ]
  },
  {
   "cell_type": "markdown",
   "metadata": {},
   "source": [
    "Here we can see that the increase in food production (since 1961) is more than the increase in population. This means that we are producing more food per person today compared to 1961.\n",
    "\n",
    "All continents but North America and Oceania have a larger increase in meat producation than both crops production and population growth. "
   ]
  },
  {
   "cell_type": "markdown",
   "metadata": {},
   "source": [
    "### Comparison of the yearly increases of different meat and crop production"
   ]
  },
  {
   "cell_type": "code",
   "execution_count": null,
   "metadata": {},
   "outputs": [],
   "source": [
    "fig, ax = plt.subplots(ncols = 2)\n",
    "fig.set_size_inches(15,7)\n",
    "fig.subplots_adjust(wspace = 0.5)\n",
    "\n",
    "# Create dataframe with mean yearly change in production of different meat products\n",
    "mean_mproduct_growth = {}\n",
    "for item in meat_no_total.Item.unique():\n",
    "    mean_mproduct_growth.update({item: (meat_no_total[meat_no_total.Item == item].groupby('Year').sum().diff() \n",
    "                                        / meat_no_total[meat_no_total.Item == item].groupby('Year').sum()).Value.mean()})\n",
    "\n",
    "mean_mproduct_growth = pd.DataFrame(mean_mproduct_growth.values(), mean_mproduct_growth.keys(), columns = ['Mean growth'])\n",
    "mean_mproduct_growth.sort_values(by='Mean growth', inplace =True)\n",
    "\n",
    "# Create dataframe with mean yearly change in production of different crops products\n",
    "mean_cproduct_growth = {}\n",
    "for item in crops_no_total.Item.unique():\n",
    "    mean_cproduct_growth.update({item : (crops_no_total[crops_no_total.Item == item].groupby(['Year']).sum().diff()\n",
    "                                        / crops_no_total[crops_no_total.Item == item].groupby(['Year']).sum()).Value.mean()})\n",
    "\n",
    "mean_cproduct_growth = pd.DataFrame(mean_cproduct_growth.values(), mean_cproduct_growth.keys(), columns = ['Mean growth'])\n",
    "mean_cproduct_growth.sort_values(by='Mean growth', inplace =True)\n",
    "\n",
    "# Plot results\n",
    "ax[0].barh(mean_mproduct_growth.index, mean_mproduct_growth['Mean growth'])\n",
    "ax[0].set_title(\"Mean yearly (%) increase of different meats\")\n",
    "\n",
    "ax[1].barh(mean_cproduct_growth.index, mean_cproduct_growth['Mean growth'])\n",
    "ax[1].set_title(\"Mean yearly (%) increase of different crops\")"
   ]
  },
  {
   "cell_type": "markdown",
   "metadata": {},
   "source": [
    "### Comparison of the different production quantities for the different product categories and their variances"
   ]
  },
  {
   "cell_type": "code",
   "execution_count": null,
   "metadata": {},
   "outputs": [],
   "source": [
    "# Creat new dataframe for meat production where indexes are years and columns are the different meat categories\n",
    "tmp = meat_no_total.groupby(['Year', 'Item']).agg({'Value':'sum'}).reset_index().sort_values(by=['Year', 'Item'], ascending=True)\n",
    "meat_world = pd.DataFrame(columns=meat_no_total.Item.sort_values().unique(), \n",
    "             index=tmp.Year.unique(),\n",
    "             data=tmp.Value.values.reshape(len(tmp.Year.unique()),len(meat_no_total.Item.unique())))\n",
    "\n",
    "# Plot box plot of the different meat categories and how their production quantities have been over the years\n",
    "ax = meat_world.plot(kind='box', figsize=(15,6))\n",
    "ax.set_title('World meat production from 1961 to 2013', fontsize=16, fontweight='bold')\n",
    "ax.set_ylabel('Production [tonnes]', fontsize=12)\n",
    "ax.tick_params(labelsize=10)\n",
    "\n",
    "# Creat new dataframe for crops production where indexes are years and columns are the different crops categories\n",
    "tmp = crops_no_total.groupby(['Year', 'Item']).agg({'Value':'sum'}).reset_index().sort_values(by=['Year', 'Item'], ascending=True)\n",
    "crops_world = pd.DataFrame(columns=crops_no_total.Item.sort_values().unique(), \n",
    "             index=tmp.Year.unique(),\n",
    "             data=tmp.Value.values.reshape(len(tmp.Year.unique()),len(meat_no_total.Item.unique())))\n",
    "\n",
    "# Plot box plot of the different crops categories and how their production quantities have been over the years\n",
    "ax = crops_world.plot(kind='box', figsize=(15,6))\n",
    "ax.set_title('World crops production from 1961 to 2007', fontsize=16, fontweight='bold')\n",
    "ax.set_ylabel('Production [tonnes]', fontsize=12)\n",
    "ax.tick_params(labelsize=10)"
   ]
  },
  {
   "cell_type": "markdown",
   "metadata": {},
   "source": [
    "When it comes to meat production, we are producing mostly pig, chicken and cattle and pig production is the biggest. \n",
    "When it comes to crops production, we are producing mostly cereals which isn't surprising as rice and wheat are included in the cereals category. The production of 'meat, other', 'meat, equidae & camildae' and 'other crops' has been quite consistent since 1961 as their variance is very low compared to the others."
   ]
  },
  {
   "cell_type": "markdown",
   "metadata": {},
   "source": [
    "### Food production development in each continent\n",
    "\n",
    "#### Meat production"
   ]
  },
  {
   "cell_type": "code",
   "execution_count": null,
   "metadata": {},
   "outputs": [],
   "source": [
    "plt.figure(figsize=(20,20)).subplots_adjust(wspace=0.7)\n",
    "i = 0\n",
    "\n",
    "for area in meat_cont.Area.unique():\n",
    "    i+=1\n",
    "    plot_compare_areas(meat_no_total[meat_no_total['Area'] == area], grouping = 'Item',\n",
    "                  y = 'Value', y_label = 'Meat Production [tonnes]', title = 'Meat production: '+area,\n",
    "                    subplot = True, ax = plt.subplot(3, 2, i), outside = True)"
   ]
  },
  {
   "cell_type": "markdown",
   "metadata": {},
   "source": [
    "**Continents that stand out:**\n",
    "- Africa and Oceania are the only continents that have had a big increase in the meat category 'others'.\n",
    "- In 2013 the three biggest meat categories are cattle, pig and chicken in all continents except Africa and Ocenia that have bovidae, cattle and chicken in top three. \n",
    "\n",
    "We wish to check what type of bovidae and other meats that Oceania and Africa produce a lot of."
   ]
  },
  {
   "cell_type": "code",
   "execution_count": null,
   "metadata": {},
   "outputs": [],
   "source": [
    "meat_uncategorized = pd.read_pickle(data_path + 'meat_continents.pkl')\n",
    "\n",
    "interesting = ['Meat, goat', 'Meat, sheep', 'Meat, buffalo', 'Meat, rabbit', 'Meat, other rodents', 'Meat, game', 'Meat, nes']\n",
    "meat_interesting = meat_uncategorized[meat_uncategorized.Item.isin(interesting)]\n",
    "meat_interesting = meat_interesting[meat_interesting.Area.isin(['Oceania', 'Africa'])]\n",
    "\n",
    "plt.figure(figsize=(20,5)).subplots_adjust(wspace=0.7)\n",
    "i = 0\n",
    "\n",
    "for area in meat_interesting.Area.unique():\n",
    "    i+=1\n",
    "    plot_compare_areas(meat_interesting[meat_interesting['Area'] == area], grouping = 'Item',\n",
    "                  y = 'Value', y_label = 'Meat Production [tonnes]', title = 'Meat production: '+area,\n",
    "                    subplot = True, ax = plt.subplot(1, 2, i), outside = True)"
   ]
  },
  {
   "cell_type": "markdown",
   "metadata": {},
   "source": [
    "**Observations**\n",
    "\n",
    "Africa : It seems as though the big production of buffalo and goat in Africa is what makes bovidae such a big production category. Game is also a big category in Africa and this is probably what gives the big increase of the 'others' category.\n",
    "\n",
    "Oceania : It seems as though the big production sheep in Oceania is what makes bovidae such a big production category. Game is also a relatively big category in Oceania and this is probably what gives the big increase of the 'others' category.\n",
    "\n",
    "#### Crops production"
   ]
  },
  {
   "cell_type": "code",
   "execution_count": null,
   "metadata": {},
   "outputs": [],
   "source": [
    "fig = plt.figure(figsize = (20, 20)).subplots_adjust(wspace=0.7)\n",
    "i = 0\n",
    "\n",
    "for area in crops_cont.Area.unique():\n",
    "    i+=1\n",
    "    plot_compare_areas(crops_no_total[crops_no_total['Area'] == area], grouping = 'Item',\n",
    "                  y = 'Value', y_label = 'Crops Production [tonnes]', title = 'Crops production: '+area,\n",
    "                    subplot = True, ax = plt.subplot(3, 2, i), outside = True)"
   ]
  },
  {
   "cell_type": "markdown",
   "metadata": {},
   "source": [
    "**Observations:**\n",
    "- South America is the only continent that has had a large increase in the crops category 'oilcrops & oilcakes'. This is not surprising as South America are for example harvesting rainforests to extract palm oil.\n",
    "- Africa and Europe are the only continent that have the crops category 'roots & tubers' in their top three most produced crops in 2007. \n",
    "- In 2007 the biggest crops category is 'cereals' as this is in the top two most produced categories for all continents. \n",
    "- In 2007 and in warmer continents it is possible to see a larger fruit production (Africa, South America, Oceania).\n",
    "- Asia is the only continent that has vegetables in the top two most produced in 2007."
   ]
  },
  {
   "cell_type": "markdown",
   "metadata": {},
   "source": [
    "### Summary, question 1\n",
    "\n",
    "**How has the crops and livestock production changed since the 1960s?**\n",
    "\n",
    "Food production has increased in all continents from 1961 to 2013 and today we are poducing more food per person than we did in 1961. We can also see that the way that the production has developped follows a general pattern, that is, the population growth in each respective continent. This makes sense as an increased population will require more food production in order to be able to feed all habitants. This also lead to the fact that every crop and meat category has increased production wise since 1961. No category has decreased in popularity on world level. However, when looking at the different continents it is possible to see decrease in popularity for some products. For example Europe has had a decrease in roots & tubers production but Africa has had a big increase in production of roots & tubers. Therefore, on a world level, roots & tubers production has increased but it is no longer as popular in Europe. As mentioned, most categories have increased in production, however the smallest crops/meats categories have held a quite consistent production quantity over the years (visible in the box plots). These categories are 'crops, other', 'meat, other' and 'meat, equidae & camelidae'. Asia, Oceania and South America have had a lot larger increase in food production compared to population. And Europe has had a much larger increase in population compared to food production.\n",
    "\n",
    "The three most produced meat categories are pig, chicken and cattle with pig being the largest one. In fourth place, we have bovidae, since it is big in Oceania (sheep) and Africa (goat & buffalo). All continents but North America and Oceania have a larger increase in meat producation than both crops production and population growth. \n",
    "\n",
    "The biggest crops production category is cereals which is not not surprising as this includes rice and wheat. Second and third place are coarse grain and roots & tubers."
   ]
  },
  {
   "cell_type": "markdown",
   "metadata": {},
   "source": [
    "## Question 2 - Is there a connection between the development of livestock primary production and crop production?\n",
    "\n",
    "The purpose of this question is to see if there are any trends in our data, and to answer this we will study both total and normalized data. We will also have to look at\n",
    "\n",
    "- Are we producing more food per person?\n",
    "- Has the porportions of meat vs. crops changed in our diet?\n",
    "- Can we see differences between each continent?"
   ]
  },
  {
   "cell_type": "code",
   "execution_count": null,
   "metadata": {},
   "outputs": [],
   "source": [
    "# Calculating year on year growth of meat and crop production\n",
    "mean_meat_prodgrow = (meat_cont[meat_cont['Item'] == 'Meat, Total'].groupby('Year').sum().diff()/\\\n",
    "    meat_cont[meat_cont['Item'] == 'Meat, Total'].groupby('Year').sum()).Value.mean()*100\n",
    "\n",
    "mean_crop_prodgrow = (crops_cont[crops_cont['Item'] == 'cereals_total'].groupby('Year').sum().diff()/\\\n",
    "    crops_cont[crops_cont['Item'] == 'cereals_total'].groupby('Year').sum()).Value.mean()*100\n",
    "\n",
    "mean_pop_growth = (pop_cont.groupby('Year').sum().diff()/pop_cont.groupby('Year').sum()).Value.mean()*100\n",
    "\n",
    "print(\"Meat production has grown on average by %2.2f%% yearly, while crops production has grown by %2.2f%%.\" \\\n",
    "      % (mean_meat_prodgrow, mean_crop_prodgrow))\n",
    "print(\"Meanwhile the population has grown on average by %2.2f %% yearly.\" \\\n",
    "      % (mean_pop_growth))"
   ]
  },
  {
   "cell_type": "code",
   "execution_count": null,
   "metadata": {},
   "outputs": [],
   "source": [
    "comparison_m.sort_values(by = 'Area', inplace = True)\n",
    "comparison_c.sort_values(by = 'Area', inplace = True)\n",
    "\n",
    "pop_cont1961 = pop_cont[pop_cont['Year'] == 1961].drop('Area Code', axis = 1).sort_values(by = 'Area').reset_index()\n",
    "pop_cont2007 = pop_cont[pop_cont['Year'] == 2007].drop('Area Code', axis = 1).sort_values(by = 'Area').reset_index()\n",
    "\n",
    "product_pers = pd.DataFrame({'Area':comparison_m.Area,\n",
    "                             'Meat per person 1961 (kg)':comparison_m['1961 total [tonnes]'].values/pop_cont1961.Value,\n",
    "                             'Meat per person 2007 (kg)':comparison_m['2007 total [tonnes]'].values/pop_cont2007.Value,\n",
    "                             'Crops per person 1961 (kg)':comparison_c['1961 total [tonnes]'].values/pop_cont1961.Value,\n",
    "                             'Crops per person 2007 (kg)':comparison_c['2007 total [tonnes]'].values/pop_cont2007.Value})\n",
    "product_pers['% Increase meat'] = round(product_pers['Meat per person 2007 (kg)']/product_pers['Meat per person 1961 (kg)']*100-100,2)\n",
    "product_pers['% Increase crops'] = round(product_pers['Crops per person 2007 (kg)']/product_pers['Crops per person 1961 (kg)']*100-100,2)\n",
    "\n",
    "product_pers"
   ]
  },
  {
   "cell_type": "markdown",
   "metadata": {},
   "source": [
    "## Question 3 - How are the differences in production quantities between the different continents?\n",
    "\n",
    "The purpose of this question is to study the difference in production at a continent-level. For example, it can be interesting to see the difference between developed continents, like Europe and North-America, and continents like Africa and Asia.\n",
    "\n",
    "- Study food production in general, and with a crops vs. meat analysis.\n",
    "- What can be said about the normalized production?\n",
    "- Can we say if any continents are producing more than it needs?\n",
    "- Try to find data on how much food a person needs per year.\n",
    "    - This is pretty hard because of energy/tonne"
   ]
  },
  {
   "cell_type": "code",
   "execution_count": null,
   "metadata": {},
   "outputs": [],
   "source": []
  },
  {
   "cell_type": "markdown",
   "metadata": {},
   "source": [
    "## Question 4 - How has the development in agriculture affected emission of greenhouse gasses?\n",
    "\n",
    "This question is about the consequences of what we have studied in the previous questions.\n",
    "\n",
    "- Can we find evidence that higher meat consumption leads to higher emissions?\n",
    "- Is it better for the environment to eat crops rather than livestock?\n",
    "- Are there any particular meat or crop that affect the CO2 emissions more/less than the average?"
   ]
  },
  {
   "cell_type": "code",
   "execution_count": null,
   "metadata": {},
   "outputs": [],
   "source": [
    "# Load data from total agricultural emissions dataset\n",
    "emission_data = pd.read_pickle(data_path + 'agriculture_emissions_continents.pkl')\n",
    "emission_data.head(5)"
   ]
  },
  {
   "cell_type": "code",
   "execution_count": null,
   "metadata": {},
   "outputs": [],
   "source": [
    "# Plot total CO2 emission data per continent \n",
    "fig = plt.figure(figsize = (15,8))\n",
    "\n",
    "for area in emission_data.Area.unique():\n",
    "    plt.plot(emission_data[emission_data['Area'] == area].Year.values, \n",
    "             emission_data[emission_data['Area'] == area].Value.values)\n",
    "    \n",
    "plt.legend(emission_data.Area.unique())\n",
    "plt.title('Agriculture emission per continent')\n",
    "plt.xlabel('Year')\n",
    "plt.ylabel('Amount (gigagrams)')\n",
    "plt.show()"
   ]
  },
  {
   "cell_type": "markdown",
   "metadata": {},
   "source": [
    "From the plot above it is possible to see that the CO2 emissions from agriculture has increased in every continent since the 1960s, apart from Europe. Europe has had a large decrease in agriculture emissions. How is this connected to its livestock/crops production?\n",
    "\n",
    "#### Study regarding Europe's emissions"
   ]
  },
  {
   "cell_type": "code",
   "execution_count": null,
   "metadata": {},
   "outputs": [],
   "source": [
    "crops_total = crops_cont.groupby(['Area', 'Year']).agg({'Value':'sum'}).reset_index()\n",
    "meat_total = meat_cont[meat_cont['Item'] == 'Meat, Total']\n",
    "\n",
    "fig = plt.figure(figsize = (15,8))\n",
    "plot_crop_livestock(meat_total[meat_total.Area.str.contains('Europe')], crops_total[crops_total.Area.str.contains('Europe')], \n",
    "                    y = 'Value', y_label = 'Meat Production [tonnes]',\n",
    "                    title1='Total meat production in Europe', title2='Total crops production in Europe',\n",
    "                    subplot = False)"
   ]
  },
  {
   "cell_type": "markdown",
   "metadata": {},
   "source": [
    "We choose to compare the emissions and the crops/meat production in 1990 vs. 2005. The emissions were at its highest in 1990 and they are a lot lower in 2005. Can we find a connection between less meat production leading to lower emissions? "
   ]
  },
  {
   "cell_type": "code",
   "execution_count": null,
   "metadata": {},
   "outputs": [],
   "source": [
    "# Function to calculate change in crops & meat production and CO2 emissions between two years for a certain area\n",
    "def calculate_year_change(year1, year2, area):\n",
    "    crops_prod_y1 = crops_total[crops_total.Year == year1][crops_total.Area.str.contains(area)].Value.array[0]\n",
    "    meat_prod_y1 = meat_total[meat_total.Year == year1][meat_total.Area.str.contains(area)].Value.array[0]\n",
    "    emissions_y1 = emission_data[emission_data.Year == year1][emission_data.Area.str.contains(area)].Value.array[0]\n",
    "\n",
    "    crops_prod_y2 = crops_total[crops_total.Year == year2][crops_total.Area.str.contains(area)].Value.array[0]\n",
    "    meat_prod_y2 = meat_total[meat_total.Year == year2][meat_total.Area.str.contains(area)].Value.array[0]\n",
    "    emissions_y2 = emission_data[emission_data.Year == year2][emission_data.Area.str.contains(area)].Value.array[0]\n",
    "    \n",
    "    print(area, ':', year1, 'vs.', year2)\n",
    "\n",
    "    meat_change = meat_prod_y2 / meat_prod_y1\n",
    "    crops_change = crops_prod_y2 / crops_prod_y1\n",
    "    emissions_change = emissions_y2 / emissions_y1\n",
    "\n",
    "    print('\\nThe meat production in 1990 is approximatly %3.0f%% of what it was in 1990.' % (meat_change*100))\n",
    "    print('The crops production in 1990 is approximatly %3.0f%% of what it was in 1990.' % (crops_change*100))\n",
    "    print('The agricultural emissions in 1990 are approximatly %3.0f%% of what they were in 1990.' % (emissions_change*100))\n",
    "    \n",
    "calculate_year_change(1980, 2005, 'Europe')"
   ]
  },
  {
   "cell_type": "markdown",
   "metadata": {},
   "source": [
    "We can see here that we aren't producing that much less food in 2005 compared to 1990 but we still get a huge decrease in emissions. There is only a 13% decrease in crops production and a 19% decrease in meat production and this change results in 41% decrease in emissions. This information is not detailed enough to be able to say weather the decrease in meat production has lead to the decrease in emissions. \n",
    "\n",
    "#### Correlation between emissions and total crops production / total meat production\n",
    "\n",
    "We choose to study the correlation between meat & crops production and the emissions to see if there is a strong connection. Since the crops dataset only has data up to 2007 we will only study the data up until 2007."
   ]
  },
  {
   "cell_type": "code",
   "execution_count": null,
   "metadata": {},
   "outputs": [],
   "source": [
    "meat_relevant = meat_total[meat_total.Year < 2008]\n",
    "emissions_relevant = emission_data[emission_data.Year < 2008]"
   ]
  },
  {
   "cell_type": "code",
   "execution_count": null,
   "metadata": {},
   "outputs": [],
   "source": [
    "def check_correlation(meat_data, crops_data, emission_data):\n",
    "    for area in meat_data.Area.unique():\n",
    "        meat = meat_data[meat_data.Area.str.contains(area)].reset_index()\n",
    "        crops = crops_data[crops_data.Area.str.contains(area)].reset_index()\n",
    "        emissions = emission_data[emission_data.Area.str.contains(area)].reset_index()\n",
    "\n",
    "        corr_data = pd.DataFrame(data = {'Emissions': emissions.Value, 'Meat Production': meat.Value, 'Crops Production': crops.Value}) \n",
    "        corr = corr_data.corr()\n",
    "        fig = plt.figure(figsize = (3, 2))\n",
    "\n",
    "        ax = sns.heatmap(corr, center = 0, annot = True)\n",
    "        plt.yticks(rotation= 0)\n",
    "        plt.xticks(rotation= 90)\n",
    "        plt.title('Cross-correlation: ' + area, fontsize = 15)\n",
    "        bottom, top = ax.get_ylim()\n",
    "        ax.set_ylim(bottom + 0.5, top - 0.5)\n",
    "        plt.show()\n",
    "        \n",
    "check_correlation(meat_relevant, crops_total, emissions_relevant)"
   ]
  },
  {
   "cell_type": "markdown",
   "metadata": {},
   "source": [
    "As we can see from the first row in each of the correlation matrices, there is no specific pattern regarding the correlation between meat production and emissions or crops production and emissions."
   ]
  },
  {
   "cell_type": "markdown",
   "metadata": {},
   "source": [
    "#### Study on different crops/meat categories"
   ]
  },
  {
   "cell_type": "code",
   "execution_count": null,
   "metadata": {},
   "outputs": [],
   "source": [
    "world_categorized_emissions = pd.read_pickle(data_path + 'world_categorized_emissions.pkl')\n",
    "world_categorized_production = pd.read_pickle(data_path + 'world_categorized_production.pkl')\n",
    "\n",
    "world_categorized_emissions.Item.unique()"
   ]
  },
  {
   "cell_type": "markdown",
   "metadata": {},
   "source": [
    "As we can see, there are only two types of crop categories. We are therefore missing emission data for other categories. The same goes for meat, as we for example are missing emissions for camel. We will have to work with the little information that we have for now.\n",
    "\n",
    "We choose to plot the emissions per product category. The emissions are given as amount of gigagrams emitted per tonne produced."
   ]
  },
  {
   "cell_type": "code",
   "execution_count": null,
   "metadata": {},
   "outputs": [],
   "source": [
    "# Plot how much each type of meat emits for every tonne produced\n",
    "fig = plt.figure(figsize = (15,8))\n",
    "\n",
    "for item in world_categorized_emissions.Item.unique():\n",
    "    plt.plot(world_categorized_emissions[world_categorized_emissions['Item'] == item].Year.values, \n",
    "             world_categorized_emissions[world_categorized_emissions['Item'] == item].Value.values\n",
    "             /(world_categorized_production[world_categorized_production['Item'] == item].Value.values))\n",
    "    \n",
    "plt.legend(world_categorized_emissions.Item.unique())\n",
    "\n",
    "plt.title('CO2 emissions/produced tonne in the world')\n",
    "plt.xlabel('Year')\n",
    "plt.ylabel('Amount (gigagrams/tonne)')\n",
    "plt.show()"
   ]
  },
  {
   "cell_type": "markdown",
   "metadata": {},
   "source": [
    "As we can see we are producing meat in a more sustainable way nowadays compared to 1960, since we are emitting less CO2 today per tonne meat produced compared to 1960. The same goes for the crops production cor cereals and rice. We can also see that the amount of emissions per tonne cereal/rice crops produced is a lot lower than the emissions for cattle, goat, buffalo and sheep. Pig and chicken however have low emissions.\n",
    "\n",
    "#### Correlation between emissions and specific crops/meat categories\n",
    "\n",
    "Since we are able to see such a huge difference in emissions between buffalo, cattle, sheep and goat in comparison towards the other categories, we will study the correlation one last time between emission and these distinct categories to see if there is anything interesting to be found.  We will also check four of the most produced crops categories: cereals_total, coarse_grain_total, roots_and_tubers_total, fruit_excl_melons_total."
   ]
  },
  {
   "cell_type": "code",
   "execution_count": null,
   "metadata": {},
   "outputs": [],
   "source": [
    "meat_cat = ['Meat, cattle', 'Meat, buffalo', 'Meat, sheep', 'Meat,goat']\n",
    "crops_cat = ['cereals_total', 'coarse_grain_total', 'roots_and_tubers_total', 'fruit_excl_melons_total']\n",
    "\n",
    "meat_relevant = meat_cont[meat_cont.Item.isin(meat_cat)][meat_cont.Year < 2008]\n",
    "crops_relevant = crops_cont[crops_cont.Item.isin(crops_cat)]\n",
    "\n",
    "# I know that this is repeating the code from earlier\n",
    "def check_correlation_categories(meat_relevant, crops_relevant, emissions_relevant):\n",
    "    for area in meat_relevant.Area.unique():\n",
    "            meat = meat_relevant[meat_relevant.Area.str.contains(area)].reset_index()\n",
    "            crops = crops_relevant[crops_relevant.Area.str.contains(area)].reset_index()\n",
    "            emissions = emissions_relevant[emissions_relevant.Area.str.contains(area)].reset_index()\n",
    "\n",
    "            corr_data = pd.DataFrame(data = {'Emissions': emissions.Value, \n",
    "                                             'Meat, cattle': meat[meat.Item.str.contains('Meat, cattle')].reset_index().Value,\n",
    "                                             'Meat, sheep': meat[meat.Item.str.contains('Meat, sheep')].reset_index().Value,\n",
    "                                             'Meat, goat': meat[meat.Item.str.contains('Meat, goat')].reset_index().Value,\n",
    "                                             'Meat, buffalo': meat[meat.Item.str.contains('Meat, buffalo')].reset_index().Value,\n",
    "                                             'Cereals, total': crops[crops.Item.str.contains('cereals_total')].reset_index().Value,\n",
    "                                             'Coarse grain, total': crops[crops.Item.str.contains('coarse_grain_total')].reset_index().Value,\n",
    "                                             'Roots and tubers, total': crops[crops.Item.str.contains('roots_and_tubers_total')].reset_index().Value,\n",
    "                                             'Fruit excl melons, total': crops[crops.Item.str.contains('fruit_excl_melons_total')].reset_index().Value}) \n",
    "            corr = corr_data.corr()\n",
    "            fig = plt.figure(figsize = (8, 7))\n",
    "\n",
    "            ax = sns.heatmap(corr, center = 0, annot = True)\n",
    "            plt.yticks(rotation= 0)\n",
    "            plt.xticks(rotation= 90)\n",
    "            plt.title('Cross-correlation: ' + area, fontsize = 15)\n",
    "            bottom, top = ax.get_ylim()\n",
    "            ax.set_ylim(bottom + 0.5, top - 0.5)\n",
    "            plt.show()\n",
    "\n",
    "check_correlation_categories(meat_relevant, crops_relevant, emissions_relevant)"
   ]
  },
  {
   "cell_type": "markdown",
   "metadata": {},
   "source": [
    "As we can see here, these four meat categories do in general correlate with the emissions and the crops do not. Europe is an exception as here the crops actually do correlate with the emission.\n",
    "\n",
    "What does this correlation matrix look like on a world level?"
   ]
  },
  {
   "cell_type": "code",
   "execution_count": null,
   "metadata": {},
   "outputs": [],
   "source": [
    "meat_world_relevant = meat_relevant.groupby(['Item','Year']).agg({'Value':'sum'}).reset_index()\n",
    "meat_world_relevant['Area'] = 'World'\n",
    "crops_world_relevant = crops_relevant.groupby(['Item','Year']).agg({'Value':'sum'}).reset_index()\n",
    "crops_world_relevant['Area'] = 'World'\n",
    "emissions_world_relevant = emissions_relevant.groupby(['Item','Year']).agg({'Value':'sum'}).reset_index()\n",
    "emissions_world_relevant['Area'] = 'World'\n",
    "\n",
    "check_correlation_categories(meat_world_relevant, crops_world_relevant, emissions_world_relevant)"
   ]
  },
  {
   "cell_type": "markdown",
   "metadata": {},
   "source": [
    "It's odd that the correlation matrix above looks so different when looking at world level compared to continent level. "
   ]
  },
  {
   "cell_type": "code",
   "execution_count": null,
   "metadata": {},
   "outputs": [],
   "source": []
  }
 ],
 "metadata": {
  "kernelspec": {
   "display_name": "Python 3",
   "language": "python",
   "name": "python3"
  },
  "language_info": {
   "codemirror_mode": {
    "name": "ipython",
    "version": 3
   },
   "file_extension": ".py",
   "mimetype": "text/x-python",
   "name": "python",
   "nbconvert_exporter": "python",
   "pygments_lexer": "ipython3",
   "version": "3.7.3"
  }
 },
 "nbformat": 4,
 "nbformat_minor": 4
}
