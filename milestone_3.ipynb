{
 "cells": [
  {
   "cell_type": "markdown",
   "metadata": {},
   "source": [
    "# Milestone 3\n",
    "This notebook should be connected with milestone 2 at one point, but easier to work with two different notebooks."
   ]
  },
  {
   "cell_type": "code",
   "execution_count": null,
   "metadata": {},
   "outputs": [],
   "source": [
    "import warnings\n",
    "warnings.filterwarnings('ignore')\n",
    "import pandas as pd\n",
    "import numpy as np\n",
    "import matplotlib.pyplot as plt\n",
    "import matplotlib.ticker as mtick\n",
    "import seaborn as sns; sns.set()\n",
    "from matplotlib.font_manager import FontProperties"
   ]
  },
  {
   "cell_type": "markdown",
   "metadata": {},
   "source": [
    "### Question 1 - How has the crops and livestock production changed since the 1960s?\n",
    "To get a general picture of how production has changed we start by looking at everything at a world-level.\n",
    "\n",
    "This question will serve as an intro to the whole project and look at the big trends in the world, with focus on products more than areas. We will mainly study total development of production (without normalizing for population), as this is how the production actually has developed and how the scale has changed during the 50 years.\n",
    "We will follow these steps:\n",
    "\n",
    "- Get an overview of development by analyzing at world-level.\n",
    "- Look if any special products have increased/decreased in popularity.\n",
    "- Find statistical indicators showing the differences now and in 1960.\n",
    "- Look for certain countries and areas that stand out."
   ]
  },
  {
   "cell_type": "code",
   "execution_count": null,
   "metadata": {},
   "outputs": [],
   "source": [
    "# Load data\n",
    "data_path = 'data/pickles/'\n",
    "meat_cont = pd.read_pickle(data_path + 'meat_continents.pkl')\n",
    "crops_cont = pd.read_pickle(data_path + 'crops_continents.pkl')\n",
    "pop_cont = pd.read_pickle(data_path + 'pop_continents.pkl')"
   ]
  },
  {
   "cell_type": "code",
   "execution_count": null,
   "metadata": {},
   "outputs": [],
   "source": [
    "from imp import reload\n",
    "import scripts.visualization\n",
    "reload(scripts.visualization)\n",
    "from scripts.visualization import *"
   ]
  },
  {
   "cell_type": "code",
   "execution_count": null,
   "metadata": {},
   "outputs": [],
   "source": [
    "fig = plt.figure(figsize = (15, 11))\n",
    "meat_total = meat_cont[meat_cont['Item'] == 'Meat, Total']\n",
    "\n",
    "ax1 = plt.subplot(2,2,1)\n",
    "plot_compare_areas(meat_total, \n",
    "                   y = 'Value', y_label = 'Meat Production [tonnes]',\n",
    "                   title='Total meat production per continent',\n",
    "                   subplot = True, ax = ax1)\n",
    "\n",
    "ax2 = plt.subplot(2,2,2)\n",
    "plot_compare_areas(crops_cont.groupby(['Area', 'Year']).sum().reset_index(), \n",
    "                    y = 'Value', y_label = 'Crops Production [tonnes]',\n",
    "                    title='Crops Production Different Continents',\n",
    "                    subplot = True, ax = ax2)\n",
    "\n",
    "ax3 = plt.subplot(2,2,3)\n",
    "plot_compare_areas(pop_cont, \n",
    "                    y = 'Value', y_label = 'Population [1000 Persons]',\n",
    "                    title='Population Different Continents',\n",
    "                    subplot = True, ax = ax3)"
   ]
  },
  {
   "cell_type": "code",
   "execution_count": null,
   "metadata": {},
   "outputs": [],
   "source": [
    "# Comparing areawise total production of meat and crops in raw numbers.\n",
    "meat_indigenous = meat_cont[meat_cont['Item'].str.contains('indigenous')]\n",
    "meat_1961 = meat_indigenous[meat_indigenous['Year'] == 1961]\n",
    "meat_2007 = meat_indigenous[meat_indigenous['Year'] == 2007]\n",
    "\n",
    "comparison_m = pd.DataFrame({'Area':meat_1961.Area.unique(), \n",
    "                          '1961 total [tonnes]':meat_1961[meat_1961['Item'] == 'Meat indigenous, total'].Value.values, \n",
    "                          '2007 total [tonnes]':meat_2007[meat_2007['Item'] == 'Meat indigenous, total'].Value.values})\n",
    "comparison_m['% Increase'] = round(comparison_m['2007 total [tonnes]']/comparison_m['1961 total [tonnes]']*100-100,2)\n",
    "print(comparison_m.sort_values(by = 'Area'))\n",
    "\n",
    "\n",
    "comparison_c = crops_cont[crops_cont['Year'] == 1961].groupby(['Area']).Value.sum().reset_index()\n",
    "\n",
    "comparison_c['2007 total [tonnes]'] = np.asarray(crops_cont[crops_cont['Year'] == 2007].groupby(['Area']).sum().Value)\n",
    "comparison_c.rename(columns = {'Value':'1961 total [tonnes]'}, inplace = True)\n",
    "comparison_c['% Increase'] = round(comparison_c['2007 total [tonnes]']/comparison_c['1961 total [tonnes]']*100-100,2)\n",
    "\n",
    "print(comparison_c.sort_values(by = 'Area'))"
   ]
  },
  {
   "cell_type": "code",
   "execution_count": null,
   "metadata": {},
   "outputs": [],
   "source": [
    "# Comparison of the yearly increases of different meat and crop production. \n",
    "\n",
    "fig, ax = plt.subplots(ncols = 2)\n",
    "fig.set_size_inches(15,7)\n",
    "fig.subplots_adjust(wspace = 0.5)\n",
    "\n",
    "# Create dataframes with mean yearly change in production of different products\n",
    "mean_mproduct_growth = {}\n",
    "for meat_product in meat_indigenous.Item.unique():\n",
    "    if (meat_product != 'Meat indigenous, total') & (meat_product != 'Meat indigenous, poultry'):\n",
    "        mean_mproduct_growth.update({meat_product: (meat_indigenous[meat_indigenous['Item'] == meat_product].groupby('Year').sum().diff()/\\\n",
    "              meat_indigenous[meat_indigenous['Item'] == meat_product].groupby('Year').sum()).Value.mean()})\n",
    "\n",
    "mean_mproduct_growth = pd.DataFrame(mean_mproduct_growth.values(), mean_mproduct_growth.keys(), columns = ['Mean growth'])\n",
    "mean_mproduct_growth.sort_values(by='Mean growth', inplace =True)\n",
    "\n",
    "\n",
    "mean_cproduct_growth = {}\n",
    "for crop in crops_cont.Item.unique():\n",
    "    mean_cproduct_growth.update({crop : (crops_cont[crops_cont['Item'] == crop].groupby(['Year']).sum().diff()/\\\n",
    "                                 crops_cont[crops_cont['Item'] == crop].groupby(['Year']).sum()).Value.mean()})\n",
    "\n",
    "mean_cproduct_growth = pd.DataFrame(mean_cproduct_growth.values(), mean_cproduct_growth.keys(), columns = ['Mean growth'])\n",
    "mean_cproduct_growth.sort_values(by='Mean growth', inplace =True)\n",
    "\n",
    "\n",
    "ax[0].barh(mean_mproduct_growth.index, mean_mproduct_growth['Mean growth'])\n",
    "ax[0].set_title(\"Mean yearly (%) increase of different meats\")\n",
    "\n",
    "ax[1].barh(mean_cproduct_growth.index, mean_cproduct_growth['Mean growth'])\n",
    "ax[1].set_title(\"Mean yearly (%) increase of different crops\")"
   ]
  },
  {
   "cell_type": "code",
   "execution_count": null,
   "metadata": {},
   "outputs": [],
   "source": [
    "# WIP how to get colors to be consistent?\n",
    "no_total = meat_indigenous.drop(meat_indigenous[(meat_indigenous['Item'] == 'Meat indigenous, total')\n",
    "                                               |(meat_indigenous['Item'] == 'Meat indigenous, poultry')].index)\n",
    "\n",
    "\n",
    "plt.figure(figsize=(20,20)).subplots_adjust(wspace=0.7)\n",
    "i = 0\n",
    "\n",
    "for area in meat_indigenous.Area.unique():\n",
    "    i+=1\n",
    "    plot_compare_areas(no_total[no_total['Area'] == area], grouping = 'Item',\n",
    "                  y = 'Value', y_label = 'Meat Production [tonnes]', title = 'Meat production: '+area,\n",
    "                    subplot = True, ax = plt.subplot(3, 2, i), outside = True)"
   ]
  },
  {
   "cell_type": "code",
   "execution_count": null,
   "metadata": {},
   "outputs": [],
   "source": [
    "fig = plt.figure(figsize = (20, 20)).subplots_adjust(wspace=0.7)\n",
    "i = 0\n",
    "\n",
    "for area in crops_cont.Area.unique():\n",
    "    i+=1\n",
    "    plot_compare_areas(crops_cont[crops_cont['Area'] == area], grouping = 'Item',\n",
    "              y = 'Value', y_label = 'Crops Production [tonnes]', title = 'Crops production: '+area,\n",
    "                subplot = True, ax = plt.subplot(3, 2, i), outside = True)"
   ]
  },
  {
   "cell_type": "markdown",
   "metadata": {},
   "source": [
    "We can see that that most products have experienced a positive average growth yearly. Only production of other camelids and jute like fibres has decreased."
   ]
  },
  {
   "cell_type": "code",
   "execution_count": null,
   "metadata": {},
   "outputs": [],
   "source": []
  },
  {
   "cell_type": "markdown",
   "metadata": {},
   "source": [
    "### Question 2 - Is there a connection between the development of livestock primary production and crop production?\n",
    "\n",
    "The purpose of this question is to see if there are any trends in our data, and to answer this we will study both total and normalized data. We will also have to look at\n",
    "\n",
    "- Are we producing more food per person?\n",
    "- Has the porportions of meat vs. crops changed in our diet?\n",
    "- Can we see differences between each continent?"
   ]
  },
  {
   "cell_type": "code",
   "execution_count": null,
   "metadata": {},
   "outputs": [],
   "source": [
    "# Calculating year on year growth of meat and crop production\n",
    "mean_meat_prodgrow = (meat_cont[meat_cont['Item'] == 'Meat, Total'].groupby('Year').sum().diff()/\\\n",
    "    meat_cont[meat_cont['Item'] == 'Meat, Total'].groupby('Year').sum()).Value.mean()*100\n",
    "\n",
    "mean_crop_prodgrow = (crops_cont[crops_cont['Item'] == 'cereals_total'].groupby('Year').sum().diff()/\\\n",
    "    crops_cont[crops_cont['Item'] == 'cereals_total'].groupby('Year').sum()).Value.mean()*100\n",
    "\n",
    "mean_pop_growth = (pop_cont.groupby('Year').sum().diff()/pop_cont.groupby('Year').sum()).Value.mean()*100\n",
    "\n",
    "print(\"Meat production has grown on average by %2.2f%% yearly, while crops production has grown by %2.2f%%.\" \\\n",
    "      % (mean_meat_prodgrow, mean_crop_prodgrow))\n",
    "print(\"Meanwhile the population has grown on average by %2.2f %% yearly.\" \\\n",
    "      % (mean_pop_growth))"
   ]
  },
  {
   "cell_type": "code",
   "execution_count": null,
   "metadata": {},
   "outputs": [],
   "source": [
    "comparison_m.sort_values(by = 'Area', inplace = True)\n",
    "comparison_c.sort_values(by = 'Area', inplace = True)\n",
    " \n",
    "pop_cont1961 = pop_cont[pop_cont['Year'] == 1961].drop('Area Code', axis = 1).sort_values(by = 'Area').reset_index()\n",
    "pop_cont2007 = pop_cont[pop_cont['Year'] == 2007].drop('Area Code', axis = 1).sort_values(by = 'Area').reset_index()\n",
    "\n",
    "product_pers = pd.DataFrame({'Area':comparison_m.Area,\n",
    "                             'Meat per person 1961 (kg)':comparison_m['1961 total [tonnes]'].values/pop_cont1961.Value,\n",
    "                             'Meat per person 2007 (kg)':comparison_m['2007 total [tonnes]'].values/pop_cont2007.Value,\n",
    "                             'Crops per person 1961 (kg)':comparison_c['1961 total [tonnes]'].values/pop_cont1961.Value,\n",
    "                             'Crops per person 2007 (kg)':comparison_c['2007 total [tonnes]'].values/pop_cont2007.Value})\n",
    "product_pers['% Increase meat'] = round(product_pers['Meat per person 2007 (kg)']/product_pers['Meat per person 1961 (kg)']*100-100,2)\n",
    "product_pers['% Increase crops'] = round(product_pers['Crops per person 2007 (kg)']/product_pers['Crops per person 1961 (kg)']*100-100,2)\n",
    "\n",
    "product_pers"
   ]
  },
  {
   "cell_type": "markdown",
   "metadata": {},
   "source": [
    "### Question 3 - How are the differences in production quantities between the different continents?\n",
    "\n",
    "The purpose of this question is to study the difference in production at a continent-level. For example, it can be interesting to see the difference between developed continents, like Europe and North-America, and continents like Africa and Asia.\n",
    "\n",
    "- Study food production in general, and with a crops vs. meat analysis.\n",
    "- What can be said about the normalized production?\n",
    "- Can we say if any continents are producing more than it needs?\n",
    "- Try to find data on how much food a person needs per year.\n",
    "    - This is pretty hard because of energy/tonne"
   ]
  },
  {
   "cell_type": "code",
   "execution_count": null,
   "metadata": {},
   "outputs": [],
   "source": [
    "from importlib import reload\n",
    "import scripts.helpers\n",
    "reload(scripts.helpers)\n",
    "\n",
    "from scripts.helpers import merge_crops_and_meats, center_around_average, center_around_average\n",
    "from scripts.helpers import percentage_growth, create_crops_total, normalize_on_population\n",
    "\n",
    "print('Normalize function', normalize_on_population.__doc__)\n",
    "print('Merge function:', merge_crops_and_meats.__doc__)\n",
    "print('Average function:', center_around_average.__doc__)\n",
    "print('Growth function:', percentage_growth.__doc__)\n",
    "print('Crops total function:', create_crops_total.__doc__)\n",
    "\n",
    "\n",
    "meat_norm = normalize_on_population(meat_cont, pop_cont)\n",
    "crops_norm = normalize_on_population(crops_cont, pop_cont)\n",
    "crops_norm = create_crops_total(crops_norm)\n"
   ]
  },
  {
   "cell_type": "code",
   "execution_count": null,
   "metadata": {},
   "outputs": [],
   "source": [
    "fig = plt.figure(figsize = (15, 11))\n",
    "\n",
    "ax1 = plt.subplot(2,2,1)\n",
    "plot_compare_areas(meat_norm[meat_norm['Item'] == 'Meat, Total'], \n",
    "                   y = 'Norm Value', y_label = 'Meat Production [tonnes]',\n",
    "                   title='Normalized Meat Production per Continent',\n",
    "                   subplot = True, ax = ax1)\n",
    "\n",
    "ax2 = plt.subplot(2,2,2)\n",
    "plot_compare_areas(crops_norm[crops_norm['Item'] == 'Crops, Total'], \n",
    "                    y = 'Norm Value', y_label = 'Crops Production [tonnes]',\n",
    "                    title='Normalized Crops Production per Continents',\n",
    "                    subplot = True, ax = ax2)\n"
   ]
  },
  {
   "cell_type": "code",
   "execution_count": null,
   "metadata": {},
   "outputs": [],
   "source": [
    "plot_compare_areas(food_total, \n",
    "                    y = 'Total Production', y_label = 'Food Production [tonnes]',\n",
    "                    title='Food Production')\n"
   ]
  },
  {
   "cell_type": "markdown",
   "metadata": {},
   "source": [
    "This shows some interesting trends. First of all we see the assumably porest continents produces the least of food per person. We will try to make these differences more clear."
   ]
  },
  {
   "cell_type": "code",
   "execution_count": null,
   "metadata": {},
   "outputs": [],
   "source": [
    "# Create a new dataframe with both crops and meat\n",
    "food_total = merge_crops_and_meats(meat_norm, crops_norm)\n",
    "food_1961 = food_total[food_total['Year'] == 1961].sort_values(by=['Area']).reset_index(drop=True)\n",
    "food_2007 = food_total[food_total['Year'] == 2007].sort_values(by=['Area']).reset_index(drop=True)\n",
    "\n",
    "\n",
    "bar_plot(food_1961, food_2007, 'Normalized Production of Crops and Meats per continent.')\n",
    "plt.savefig('norm_prod.png')\n"
   ]
  },
  {
   "cell_type": "markdown",
   "metadata": {},
   "source": [
    "This is how the world looked in 1961 and in 2007 for each continent normalized on population. We see that the North America is producing a lot more grain than the rest of the continents."
   ]
  },
  {
   "cell_type": "code",
   "execution_count": null,
   "metadata": {},
   "outputs": [],
   "source": [
    "from importlib import reload\n",
    "import scripts.visualization\n",
    "reload(scripts.visualization)\n",
    "from scripts.visualization import bar_plot, bar_plot_with_population\n",
    "\n",
    "# Average each column around world average\n",
    "food_1961_avg, food_1961_means = center_around_average(food_1961, ['Norm Meat', 'Norm Crops', 'Norm Total Production'])\n",
    "food_1961_avg = food_1961_avg.sort_values(by=['Area']).reset_index(drop=True)\n",
    "food_2007_avg, food_2007_means = center_around_average(food_2007, ['Norm Meat', 'Norm Crops', 'Norm Total Production'])\n",
    "food_2007_avg = food_2007_avg.sort_values(by=['Area']).reset_index(drop=True)\n",
    "\n",
    "# Move the bars in 1961 to compansate for different average\n",
    "food_1961_avg['Norm Total Production'] -= food_2007_means['Norm Total Production'] - food_1961_means['Norm Total Production']\n",
    "food_1961_avg['Norm Meat'] -= food_2007_means['Norm Meat'] - food_1961_means['Norm Meat']\n",
    "food_1961_avg['Norm Crops'] -= food_2007_means['Norm Crops'] - food_1961_means['Norm Crops']\n",
    "\n",
    "bar_plot(food_1961_avg, food_2007_avg,\n",
    "         'Normalized Production, centered around world average',\n",
    "         center = food_2007_means['Norm Total Production'] )\n",
    "#plt.axhline(y=food_1961_means['Norm Total Production']-food_2007_means['Norm Total Production'], color = 'k', linestyle='--', alpha = 0.7, zorder=0)\n",
    "#plt.text(2.78,-0.65, '1961 Average', fontsize = 14)\n",
    "\n",
    "plt.savefig('norm_prod_average.png')\n",
    "print('Average Total production in 1961: {} tonnes per person'.format(np.around(food_1961_means['Norm Total Production'], decimals=2)))\n",
    "print('Average Total production in 2007: {} tonnes per person'.format(np.around(food_2007_means['Norm Total Production'], decimals=2)))"
   ]
  },
  {
   "cell_type": "code",
   "execution_count": null,
   "metadata": {},
   "outputs": [],
   "source": [
    "np.std(food_1961['Norm Total Production']), np.std(food_2007['Norm Total Production'])\n",
    "#food_1961"
   ]
  },
  {
   "cell_type": "markdown",
   "metadata": {},
   "source": [
    "This plot shows how distribution of meat and crops production in the different continents averaged around the world average. One very interesting thing we can see here is that the differences in the world has generally decreased, except from North America who clearly stand out. North America are the ones that by far produce the most, and has a significant increase in crops production.  \n",
    "Notes:\n",
    "- These plots only include production, and as we do not have trade data we do not know if North America actually eats more food or is exporting it.\n",
    "- Europe has decreased in 2007 compared to 1961, and this is a continent with somewhat similar development in wealth and demographics as North America during the period. This might show that wealth is not as relevant as other factors as: \n",
    "    - Lands available for farming\n",
    "    - Culture\n",
    "    \n",
    "    "
   ]
  },
  {
   "cell_type": "code",
   "execution_count": null,
   "metadata": {},
   "outputs": [],
   "source": [
    "from importlib import reload\n",
    "import scripts.visualization\n",
    "reload(scripts.visualization)\n",
    "from scripts.visualization import bar_plot, bar_plot_with_population\n",
    "\n",
    "food_growth = percentage_growth(food_2007, food_1961, ['Population', 'Meat', 'Crops', 'Total Production'])\n",
    "\n",
    "bar_plot_with_population(food_growth, 'Comparison of Total Production growth and Population growth')\n",
    "\n",
    "plt.savefig('prod_pop.png')"
   ]
  },
  {
   "cell_type": "markdown",
   "metadata": {},
   "source": [
    "This plot shows how much each of the continents have contributed in both Total Production and in Population.  \n",
    "For example: 67% of the worlds population growth has happend in Asia, whilst only 55% of the total production growth. North America on the other hand is responsible for 16% of the production increase, but had only 3% of the worlds population growth.  \n",
    "\n",
    "From this we can say that even though higher population leads to more food production, it is not what determines how much food is produced. Only by speculating, factors like wealth and available technology might be more significant."
   ]
  },
  {
   "cell_type": "markdown",
   "metadata": {},
   "source": [
    "### Question 4 - How has the development in agriculture affected emission of greenhouse gasses?\n",
    "\n",
    "This question is about the consequences of what we have studied in the previous questions.\n",
    "\n",
    "- Can we find evidence that higher meat consumption leads to higher emissions?\n",
    "- Is it better for the environment to eat crops rather than livestock?\n",
    "- Are there any particular meat or crop that affect the CO2 emissions more/less than the average?"
   ]
  },
  {
   "cell_type": "code",
   "execution_count": null,
   "metadata": {},
   "outputs": [],
   "source": [
    "# Load data from total agricultural emissions dataset\n",
    "emission_data = pd.read_pickle(data_path + 'agriculture_emissions_continents.pkl')\n",
    "emission_data.head(5)"
   ]
  },
  {
   "cell_type": "code",
   "execution_count": null,
   "metadata": {},
   "outputs": [],
   "source": [
    "# Plot total CO2 emission data per continent \n",
    "fig = plt.figure(figsize = (15,8))\n",
    "\n",
    "for area in emission_data.Area.unique():\n",
    "    plt.plot(emission_data[emission_data['Area'] == area].Year.values, \n",
    "             emission_data[emission_data['Area'] == area].Value.values)\n",
    "    \n",
    "plt.legend(emission_data.Area.unique())\n",
    "plt.title('Agriculture emission per continent')\n",
    "plt.xlabel('Year')\n",
    "plt.ylabel('Amount (gigagrams)')\n",
    "plt.show()"
   ]
  },
  {
   "cell_type": "markdown",
   "metadata": {},
   "source": [
    "From the plot above it is possible to see that the CO2 emissions from agriculture has increased in every continent since the 1960s, apart from Europe. Europe has had a large decrease in agriculture emissions. How is this connected to its livestock/crops production?\n",
    "\n",
    "#### Study regarding Europe's emissions"
   ]
  },
  {
   "cell_type": "code",
   "execution_count": null,
   "metadata": {},
   "outputs": [],
   "source": [
    "crops_total = crops_cont.groupby(['Area', 'Year']).agg({'Value':'sum'}).reset_index()\n",
    "meat_total = meat_cont[meat_cont['Item'] == 'Meat, Total']\n",
    "\n",
    "fig = plt.figure(figsize = (15,8))\n",
    "plot_crop_livestock(meat_total[meat_total.Area.str.contains('Europe')], crops_total[crops_total.Area.str.contains('Europe')], \n",
    "                    y = 'Value', y_label = 'Meat Production [tonnes]',\n",
    "                    title1='Total meat production in Europe', title2='Total crops production in Europe',\n",
    "                    subplot = False)"
   ]
  },
  {
   "cell_type": "markdown",
   "metadata": {},
   "source": [
    "We choose to compare the emissions and the crops/meat production in 1990 vs. 2005. The emissions were at its highest in 1990 and they are a lot lower in 2005. Can we find a connection between less meat production leading to lower emissions? "
   ]
  },
  {
   "cell_type": "code",
   "execution_count": null,
   "metadata": {},
   "outputs": [],
   "source": [
    "# Function to calculate change in crops & meat production and CO2 emissions between two years for a certain area\n",
    "def calculate_year_change(year1, year2, area):\n",
    "    crops_prod_y1 = crops_total[crops_total.Year == year1][crops_total.Area.str.contains(area)].Value.array[0]\n",
    "    meat_prod_y1 = meat_total[meat_total.Year == year1][meat_total.Area.str.contains(area)].Value.array[0]\n",
    "    emissions_y1 = emission_data[emission_data.Year == year1][emission_data.Area.str.contains(area)].Value.array[0]\n",
    "\n",
    "    crops_prod_y2 = crops_total[crops_total.Year == year2][crops_total.Area.str.contains(area)].Value.array[0]\n",
    "    meat_prod_y2 = meat_total[meat_total.Year == year2][meat_total.Area.str.contains(area)].Value.array[0]\n",
    "    emissions_y2 = emission_data[emission_data.Year == year2][emission_data.Area.str.contains(area)].Value.array[0]\n",
    "    \n",
    "    print(area, ':', year1, 'vs.', year2)\n",
    "\n",
    "    meat_change = meat_prod_y2 / meat_prod_y1\n",
    "    crops_change = crops_prod_y2 / crops_prod_y1\n",
    "    emissions_change = emissions_y2 / emissions_y1\n",
    "\n",
    "    print('\\nThe meat production in 1990 is approximatly %3.0f%% of what it was in 1990.' % (meat_change*100))\n",
    "    print('The crops production in 1990 is approximatly %3.0f%% of what it was in 1990.' % (crops_change*100))\n",
    "    print('The agricultural emissions in 1990 are approximatly %3.0f%% of what they were in 1990.' % (emissions_change*100))\n",
    "    \n",
    "calculate_year_change(1980, 2005, 'Europe')"
   ]
  },
  {
   "cell_type": "markdown",
   "metadata": {},
   "source": [
    "We can see here that we aren't producing that much less food in 2005 compared to 1990 but we still get a huge decrease in emissions. There is only a 13% decrease in crops production and a 19% decrease in meat production and this change results in 41% decrease in emissions. This information is not detailed enough to be able to say weather the decrease in meat production has lead to the decrease in emissions. \n",
    "\n",
    "#### Correlation between emissions and total crops production / total meat production\n",
    "\n",
    "We choose to study the correlation between meat & crops production and the emissions to see if there is a strong connection. Since the crops dataset only has data up to 2007 we will only study the data up until 2007."
   ]
  },
  {
   "cell_type": "code",
   "execution_count": null,
   "metadata": {},
   "outputs": [],
   "source": [
    "meat_relevant = meat_total[meat_total.Year < 2008]\n",
    "emissions_relevant = emission_data[emission_data.Year < 2008]"
   ]
  },
  {
   "cell_type": "code",
   "execution_count": null,
   "metadata": {},
   "outputs": [],
   "source": [
    "def check_correlation(meat_data, crops_data, emission_data):\n",
    "    for area in meat_data.Area.unique():\n",
    "        meat = meat_data[meat_data.Area.str.contains(area)].reset_index()\n",
    "        crops = crops_data[crops_data.Area.str.contains(area)].reset_index()\n",
    "        emissions = emission_data[emission_data.Area.str.contains(area)].reset_index()\n",
    "\n",
    "        corr_data = pd.DataFrame(data = {'Emissions': emissions.Value, 'Meat Production': meat.Value, 'Crops Production': crops.Value}) \n",
    "        corr = corr_data.corr()\n",
    "        fig = plt.figure(figsize = (3, 2))\n",
    "\n",
    "        ax = sns.heatmap(corr, center = 0, annot = True)\n",
    "        plt.yticks(rotation= 0)\n",
    "        plt.xticks(rotation= 90)\n",
    "        plt.title('Cross-correlation: ' + area, fontsize = 15)\n",
    "        bottom, top = ax.get_ylim()\n",
    "        ax.set_ylim(bottom + 0.5, top - 0.5)\n",
    "        plt.show()\n",
    "        \n",
    "check_correlation(meat_relevant, crops_total, emissions_relevant)"
   ]
  },
  {
   "cell_type": "markdown",
   "metadata": {},
   "source": [
    "As we can see from the first row in each of the correlation matrices, there is no specific pattern regarding the correlation between meat production and emissions or crops production and emissions."
   ]
  },
  {
   "cell_type": "markdown",
   "metadata": {},
   "source": [
    "#### Study on different crops/meat categories"
   ]
  },
  {
   "cell_type": "code",
   "execution_count": null,
   "metadata": {},
   "outputs": [],
   "source": [
    "world_categorized_emissions = pd.read_pickle(data_path + 'world_categorized_emissions.pkl')\n",
    "world_categorized_production = pd.read_pickle(data_path + 'world_categorized_production.pkl')\n",
    "\n",
    "world_categorized_emissions.Item.unique()"
   ]
  },
  {
   "cell_type": "markdown",
   "metadata": {},
   "source": [
    "As we can see, there are only two types of crop categories. We are therefore missing emission data for other categories. The same goes for meat, as we for example are missing emissions for camel. We will have to work with the little information that we have for now.\n",
    "\n",
    "We choose to plot the emissions per product category. The emissions are given as amount of gigagrams emitted per tonne produced."
   ]
  },
  {
   "cell_type": "code",
   "execution_count": null,
   "metadata": {},
   "outputs": [],
   "source": [
    "# Plot how much each type of meat emits for every tonne produced\n",
    "fig = plt.figure(figsize = (15,8))\n",
    "\n",
    "for item in world_categorized_emissions.Item.unique():\n",
    "    plt.plot(world_categorized_emissions[world_categorized_emissions['Item'] == item].Year.values, \n",
    "             world_categorized_emissions[world_categorized_emissions['Item'] == item].Value.values\n",
    "             /(world_categorized_production[world_categorized_production['Item'] == item].Value.values))\n",
    "    \n",
    "plt.legend(world_categorized_emissions.Item.unique())\n",
    "\n",
    "plt.title('CO2 emissions/produced tonne in the world')\n",
    "plt.xlabel('Year')\n",
    "plt.ylabel('Amount (gigagrams/tonne)')\n",
    "plt.show()"
   ]
  },
  {
   "cell_type": "markdown",
   "metadata": {},
   "source": [
    "As we can see we are producing meat in a more sustainable way nowadays compared to 1960, since we are emitting less CO2 today per tonne meat produced compared to 1960. The same goes for the crops production cor cereals and rice. We can also see that the amount of emissions per tonne cereal/rice crops produced is a lot lower than the emissions for cattle, goat, buffalo and sheep. Pig and chicken however have low emissions.\n",
    "\n",
    "#### Correlation between emissions and specific crops/meat categories\n",
    "\n",
    "Since we are able to see such a huge difference in emissions between buffalo, cattle, sheep and goat in comparison towards the other categories, we will study the correlation one last time between emission and these distinct categories to see if there is anything interesting to be found.  We will also check four of the most produced crops categories: cereals_total, coarse_grain_total, roots_and_tubers_total, fruit_excl_melons_total."
   ]
  },
  {
   "cell_type": "code",
   "execution_count": null,
   "metadata": {},
   "outputs": [],
   "source": [
    "meat_cat = ['Meat, cattle', 'Meat, buffalo', 'Meat, sheep', 'Meat,goat']\n",
    "crops_cat = ['cereals_total', 'coarse_grain_total', 'roots_and_tubers_total', 'fruit_excl_melons_total']\n",
    "\n",
    "meat_relevant = meat_cont[meat_cont.Item.isin(meat_cat)][meat_cont.Year < 2008]\n",
    "crops_relevant = crops_cont[crops_cont.Item.isin(crops_cat)]\n",
    "\n",
    "# I know that this is repeating the code from earlier\n",
    "def check_correlation_categories(meat_relevant, crops_relevant, emissions_relevant):\n",
    "    for area in meat_relevant.Area.unique():\n",
    "            meat = meat_relevant[meat_relevant.Area.str.contains(area)].reset_index()\n",
    "            crops = crops_relevant[crops_relevant.Area.str.contains(area)].reset_index()\n",
    "            emissions = emissions_relevant[emissions_relevant.Area.str.contains(area)].reset_index()\n",
    "\n",
    "            corr_data = pd.DataFrame(data = {'Emissions': emissions.Value, \n",
    "                                             'Meat, cattle': meat[meat.Item.str.contains('Meat, cattle')].reset_index().Value,\n",
    "                                             'Meat, sheep': meat[meat.Item.str.contains('Meat, sheep')].reset_index().Value,\n",
    "                                             'Meat, goat': meat[meat.Item.str.contains('Meat, goat')].reset_index().Value,\n",
    "                                             'Meat, buffalo': meat[meat.Item.str.contains('Meat, buffalo')].reset_index().Value,\n",
    "                                             'Cereals, total': crops[crops.Item.str.contains('cereals_total')].reset_index().Value,\n",
    "                                             'Coarse grain, total': crops[crops.Item.str.contains('coarse_grain_total')].reset_index().Value,\n",
    "                                             'Roots and tubers, total': crops[crops.Item.str.contains('roots_and_tubers_total')].reset_index().Value,\n",
    "                                             'Fruit excl melons, total': crops[crops.Item.str.contains('fruit_excl_melons_total')].reset_index().Value}) \n",
    "            corr = corr_data.corr()\n",
    "            fig = plt.figure(figsize = (8, 7))\n",
    "\n",
    "            ax = sns.heatmap(corr, center = 0, annot = True)\n",
    "            plt.yticks(rotation= 0)\n",
    "            plt.xticks(rotation= 90)\n",
    "            plt.title('Cross-correlation: ' + area, fontsize = 15)\n",
    "            bottom, top = ax.get_ylim()\n",
    "            ax.set_ylim(bottom + 0.5, top - 0.5)\n",
    "            plt.show()\n",
    "\n",
    "check_correlation_categories(meat_relevant, crops_relevant, emissions_relevant)"
   ]
  },
  {
   "cell_type": "markdown",
   "metadata": {},
   "source": [
    "As we can see here, these four meat categories do in general correlate with the emissions and the crops do not. Europe is an exception as here the crops actually do correlate with the emission.\n",
    "\n",
    "What does this correlation matrix look like on a world level?"
   ]
  },
  {
   "cell_type": "code",
   "execution_count": null,
   "metadata": {},
   "outputs": [],
   "source": [
    "meat_world_relevant = meat_relevant.groupby(['Item','Year']).agg({'Value':'sum'}).reset_index()\n",
    "meat_world_relevant['Area'] = 'World'\n",
    "crops_world_relevant = crops_relevant.groupby(['Item','Year']).agg({'Value':'sum'}).reset_index()\n",
    "crops_world_relevant['Area'] = 'World'\n",
    "emissions_world_relevant = emissions_relevant.groupby(['Item','Year']).agg({'Value':'sum'}).reset_index()\n",
    "emissions_world_relevant['Area'] = 'World'\n",
    "\n",
    "check_correlation_categories(meat_world_relevant, crops_world_relevant, emissions_world_relevant)"
   ]
  },
  {
   "cell_type": "markdown",
   "metadata": {},
   "source": [
    "It's odd that the correlation matrix above looks so different when looking at world level compared to continent level. "
   ]
  },
  {
   "cell_type": "code",
   "execution_count": null,
   "metadata": {},
   "outputs": [],
   "source": []
  }
 ],
 "metadata": {
  "kernelspec": {
   "display_name": "Python 3",
   "language": "python",
   "name": "python3"
  },
  "language_info": {
   "codemirror_mode": {
    "name": "ipython",
    "version": 3
   },
   "file_extension": ".py",
   "mimetype": "text/x-python",
   "name": "python",
   "nbconvert_exporter": "python",
   "pygments_lexer": "ipython3",
   "version": "3.7.4"
  }
 },
 "nbformat": 4,
 "nbformat_minor": 4
}
