{
 "cells": [
  {
   "cell_type": "markdown",
   "metadata": {},
   "source": [
    "## Question1\n",
    "#### How has the crops/livestock primary production developed since 1960?\n",
    "\n",
    "In this notebook we examine how production of lifestock and crops has developed. To do this we need the cleaned data for lifestock/crops, as well as population data for countries.  \n",
    "To start out we will look at bigger areas, and then might look at it on country level afterwards.\n"
   ]
  },
  {
   "cell_type": "code",
   "execution_count": 2,
   "metadata": {},
   "outputs": [
    {
     "ename": "ModuleNotFoundError",
     "evalue": "No module named 'scripts'",
     "output_type": "error",
     "traceback": [
      "\u001b[0;31m---------------------------------------------------------------------------\u001b[0m",
      "\u001b[0;31mModuleNotFoundError\u001b[0m                       Traceback (most recent call last)",
      "\u001b[0;32m<ipython-input-2-d2a240a1a373>\u001b[0m in \u001b[0;36m<module>\u001b[0;34m\u001b[0m\n\u001b[1;32m      3\u001b[0m \u001b[0;32mimport\u001b[0m \u001b[0mmatplotlib\u001b[0m\u001b[0;34m.\u001b[0m\u001b[0mpyplot\u001b[0m \u001b[0;32mas\u001b[0m \u001b[0mplt\u001b[0m\u001b[0;34m\u001b[0m\u001b[0;34m\u001b[0m\u001b[0m\n\u001b[1;32m      4\u001b[0m \u001b[0;32mimport\u001b[0m \u001b[0mseaborn\u001b[0m \u001b[0;32mas\u001b[0m \u001b[0msns\u001b[0m\u001b[0;34m;\u001b[0m \u001b[0msns\u001b[0m\u001b[0;34m.\u001b[0m\u001b[0mset\u001b[0m\u001b[0;34m(\u001b[0m\u001b[0;34m)\u001b[0m\u001b[0;34m\u001b[0m\u001b[0;34m\u001b[0m\u001b[0m\n\u001b[0;32m----> 5\u001b[0;31m \u001b[0;32mfrom\u001b[0m \u001b[0mscripts\u001b[0m\u001b[0;34m.\u001b[0m\u001b[0mvisualization\u001b[0m \u001b[0;32mimport\u001b[0m \u001b[0;34m*\u001b[0m\u001b[0;34m\u001b[0m\u001b[0;34m\u001b[0m\u001b[0m\n\u001b[0m",
      "\u001b[0;31mModuleNotFoundError\u001b[0m: No module named 'scripts'"
     ]
    }
   ],
   "source": [
    "import pandas as pd\n",
    "import numpy as np\n",
    "import matplotlib.pyplot as plt\n",
    "import seaborn as sns; sns.set()\n",
    "from scripts.visualization import *\n"
   ]
  },
  {
   "cell_type": "code",
   "execution_count": null,
   "metadata": {},
   "outputs": [],
   "source": [
    "meat_cont = pd.read_csv('./data/csv/meat_continents.csv')\n",
    "pop_cont = pd.read_csv('./data/csv/pop_continents.csv')\n",
    "crops_cont = pd.read_pickle('./data/pickles/crops_continents.pkl')"
   ]
  },
  {
   "cell_type": "code",
   "execution_count": null,
   "metadata": {},
   "outputs": [],
   "source": [
    "# Join meat and population dataframes\n",
    "data = meat_cont.merge(pop_cont, on = ['Area','Year', 'Area Code'])\n",
    "\n",
    "# Remove old index column\n",
    "drop_col = ['Unnamed: 0_x', 'Unnamed: 0_y']\n",
    "data.drop(drop_col, axis = 1, inplace = True)\n",
    "\n",
    "# Rename the columns\n",
    "new_names = {'Unit_x': 'Unit', 'Value_x': 'Value', 'Value_y': 'Population', 'Unit_y': 'Population Unit'}\n",
    "data.rename(columns = new_names, inplace = True)\n",
    "\n",
    "# Add a new column with production per 1000 captia\n",
    "data['Relative Production'] = data['Value']/data['Population']\n",
    "data.head(3)\n"
   ]
  },
  {
   "cell_type": "code",
   "execution_count": null,
   "metadata": {},
   "outputs": [],
   "source": [
    "from imp import reload\n",
    "import scripts.visualization\n",
    "reload(scripts.visualization)\n",
    "from scripts.visualization import *\n",
    "\n",
    "plot_compare_areas(data[(data['Item'] == 'Meat, Total')], \n",
    "                    y = 'Relative Production', \n",
    "                    title='PlotProductionPerCapita', \n",
    "                    save_html=False)"
   ]
  },
  {
   "cell_type": "code",
   "execution_count": null,
   "metadata": {},
   "outputs": [],
   "source": [
    "crops_cont = crops_cont[crops_cont['Element'] == 'Production Quantity']\n",
    "interesting_categories = ['cereals_total', 'potatoes', 'vegetables_melons_total']\n",
    "crops_cont = crops_cont[crops_cont['Item'].isin(interesting_categories)]\n",
    "crops = crops_cont.reset_index().drop(['index'], axis = 1)\n",
    "crops.head(3)"
   ]
  },
  {
   "cell_type": "code",
   "execution_count": null,
   "metadata": {},
   "outputs": [],
   "source": [
    "from imp import reload\n",
    "import scripts.visualization\n",
    "reload(scripts.visualization)\n",
    "from scripts.visualization import *\n",
    "\n",
    "\n",
    "bokeh_compare_areas(crops[(crops['Item'] == 'cereals_total')], \n",
    "                    y = 'Value', \n",
    "                    title='PlotCereal', \n",
    "                    save_html=True)"
   ]
  },
  {
   "cell_type": "code",
   "execution_count": null,
   "metadata": {},
   "outputs": [],
   "source": []
  }
 ],
 "metadata": {
  "kernelspec": {
   "display_name": "Python 3",
   "language": "python",
   "name": "python3"
  },
  "language_info": {
   "codemirror_mode": {
    "name": "ipython",
    "version": 3
   },
   "file_extension": ".py",
   "mimetype": "text/x-python",
   "name": "python",
   "nbconvert_exporter": "python",
   "pygments_lexer": "ipython3",
   "version": "3.7.4"
  }
 },
 "nbformat": 4,
 "nbformat_minor": 4
}
