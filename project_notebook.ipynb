{
 "cells": [
  {
   "cell_type": "markdown",
   "metadata": {},
   "source": [
    "# Milestone 2\n",
    "This notebook summerizes all of what we have done in the project so far, and below is the research questions we wish to answer in this project.\n",
    "\n",
    "1. How has the crops/livestock primary production developed since 1960?\n",
    "2. Is there a connection between the development of livestock primary production and crop production?\n",
    "3. How are the differences in production quantities between the different continents?\n",
    "4. How has the development in agriculture affected emission of greenhouse gasses?\n",
    "\n",
    "To answer this we are using 4 different datasets, all are collected from FAO-STAT (Food and Agriculture Organization of the United Nations - <http://www.fao.org/faostat/en/#data>). In this notebook we will describe and clean all of the data. \n",
    "This notebook is somewhat stripped to the most important findings, usually more extensive information can be found in the seperate notebooks."
   ]
  },
  {
   "cell_type": "markdown",
   "metadata": {},
   "source": [
    "**Note regarding our datasets from FAO:**  \n",
    "- _There is limited geographical comparability due to differences between countries in methods and coverage, except for regions where countries are bound by regulations mandating harmonized methods, such as EU countries._\n",
    "- _For shorter time periods, reasonably good comparability over time can be expected, as there is stability in the product definition and classification. However, as the time series are very long (from 1961) full comparability over time cannot be expected._\n",
    "\n",
    "http://www.fao.org/faostat/en/#data/QL/metadata\n"
   ]
  },
  {
   "cell_type": "markdown",
   "metadata": {},
   "source": [
    "## Contents\n",
    "- Exploration and cleaning\n",
    "    - [Livestock](#livestock)\n",
    "    - [Crops](#crops)\n",
    "    - [Population](#population)\n",
    "    - [Emission](#emission)\n",
    "- [Plan for Milestone 3](#plan)"
   ]
  },
  {
   "cell_type": "markdown",
   "metadata": {},
   "source": [
    "### General Layout of Datasets\n",
    "As we have collected all the datasets from the same source they are somewhat organized in the same way. There are 7 columns with metadata and and most of the values there is also a flag to explain how the data is collected.\n",
    "\n",
    "\n",
    "| Column name         | Explanation|\n",
    "|------------------------|--------|\n",
    "| Area                   |Name of country/area|\n",
    "| Area Code              |Unique code for each country/area|\n",
    "| Item                   |Type of product, e.g \"Eggs, hen, in shell\"|\n",
    "| Item Code              |Unique code for each Item|\n",
    "| Element                |Type data, e.g. Production, Yield, Milk Animals |\n",
    "| Unit                   |The unit of the measurement of the element |\n",
    "| Element Code           |Unique code based on pairs of Element and Unit|\n",
    "\n",
    "\n",
    "\n",
    "\n",
    "|  Flag  | Meaning of flag        |\n",
    "|--------|------------------------|\n",
    "| *      | Unofficial data        |\n",
    "| F      | FAO Estimate           |\n",
    "| NaN    | Official data          |\n",
    "| Fc     | Calculated data        |\n",
    "| A      | Aggregate, may include official, semi-official, estimated or calculated data |\n",
    "| M      | Data not available     | \n",
    "| Im     |FAO data based on imputation methodology |"
   ]
  },
  {
   "cell_type": "code",
   "execution_count": 1,
   "metadata": {},
   "outputs": [],
   "source": [
    "# Import packages that are most used\n",
    "import pandas as pd\n",
    "import numpy as np\n",
    "import matplotlib.pyplot as plt\n",
    "import seaborn as sns; sns.set()"
   ]
  },
  {
   "cell_type": "markdown",
   "metadata": {},
   "source": [
    "---\n",
    "<a id='livestock'></a>\n",
    "## Livestock\n",
    "\n",
    "The livestock dataset covers information on several livestock products globally, during the time 1961-2014. From 2014-2017 several values may be missing. The data contains all the production from both industrial production and farm production. The dataset is available at http://www.fao.org/faostat/en/#data/QL.   \n",
    "\n",
    "Each row of the raw livestock dataset contains data on all years available, on a given metadata. There are 7 columns of metadata, which can be seen below, and the rest of the columns are data for each year. The years usually span from 1961 to 2017, but some years are missing.\n",
    "\n",
    "The Item also describes if a product is “Indigenous” or not. If a product is not “indigenous” the animal from which the product has been derived has been imported.\n"
   ]
  },
  {
   "cell_type": "code",
   "execution_count": 2,
   "metadata": {},
   "outputs": [
    {
     "data": {
      "text/html": [
       "<div>\n",
       "<style scoped>\n",
       "    .dataframe tbody tr th:only-of-type {\n",
       "        vertical-align: middle;\n",
       "    }\n",
       "\n",
       "    .dataframe tbody tr th {\n",
       "        vertical-align: top;\n",
       "    }\n",
       "\n",
       "    .dataframe thead th {\n",
       "        text-align: right;\n",
       "    }\n",
       "</style>\n",
       "<table border=\"1\" class=\"dataframe\">\n",
       "  <thead>\n",
       "    <tr style=\"text-align: right;\">\n",
       "      <th></th>\n",
       "      <th>Area Code</th>\n",
       "      <th>Area</th>\n",
       "      <th>Item Code</th>\n",
       "      <th>Item</th>\n",
       "      <th>Element Code</th>\n",
       "      <th>Element</th>\n",
       "      <th>Unit</th>\n",
       "      <th>Y1961</th>\n",
       "      <th>Y1961F</th>\n",
       "      <th>Y1962</th>\n",
       "      <th>...</th>\n",
       "      <th>Y2013</th>\n",
       "      <th>Y2013F</th>\n",
       "      <th>Y2014</th>\n",
       "      <th>Y2014F</th>\n",
       "      <th>Y2015</th>\n",
       "      <th>Y2015F</th>\n",
       "      <th>Y2016</th>\n",
       "      <th>Y2016F</th>\n",
       "      <th>Y2017</th>\n",
       "      <th>Y2017F</th>\n",
       "    </tr>\n",
       "  </thead>\n",
       "  <tbody>\n",
       "    <tr>\n",
       "      <td>0</td>\n",
       "      <td>2</td>\n",
       "      <td>Afghanistan</td>\n",
       "      <td>1062</td>\n",
       "      <td>Eggs, hen, in shell</td>\n",
       "      <td>5313</td>\n",
       "      <td>Laying</td>\n",
       "      <td>1000 Head</td>\n",
       "      <td>4000.0</td>\n",
       "      <td>F</td>\n",
       "      <td>4400.0</td>\n",
       "      <td>...</td>\n",
       "      <td>9500.0</td>\n",
       "      <td>F</td>\n",
       "      <td>9500.0</td>\n",
       "      <td>F</td>\n",
       "      <td>9337.0</td>\n",
       "      <td>Im</td>\n",
       "      <td>9369.0</td>\n",
       "      <td>Im</td>\n",
       "      <td>10688.0</td>\n",
       "      <td>F</td>\n",
       "    </tr>\n",
       "    <tr>\n",
       "      <td>1</td>\n",
       "      <td>2</td>\n",
       "      <td>Afghanistan</td>\n",
       "      <td>1062</td>\n",
       "      <td>Eggs, hen, in shell</td>\n",
       "      <td>5410</td>\n",
       "      <td>Yield</td>\n",
       "      <td>100mg/An</td>\n",
       "      <td>25000.0</td>\n",
       "      <td>Fc</td>\n",
       "      <td>25000.0</td>\n",
       "      <td>...</td>\n",
       "      <td>18947.0</td>\n",
       "      <td>Fc</td>\n",
       "      <td>19474.0</td>\n",
       "      <td>Fc</td>\n",
       "      <td>21253.0</td>\n",
       "      <td>Fc</td>\n",
       "      <td>21263.0</td>\n",
       "      <td>Fc</td>\n",
       "      <td>18713.0</td>\n",
       "      <td>Fc</td>\n",
       "    </tr>\n",
       "  </tbody>\n",
       "</table>\n",
       "<p>2 rows × 121 columns</p>\n",
       "</div>"
      ],
      "text/plain": [
       "   Area Code         Area  Item Code                 Item  Element Code  \\\n",
       "0          2  Afghanistan       1062  Eggs, hen, in shell          5313   \n",
       "1          2  Afghanistan       1062  Eggs, hen, in shell          5410   \n",
       "\n",
       "  Element       Unit    Y1961 Y1961F    Y1962  ...    Y2013  Y2013F    Y2014  \\\n",
       "0  Laying  1000 Head   4000.0      F   4400.0  ...   9500.0       F   9500.0   \n",
       "1   Yield   100mg/An  25000.0     Fc  25000.0  ...  18947.0      Fc  19474.0   \n",
       "\n",
       "   Y2014F    Y2015  Y2015F    Y2016  Y2016F    Y2017  Y2017F  \n",
       "0       F   9337.0      Im   9369.0      Im  10688.0       F  \n",
       "1      Fc  21253.0      Fc  21263.0      Fc  18713.0      Fc  \n",
       "\n",
       "[2 rows x 121 columns]"
      ]
     },
     "execution_count": 2,
     "metadata": {},
     "output_type": "execute_result"
    }
   ],
   "source": [
    "livestock = pd.read_csv('raw_data/Production_LivestockPrimary_E_All_Data.csv', sep = ',', encoding = 'latin-1')\n",
    "livestock.head(2)"
   ]
  },
  {
   "cell_type": "markdown",
   "metadata": {},
   "source": [
    "### Exploration\n",
    "\n",
    "Thorough information on all columns can be found in the notebook *livestock_data_cleaning.ipynb*.   \n",
    "Here is the different elements that are found in the dataset.\n",
    "\n",
    "\n",
    "|  Element             | Description            |\n",
    "|----------------------|------------------------|\n",
    "| Laying               | Birds raised for laying eggs        |\n",
    "| Yield                | How much of the animal which is used           |\n",
    "| Production           | How much is produced          |\n",
    "| Producing Animals/Slaughtered    | How many animals that are being produced for meat        |\n",
    "| Yield/Carcass Weight | Same as yield, but also taking account size of animal |\n",
    "| Milk Animals         | How many animals used for milk production     | \n",
    "| Prod Popultn         | Population of a given item  |\n"
   ]
  },
  {
   "cell_type": "markdown",
   "metadata": {},
   "source": [
    "### Data Cleaning"
   ]
  },
  {
   "cell_type": "markdown",
   "metadata": {},
   "source": [
    "**Elements**  \n",
    "As we are primarily interested in meat production in this task, we take away all elements except _Production_ and _Producing Animals/Slaughtered_. "
   ]
  },
  {
   "cell_type": "code",
   "execution_count": 3,
   "metadata": {},
   "outputs": [],
   "source": [
    "livestock_prod = livestock[(livestock['Element'] == 'Production') | (livestock['Element'] == 'Producing Animals /Slaughtered') ]"
   ]
  },
  {
   "cell_type": "markdown",
   "metadata": {},
   "source": [
    "**Items**  \n",
    "After removing the other elements, we remove all items that are not meat."
   ]
  },
  {
   "cell_type": "code",
   "execution_count": 4,
   "metadata": {},
   "outputs": [
    {
     "data": {
      "text/html": [
       "<div>\n",
       "<style scoped>\n",
       "    .dataframe tbody tr th:only-of-type {\n",
       "        vertical-align: middle;\n",
       "    }\n",
       "\n",
       "    .dataframe tbody tr th {\n",
       "        vertical-align: top;\n",
       "    }\n",
       "\n",
       "    .dataframe thead th {\n",
       "        text-align: right;\n",
       "    }\n",
       "</style>\n",
       "<table border=\"1\" class=\"dataframe\">\n",
       "  <thead>\n",
       "    <tr style=\"text-align: right;\">\n",
       "      <th></th>\n",
       "      <th>Area Code</th>\n",
       "      <th>Area</th>\n",
       "      <th>Item Code</th>\n",
       "      <th>Item</th>\n",
       "      <th>Element Code</th>\n",
       "      <th>Element</th>\n",
       "      <th>Unit</th>\n",
       "      <th>Y1961</th>\n",
       "      <th>Y1961F</th>\n",
       "      <th>Y1962</th>\n",
       "      <th>...</th>\n",
       "      <th>Y2013</th>\n",
       "      <th>Y2013F</th>\n",
       "      <th>Y2014</th>\n",
       "      <th>Y2014F</th>\n",
       "      <th>Y2015</th>\n",
       "      <th>Y2015F</th>\n",
       "      <th>Y2016</th>\n",
       "      <th>Y2016F</th>\n",
       "      <th>Y2017</th>\n",
       "      <th>Y2017F</th>\n",
       "    </tr>\n",
       "  </thead>\n",
       "  <tbody>\n",
       "    <tr>\n",
       "      <td>8</td>\n",
       "      <td>2</td>\n",
       "      <td>Afghanistan</td>\n",
       "      <td>1137</td>\n",
       "      <td>Meat indigenous, camel</td>\n",
       "      <td>5322</td>\n",
       "      <td>Production</td>\n",
       "      <td>Head</td>\n",
       "      <td>20000.0</td>\n",
       "      <td>F</td>\n",
       "      <td>22393.0</td>\n",
       "      <td>...</td>\n",
       "      <td>19500.0</td>\n",
       "      <td>F</td>\n",
       "      <td>NaN</td>\n",
       "      <td>NaN</td>\n",
       "      <td>NaN</td>\n",
       "      <td>NaN</td>\n",
       "      <td>NaN</td>\n",
       "      <td>NaN</td>\n",
       "      <td>NaN</td>\n",
       "      <td>NaN</td>\n",
       "    </tr>\n",
       "    <tr>\n",
       "      <td>10</td>\n",
       "      <td>2</td>\n",
       "      <td>Afghanistan</td>\n",
       "      <td>1137</td>\n",
       "      <td>Meat indigenous, camel</td>\n",
       "      <td>5510</td>\n",
       "      <td>Production</td>\n",
       "      <td>tonnes</td>\n",
       "      <td>3600.0</td>\n",
       "      <td>Fc</td>\n",
       "      <td>4031.0</td>\n",
       "      <td>...</td>\n",
       "      <td>3510.0</td>\n",
       "      <td>Fc</td>\n",
       "      <td>NaN</td>\n",
       "      <td>NaN</td>\n",
       "      <td>NaN</td>\n",
       "      <td>NaN</td>\n",
       "      <td>NaN</td>\n",
       "      <td>NaN</td>\n",
       "      <td>NaN</td>\n",
       "      <td>NaN</td>\n",
       "    </tr>\n",
       "  </tbody>\n",
       "</table>\n",
       "<p>2 rows × 121 columns</p>\n",
       "</div>"
      ],
      "text/plain": [
       "    Area Code         Area  Item Code                    Item  Element Code  \\\n",
       "8           2  Afghanistan       1137  Meat indigenous, camel          5322   \n",
       "10          2  Afghanistan       1137  Meat indigenous, camel          5510   \n",
       "\n",
       "       Element    Unit    Y1961 Y1961F    Y1962  ...    Y2013  Y2013F Y2014  \\\n",
       "8   Production    Head  20000.0      F  22393.0  ...  19500.0       F   NaN   \n",
       "10  Production  tonnes   3600.0     Fc   4031.0  ...   3510.0      Fc   NaN   \n",
       "\n",
       "    Y2014F Y2015  Y2015F Y2016  Y2016F Y2017  Y2017F  \n",
       "8      NaN   NaN     NaN   NaN     NaN   NaN     NaN  \n",
       "10     NaN   NaN     NaN   NaN     NaN   NaN     NaN  \n",
       "\n",
       "[2 rows x 121 columns]"
      ]
     },
     "execution_count": 4,
     "metadata": {},
     "output_type": "execute_result"
    }
   ],
   "source": [
    "livestock_meat = livestock_prod[livestock_prod['Item'].str.contains('Meat')]\n",
    "livestock_meat.head(2)"
   ]
  },
  {
   "cell_type": "markdown",
   "metadata": {},
   "source": [
    "**Units**  \n",
    "To easily compare the data, we would like to have a joint unit for all the data. We see that for each item we get two numbers, number of animals (Heads) and the weight of produced meat (tonnes). We choose to only look at produced meat, and remove the head-counts."
   ]
  },
  {
   "cell_type": "code",
   "execution_count": 5,
   "metadata": {},
   "outputs": [
    {
     "data": {
      "text/html": [
       "<div>\n",
       "<style scoped>\n",
       "    .dataframe tbody tr th:only-of-type {\n",
       "        vertical-align: middle;\n",
       "    }\n",
       "\n",
       "    .dataframe tbody tr th {\n",
       "        vertical-align: top;\n",
       "    }\n",
       "\n",
       "    .dataframe thead th {\n",
       "        text-align: right;\n",
       "    }\n",
       "</style>\n",
       "<table border=\"1\" class=\"dataframe\">\n",
       "  <thead>\n",
       "    <tr style=\"text-align: right;\">\n",
       "      <th></th>\n",
       "      <th>Area Code</th>\n",
       "      <th>Area</th>\n",
       "      <th>Item Code</th>\n",
       "      <th>Item</th>\n",
       "      <th>Element Code</th>\n",
       "      <th>Element</th>\n",
       "      <th>Unit</th>\n",
       "      <th>Y1961</th>\n",
       "      <th>Y1961F</th>\n",
       "      <th>Y1962</th>\n",
       "      <th>...</th>\n",
       "      <th>Y2013</th>\n",
       "      <th>Y2013F</th>\n",
       "      <th>Y2014</th>\n",
       "      <th>Y2014F</th>\n",
       "      <th>Y2015</th>\n",
       "      <th>Y2015F</th>\n",
       "      <th>Y2016</th>\n",
       "      <th>Y2016F</th>\n",
       "      <th>Y2017</th>\n",
       "      <th>Y2017F</th>\n",
       "    </tr>\n",
       "  </thead>\n",
       "  <tbody>\n",
       "    <tr>\n",
       "      <td>10</td>\n",
       "      <td>2</td>\n",
       "      <td>Afghanistan</td>\n",
       "      <td>1137</td>\n",
       "      <td>Meat indigenous, camel</td>\n",
       "      <td>5510</td>\n",
       "      <td>Production</td>\n",
       "      <td>tonnes</td>\n",
       "      <td>3600.0</td>\n",
       "      <td>Fc</td>\n",
       "      <td>4031.0</td>\n",
       "      <td>...</td>\n",
       "      <td>3510.0</td>\n",
       "      <td>Fc</td>\n",
       "      <td>NaN</td>\n",
       "      <td>NaN</td>\n",
       "      <td>NaN</td>\n",
       "      <td>NaN</td>\n",
       "      <td>NaN</td>\n",
       "      <td>NaN</td>\n",
       "      <td>NaN</td>\n",
       "      <td>NaN</td>\n",
       "    </tr>\n",
       "    <tr>\n",
       "      <td>13</td>\n",
       "      <td>2</td>\n",
       "      <td>Afghanistan</td>\n",
       "      <td>944</td>\n",
       "      <td>Meat indigenous, cattle</td>\n",
       "      <td>5510</td>\n",
       "      <td>Production</td>\n",
       "      <td>tonnes</td>\n",
       "      <td>42984.0</td>\n",
       "      <td>Fc</td>\n",
       "      <td>45811.0</td>\n",
       "      <td>...</td>\n",
       "      <td>117829.0</td>\n",
       "      <td>Fc</td>\n",
       "      <td>NaN</td>\n",
       "      <td>NaN</td>\n",
       "      <td>NaN</td>\n",
       "      <td>NaN</td>\n",
       "      <td>NaN</td>\n",
       "      <td>NaN</td>\n",
       "      <td>NaN</td>\n",
       "      <td>NaN</td>\n",
       "    </tr>\n",
       "  </tbody>\n",
       "</table>\n",
       "<p>2 rows × 121 columns</p>\n",
       "</div>"
      ],
      "text/plain": [
       "    Area Code         Area  Item Code                     Item  Element Code  \\\n",
       "10          2  Afghanistan       1137   Meat indigenous, camel          5510   \n",
       "13          2  Afghanistan        944  Meat indigenous, cattle          5510   \n",
       "\n",
       "       Element    Unit    Y1961 Y1961F    Y1962  ...     Y2013  Y2013F Y2014  \\\n",
       "10  Production  tonnes   3600.0     Fc   4031.0  ...    3510.0      Fc   NaN   \n",
       "13  Production  tonnes  42984.0     Fc  45811.0  ...  117829.0      Fc   NaN   \n",
       "\n",
       "    Y2014F Y2015  Y2015F Y2016  Y2016F Y2017  Y2017F  \n",
       "10     NaN   NaN     NaN   NaN     NaN   NaN     NaN  \n",
       "13     NaN   NaN     NaN   NaN     NaN   NaN     NaN  \n",
       "\n",
       "[2 rows x 121 columns]"
      ]
     },
     "execution_count": 5,
     "metadata": {},
     "output_type": "execute_result"
    }
   ],
   "source": [
    "livestock_meat = livestock_meat[livestock_meat['Unit'].str.contains('tonnes')]\n",
    "livestock_meat.head(2)"
   ]
  },
  {
   "cell_type": "markdown",
   "metadata": {},
   "source": [
    "**Flags**  \n",
    "The flags say something about the reliability of the data, but as this is the best data available we \"trust\" all the data. However, we do keep the flags in case we observe inconsistencies in the future."
   ]
  },
  {
   "cell_type": "markdown",
   "metadata": {},
   "source": [
    "**Reshaping**  \n",
    "To have this dataset fit the same format as the others we have to reshape it, so that the yearly values are rows instead of columns. Afterwards we clean years to an int (remove Y before the year)."
   ]
  },
  {
   "cell_type": "code",
   "execution_count": 6,
   "metadata": {},
   "outputs": [],
   "source": [
    "# Find the columns which are years, flags and metadata\n",
    "col_years = [col for col in livestock_meat.columns if (col[0] == 'Y') and (col[-1] != 'F') ]\n",
    "col_flags = [col for col in livestock_meat.columns if (col[0] == 'Y') and (col[-1] == 'F') ]\n",
    "col_metadata = livestock_meat.columns[0:7]\n",
    "\n",
    "# Do two melts, once on year and once on flag and add flags to dataframe with years\n",
    "temp_years = livestock_meat.melt(id_vars = col_metadata, value_vars = col_years, var_name = 'Year', value_name = 'Value')\n",
    "temp_flags = livestock_meat.melt(id_vars = col_metadata, value_vars = col_flags, var_name = 'FlagYear', value_name = 'Flag')\n",
    "meat_data = temp_years.join(temp_flags['Flag'])"
   ]
  },
  {
   "cell_type": "code",
   "execution_count": 7,
   "metadata": {},
   "outputs": [],
   "source": [
    "# Remove Y in years\n",
    "meat_data['Year'] = meat_data['Year'].str.replace('Y', '').astype(int)"
   ]
  },
  {
   "cell_type": "code",
   "execution_count": 8,
   "metadata": {},
   "outputs": [
    {
     "data": {
      "text/html": [
       "<div>\n",
       "<style scoped>\n",
       "    .dataframe tbody tr th:only-of-type {\n",
       "        vertical-align: middle;\n",
       "    }\n",
       "\n",
       "    .dataframe tbody tr th {\n",
       "        vertical-align: top;\n",
       "    }\n",
       "\n",
       "    .dataframe thead th {\n",
       "        text-align: right;\n",
       "    }\n",
       "</style>\n",
       "<table border=\"1\" class=\"dataframe\">\n",
       "  <thead>\n",
       "    <tr style=\"text-align: right;\">\n",
       "      <th></th>\n",
       "      <th>Area Code</th>\n",
       "      <th>Area</th>\n",
       "      <th>Item Code</th>\n",
       "      <th>Item</th>\n",
       "      <th>Element Code</th>\n",
       "      <th>Element</th>\n",
       "      <th>Unit</th>\n",
       "      <th>Year</th>\n",
       "      <th>Value</th>\n",
       "      <th>Flag</th>\n",
       "    </tr>\n",
       "  </thead>\n",
       "  <tbody>\n",
       "    <tr>\n",
       "      <td>0</td>\n",
       "      <td>2</td>\n",
       "      <td>Afghanistan</td>\n",
       "      <td>1137</td>\n",
       "      <td>Meat indigenous, camel</td>\n",
       "      <td>5510</td>\n",
       "      <td>Production</td>\n",
       "      <td>tonnes</td>\n",
       "      <td>1961</td>\n",
       "      <td>3600.0</td>\n",
       "      <td>Fc</td>\n",
       "    </tr>\n",
       "    <tr>\n",
       "      <td>1</td>\n",
       "      <td>2</td>\n",
       "      <td>Afghanistan</td>\n",
       "      <td>944</td>\n",
       "      <td>Meat indigenous, cattle</td>\n",
       "      <td>5510</td>\n",
       "      <td>Production</td>\n",
       "      <td>tonnes</td>\n",
       "      <td>1961</td>\n",
       "      <td>42984.0</td>\n",
       "      <td>Fc</td>\n",
       "    </tr>\n",
       "  </tbody>\n",
       "</table>\n",
       "</div>"
      ],
      "text/plain": [
       "   Area Code         Area  Item Code                     Item  Element Code  \\\n",
       "0          2  Afghanistan       1137   Meat indigenous, camel          5510   \n",
       "1          2  Afghanistan        944  Meat indigenous, cattle          5510   \n",
       "\n",
       "      Element    Unit  Year    Value Flag  \n",
       "0  Production  tonnes  1961   3600.0   Fc  \n",
       "1  Production  tonnes  1961  42984.0   Fc  "
      ]
     },
     "execution_count": 8,
     "metadata": {},
     "output_type": "execute_result"
    }
   ],
   "source": [
    "meat_data.head(2)"
   ]
  },
  {
   "cell_type": "markdown",
   "metadata": {},
   "source": [
    "**Missing Data**  \n",
    "Below we can see that there are some data missing in the dataset, and when we are talking are talking about production at country-levet this is not very suprising. Since 1960, a lot of states have been founded and dissolved, with the Soviet Union in 1991 as the most notable. We assume that the missing year is included somewhere else (for example Albania in Soviet Union), and remove all rows with missing values.  \n",
    "Also, we choose to remove the data after 2013 as a lot of information is missing here and we wish to have consistent data."
   ]
  },
  {
   "cell_type": "code",
   "execution_count": 9,
   "metadata": {},
   "outputs": [
    {
     "data": {
      "image/png": "[encoded data removed]",
      "text/plain": [
       "<Figure size 864x432 with 1 Axes>"
      ]
     },
     "metadata": {
      "needs_background": "light"
     },
     "output_type": "display_data"
    }
   ],
   "source": [
    "# Create series with missing values\n",
    "missing_values = meat_data['Value'].isnull().groupby(meat_data['Year']).sum()\n",
    "\n",
    "# Plot missing values with years on x-axis and missing values on y-axis\n",
    "f = plt.figure(figsize = (12,6))\n",
    "plt.plot(missing_values.index, missing_values.values)\n",
    "plt.title('Missing Values in Livestock Dataset', fontsize = 16)\n",
    "plt.xlabel('Year', fontsize=12)\n",
    "plt.ylabel('Missing Values', fontsize=12)\n",
    "plt.show()"
   ]
  },
  {
   "cell_type": "code",
   "execution_count": 10,
   "metadata": {},
   "outputs": [],
   "source": [
    "# Remove all null values\n",
    "meat_data = meat_data[meat_data['Value'].notnull()]\n",
    "\n",
    "# Also remove all data after 2014 to have consistent data\n",
    "meat_data = meat_data[meat_data['Year'] < 2014]"
   ]
  },
  {
   "cell_type": "markdown",
   "metadata": {},
   "source": [
    "**Categorizing the Data**  \n",
    "We would like to divide our dataset into areas, countries and continents for easier use in the future. Luckily, because of the way area codes are organized, this is easily done. Everything under 251 is countries, and everything above 5000 are areas. "
   ]
  },
  {
   "cell_type": "code",
   "execution_count": 11,
   "metadata": {},
   "outputs": [
    {
     "name": "stdout",
     "output_type": "stream",
     "text": [
      "\n",
      "    Function that splits data into countries, areas and continents.\n",
      "    params:\n",
      "        df: fao-dataframe that includes area codes.\n",
      "        \n",
      "    returns:\n",
      "        countries: dataframe with area-code < 500\n",
      "        area: dataframe with only area-code > 500\n",
      "        continents: dataframe with the 6 continents\n",
      "    \n",
      "    \n"
     ]
    }
   ],
   "source": [
    "from scripts.helpers import split_fao_data\n",
    "print(split_fao_data.__doc__)\n",
    "\n",
    "meat_countries, meat_area, meat_continents = split_fao_data(meat_data)"
   ]
  },
  {
   "cell_type": "markdown",
   "metadata": {},
   "source": [
    "#### Summary of Livestock Dataset\n",
    "After the data cleaning we have three dataframes, one for countries, one for area and one with only continents. \n",
    "We have kept the cleaning quite general in order to not miss important information, but have still ended up with a dataset that is easy to use."
   ]
  },
  {
   "cell_type": "markdown",
   "metadata": {},
   "source": [
    "***\n",
    "<a id='crops'></a>\n",
    "## Crops\n",
    "\n",
    "The dataset covers production of all primary crops for all countries and regions in the world and **the production is only for human consumption**. Household production is not included in the data, that is, crops that are planted for personal consumption, in for example one’s garden. The dataset is available at <http://www.fao.org/faostat/en/#data/QC>.  \n",
    "\n",
    "Each row of the crops dataset contains data for a certain country/area, crop item and year. There are 7 columns of metadata, which can be seen below. The years in the dataset span from 1961 to 2007.\n"
   ]
  },
  {
   "cell_type": "code",
   "execution_count": 12,
   "metadata": {},
   "outputs": [
    {
     "data": {
      "text/html": [
       "<div>\n",
       "<style scoped>\n",
       "    .dataframe tbody tr th:only-of-type {\n",
       "        vertical-align: middle;\n",
       "    }\n",
       "\n",
       "    .dataframe tbody tr th {\n",
       "        vertical-align: top;\n",
       "    }\n",
       "\n",
       "    .dataframe thead th {\n",
       "        text-align: right;\n",
       "    }\n",
       "</style>\n",
       "<table border=\"1\" class=\"dataframe\">\n",
       "  <thead>\n",
       "    <tr style=\"text-align: right;\">\n",
       "      <th></th>\n",
       "      <th>country_or_area</th>\n",
       "      <th>element_code</th>\n",
       "      <th>element</th>\n",
       "      <th>year</th>\n",
       "      <th>unit</th>\n",
       "      <th>value</th>\n",
       "      <th>value_footnotes</th>\n",
       "      <th>category</th>\n",
       "    </tr>\n",
       "  </thead>\n",
       "  <tbody>\n",
       "    <tr>\n",
       "      <td>0</td>\n",
       "      <td>Americas +</td>\n",
       "      <td>31</td>\n",
       "      <td>Area Harvested</td>\n",
       "      <td>2007.0</td>\n",
       "      <td>Ha</td>\n",
       "      <td>49404.0</td>\n",
       "      <td>A</td>\n",
       "      <td>agave_fibres_nes</td>\n",
       "    </tr>\n",
       "    <tr>\n",
       "      <td>1</td>\n",
       "      <td>Americas +</td>\n",
       "      <td>31</td>\n",
       "      <td>Area Harvested</td>\n",
       "      <td>2006.0</td>\n",
       "      <td>Ha</td>\n",
       "      <td>49404.0</td>\n",
       "      <td>A</td>\n",
       "      <td>agave_fibres_nes</td>\n",
       "    </tr>\n",
       "    <tr>\n",
       "      <td>2</td>\n",
       "      <td>Americas +</td>\n",
       "      <td>31</td>\n",
       "      <td>Area Harvested</td>\n",
       "      <td>2005.0</td>\n",
       "      <td>Ha</td>\n",
       "      <td>49404.0</td>\n",
       "      <td>A</td>\n",
       "      <td>agave_fibres_nes</td>\n",
       "    </tr>\n",
       "  </tbody>\n",
       "</table>\n",
       "</div>"
      ],
      "text/plain": [
       "  country_or_area element_code         element    year unit    value  \\\n",
       "0      Americas +           31  Area Harvested  2007.0   Ha  49404.0   \n",
       "1      Americas +           31  Area Harvested  2006.0   Ha  49404.0   \n",
       "2      Americas +           31  Area Harvested  2005.0   Ha  49404.0   \n",
       "\n",
       "  value_footnotes          category  \n",
       "0              A   agave_fibres_nes  \n",
       "1              A   agave_fibres_nes  \n",
       "2              A   agave_fibres_nes  "
      ]
     },
     "execution_count": 12,
     "metadata": {},
     "output_type": "execute_result"
    }
   ],
   "source": [
    "data = pd.read_csv('raw_data/fao_data_crops_data.csv.zip', compression='zip', header=0, sep=',', quotechar='\"')\n",
    "data.head(3)"
   ]
  },
  {
   "cell_type": "markdown",
   "metadata": {},
   "source": [
    "### Explanation of Columns\n",
    "\n",
    "\n",
    "#### Elements\n",
    "- **Area harvested** refer to the area under cultivation. Area under cultivation means the area that corresponds to the total sown area, but after the harvest it excludes ruined areas (e.g. due to natural disasters). If the same land parcel is used twice in the same year, the area of this parcel can be counted twice. \n",
    "- **Production quantity** means the harvested production. Harvested production means production including on-holding losses and wastage, quantities consumed directly on the farm and marketed quantities, indicated in units of basic product weight. *Harvest year* means the calendar year in which the harvest begins. \n",
    "- **Yield** means the harvested production per ha for the area under cultivation. \n",
    "- **Seed** quantity comprises all amounts of the commodity in question used during the reference period for reproductive purposes, such as seed or seedlings. Usually, the average seed rate in any given country does not vary greatly from year to year."
   ]
  },
  {
   "cell_type": "markdown",
   "metadata": {},
   "source": [
    "#### Categories\n",
    "Crop statistics are recorded for 172 products, covering the following categories: Crops Primary, Fibre Crops Primary, Cereals, Coarse Grain, Citrus Fruit, Fruit, Jute Jute-like Fibres, Oilcakes Equivalent, Oil crops Primary, Pulses, Roots and Tubers, Treenuts and Vegetables and Melons. The objective is to comprehensively cover production of all primary crops for all countries and regions in the world. \n",
    "\n"
   ]
  },
  {
   "cell_type": "markdown",
   "metadata": {},
   "source": [
    "### Data Cleaning"
   ]
  },
  {
   "cell_type": "markdown",
   "metadata": {},
   "source": [
    "#### Renaming\n",
    "First of all we rename the columns to fit the livestock dataset.  \n",
    "This is mainly to make the first letter capital, but _Footnote_ changes to _Flag_ and _Category_ changes to _Item_."
   ]
  },
  {
   "cell_type": "code",
   "execution_count": 13,
   "metadata": {},
   "outputs": [
    {
     "data": {
      "text/html": [
       "<div>\n",
       "<style scoped>\n",
       "    .dataframe tbody tr th:only-of-type {\n",
       "        vertical-align: middle;\n",
       "    }\n",
       "\n",
       "    .dataframe tbody tr th {\n",
       "        vertical-align: top;\n",
       "    }\n",
       "\n",
       "    .dataframe thead th {\n",
       "        text-align: right;\n",
       "    }\n",
       "</style>\n",
       "<table border=\"1\" class=\"dataframe\">\n",
       "  <thead>\n",
       "    <tr style=\"text-align: right;\">\n",
       "      <th></th>\n",
       "      <th>Area</th>\n",
       "      <th>Element Code</th>\n",
       "      <th>Element</th>\n",
       "      <th>Year</th>\n",
       "      <th>Unit</th>\n",
       "      <th>Value</th>\n",
       "      <th>Flag</th>\n",
       "      <th>Item</th>\n",
       "    </tr>\n",
       "  </thead>\n",
       "  <tbody>\n",
       "    <tr>\n",
       "      <td>0</td>\n",
       "      <td>Americas +</td>\n",
       "      <td>31</td>\n",
       "      <td>Area Harvested</td>\n",
       "      <td>2007.0</td>\n",
       "      <td>Ha</td>\n",
       "      <td>49404.0</td>\n",
       "      <td>A</td>\n",
       "      <td>agave_fibres_nes</td>\n",
       "    </tr>\n",
       "    <tr>\n",
       "      <td>1</td>\n",
       "      <td>Americas +</td>\n",
       "      <td>31</td>\n",
       "      <td>Area Harvested</td>\n",
       "      <td>2006.0</td>\n",
       "      <td>Ha</td>\n",
       "      <td>49404.0</td>\n",
       "      <td>A</td>\n",
       "      <td>agave_fibres_nes</td>\n",
       "    </tr>\n",
       "  </tbody>\n",
       "</table>\n",
       "</div>"
      ],
      "text/plain": [
       "         Area Element Code         Element    Year Unit    Value Flag  \\\n",
       "0  Americas +           31  Area Harvested  2007.0   Ha  49404.0   A    \n",
       "1  Americas +           31  Area Harvested  2006.0   Ha  49404.0   A    \n",
       "\n",
       "               Item  \n",
       "0  agave_fibres_nes  \n",
       "1  agave_fibres_nes  "
      ]
     },
     "execution_count": 13,
     "metadata": {},
     "output_type": "execute_result"
    }
   ],
   "source": [
    "new_names = {'country_or_area': 'Area', 'element_code': 'Element Code', \n",
    "             'element': 'Element', 'year': 'Year', 'unit': 'Unit', \n",
    "             'value': 'Value', 'value_footnotes': 'Flag', 'category': 'Item'}\n",
    "\n",
    "data.rename(columns = new_names, inplace = True)\n",
    "data.head(2)"
   ]
  },
  {
   "cell_type": "markdown",
   "metadata": {},
   "source": [
    "#### Unnecessary rows:\n",
    "The dataset is ordered according to the alphabetical order of the _Item_ and after the end of each Item, there are rows that contain the footnote-descriptions above.  \n",
    "We therefore need to remove these rows since they don't contain any useful data."
   ]
  },
  {
   "cell_type": "code",
   "execution_count": 14,
   "metadata": {},
   "outputs": [],
   "source": [
    "# Removing rows that do not contain useful information\n",
    "keep_col = np.logical_not(data.Area.isin(['fnSeqID', 'Fc', 'A ', 'NR', 'F ', '* ']))\n",
    "crops_data = data[keep_col]"
   ]
  },
  {
   "cell_type": "markdown",
   "metadata": {},
   "source": [
    "#### Keep only category totals\n",
    "\n",
    "Since we want to analyse the general production of crops it is more interesting for us to look at the total production of the different categories instead of looking at every type of item. We will therefore only keep the totals in our dataset. The categories are stored using the following item names:\n",
    "- Fibre Crops Primary = fibre_crops_primary \n",
    "- Cereals = cereals_total\n",
    "- Coarse Grain = coarse_grain_total\n",
    "- Citrus Fruit = citrus_fruit_total\n",
    "- Fruit = fruit_excl_melons_total\n",
    "- Jute Jute-like Fibres = jute_jute_like_fibres\n",
    "- Oilcakes Equivalent = oilcakes_equivalent\n",
    "- Oil crops Primary = oil_crops_primary\n",
    "- Pulses = pulses_total\n",
    "- Roots and Tubers = roots_and_tubers_total \n",
    "- Treenuts = treenuts_total \n",
    "- Vegetables and Melons = vegetables_melons_total"
   ]
  },
  {
   "cell_type": "code",
   "execution_count": 15,
   "metadata": {},
   "outputs": [
    {
     "name": "stdout",
     "output_type": "stream",
     "text": [
      "Item categories in categorized dataset:\n",
      " ['cereals_total' 'citrus_fruit_total' 'coarse_grain_total'\n",
      " 'fibre_crops_primary' 'fruit_excl_melons_total' 'jute_jute_like_fibres'\n",
      " 'oilcakes_equivalent' 'oilcrops_primary' 'pulses_total'\n",
      " 'roots_and_tubers_total' 'treenuts_total' 'vegetables_melons_total']\n"
     ]
    }
   ],
   "source": [
    "keywords = ['_total', 'primary', 'jute_jute', 'oilcakes']\n",
    "items = crops_data.Item\n",
    "crops_categorized = crops_data[items.str.contains('|'.join(keywords))]\n",
    "\n",
    "print(\"Item categories in categorized dataset:\\n\", crops_categorized.Item.unique())"
   ]
  },
  {
   "cell_type": "markdown",
   "metadata": {},
   "source": [
    "#### Missing Data"
   ]
  },
  {
   "cell_type": "markdown",
   "metadata": {},
   "source": [
    "Below we check if there is missing data in our dataset, and as we see there is none."
   ]
  },
  {
   "cell_type": "code",
   "execution_count": 16,
   "metadata": {},
   "outputs": [
    {
     "name": "stdout",
     "output_type": "stream",
     "text": [
      "Missing information in categorized dataset: \n",
      " Area            0\n",
      "Element Code    0\n",
      "Element         0\n",
      "Year            0\n",
      "Unit            0\n",
      "Value           0\n",
      "Flag            0\n",
      "Item            0\n",
      "dtype: int64\n"
     ]
    }
   ],
   "source": [
    "print(\"Missing information in categorized dataset: \\n\", crops_categorized.isna().sum())"
   ]
  },
  {
   "cell_type": "markdown",
   "metadata": {},
   "source": [
    "#### Elements"
   ]
  },
  {
   "cell_type": "markdown",
   "metadata": {},
   "source": [
    "**Observation:** Are the elements apart form Production Quantity really necessary?\n",
    "\n",
    "- *Seed* is the amount of seeds that were planted, which is not relevant for the scope of this project.\n",
    "- *Area Harvested* is the amount of land that was used for planting the crops in our dataset, which is not relevant for the scope of this project.\n",
    "- *Yield* is the amount of crops that was given by the planted area, which is not relevant for the scope of this project.\n",
    "\n",
    "We will therefore remove element categories: Seed, Area Harvested and Yield."
   ]
  },
  {
   "cell_type": "code",
   "execution_count": 17,
   "metadata": {},
   "outputs": [
    {
     "data": {
      "text/html": [
       "<div>\n",
       "<style scoped>\n",
       "    .dataframe tbody tr th:only-of-type {\n",
       "        vertical-align: middle;\n",
       "    }\n",
       "\n",
       "    .dataframe tbody tr th {\n",
       "        vertical-align: top;\n",
       "    }\n",
       "\n",
       "    .dataframe thead th {\n",
       "        text-align: right;\n",
       "    }\n",
       "</style>\n",
       "<table border=\"1\" class=\"dataframe\">\n",
       "  <thead>\n",
       "    <tr style=\"text-align: right;\">\n",
       "      <th></th>\n",
       "      <th>Area</th>\n",
       "      <th>Element Code</th>\n",
       "      <th>Element</th>\n",
       "      <th>Year</th>\n",
       "      <th>Unit</th>\n",
       "      <th>Value</th>\n",
       "      <th>Flag</th>\n",
       "      <th>Item</th>\n",
       "    </tr>\n",
       "  </thead>\n",
       "  <tbody>\n",
       "    <tr>\n",
       "      <td>364540</td>\n",
       "      <td>Afghanistan</td>\n",
       "      <td>152</td>\n",
       "      <td>Gross Production 1999-2001 (1000 I$)</td>\n",
       "      <td>2007.0</td>\n",
       "      <td>1000 Int. $</td>\n",
       "      <td>896908.0</td>\n",
       "      <td>A</td>\n",
       "      <td>cereals_total</td>\n",
       "    </tr>\n",
       "    <tr>\n",
       "      <td>364541</td>\n",
       "      <td>Afghanistan</td>\n",
       "      <td>152</td>\n",
       "      <td>Gross Production 1999-2001 (1000 I$)</td>\n",
       "      <td>2006.0</td>\n",
       "      <td>1000 Int. $</td>\n",
       "      <td>718798.0</td>\n",
       "      <td>A</td>\n",
       "      <td>cereals_total</td>\n",
       "    </tr>\n",
       "    <tr>\n",
       "      <td>364542</td>\n",
       "      <td>Afghanistan</td>\n",
       "      <td>152</td>\n",
       "      <td>Gross Production 1999-2001 (1000 I$)</td>\n",
       "      <td>2005.0</td>\n",
       "      <td>1000 Int. $</td>\n",
       "      <td>841895.0</td>\n",
       "      <td>A</td>\n",
       "      <td>cereals_total</td>\n",
       "    </tr>\n",
       "  </tbody>\n",
       "</table>\n",
       "</div>"
      ],
      "text/plain": [
       "               Area Element Code                               Element  \\\n",
       "364540  Afghanistan          152  Gross Production 1999-2001 (1000 I$)   \n",
       "364541  Afghanistan          152  Gross Production 1999-2001 (1000 I$)   \n",
       "364542  Afghanistan          152  Gross Production 1999-2001 (1000 I$)   \n",
       "\n",
       "          Year         Unit     Value Flag           Item  \n",
       "364540  2007.0  1000 Int. $  896908.0   A   cereals_total  \n",
       "364541  2006.0  1000 Int. $  718798.0   A   cereals_total  \n",
       "364542  2005.0  1000 Int. $  841895.0   A   cereals_total  "
      ]
     },
     "execution_count": 17,
     "metadata": {},
     "output_type": "execute_result"
    }
   ],
   "source": [
    "elements = ['Seed', 'Area Harvested', 'Yield']\n",
    "crops_processed = crops_categorized[np.logical_not(crops_categorized['Element'].isin(elements))]\n",
    "crops_processed.head(3)"
   ]
  },
  {
   "cell_type": "markdown",
   "metadata": {},
   "source": [
    "But what do the element categories with element codes > 140 include? Can we remove these?"
   ]
  },
  {
   "cell_type": "markdown",
   "metadata": {},
   "source": [
    "#### Element codes > 140"
   ]
  },
  {
   "cell_type": "code",
   "execution_count": 18,
   "metadata": {},
   "outputs": [
    {
     "name": "stdout",
     "output_type": "stream",
     "text": [
      "Number of countries in this data:  222\n"
     ]
    },
    {
     "data": {
      "text/html": [
       "<div>\n",
       "<style scoped>\n",
       "    .dataframe tbody tr th:only-of-type {\n",
       "        vertical-align: middle;\n",
       "    }\n",
       "\n",
       "    .dataframe tbody tr th {\n",
       "        vertical-align: top;\n",
       "    }\n",
       "\n",
       "    .dataframe thead th {\n",
       "        text-align: right;\n",
       "    }\n",
       "</style>\n",
       "<table border=\"1\" class=\"dataframe\">\n",
       "  <thead>\n",
       "    <tr style=\"text-align: right;\">\n",
       "      <th></th>\n",
       "      <th>Area</th>\n",
       "      <th>Element Code</th>\n",
       "      <th>Element</th>\n",
       "      <th>Year</th>\n",
       "      <th>Unit</th>\n",
       "      <th>Value</th>\n",
       "      <th>Flag</th>\n",
       "      <th>Item</th>\n",
       "    </tr>\n",
       "  </thead>\n",
       "  <tbody>\n",
       "    <tr>\n",
       "      <td>364540</td>\n",
       "      <td>Afghanistan</td>\n",
       "      <td>152</td>\n",
       "      <td>Gross Production 1999-2001 (1000 I$)</td>\n",
       "      <td>2007.0</td>\n",
       "      <td>1000 Int. $</td>\n",
       "      <td>896908.0</td>\n",
       "      <td>A</td>\n",
       "      <td>cereals_total</td>\n",
       "    </tr>\n",
       "    <tr>\n",
       "      <td>364541</td>\n",
       "      <td>Afghanistan</td>\n",
       "      <td>152</td>\n",
       "      <td>Gross Production 1999-2001 (1000 I$)</td>\n",
       "      <td>2006.0</td>\n",
       "      <td>1000 Int. $</td>\n",
       "      <td>718798.0</td>\n",
       "      <td>A</td>\n",
       "      <td>cereals_total</td>\n",
       "    </tr>\n",
       "    <tr>\n",
       "      <td>364542</td>\n",
       "      <td>Afghanistan</td>\n",
       "      <td>152</td>\n",
       "      <td>Gross Production 1999-2001 (1000 I$)</td>\n",
       "      <td>2005.0</td>\n",
       "      <td>1000 Int. $</td>\n",
       "      <td>841895.0</td>\n",
       "      <td>A</td>\n",
       "      <td>cereals_total</td>\n",
       "    </tr>\n",
       "    <tr>\n",
       "      <td>364543</td>\n",
       "      <td>Afghanistan</td>\n",
       "      <td>152</td>\n",
       "      <td>Gross Production 1999-2001 (1000 I$)</td>\n",
       "      <td>2004.0</td>\n",
       "      <td>1000 Int. $</td>\n",
       "      <td>549037.0</td>\n",
       "      <td>A</td>\n",
       "      <td>cereals_total</td>\n",
       "    </tr>\n",
       "    <tr>\n",
       "      <td>364544</td>\n",
       "      <td>Afghanistan</td>\n",
       "      <td>152</td>\n",
       "      <td>Gross Production 1999-2001 (1000 I$)</td>\n",
       "      <td>2003.0</td>\n",
       "      <td>1000 Int. $</td>\n",
       "      <td>685931.0</td>\n",
       "      <td>A</td>\n",
       "      <td>cereals_total</td>\n",
       "    </tr>\n",
       "  </tbody>\n",
       "</table>\n",
       "</div>"
      ],
      "text/plain": [
       "               Area Element Code                               Element  \\\n",
       "364540  Afghanistan          152  Gross Production 1999-2001 (1000 I$)   \n",
       "364541  Afghanistan          152  Gross Production 1999-2001 (1000 I$)   \n",
       "364542  Afghanistan          152  Gross Production 1999-2001 (1000 I$)   \n",
       "364543  Afghanistan          152  Gross Production 1999-2001 (1000 I$)   \n",
       "364544  Afghanistan          152  Gross Production 1999-2001 (1000 I$)   \n",
       "\n",
       "          Year         Unit     Value Flag           Item  \n",
       "364540  2007.0  1000 Int. $  896908.0   A   cereals_total  \n",
       "364541  2006.0  1000 Int. $  718798.0   A   cereals_total  \n",
       "364542  2005.0  1000 Int. $  841895.0   A   cereals_total  \n",
       "364543  2004.0  1000 Int. $  549037.0   A   cereals_total  \n",
       "364544  2003.0  1000 Int. $  685931.0   A   cereals_total  "
      ]
     },
     "execution_count": 18,
     "metadata": {},
     "output_type": "execute_result"
    }
   ],
   "source": [
    "elem_codes = ['152', '154', '434', '438', '432', '436']\n",
    "study_data = crops_processed[crops_processed['Element Code'].isin(elem_codes)]\n",
    "print(\"Number of countries in this data: \", study_data.Area.unique().shape[0])\n",
    "study_data.head(5)"
   ]
  },
  {
   "cell_type": "markdown",
   "metadata": {},
   "source": [
    "From what we can see in the new dataset that only contain these elements, both the rows in the beginning and end have the Item cereals_total. Is this the only Item?"
   ]
  },
  {
   "cell_type": "code",
   "execution_count": 19,
   "metadata": {},
   "outputs": [
    {
     "data": {
      "text/plain": [
       "array(['cereals_total'], dtype=object)"
      ]
     },
     "execution_count": 19,
     "metadata": {},
     "output_type": "execute_result"
    }
   ],
   "source": [
    "study_data.Item.unique()"
   ]
  },
  {
   "cell_type": "markdown",
   "metadata": {},
   "source": [
    "Apparently so. Does this catgory exist for the other type of elements as well? Because if it does, we should be able to remove the elements with codes 152-438 from our dataset."
   ]
  },
  {
   "cell_type": "code",
   "execution_count": 20,
   "metadata": {},
   "outputs": [
    {
     "name": "stdout",
     "output_type": "stream",
     "text": [
      "Number of countries in this data:  225\n"
     ]
    },
    {
     "data": {
      "text/plain": [
       "array(['51'], dtype=object)"
      ]
     },
     "execution_count": 20,
     "metadata": {},
     "output_type": "execute_result"
    }
   ],
   "source": [
    "study_data_2 = crops_processed[crops_processed.Item.str.contains('cereals_total')]\n",
    "study_data_2 = study_data_2[np.logical_not(study_data_2['Element Code'].isin(elem_codes))]\n",
    "print(\"Number of countries in this data: \", study_data_2.Area.unique().shape[0])\n",
    "study_data_2['Element Code'].unique()"
   ]
  },
  {
   "cell_type": "markdown",
   "metadata": {},
   "source": [
    "We can now see that the data for the Item 'cereals_total' with element codes > 140 are subgroups of element codes < 140. We can therefore remove this data from our dataset."
   ]
  },
  {
   "cell_type": "code",
   "execution_count": 21,
   "metadata": {},
   "outputs": [
    {
     "data": {
      "text/html": [
       "<div>\n",
       "<style scoped>\n",
       "    .dataframe tbody tr th:only-of-type {\n",
       "        vertical-align: middle;\n",
       "    }\n",
       "\n",
       "    .dataframe tbody tr th {\n",
       "        vertical-align: top;\n",
       "    }\n",
       "\n",
       "    .dataframe thead th {\n",
       "        text-align: right;\n",
       "    }\n",
       "</style>\n",
       "<table border=\"1\" class=\"dataframe\">\n",
       "  <thead>\n",
       "    <tr style=\"text-align: right;\">\n",
       "      <th></th>\n",
       "      <th>Area</th>\n",
       "      <th>Element Code</th>\n",
       "      <th>Element</th>\n",
       "      <th>Year</th>\n",
       "      <th>Unit</th>\n",
       "      <th>Value</th>\n",
       "      <th>Flag</th>\n",
       "      <th>Item</th>\n",
       "    </tr>\n",
       "  </thead>\n",
       "  <tbody>\n",
       "    <tr>\n",
       "      <td>364916</td>\n",
       "      <td>Afghanistan</td>\n",
       "      <td>51</td>\n",
       "      <td>Production Quantity</td>\n",
       "      <td>2007.0</td>\n",
       "      <td>tonnes</td>\n",
       "      <td>5778000.0</td>\n",
       "      <td>A</td>\n",
       "      <td>cereals_total</td>\n",
       "    </tr>\n",
       "    <tr>\n",
       "      <td>364917</td>\n",
       "      <td>Afghanistan</td>\n",
       "      <td>51</td>\n",
       "      <td>Production Quantity</td>\n",
       "      <td>2006.0</td>\n",
       "      <td>tonnes</td>\n",
       "      <td>4638000.0</td>\n",
       "      <td>A</td>\n",
       "      <td>cereals_total</td>\n",
       "    </tr>\n",
       "    <tr>\n",
       "      <td>364918</td>\n",
       "      <td>Afghanistan</td>\n",
       "      <td>51</td>\n",
       "      <td>Production Quantity</td>\n",
       "      <td>2005.0</td>\n",
       "      <td>tonnes</td>\n",
       "      <td>5425000.0</td>\n",
       "      <td>A</td>\n",
       "      <td>cereals_total</td>\n",
       "    </tr>\n",
       "  </tbody>\n",
       "</table>\n",
       "</div>"
      ],
      "text/plain": [
       "               Area Element Code              Element    Year    Unit  \\\n",
       "364916  Afghanistan           51  Production Quantity  2007.0  tonnes   \n",
       "364917  Afghanistan           51  Production Quantity  2006.0  tonnes   \n",
       "364918  Afghanistan           51  Production Quantity  2005.0  tonnes   \n",
       "\n",
       "            Value Flag           Item  \n",
       "364916  5778000.0   A   cereals_total  \n",
       "364917  4638000.0   A   cereals_total  \n",
       "364918  5425000.0   A   cereals_total  "
      ]
     },
     "execution_count": 21,
     "metadata": {},
     "output_type": "execute_result"
    }
   ],
   "source": [
    "# Drop rows with element codes > 140\n",
    "drop_col = np.logical_not(crops_processed['Element Code'].isin(elem_codes))\n",
    "crops_cleaned = crops_processed[drop_col]\n",
    "crops_cleaned.head(3)"
   ]
  },
  {
   "cell_type": "markdown",
   "metadata": {},
   "source": [
    "#### Area names with '+'\n",
    "\n",
    "There are countries/areas that contain a '+' at the end of the name. What names contain this sign and what do they have in common?"
   ]
  },
  {
   "cell_type": "code",
   "execution_count": 22,
   "metadata": {},
   "outputs": [
    {
     "data": {
      "text/plain": [
       "array(['Africa +', 'Americas +', 'Asia +', 'Australia and New Zealand +',\n",
       "       'Caribbean +', 'Central America +', 'Central Asia +',\n",
       "       'Eastern Africa +', 'Eastern Asia +', 'Eastern Europe +',\n",
       "       'Europe +', 'European Union +',\n",
       "       'LandLocked developing countries +', 'Least Developed Countries +',\n",
       "       'Low Income Food Deficit Countries +', 'Melanesia +',\n",
       "       'Micronesia +', 'Middle Africa +',\n",
       "       'Net Food Importing Developing Countries +', 'Northern Africa +',\n",
       "       'Northern America +', 'Northern Europe +', 'Oceania +',\n",
       "       'Small Island Developing States +', 'South America +',\n",
       "       'South-Eastern Asia +', 'Southern Africa +', 'Southern Asia +',\n",
       "       'Southern Europe +', 'Western Africa +', 'Western Asia +',\n",
       "       'Western Europe +', 'World +', 'Polynesia +'], dtype=object)"
      ]
     },
     "execution_count": 22,
     "metadata": {},
     "output_type": "execute_result"
    }
   ],
   "source": [
    "# Examining what names contain '?'\n",
    "country_series = crops_cleaned.Area\n",
    "names_with_sign = country_series[country_series.str.endswith('+')]\n",
    "names_with_sign.unique()"
   ]
  },
  {
   "cell_type": "markdown",
   "metadata": {},
   "source": [
    "All of the country/area names that contain a '+' at the end are all areas. We can therefore divide the dataset into several groups: one with all countries, one with all continents and one with the remaining areas."
   ]
  },
  {
   "cell_type": "markdown",
   "metadata": {},
   "source": [
    "#### Categorizing the Data "
   ]
  },
  {
   "cell_type": "code",
   "execution_count": 23,
   "metadata": {},
   "outputs": [
    {
     "name": "stdout",
     "output_type": "stream",
     "text": [
      "Number of unique countries: 219\n",
      "Number of unique continents: 6\n",
      "Number of unique areas: 28\n"
     ]
    },
    {
     "name": "stderr",
     "output_type": "stream",
     "text": [
      "/Users/theodor/anaconda3/envs/ada/lib/python3.7/site-packages/pandas/core/generic.py:5208: SettingWithCopyWarning: \n",
      "A value is trying to be set on a copy of a slice from a DataFrame.\n",
      "Try using .loc[row_indexer,col_indexer] = value instead\n",
      "\n",
      "See the caveats in the documentation: http://pandas.pydata.org/pandas-docs/stable/user_guide/indexing.html#returning-a-view-versus-a-copy\n",
      "  self[name] = value\n"
     ]
    }
   ],
   "source": [
    "# Splitting crops_data into country, continent and area based sets and renaming Area column\n",
    "\n",
    "crops_country = crops_cleaned[np.logical_not(country_series.str.endswith('+'))].rename({'Area': 'Area'}, axis=1)\n",
    "crops_remain = crops_cleaned[country_series.str.endswith('+')]\n",
    "\n",
    "# Remove last two characters from continent/area name\n",
    "crops_remain.Area = crops_remain.Area.str[:-2]\n",
    "\n",
    "continents = ['Africa', 'Northern America', 'South America', 'Asia', 'Oceania', 'Europe']\n",
    "is_continent = crops_remain.Area.isin(continents)\n",
    "\n",
    "crops_continent = crops_remain[is_continent].rename({'Area': 'Area'}, axis=1)\n",
    "crops_area = crops_remain[np.logical_not(is_continent)].rename({'Area': 'Area'}, axis=1)\n",
    "\n",
    "print('Number of unique countries:', crops_country.Area.unique().shape[0])\n",
    "print('Number of unique continents:', crops_continent.Area.unique().shape[0])\n",
    "print('Number of unique areas:', crops_area.Area.unique().shape[0])"
   ]
  },
  {
   "cell_type": "markdown",
   "metadata": {},
   "source": [
    "***\n",
    "<a id='population'></a>\n",
    "## Population Data\n",
    "\n",
    "In order to interpret our data in a sensible way we also need population-data, as it of course will be a difference in food production with current population compared to 1960. The data is also collected from FAO, and looks very similar to the Livestock-dataset"
   ]
  },
  {
   "cell_type": "code",
   "execution_count": 24,
   "metadata": {},
   "outputs": [
    {
     "data": {
      "text/html": [
       "<div>\n",
       "<style scoped>\n",
       "    .dataframe tbody tr th:only-of-type {\n",
       "        vertical-align: middle;\n",
       "    }\n",
       "\n",
       "    .dataframe tbody tr th {\n",
       "        vertical-align: top;\n",
       "    }\n",
       "\n",
       "    .dataframe thead th {\n",
       "        text-align: right;\n",
       "    }\n",
       "</style>\n",
       "<table border=\"1\" class=\"dataframe\">\n",
       "  <thead>\n",
       "    <tr style=\"text-align: right;\">\n",
       "      <th></th>\n",
       "      <th>Domain Code</th>\n",
       "      <th>Domain</th>\n",
       "      <th>Area Code</th>\n",
       "      <th>Area</th>\n",
       "      <th>Element Code</th>\n",
       "      <th>Element</th>\n",
       "      <th>Item Code</th>\n",
       "      <th>Item</th>\n",
       "      <th>Year Code</th>\n",
       "      <th>Year</th>\n",
       "      <th>Unit</th>\n",
       "      <th>Value</th>\n",
       "      <th>Flag</th>\n",
       "      <th>Flag Description</th>\n",
       "      <th>Note</th>\n",
       "    </tr>\n",
       "  </thead>\n",
       "  <tbody>\n",
       "    <tr>\n",
       "      <td>0</td>\n",
       "      <td>OA</td>\n",
       "      <td>Annual population</td>\n",
       "      <td>2</td>\n",
       "      <td>Afghanistan</td>\n",
       "      <td>511</td>\n",
       "      <td>Total Population - Both sexes</td>\n",
       "      <td>3010</td>\n",
       "      <td>Population - Est. &amp; Proj.</td>\n",
       "      <td>1950</td>\n",
       "      <td>1950</td>\n",
       "      <td>1000 persons</td>\n",
       "      <td>7752.118</td>\n",
       "      <td>X</td>\n",
       "      <td>International reliable sources</td>\n",
       "      <td>UNDESA, Population Division – World Population...</td>\n",
       "    </tr>\n",
       "    <tr>\n",
       "      <td>1</td>\n",
       "      <td>OA</td>\n",
       "      <td>Annual population</td>\n",
       "      <td>2</td>\n",
       "      <td>Afghanistan</td>\n",
       "      <td>511</td>\n",
       "      <td>Total Population - Both sexes</td>\n",
       "      <td>3010</td>\n",
       "      <td>Population - Est. &amp; Proj.</td>\n",
       "      <td>1951</td>\n",
       "      <td>1951</td>\n",
       "      <td>1000 persons</td>\n",
       "      <td>7840.156</td>\n",
       "      <td>X</td>\n",
       "      <td>International reliable sources</td>\n",
       "      <td>NaN</td>\n",
       "    </tr>\n",
       "    <tr>\n",
       "      <td>2</td>\n",
       "      <td>OA</td>\n",
       "      <td>Annual population</td>\n",
       "      <td>2</td>\n",
       "      <td>Afghanistan</td>\n",
       "      <td>511</td>\n",
       "      <td>Total Population - Both sexes</td>\n",
       "      <td>3010</td>\n",
       "      <td>Population - Est. &amp; Proj.</td>\n",
       "      <td>1952</td>\n",
       "      <td>1952</td>\n",
       "      <td>1000 persons</td>\n",
       "      <td>7935.997</td>\n",
       "      <td>X</td>\n",
       "      <td>International reliable sources</td>\n",
       "      <td>NaN</td>\n",
       "    </tr>\n",
       "  </tbody>\n",
       "</table>\n",
       "</div>"
      ],
      "text/plain": [
       "  Domain Code             Domain  Area Code         Area  Element Code  \\\n",
       "0          OA  Annual population          2  Afghanistan           511   \n",
       "1          OA  Annual population          2  Afghanistan           511   \n",
       "2          OA  Annual population          2  Afghanistan           511   \n",
       "\n",
       "                         Element  Item Code                       Item  \\\n",
       "0  Total Population - Both sexes       3010  Population - Est. & Proj.   \n",
       "1  Total Population - Both sexes       3010  Population - Est. & Proj.   \n",
       "2  Total Population - Both sexes       3010  Population - Est. & Proj.   \n",
       "\n",
       "   Year Code  Year          Unit     Value Flag  \\\n",
       "0       1950  1950  1000 persons  7752.118    X   \n",
       "1       1951  1951  1000 persons  7840.156    X   \n",
       "2       1952  1952  1000 persons  7935.997    X   \n",
       "\n",
       "                 Flag Description  \\\n",
       "0  International reliable sources   \n",
       "1  International reliable sources   \n",
       "2  International reliable sources   \n",
       "\n",
       "                                                Note  \n",
       "0  UNDESA, Population Division – World Population...  \n",
       "1                                                NaN  \n",
       "2                                                NaN  "
      ]
     },
     "execution_count": 24,
     "metadata": {},
     "output_type": "execute_result"
    }
   ],
   "source": [
    "population = pd.read_csv('./raw_data/fao_data_population.csv')\n",
    "population.head(3)"
   ]
  },
  {
   "cell_type": "code",
   "execution_count": 25,
   "metadata": {},
   "outputs": [
    {
     "name": "stdout",
     "output_type": "stream",
     "text": [
      "Domain Code has 1 unique values.\n",
      "Domain has 1 unique values.\n",
      "Area Code has 273 unique values.\n",
      "Area has 273 unique values.\n",
      "Element Code has 1 unique values.\n",
      "Element has 1 unique values.\n",
      "Item Code has 1 unique values.\n",
      "Item has 1 unique values.\n",
      "Year Code has 69 unique values.\n",
      "Year has 69 unique values.\n",
      "Unit has 1 unique values.\n",
      "Value has 16730 unique values.\n",
      "Flag has 2 unique values.\n",
      "Flag Description has 2 unique values.\n",
      "Note has 2 unique values.\n"
     ]
    }
   ],
   "source": [
    "# Check unique values in dataset\n",
    "for (col_name, col_data) in population.iteritems():\n",
    "    print('{} has {} unique values.'.format(col_name, pd.unique(col_data).shape[0]))"
   ]
  },
  {
   "cell_type": "markdown",
   "metadata": {},
   "source": [
    "We see that many of the columns are irrelevant as they contain the same information in all columns. This is Domain Code, Domain, Element, Element Code, Item Code, Item, Year Code (Same as Year) and Note.  \n",
    "We actually have two Flags: A and X. X is regarded most reliable(_International reliable sources_), but we will also regard A (_Aggregate, may include official, semi-official, estimated or calculated data_) as reliable. Therefore we also remove these columns."
   ]
  },
  {
   "cell_type": "code",
   "execution_count": 26,
   "metadata": {},
   "outputs": [
    {
     "data": {
      "text/html": [
       "<div>\n",
       "<style scoped>\n",
       "    .dataframe tbody tr th:only-of-type {\n",
       "        vertical-align: middle;\n",
       "    }\n",
       "\n",
       "    .dataframe tbody tr th {\n",
       "        vertical-align: top;\n",
       "    }\n",
       "\n",
       "    .dataframe thead th {\n",
       "        text-align: right;\n",
       "    }\n",
       "</style>\n",
       "<table border=\"1\" class=\"dataframe\">\n",
       "  <thead>\n",
       "    <tr style=\"text-align: right;\">\n",
       "      <th></th>\n",
       "      <th>Area Code</th>\n",
       "      <th>Area</th>\n",
       "      <th>Year</th>\n",
       "      <th>Unit</th>\n",
       "      <th>Value</th>\n",
       "    </tr>\n",
       "  </thead>\n",
       "  <tbody>\n",
       "    <tr>\n",
       "      <td>0</td>\n",
       "      <td>2</td>\n",
       "      <td>Afghanistan</td>\n",
       "      <td>1950</td>\n",
       "      <td>1000 persons</td>\n",
       "      <td>7752.118</td>\n",
       "    </tr>\n",
       "    <tr>\n",
       "      <td>1</td>\n",
       "      <td>2</td>\n",
       "      <td>Afghanistan</td>\n",
       "      <td>1951</td>\n",
       "      <td>1000 persons</td>\n",
       "      <td>7840.156</td>\n",
       "    </tr>\n",
       "    <tr>\n",
       "      <td>2</td>\n",
       "      <td>2</td>\n",
       "      <td>Afghanistan</td>\n",
       "      <td>1952</td>\n",
       "      <td>1000 persons</td>\n",
       "      <td>7935.997</td>\n",
       "    </tr>\n",
       "  </tbody>\n",
       "</table>\n",
       "</div>"
      ],
      "text/plain": [
       "   Area Code         Area  Year          Unit     Value\n",
       "0          2  Afghanistan  1950  1000 persons  7752.118\n",
       "1          2  Afghanistan  1951  1000 persons  7840.156\n",
       "2          2  Afghanistan  1952  1000 persons  7935.997"
      ]
     },
     "execution_count": 26,
     "metadata": {},
     "output_type": "execute_result"
    }
   ],
   "source": [
    "drop_col = ['Domain Code', 'Domain', 'Element Code', 'Element', 'Item Code', 'Item', 'Year Code', 'Flag', 'Flag Description', 'Note']\n",
    "population.drop(drop_col, axis = 1, inplace = True)\n",
    "population.head(3)"
   ]
  },
  {
   "cell_type": "markdown",
   "metadata": {},
   "source": [
    "As we only have data in the other datasets from 1961 to 2013, we remove the extra years. "
   ]
  },
  {
   "cell_type": "code",
   "execution_count": 27,
   "metadata": {},
   "outputs": [],
   "source": [
    "population = population[(population['Year'] > 1960) & (population['Year'] < 2014)]"
   ]
  },
  {
   "cell_type": "markdown",
   "metadata": {},
   "source": [
    "**Categorizing the Data**  \n",
    "We would like to divide our dataset into areas, countries and continents for easier use in the future. Luckily, because of the way area codes are organized, this is easily done. Everything under 251 is countries, and everything above 5000 are areas. "
   ]
  },
  {
   "cell_type": "code",
   "execution_count": 28,
   "metadata": {},
   "outputs": [
    {
     "name": "stdout",
     "output_type": "stream",
     "text": [
      "\n",
      "    Function that splits data into countries, areas and continents.\n",
      "    params:\n",
      "        df: fao-dataframe that includes area codes.\n",
      "        \n",
      "    returns:\n",
      "        countries: dataframe with area-code < 500\n",
      "        area: dataframe with only area-code > 500\n",
      "        continents: dataframe with the 6 continents\n",
      "    \n",
      "    \n"
     ]
    }
   ],
   "source": [
    "from scripts.helpers import split_fao_data\n",
    "print(split_fao_data.__doc__)\n",
    "\n",
    "pop_countries, pop_area, pop_continents = split_fao_data(population)"
   ]
  },
  {
   "cell_type": "markdown",
   "metadata": {},
   "source": [
    "#### First look at the data\n",
    "To check if the data seems reasonable we plot the development in population for each continent."
   ]
  },
  {
   "cell_type": "code",
   "execution_count": 29,
   "metadata": {},
   "outputs": [
    {
     "data": {
      "image/png": "[encoded data removed]",
      "text/plain": [
       "<Figure size 864x432 with 1 Axes>"
      ]
     },
     "metadata": {
      "needs_background": "light"
     },
     "output_type": "display_data"
    }
   ],
   "source": [
    "tmp = pop_continents.groupby(['Year', 'Area']).agg({'Value':'sum'}).reset_index()\n",
    "\n",
    "f = plt.figure(figsize=(12, 6))\n",
    "\n",
    "for area in tmp.Area.unique():\n",
    "    y = tmp[tmp['Area'] == area].Value.values\n",
    "    x = tmp[tmp['Area'] == area].Year.values\n",
    "    plt.plot(x,y)\n",
    "    \n",
    "plt.legend(tmp.Area.unique())\n",
    "plt.title('Population in Continents', fontsize = 18)\n",
    "plt.xlabel('Year', fontsize = 14)\n",
    "plt.ylabel('Population [1000 persons]', fontsize = 14)\n",
    "plt.show()"
   ]
  },
  {
   "cell_type": "markdown",
   "metadata": {},
   "source": [
    "The data looks reasonable at first glance, but we see that there is some wierd behaviour in Asia and Europe around 1990. To examine this we plot each of the continents seperately."
   ]
  },
  {
   "cell_type": "code",
   "execution_count": 30,
   "metadata": {},
   "outputs": [
    {
     "data": {
      "image/png": "[encoded data removed]",
      "text/plain": [
       "<Figure size 1152x288 with 2 Axes>"
      ]
     },
     "metadata": {
      "needs_background": "light"
     },
     "output_type": "display_data"
    }
   ],
   "source": [
    "pop_europe_asia = pop_continents[(pop_continents['Area'] == 'Europe') | (pop_continents['Area'] == 'Asia')]\n",
    "tmp = pop_europe_asia.groupby(['Year', 'Area']).agg({'Value':'sum'}).reset_index()\n",
    "\n",
    "f = plt.figure(figsize=(16, 4))\n",
    "\n",
    "for (ind, area) in zip(range(1,1 + tmp.Area.unique().shape[0]), tmp.Area.unique()):\n",
    "    plt.subplot(1, 2, ind)\n",
    "    y = tmp[tmp['Area'] == area].Value.values\n",
    "    x = tmp[tmp['Area'] == area].Year.values\n",
    "    plt.plot(x,y)\n",
    "    plt.scatter(x = 1992, y = tmp[tmp['Year'] == 1992]['Value'].values[ind-1], label = '1992', color = 'b')\n",
    "    plt.title(area, fontsize= 14)\n",
    "    plt.xlabel('Year')\n",
    "    plt.ylabel('Population [1000 capita]')\n",
    "    plt.legend(fontsize = 14)\n",
    "plt.show()"
   ]
  },
  {
   "cell_type": "markdown",
   "metadata": {},
   "source": [
    "We see that we have a huge drop in the population in Europe in 1992, which coincides with the dissolution of the Soviet Union. What really happens is that some countries from the Soviet Union is now classified as Asia instead of Europe, and the relative difference in Asia is smaller than in Europe.   \n",
    "There is no easy way to fix this, but luckily all other statistics are also handled in this way, so we use the dataset as it is."
   ]
  },
  {
   "cell_type": "markdown",
   "metadata": {},
   "source": [
    "***\n",
    "<a id='emission'></a>\n",
    "## Emissions\n",
    "\n",
    "Since the project strive to answer questions regarding the emission that has been caused by agriculture we need data regarding this area. In this project we will be analyzing two different datasets, one will be used when we are interested in a continents total agriculture emissions while the other dataset will be used when more specific data, such as how much CO2 the pork production causes in a certain country or in the world.  \n"
   ]
  },
  {
   "cell_type": "markdown",
   "metadata": {},
   "source": [
    "## Explanation of agriculture emissions datafiles"
   ]
  },
  {
   "cell_type": "markdown",
   "metadata": {},
   "source": [
    "#### Emission data number 1\n",
    "The first emissions data in our dataset covers all emissions from agriculture. That is, both the emissions from crops and livestock production. "
   ]
  },
  {
   "cell_type": "code",
   "execution_count": 39,
   "metadata": {},
   "outputs": [
    {
     "data": {
      "text/html": [
       "<div>\n",
       "<style scoped>\n",
       "    .dataframe tbody tr th:only-of-type {\n",
       "        vertical-align: middle;\n",
       "    }\n",
       "\n",
       "    .dataframe tbody tr th {\n",
       "        vertical-align: top;\n",
       "    }\n",
       "\n",
       "    .dataframe thead th {\n",
       "        text-align: right;\n",
       "    }\n",
       "</style>\n",
       "<table border=\"1\" class=\"dataframe\">\n",
       "  <thead>\n",
       "    <tr style=\"text-align: right;\">\n",
       "      <th></th>\n",
       "      <th>Domain Code</th>\n",
       "      <th>Domain</th>\n",
       "      <th>Area Code</th>\n",
       "      <th>Area</th>\n",
       "      <th>Element Code</th>\n",
       "      <th>Element</th>\n",
       "      <th>Item Code</th>\n",
       "      <th>Item</th>\n",
       "      <th>Year Code</th>\n",
       "      <th>Year</th>\n",
       "      <th>Unit</th>\n",
       "      <th>Value</th>\n",
       "      <th>Flag</th>\n",
       "      <th>Flag Description</th>\n",
       "      <th>Note</th>\n",
       "    </tr>\n",
       "  </thead>\n",
       "  <tbody>\n",
       "    <tr>\n",
       "      <td>0</td>\n",
       "      <td>GT</td>\n",
       "      <td>Agriculture Total</td>\n",
       "      <td>5100</td>\n",
       "      <td>Africa</td>\n",
       "      <td>7231</td>\n",
       "      <td>Emissions (CO2eq)</td>\n",
       "      <td>1711</td>\n",
       "      <td>Agriculture total</td>\n",
       "      <td>1961</td>\n",
       "      <td>1961</td>\n",
       "      <td>gigagrams</td>\n",
       "      <td>233438.4999</td>\n",
       "      <td>A</td>\n",
       "      <td>Aggregate, may include official, semi-official...</td>\n",
       "      <td>NaN</td>\n",
       "    </tr>\n",
       "    <tr>\n",
       "      <td>1</td>\n",
       "      <td>GT</td>\n",
       "      <td>Agriculture Total</td>\n",
       "      <td>5100</td>\n",
       "      <td>Africa</td>\n",
       "      <td>7231</td>\n",
       "      <td>Emissions (CO2eq)</td>\n",
       "      <td>1711</td>\n",
       "      <td>Agriculture total</td>\n",
       "      <td>1962</td>\n",
       "      <td>1962</td>\n",
       "      <td>gigagrams</td>\n",
       "      <td>237662.8733</td>\n",
       "      <td>A</td>\n",
       "      <td>Aggregate, may include official, semi-official...</td>\n",
       "      <td>NaN</td>\n",
       "    </tr>\n",
       "    <tr>\n",
       "      <td>2</td>\n",
       "      <td>GT</td>\n",
       "      <td>Agriculture Total</td>\n",
       "      <td>5100</td>\n",
       "      <td>Africa</td>\n",
       "      <td>7231</td>\n",
       "      <td>Emissions (CO2eq)</td>\n",
       "      <td>1711</td>\n",
       "      <td>Agriculture total</td>\n",
       "      <td>1963</td>\n",
       "      <td>1963</td>\n",
       "      <td>gigagrams</td>\n",
       "      <td>241883.7194</td>\n",
       "      <td>A</td>\n",
       "      <td>Aggregate, may include official, semi-official...</td>\n",
       "      <td>NaN</td>\n",
       "    </tr>\n",
       "  </tbody>\n",
       "</table>\n",
       "</div>"
      ],
      "text/plain": [
       "  Domain Code             Domain  Area Code    Area  Element Code  \\\n",
       "0          GT  Agriculture Total       5100  Africa          7231   \n",
       "1          GT  Agriculture Total       5100  Africa          7231   \n",
       "2          GT  Agriculture Total       5100  Africa          7231   \n",
       "\n",
       "             Element  Item Code               Item  Year Code  Year  \\\n",
       "0  Emissions (CO2eq)       1711  Agriculture total       1961  1961   \n",
       "1  Emissions (CO2eq)       1711  Agriculture total       1962  1962   \n",
       "2  Emissions (CO2eq)       1711  Agriculture total       1963  1963   \n",
       "\n",
       "        Unit        Value Flag  \\\n",
       "0  gigagrams  233438.4999    A   \n",
       "1  gigagrams  237662.8733    A   \n",
       "2  gigagrams  241883.7194    A   \n",
       "\n",
       "                                    Flag Description  Note  \n",
       "0  Aggregate, may include official, semi-official...   NaN  \n",
       "1  Aggregate, may include official, semi-official...   NaN  \n",
       "2  Aggregate, may include official, semi-official...   NaN  "
      ]
     },
     "execution_count": 39,
     "metadata": {},
     "output_type": "execute_result"
    }
   ],
   "source": [
    "emission_data = pd.read_csv('raw_data/emission_data_continent.csv', sep = ',', encoding = 'latin-1')\n",
    "emission_data.head(3)"
   ]
  },
  {
   "cell_type": "code",
   "execution_count": 40,
   "metadata": {},
   "outputs": [
    {
     "name": "stdout",
     "output_type": "stream",
     "text": [
      "\n",
      "    Prints a quick summary of the dataframe\n",
      "    params:\n",
      "        df: fao-dataframe with columns [Area, Year, Item, Element, Unit]\n",
      "    \n",
      "The data contain(s) the following: \n",
      "    area(s)    : ['Africa', 'Northern America', 'South America', 'Asia', 'Europe', 'Oceania']\n",
      "    years      : 1961 - 2017\n",
      "    item(s)    : ['Agriculture total']\n",
      "    elements(s): ['Emissions (CO2eq)']\n",
      "    unit(s)    : ['gigagrams']\n"
     ]
    }
   ],
   "source": [
    "from scripts.helpers import explain_df\n",
    "\n",
    "print(explain_df.__doc__)\n",
    "explain_df(emission_data)\n"
   ]
  },
  {
   "cell_type": "markdown",
   "metadata": {},
   "source": [
    "As you can see from the print above we have data from all the continents, between 1961 and 2017, only agriculture total emission, all data is in CO2 gigagram. \n",
    "\n",
    "Lets examine if there's any data missing."
   ]
  },
  {
   "cell_type": "code",
   "execution_count": 41,
   "metadata": {},
   "outputs": [
    {
     "name": "stdout",
     "output_type": "stream",
     "text": [
      "Missing information in categorized dataset:\n",
      " Domain Code           0\n",
      "Domain                0\n",
      "Area Code             0\n",
      "Area                  0\n",
      "Element Code          0\n",
      "Element               0\n",
      "Item Code             0\n",
      "Item                  0\n",
      "Year Code             0\n",
      "Year                  0\n",
      "Unit                  0\n",
      "Value                 0\n",
      "Flag                  0\n",
      "Flag Description      0\n",
      "Note                342\n",
      "dtype: int64\n"
     ]
    }
   ],
   "source": [
    "# Is any information missing?\n",
    "print(\"Missing information in categorized dataset:\\n\", emission_data.isna().sum())"
   ]
  },
  {
   "cell_type": "markdown",
   "metadata": {},
   "source": [
    "Note is the only column with missing values, but as far as we can tell it does not have any interesting information. So we remove it."
   ]
  },
  {
   "cell_type": "code",
   "execution_count": 42,
   "metadata": {},
   "outputs": [],
   "source": [
    "emission_data.drop(['Note'], axis = 1, inplace = True)"
   ]
  },
  {
   "cell_type": "code",
   "execution_count": 43,
   "metadata": {},
   "outputs": [
    {
     "data": {
      "image/png": "[encoded data removed]",
      "text/plain": [
       "<Figure size 1080x576 with 1 Axes>"
      ]
     },
     "metadata": {
      "needs_background": "light"
     },
     "output_type": "display_data"
    }
   ],
   "source": [
    "fig = plt.figure(figsize = (15,8))\n",
    "\n",
    "for area in emission_data.Area.unique():\n",
    "    plt.plot(emission_data[emission_data['Area'] == area].Year.values, \n",
    "             emission_data[emission_data['Area'] == area].Value.values)\n",
    "    \n",
    "plt.legend(emission_data.Area.unique())\n",
    "plt.title('Agriculture emission per continent')\n",
    "plt.xlabel('Year')\n",
    "plt.ylabel('Amount (gigagrams)')\n",
    "plt.show()"
   ]
  },
  {
   "cell_type": "markdown",
   "metadata": {},
   "source": [
    "#### Plot\n",
    "The data does not have any extreme outliers and without any particular knowledge in agriculture emissions, the data seems to make sense. We have a few jumps in the data that we will examine later."
   ]
  },
  {
   "cell_type": "markdown",
   "metadata": {},
   "source": [
    "#### Emission data number 2\n",
    "\n",
    "We also have another emissions file with some categories to easier be able to determine differences in emission between crops and livestock production. This data contains each country a"
   ]
  },
  {
   "cell_type": "code",
   "execution_count": 45,
   "metadata": {},
   "outputs": [
    {
     "name": "stdout",
     "output_type": "stream",
     "text": [
      "The data contain(s) the following: \n",
      "    area(s)    : ['Africa', 'Northern America', 'South America', 'Asia', 'Europe', 'Oceania']\n",
      "    years      : 1961 - 2016\n",
      "    item(s)    : ['Cereals excluding rice', 'Rice, paddy', 'Meat, cattle', 'Milk, whole fresh cow', 'Meat, goat', 'Milk, whole fresh goat', 'Meat, buffalo', 'Milk, whole fresh buffalo', 'Meat, sheep', 'Milk, whole fresh sheep', 'Milk, whole fresh camel', 'Meat, chicken', 'Eggs, hen, in shell', 'Meat, pig']\n",
      "    elements(s): ['Emissions (CO2eq)', 'Production']\n",
      "    unit(s)    : ['gigagrams', 'tonnes']\n"
     ]
    }
   ],
   "source": [
    "categorized_emission_data = pd.read_csv('raw_data/Emission_data.csv', sep = ',', encoding = 'latin-1')\n",
    "explain_df(categorized_emission_data)"
   ]
  },
  {
   "cell_type": "markdown",
   "metadata": {},
   "source": [
    "This dataset contains data about the CO2 emissions coming from various areas (_items_) such as _Rice_ an _Meat, sheep_ etc. Some of the data has information about production of each item which is not out of interest as we are interested in emissions. We will therefore remove rows with these values."
   ]
  },
  {
   "cell_type": "code",
   "execution_count": 46,
   "metadata": {},
   "outputs": [
    {
     "name": "stdout",
     "output_type": "stream",
     "text": [
      "The data contain(s) the following: \n",
      "    area(s)    : ['Africa', 'Northern America', 'South America', 'Asia', 'Europe', 'Oceania']\n",
      "    years      : 1961 - 2016\n",
      "    item(s)    : ['Cereals excluding rice', 'Rice, paddy', 'Meat, cattle', 'Milk, whole fresh cow', 'Meat, goat', 'Milk, whole fresh goat', 'Meat, buffalo', 'Milk, whole fresh buffalo', 'Meat, sheep', 'Milk, whole fresh sheep', 'Milk, whole fresh camel', 'Meat, chicken', 'Eggs, hen, in shell', 'Meat, pig']\n",
      "    elements(s): ['Emissions (CO2eq)']\n",
      "    unit(s)    : ['gigagrams']\n",
      "Missing information in categorized dataset:\n",
      " Domain Code         0\n",
      "Domain              0\n",
      "Area Code           0\n",
      "Area                0\n",
      "Element Code        0\n",
      "Element             0\n",
      "Item Code           0\n",
      "Item                0\n",
      "Year Code           0\n",
      "Year                0\n",
      "Unit                0\n",
      "Value               0\n",
      "Flag                0\n",
      "Flag Description    0\n",
      "dtype: int64\n"
     ]
    },
    {
     "data": {
      "text/html": [
       "<div>\n",
       "<style scoped>\n",
       "    .dataframe tbody tr th:only-of-type {\n",
       "        vertical-align: middle;\n",
       "    }\n",
       "\n",
       "    .dataframe tbody tr th {\n",
       "        vertical-align: top;\n",
       "    }\n",
       "\n",
       "    .dataframe thead th {\n",
       "        text-align: right;\n",
       "    }\n",
       "</style>\n",
       "<table border=\"1\" class=\"dataframe\">\n",
       "  <thead>\n",
       "    <tr style=\"text-align: right;\">\n",
       "      <th></th>\n",
       "      <th>Domain Code</th>\n",
       "      <th>Domain</th>\n",
       "      <th>Area Code</th>\n",
       "      <th>Area</th>\n",
       "      <th>Element Code</th>\n",
       "      <th>Element</th>\n",
       "      <th>Item Code</th>\n",
       "      <th>Item</th>\n",
       "      <th>Year Code</th>\n",
       "      <th>Year</th>\n",
       "      <th>Unit</th>\n",
       "      <th>Value</th>\n",
       "      <th>Flag</th>\n",
       "      <th>Flag Description</th>\n",
       "    </tr>\n",
       "  </thead>\n",
       "  <tbody>\n",
       "    <tr>\n",
       "      <td>0</td>\n",
       "      <td>EI</td>\n",
       "      <td>Emissions intensities</td>\n",
       "      <td>5100</td>\n",
       "      <td>Africa</td>\n",
       "      <td>7231</td>\n",
       "      <td>Emissions (CO2eq)</td>\n",
       "      <td>1718</td>\n",
       "      <td>Cereals excluding rice</td>\n",
       "      <td>1961</td>\n",
       "      <td>1961</td>\n",
       "      <td>gigagrams</td>\n",
       "      <td>6404.6437</td>\n",
       "      <td>A</td>\n",
       "      <td>Aggregate, may include official, semi-official...</td>\n",
       "    </tr>\n",
       "    <tr>\n",
       "      <td>1</td>\n",
       "      <td>EI</td>\n",
       "      <td>Emissions intensities</td>\n",
       "      <td>5100</td>\n",
       "      <td>Africa</td>\n",
       "      <td>7231</td>\n",
       "      <td>Emissions (CO2eq)</td>\n",
       "      <td>1718</td>\n",
       "      <td>Cereals excluding rice</td>\n",
       "      <td>1962</td>\n",
       "      <td>1962</td>\n",
       "      <td>gigagrams</td>\n",
       "      <td>6841.1636</td>\n",
       "      <td>A</td>\n",
       "      <td>Aggregate, may include official, semi-official...</td>\n",
       "    </tr>\n",
       "    <tr>\n",
       "      <td>2</td>\n",
       "      <td>EI</td>\n",
       "      <td>Emissions intensities</td>\n",
       "      <td>5100</td>\n",
       "      <td>Africa</td>\n",
       "      <td>7231</td>\n",
       "      <td>Emissions (CO2eq)</td>\n",
       "      <td>1718</td>\n",
       "      <td>Cereals excluding rice</td>\n",
       "      <td>1963</td>\n",
       "      <td>1963</td>\n",
       "      <td>gigagrams</td>\n",
       "      <td>7246.6931</td>\n",
       "      <td>A</td>\n",
       "      <td>Aggregate, may include official, semi-official...</td>\n",
       "    </tr>\n",
       "  </tbody>\n",
       "</table>\n",
       "</div>"
      ],
      "text/plain": [
       "  Domain Code                 Domain  Area Code    Area  Element Code  \\\n",
       "0          EI  Emissions intensities       5100  Africa          7231   \n",
       "1          EI  Emissions intensities       5100  Africa          7231   \n",
       "2          EI  Emissions intensities       5100  Africa          7231   \n",
       "\n",
       "             Element  Item Code                    Item  Year Code  Year  \\\n",
       "0  Emissions (CO2eq)       1718  Cereals excluding rice       1961  1961   \n",
       "1  Emissions (CO2eq)       1718  Cereals excluding rice       1962  1962   \n",
       "2  Emissions (CO2eq)       1718  Cereals excluding rice       1963  1963   \n",
       "\n",
       "        Unit      Value Flag  \\\n",
       "0  gigagrams  6404.6437    A   \n",
       "1  gigagrams  6841.1636    A   \n",
       "2  gigagrams  7246.6931    A   \n",
       "\n",
       "                                    Flag Description  \n",
       "0  Aggregate, may include official, semi-official...  \n",
       "1  Aggregate, may include official, semi-official...  \n",
       "2  Aggregate, may include official, semi-official...  "
      ]
     },
     "execution_count": 46,
     "metadata": {},
     "output_type": "execute_result"
    }
   ],
   "source": [
    "# Keep only emission data\n",
    "categorized_emission_data = categorized_emission_data[categorized_emission_data.Element == 'Emissions (CO2eq)']\n",
    "\n",
    "explain_df(categorized_emission_data)\n",
    "# Is any information missing?\n",
    "print(\"Missing information in categorized dataset:\\n\", categorized_emission_data.isna().sum())\n",
    "categorized_emission_data.head(3)"
   ]
  },
  {
   "cell_type": "markdown",
   "metadata": {},
   "source": [
    "We can see that this dataset is similar to the previous one apart from the _item_ column which contains multiple values, this is what we wanted. Futhermore we have no missing values. Let's save this file."
   ]
  },
  {
   "cell_type": "markdown",
   "metadata": {},
   "source": [
    "**For now we will stick to the first dataset discussed in this notebook since we are more interested in the total agriculture emissions.**\n",
    "\n",
    "Let's plot the _Agriculture, total_ emissions from the dataset 1. Let's also make use of the population data so we can normalize the data on the population of a given continent or the world."
   ]
  },
  {
   "cell_type": "code",
   "execution_count": 48,
   "metadata": {},
   "outputs": [],
   "source": [
    "# Get population data\n",
    "population = pd.read_csv('./data/csv/pop_continents.csv')\n",
    "\n",
    "area_year_population = population.groupby(['Area', 'Year']).agg({'Value':'sum','Unit':'first'}).reset_index()\n",
    "world_year_population = area_year_population.groupby('Year').agg({'Value':'sum'}).reset_index()"
   ]
  },
  {
   "cell_type": "code",
   "execution_count": 49,
   "metadata": {},
   "outputs": [
    {
     "data": {
      "image/png": "[encoded data removed]",
      "text/plain": [
       "<Figure size 1080x864 with 4 Axes>"
      ]
     },
     "metadata": {
      "needs_background": "light"
     },
     "output_type": "display_data"
    }
   ],
   "source": [
    "import warnings\n",
    "warnings.filterwarnings('ignore')\n",
    "\n",
    "area_year_emission = emission_data.groupby(['Area', 'Year']).agg({'Value':'sum','Unit':'first'}).reset_index()\n",
    "area_year_emission = area_year_emission[(area_year_emission['Year'] <= 2013)]\n",
    "x = area_year_emission.Year.unique()\n",
    "plot_y_emi = []\n",
    "mycolors = ['tab:red', 'tab:blue', 'tab:green', 'tab:orange', 'tab:pink']  \n",
    "fig = plt.figure(figsize = (15,12))\n",
    "\n",
    "areas = area_year_emission.Area.unique()\n",
    "\n",
    "for area in areas:\n",
    "    plt.subplot(2,2,3)\n",
    "    plt.plot(area_year_emission[area_year_emission['Area'] == area].Year.values, \n",
    "             area_year_emission[area_year_emission['Area'] == area].Value.values/\n",
    "             area_year_population[area_year_population['Area'] == area].Value.values)\n",
    "   \n",
    "    plt.subplot(2,2,1)\n",
    "    plt.plot(area_year_emission[area_year_emission['Area'] == area].Year.values, \n",
    "             area_year_emission[area_year_emission['Area'] == area].Value.values)\n",
    "    \n",
    "    plot_y_emi.append(area_year_emission[area_year_emission['Area'] == area].Value.values.tolist())\n",
    "\n",
    "\n",
    "\n",
    "plt.subplot(2,2,1)\n",
    "plt.legend(areas)\n",
    "plt.title('(1) Agriculture emission per continent')\n",
    "plt.xlabel('Year')\n",
    "plt.ylabel('Amount (gigagrams)')\n",
    "\n",
    "plt.subplot(2,2,3)\n",
    "plt.legend(areas)\n",
    "plt.title('(3) Agriculture emission per continent, normalized on continent population')\n",
    "plt.xlabel('Year')\n",
    "plt.ylabel('Amount (gigagrams)')\n",
    "\n",
    "# Global yearly emission\n",
    "total_year_emission = area_year_emission.groupby('Year').agg({'Value':'sum'}).reset_index()\n",
    "total_year_emission = total_year_emission[total_year_emission['Year'] <= 2013]\n",
    "\n",
    "plt.subplot(2,2,2)\n",
    "plt.stackplot(x, np.vstack(plot_y_emi), labels=area_year_emission.Area.unique(), alpha=0.8)\n",
    "plt.legend(loc='upper left')\n",
    "plt.title('(2) Total world agriculture emission')\n",
    "plt.xlabel('Year')\n",
    "plt.ylabel('Amount (gigagrams)')\n",
    "\n",
    "plt.subplot(2,2,4)\n",
    "plt.plot(total_year_emission['Year'].values,\n",
    "        total_year_emission['Value'].values/world_year_population['Value'].values)\n",
    "plt.legend(['Total all continents'])\n",
    "plt.title('(4) Total, normalized on population, world agriculture emission')\n",
    "plt.xlabel('Year')\n",
    "plt.ylabel('Amount (gigagrams)')\n",
    "\n",
    "plt.show()"
   ]
  },
  {
   "cell_type": "markdown",
   "metadata": {},
   "source": [
    "##### Emission area plot \n",
    "There's a few questions that arise when observing the plots above:\n",
    "- We can observe a big increase in emission around year 1990 which seem slightly weird.\n",
    "- In the normalized continent emissions _Oceania_ has a much greater and volatile normalized emission compared to the other continents. The relatively higher normalized emission by _Oceania_ could be reasonable given that they have a lot of livestock production, however the sudden jumps in value from year to year seem off.\n",
    "\n",
    "Let's try and find an answer to these obeservations.\n",
    "The reason that the emission jumps in 1990 is most likely because of _New estimates of CO 2 forest emissions and removals: 1990–2015._ Which is stated [at faostat](http://www.fao.org/faostat/en/#data/GT/metadata), where the data comes from, in point number 10.\n",
    "\n",
    "Now, when it comes to the weird behaviour in _Oceania_'s emissions when should look at the data we have acquired regarding the crop and livestock production aswell as the population that _Oceania_ has in order to explain the weirdness. \n",
    " "
   ]
  },
  {
   "cell_type": "code",
   "execution_count": 50,
   "metadata": {},
   "outputs": [
    {
     "data": {
      "image/png": "[encoded data removed]",
      "text/plain": [
       "<Figure size 1440x360 with 3 Axes>"
      ]
     },
     "metadata": {
      "needs_background": "light"
     },
     "output_type": "display_data"
    }
   ],
   "source": [
    "fig = plt.figure(figsize=(20,5))\n",
    "\n",
    "# Oceania's population\n",
    "plt.subplot(1,3,1)\n",
    "plt.plot(area_year_population.Year.unique(), area_year_population[area_year_population.Area == 'Oceania'].Value.values)\n",
    "plt.title('Oceania\\'s population', fontsize=15)\n",
    "plt.xlabel('Year')\n",
    "plt.ylabel('Population (1000 person)')\n",
    "\n",
    "# Oceania's livestock production\n",
    "plt.subplot(1,3,2)\n",
    "meat_production_continents = pd.read_csv('data/csv/meat_continents.csv')\n",
    "meat_production_oceania = meat_production_continents[(meat_production_continents.Area == 'Oceania') \\\n",
    "                                                     & (meat_production_continents.Item == 'Meat, Total')]\n",
    "plt.plot(meat_production_oceania.Year.unique(), meat_production_oceania.Value.values)\n",
    "plt.title('Oceania\\'s livestock production', fontsize=15)\n",
    "plt.xlabel('Year')\n",
    "plt.ylabel('Amount (tonnes)')\n",
    "\n",
    "# Oceania's crops production\n",
    "crop_production_continents = pd.read_pickle('data/pickles/crops_continents.pkl')\n",
    "crop_production_oceania = crop_production_continents[(crop_production_continents.Area == 'Oceania')]\\\n",
    "                                                    .groupby('Year').agg({'Value':'sum'}).reset_index()\n",
    "plt.subplot(1,3,3)\n",
    "plt.plot(crop_production_oceania.Year.unique(), crop_production_oceania.Value.values)\n",
    "plt.title('Oceania\\'s crop production', fontsize=15)\n",
    "plt.xlabel('Year')\n",
    "plt.ylabel('Amount (tonnes)')\n",
    "\n",
    "plt.show()"
   ]
  },
  {
   "cell_type": "markdown",
   "metadata": {},
   "source": [
    "We can see that there is nothing that seems to be weird with the _Oceania_'s population data, however the livestock and especially the crop production is volatile. This corresponds with the diffrences that we can observe in the agriculture emission caused by _Oceania_. Since _Oceania_ is the continent which produces the least amount of CO2 from agriculture compared to all other continents it is more likely to be volatile. For example, if the weather is bad for agriculture, it is more likely that the total amount will be affected compared to a bigger continent that is not as concentrated around a specific area.\n",
    "\n",
    "#### Summarize\n",
    "\n",
    "The data looks good and we are ready to move further with our analysis and use this data to answer the questions."
   ]
  },
  {
   "cell_type": "markdown",
   "metadata": {},
   "source": [
    "#### Correlation"
   ]
  },
  {
   "cell_type": "code",
   "execution_count": 52,
   "metadata": {},
   "outputs": [
    {
     "name": "stdout",
     "output_type": "stream",
     "text": [
      "Correlation between agriculture emission and population is 0.99\n"
     ]
    }
   ],
   "source": [
    "# Correlations\n",
    "corr = np.corrcoef(x = total_year_emission.Value.values, y = world_year_population.Value.values)[0,1]\n",
    "print(f'Correlation between agriculture emission and population is {round(corr,2)}')"
   ]
  },
  {
   "cell_type": "markdown",
   "metadata": {},
   "source": [
    "#### Example use of second dataset"
   ]
  },
  {
   "cell_type": "code",
   "execution_count": 53,
   "metadata": {},
   "outputs": [],
   "source": [
    "sheep_prod = categorized_emission_data[categorized_emission_data.Item.str.contains('sheep')]\n",
    "\n",
    "sheep_data = sheep_prod.groupby(['Area','Element','Year','Unit']).agg({'Value':'sum'})\n",
    "sheep_data['Item'] = 'Sheep'"
   ]
  },
  {
   "cell_type": "code",
   "execution_count": 54,
   "metadata": {},
   "outputs": [
    {
     "data": {
      "text/html": [
       "<div>\n",
       "<style scoped>\n",
       "    .dataframe tbody tr th:only-of-type {\n",
       "        vertical-align: middle;\n",
       "    }\n",
       "\n",
       "    .dataframe tbody tr th {\n",
       "        vertical-align: top;\n",
       "    }\n",
       "\n",
       "    .dataframe thead th {\n",
       "        text-align: right;\n",
       "    }\n",
       "</style>\n",
       "<table border=\"1\" class=\"dataframe\">\n",
       "  <thead>\n",
       "    <tr style=\"text-align: right;\">\n",
       "      <th></th>\n",
       "      <th>Area</th>\n",
       "      <th>Element</th>\n",
       "      <th>Year</th>\n",
       "      <th>Unit</th>\n",
       "      <th>Value</th>\n",
       "      <th>Item</th>\n",
       "    </tr>\n",
       "  </thead>\n",
       "  <tbody>\n",
       "    <tr>\n",
       "      <td>0</td>\n",
       "      <td>Africa</td>\n",
       "      <td>Emissions (CO2eq)</td>\n",
       "      <td>1961</td>\n",
       "      <td>gigagrams</td>\n",
       "      <td>26107.8934</td>\n",
       "      <td>Sheep</td>\n",
       "    </tr>\n",
       "    <tr>\n",
       "      <td>1</td>\n",
       "      <td>Africa</td>\n",
       "      <td>Emissions (CO2eq)</td>\n",
       "      <td>1962</td>\n",
       "      <td>gigagrams</td>\n",
       "      <td>25742.8884</td>\n",
       "      <td>Sheep</td>\n",
       "    </tr>\n",
       "    <tr>\n",
       "      <td>2</td>\n",
       "      <td>Africa</td>\n",
       "      <td>Emissions (CO2eq)</td>\n",
       "      <td>1963</td>\n",
       "      <td>gigagrams</td>\n",
       "      <td>25928.7068</td>\n",
       "      <td>Sheep</td>\n",
       "    </tr>\n",
       "    <tr>\n",
       "      <td>3</td>\n",
       "      <td>Africa</td>\n",
       "      <td>Emissions (CO2eq)</td>\n",
       "      <td>1964</td>\n",
       "      <td>gigagrams</td>\n",
       "      <td>26531.4870</td>\n",
       "      <td>Sheep</td>\n",
       "    </tr>\n",
       "    <tr>\n",
       "      <td>4</td>\n",
       "      <td>Africa</td>\n",
       "      <td>Emissions (CO2eq)</td>\n",
       "      <td>1965</td>\n",
       "      <td>gigagrams</td>\n",
       "      <td>27693.8435</td>\n",
       "      <td>Sheep</td>\n",
       "    </tr>\n",
       "    <tr>\n",
       "      <td>...</td>\n",
       "      <td>...</td>\n",
       "      <td>...</td>\n",
       "      <td>...</td>\n",
       "      <td>...</td>\n",
       "      <td>...</td>\n",
       "      <td>...</td>\n",
       "    </tr>\n",
       "    <tr>\n",
       "      <td>331</td>\n",
       "      <td>South America</td>\n",
       "      <td>Emissions (CO2eq)</td>\n",
       "      <td>2012</td>\n",
       "      <td>gigagrams</td>\n",
       "      <td>13038.5218</td>\n",
       "      <td>Sheep</td>\n",
       "    </tr>\n",
       "    <tr>\n",
       "      <td>332</td>\n",
       "      <td>South America</td>\n",
       "      <td>Emissions (CO2eq)</td>\n",
       "      <td>2013</td>\n",
       "      <td>gigagrams</td>\n",
       "      <td>13089.1212</td>\n",
       "      <td>Sheep</td>\n",
       "    </tr>\n",
       "    <tr>\n",
       "      <td>333</td>\n",
       "      <td>South America</td>\n",
       "      <td>Emissions (CO2eq)</td>\n",
       "      <td>2014</td>\n",
       "      <td>gigagrams</td>\n",
       "      <td>12595.7720</td>\n",
       "      <td>Sheep</td>\n",
       "    </tr>\n",
       "    <tr>\n",
       "      <td>334</td>\n",
       "      <td>South America</td>\n",
       "      <td>Emissions (CO2eq)</td>\n",
       "      <td>2015</td>\n",
       "      <td>gigagrams</td>\n",
       "      <td>12690.6373</td>\n",
       "      <td>Sheep</td>\n",
       "    </tr>\n",
       "    <tr>\n",
       "      <td>335</td>\n",
       "      <td>South America</td>\n",
       "      <td>Emissions (CO2eq)</td>\n",
       "      <td>2016</td>\n",
       "      <td>gigagrams</td>\n",
       "      <td>12613.8930</td>\n",
       "      <td>Sheep</td>\n",
       "    </tr>\n",
       "  </tbody>\n",
       "</table>\n",
       "<p>336 rows × 6 columns</p>\n",
       "</div>"
      ],
      "text/plain": [
       "              Area            Element  Year       Unit       Value   Item\n",
       "0           Africa  Emissions (CO2eq)  1961  gigagrams  26107.8934  Sheep\n",
       "1           Africa  Emissions (CO2eq)  1962  gigagrams  25742.8884  Sheep\n",
       "2           Africa  Emissions (CO2eq)  1963  gigagrams  25928.7068  Sheep\n",
       "3           Africa  Emissions (CO2eq)  1964  gigagrams  26531.4870  Sheep\n",
       "4           Africa  Emissions (CO2eq)  1965  gigagrams  27693.8435  Sheep\n",
       "..             ...                ...   ...        ...         ...    ...\n",
       "331  South America  Emissions (CO2eq)  2012  gigagrams  13038.5218  Sheep\n",
       "332  South America  Emissions (CO2eq)  2013  gigagrams  13089.1212  Sheep\n",
       "333  South America  Emissions (CO2eq)  2014  gigagrams  12595.7720  Sheep\n",
       "334  South America  Emissions (CO2eq)  2015  gigagrams  12690.6373  Sheep\n",
       "335  South America  Emissions (CO2eq)  2016  gigagrams  12613.8930  Sheep\n",
       "\n",
       "[336 rows x 6 columns]"
      ]
     },
     "execution_count": 54,
     "metadata": {},
     "output_type": "execute_result"
    }
   ],
   "source": [
    "# Data for each countries sheep emissions per year\n",
    "sheep_data.reset_index()"
   ]
  },
  {
   "cell_type": "markdown",
   "metadata": {},
   "source": [
    "<a id=plan></a>\n",
    "## Plan for Milestone 3"
   ]
  },
  {
   "cell_type": "code",
   "execution_count": null,
   "metadata": {},
   "outputs": [],
   "source": []
  }
 ],
 "metadata": {
  "kernelspec": {
   "display_name": "Python [conda env:ada] *",
   "language": "python",
   "name": "conda-env-ada-py"
  },
  "language_info": {
   "codemirror_mode": {
    "name": "ipython",
    "version": 3
   },
   "file_extension": ".py",
   "mimetype": "text/x-python",
   "name": "python",
   "nbconvert_exporter": "python",
   "pygments_lexer": "ipython3",
   "version": "3.7.4"
  }
 },
 "nbformat": 4,
 "nbformat_minor": 4
}
